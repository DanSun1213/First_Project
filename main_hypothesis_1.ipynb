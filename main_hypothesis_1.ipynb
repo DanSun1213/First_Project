{
 "cells": [
  {
   "cell_type": "markdown",
   "metadata": {},
   "source": [
    "# Collect the two dataset : University & Country Profile"
   ]
  },
  {
   "cell_type": "code",
   "execution_count": 3,
   "metadata": {},
   "outputs": [],
   "source": [
    "import pandas as pd\n",
    "df_uni = pd.read_csv(r'qs-world-university-rankings-2017-to-2022-V2.csv')\n",
    "data = pd.read_csv('country_profile_variables.csv')\n",
    "\n"
   ]
  },
  {
   "cell_type": "markdown",
   "metadata": {},
   "source": [
    "# Clean the dataset of University"
   ]
  },
  {
   "cell_type": "code",
   "execution_count": 4,
   "metadata": {},
   "outputs": [
    {
     "data": {
      "text/html": [
       "<div>\n",
       "<style scoped>\n",
       "    .dataframe tbody tr th:only-of-type {\n",
       "        vertical-align: middle;\n",
       "    }\n",
       "\n",
       "    .dataframe tbody tr th {\n",
       "        vertical-align: top;\n",
       "    }\n",
       "\n",
       "    .dataframe thead th {\n",
       "        text-align: right;\n",
       "    }\n",
       "</style>\n",
       "<table border=\"1\" class=\"dataframe\">\n",
       "  <thead>\n",
       "    <tr style=\"text-align: right;\">\n",
       "      <th></th>\n",
       "      <th>university</th>\n",
       "      <th>year</th>\n",
       "      <th>rank_display</th>\n",
       "      <th>score</th>\n",
       "      <th>country</th>\n",
       "      <th>city</th>\n",
       "      <th>region</th>\n",
       "      <th>type</th>\n",
       "      <th>research_output</th>\n",
       "      <th>student_faculty_ratio</th>\n",
       "      <th>international_students</th>\n",
       "      <th>size</th>\n",
       "      <th>faculty_count</th>\n",
       "    </tr>\n",
       "  </thead>\n",
       "  <tbody>\n",
       "    <tr>\n",
       "      <th>0</th>\n",
       "      <td>Massachusetts Institute of Technology (MIT)</td>\n",
       "      <td>2017</td>\n",
       "      <td>1</td>\n",
       "      <td>100.0</td>\n",
       "      <td>United States</td>\n",
       "      <td>Cambridge</td>\n",
       "      <td>North America</td>\n",
       "      <td>Private</td>\n",
       "      <td>Very High</td>\n",
       "      <td>4.0</td>\n",
       "      <td>3,730</td>\n",
       "      <td>M</td>\n",
       "      <td>3,065</td>\n",
       "    </tr>\n",
       "    <tr>\n",
       "      <th>1</th>\n",
       "      <td>Stanford University</td>\n",
       "      <td>2017</td>\n",
       "      <td>2</td>\n",
       "      <td>98.7</td>\n",
       "      <td>United States</td>\n",
       "      <td>Stanford</td>\n",
       "      <td>North America</td>\n",
       "      <td>Private</td>\n",
       "      <td>Very High</td>\n",
       "      <td>3.0</td>\n",
       "      <td>3,879</td>\n",
       "      <td>L</td>\n",
       "      <td>4,725</td>\n",
       "    </tr>\n",
       "    <tr>\n",
       "      <th>2</th>\n",
       "      <td>Harvard University</td>\n",
       "      <td>2017</td>\n",
       "      <td>3</td>\n",
       "      <td>98.3</td>\n",
       "      <td>United States</td>\n",
       "      <td>Cambridge</td>\n",
       "      <td>North America</td>\n",
       "      <td>Private</td>\n",
       "      <td>Very High</td>\n",
       "      <td>5.0</td>\n",
       "      <td>5,877</td>\n",
       "      <td>L</td>\n",
       "      <td>4,646</td>\n",
       "    </tr>\n",
       "    <tr>\n",
       "      <th>3</th>\n",
       "      <td>University of Cambridge</td>\n",
       "      <td>2017</td>\n",
       "      <td>4</td>\n",
       "      <td>97.2</td>\n",
       "      <td>United Kingdom</td>\n",
       "      <td>Cambridge</td>\n",
       "      <td>Europe</td>\n",
       "      <td>Public</td>\n",
       "      <td>Very high</td>\n",
       "      <td>4.0</td>\n",
       "      <td>7,925</td>\n",
       "      <td>L</td>\n",
       "      <td>5,800</td>\n",
       "    </tr>\n",
       "    <tr>\n",
       "      <th>4</th>\n",
       "      <td>California Institute of Technology (Caltech)</td>\n",
       "      <td>2017</td>\n",
       "      <td>5</td>\n",
       "      <td>96.9</td>\n",
       "      <td>United States</td>\n",
       "      <td>Pasadena</td>\n",
       "      <td>North America</td>\n",
       "      <td>Private</td>\n",
       "      <td>Very High</td>\n",
       "      <td>2.0</td>\n",
       "      <td>692</td>\n",
       "      <td>S</td>\n",
       "      <td>968</td>\n",
       "    </tr>\n",
       "    <tr>\n",
       "      <th>...</th>\n",
       "      <td>...</td>\n",
       "      <td>...</td>\n",
       "      <td>...</td>\n",
       "      <td>...</td>\n",
       "      <td>...</td>\n",
       "      <td>...</td>\n",
       "      <td>...</td>\n",
       "      <td>...</td>\n",
       "      <td>...</td>\n",
       "      <td>...</td>\n",
       "      <td>...</td>\n",
       "      <td>...</td>\n",
       "      <td>...</td>\n",
       "    </tr>\n",
       "    <tr>\n",
       "      <th>6477</th>\n",
       "      <td>Université de Tunis</td>\n",
       "      <td>2022</td>\n",
       "      <td>1201</td>\n",
       "      <td>NaN</td>\n",
       "      <td>Tunisia</td>\n",
       "      <td>Tunis</td>\n",
       "      <td>Africa</td>\n",
       "      <td>Public</td>\n",
       "      <td>High</td>\n",
       "      <td>17.0</td>\n",
       "      <td>57</td>\n",
       "      <td>L</td>\n",
       "      <td>1,174</td>\n",
       "    </tr>\n",
       "    <tr>\n",
       "      <th>6478</th>\n",
       "      <td>Université de Tunis El Manar</td>\n",
       "      <td>2022</td>\n",
       "      <td>1201</td>\n",
       "      <td>NaN</td>\n",
       "      <td>Tunisia</td>\n",
       "      <td>Tunis</td>\n",
       "      <td>Africa</td>\n",
       "      <td>Public</td>\n",
       "      <td>Very High</td>\n",
       "      <td>8.0</td>\n",
       "      <td>585</td>\n",
       "      <td>L</td>\n",
       "      <td>3,504</td>\n",
       "    </tr>\n",
       "    <tr>\n",
       "      <th>6479</th>\n",
       "      <td>Yarmouk University</td>\n",
       "      <td>2022</td>\n",
       "      <td>1201</td>\n",
       "      <td>NaN</td>\n",
       "      <td>Jordan</td>\n",
       "      <td>Irbid</td>\n",
       "      <td>Asia</td>\n",
       "      <td>Public</td>\n",
       "      <td>Medium</td>\n",
       "      <td>31.0</td>\n",
       "      <td>2,826</td>\n",
       "      <td>XL</td>\n",
       "      <td>1,113</td>\n",
       "    </tr>\n",
       "    <tr>\n",
       "      <th>6480</th>\n",
       "      <td>Yildiz Technical University</td>\n",
       "      <td>2022</td>\n",
       "      <td>1201</td>\n",
       "      <td>NaN</td>\n",
       "      <td>Turkey</td>\n",
       "      <td>Istanbul</td>\n",
       "      <td>Asia</td>\n",
       "      <td>Public</td>\n",
       "      <td>High</td>\n",
       "      <td>20.0</td>\n",
       "      <td>2,394</td>\n",
       "      <td>XL</td>\n",
       "      <td>1,688</td>\n",
       "    </tr>\n",
       "    <tr>\n",
       "      <th>6481</th>\n",
       "      <td>Zagazig University</td>\n",
       "      <td>2022</td>\n",
       "      <td>1201</td>\n",
       "      <td>NaN</td>\n",
       "      <td>Egypt</td>\n",
       "      <td>Zagazig</td>\n",
       "      <td>Africa</td>\n",
       "      <td>Public</td>\n",
       "      <td>High</td>\n",
       "      <td>26.0</td>\n",
       "      <td>2,300</td>\n",
       "      <td>XL</td>\n",
       "      <td>5,871</td>\n",
       "    </tr>\n",
       "  </tbody>\n",
       "</table>\n",
       "<p>6482 rows × 13 columns</p>\n",
       "</div>"
      ],
      "text/plain": [
       "                                        university  year rank_display  score  \\\n",
       "0     Massachusetts Institute of Technology (MIT)   2017            1  100.0   \n",
       "1                              Stanford University  2017            2   98.7   \n",
       "2                               Harvard University  2017            3   98.3   \n",
       "3                          University of Cambridge  2017            4   97.2   \n",
       "4     California Institute of Technology (Caltech)  2017            5   96.9   \n",
       "...                                            ...   ...          ...    ...   \n",
       "6477                           Université de Tunis  2022         1201    NaN   \n",
       "6478                  Université de Tunis El Manar  2022         1201    NaN   \n",
       "6479                            Yarmouk University  2022         1201    NaN   \n",
       "6480                   Yildiz Technical University  2022         1201    NaN   \n",
       "6481                            Zagazig University  2022         1201    NaN   \n",
       "\n",
       "             country       city         region     type research_output  \\\n",
       "0      United States  Cambridge  North America  Private       Very High   \n",
       "1      United States   Stanford  North America  Private       Very High   \n",
       "2      United States  Cambridge  North America  Private       Very High   \n",
       "3     United Kingdom  Cambridge         Europe   Public       Very high   \n",
       "4      United States   Pasadena  North America  Private       Very High   \n",
       "...              ...        ...            ...      ...             ...   \n",
       "6477         Tunisia      Tunis         Africa   Public            High   \n",
       "6478         Tunisia      Tunis         Africa   Public       Very High   \n",
       "6479          Jordan      Irbid           Asia   Public          Medium   \n",
       "6480          Turkey   Istanbul           Asia   Public            High   \n",
       "6481           Egypt    Zagazig         Africa   Public            High   \n",
       "\n",
       "      student_faculty_ratio international_students size faculty_count  \n",
       "0                       4.0                  3,730    M         3,065  \n",
       "1                       3.0                  3,879    L         4,725  \n",
       "2                       5.0                  5,877    L         4,646  \n",
       "3                       4.0                  7,925    L         5,800  \n",
       "4                       2.0                    692    S           968  \n",
       "...                     ...                    ...  ...           ...  \n",
       "6477                   17.0                     57    L         1,174  \n",
       "6478                    8.0                    585    L         3,504  \n",
       "6479                   31.0                  2,826   XL         1,113  \n",
       "6480                   20.0                  2,394   XL         1,688  \n",
       "6481                   26.0                  2,300   XL         5,871  \n",
       "\n",
       "[6482 rows x 13 columns]"
      ]
     },
     "execution_count": 4,
     "metadata": {},
     "output_type": "execute_result"
    }
   ],
   "source": [
    "# Check if 'link' and 'logo' columns exist in the dataframe and drop it \n",
    "if 'link' in df_uni.columns and 'logo' in df_uni.columns:\n",
    "    # Drop 'link' and 'logo' columns\n",
    "    df_uni = df_uni.drop(['link', 'logo'], axis=1)\n",
    "\n",
    "df_uni"
   ]
  },
  {
   "cell_type": "code",
   "execution_count": 5,
   "metadata": {},
   "outputs": [],
   "source": [
    "# make these column to numeric \n",
    "df_uni['rank_display'] = pd.to_numeric(df_uni['rank_display'], errors='coerce')\n",
    "df_uni['score'] = pd.to_numeric(df_uni['score'], errors='coerce')\n",
    "# df_uni['international_students'] = pd.to_numeric(df_uni['international_students'], errors='coerce')"
   ]
  },
  {
   "cell_type": "code",
   "execution_count": 6,
   "metadata": {},
   "outputs": [],
   "source": [
    "# only take the top 100 universities\n",
    "df_rank_100 = df_uni[df_uni['rank_display'] <= 100]"
   ]
  },
  {
   "cell_type": "code",
   "execution_count": 7,
   "metadata": {},
   "outputs": [
    {
     "data": {
      "text/html": [
       "<div>\n",
       "<style scoped>\n",
       "    .dataframe tbody tr th:only-of-type {\n",
       "        vertical-align: middle;\n",
       "    }\n",
       "\n",
       "    .dataframe tbody tr th {\n",
       "        vertical-align: top;\n",
       "    }\n",
       "\n",
       "    .dataframe thead th {\n",
       "        text-align: right;\n",
       "    }\n",
       "</style>\n",
       "<table border=\"1\" class=\"dataframe\">\n",
       "  <thead>\n",
       "    <tr style=\"text-align: right;\">\n",
       "      <th></th>\n",
       "      <th>university</th>\n",
       "      <th>year</th>\n",
       "      <th>rank_display</th>\n",
       "      <th>score</th>\n",
       "      <th>country</th>\n",
       "      <th>city</th>\n",
       "      <th>region</th>\n",
       "      <th>type</th>\n",
       "      <th>research_output</th>\n",
       "      <th>student_faculty_ratio</th>\n",
       "      <th>international_students</th>\n",
       "      <th>size</th>\n",
       "      <th>faculty_count</th>\n",
       "    </tr>\n",
       "  </thead>\n",
       "  <tbody>\n",
       "    <tr>\n",
       "      <th>0</th>\n",
       "      <td>Massachusetts Institute of Technology (MIT)</td>\n",
       "      <td>2017</td>\n",
       "      <td>1.0</td>\n",
       "      <td>100.0</td>\n",
       "      <td>United States</td>\n",
       "      <td>Cambridge</td>\n",
       "      <td>North America</td>\n",
       "      <td>Private</td>\n",
       "      <td>Very High</td>\n",
       "      <td>4.0</td>\n",
       "      <td>3,730</td>\n",
       "      <td>M</td>\n",
       "      <td>3,065</td>\n",
       "    </tr>\n",
       "    <tr>\n",
       "      <th>1</th>\n",
       "      <td>Stanford University</td>\n",
       "      <td>2017</td>\n",
       "      <td>2.0</td>\n",
       "      <td>98.7</td>\n",
       "      <td>United States</td>\n",
       "      <td>Stanford</td>\n",
       "      <td>North America</td>\n",
       "      <td>Private</td>\n",
       "      <td>Very High</td>\n",
       "      <td>3.0</td>\n",
       "      <td>3,879</td>\n",
       "      <td>L</td>\n",
       "      <td>4,725</td>\n",
       "    </tr>\n",
       "    <tr>\n",
       "      <th>2</th>\n",
       "      <td>Harvard University</td>\n",
       "      <td>2017</td>\n",
       "      <td>3.0</td>\n",
       "      <td>98.3</td>\n",
       "      <td>United States</td>\n",
       "      <td>Cambridge</td>\n",
       "      <td>North America</td>\n",
       "      <td>Private</td>\n",
       "      <td>Very High</td>\n",
       "      <td>5.0</td>\n",
       "      <td>5,877</td>\n",
       "      <td>L</td>\n",
       "      <td>4,646</td>\n",
       "    </tr>\n",
       "    <tr>\n",
       "      <th>3</th>\n",
       "      <td>University of Cambridge</td>\n",
       "      <td>2017</td>\n",
       "      <td>4.0</td>\n",
       "      <td>97.2</td>\n",
       "      <td>United Kingdom</td>\n",
       "      <td>Cambridge</td>\n",
       "      <td>Europe</td>\n",
       "      <td>Public</td>\n",
       "      <td>Very high</td>\n",
       "      <td>4.0</td>\n",
       "      <td>7,925</td>\n",
       "      <td>L</td>\n",
       "      <td>5,800</td>\n",
       "    </tr>\n",
       "    <tr>\n",
       "      <th>4</th>\n",
       "      <td>California Institute of Technology (Caltech)</td>\n",
       "      <td>2017</td>\n",
       "      <td>5.0</td>\n",
       "      <td>96.9</td>\n",
       "      <td>United States</td>\n",
       "      <td>Pasadena</td>\n",
       "      <td>North America</td>\n",
       "      <td>Private</td>\n",
       "      <td>Very High</td>\n",
       "      <td>2.0</td>\n",
       "      <td>692</td>\n",
       "      <td>S</td>\n",
       "      <td>968</td>\n",
       "    </tr>\n",
       "    <tr>\n",
       "      <th>...</th>\n",
       "      <td>...</td>\n",
       "      <td>...</td>\n",
       "      <td>...</td>\n",
       "      <td>...</td>\n",
       "      <td>...</td>\n",
       "      <td>...</td>\n",
       "      <td>...</td>\n",
       "      <td>...</td>\n",
       "      <td>...</td>\n",
       "      <td>...</td>\n",
       "      <td>...</td>\n",
       "      <td>...</td>\n",
       "      <td>...</td>\n",
       "    </tr>\n",
       "    <tr>\n",
       "      <th>96</th>\n",
       "      <td>KTH Royal Institute of Technology</td>\n",
       "      <td>2017</td>\n",
       "      <td>97.0</td>\n",
       "      <td>63.1</td>\n",
       "      <td>Sweden</td>\n",
       "      <td>Stockholm</td>\n",
       "      <td>Europe</td>\n",
       "      <td>Public</td>\n",
       "      <td>Very High</td>\n",
       "      <td>8.0</td>\n",
       "      <td>3,057</td>\n",
       "      <td>L</td>\n",
       "      <td>3,600</td>\n",
       "    </tr>\n",
       "    <tr>\n",
       "      <th>97</th>\n",
       "      <td>Uppsala University</td>\n",
       "      <td>2017</td>\n",
       "      <td>98.0</td>\n",
       "      <td>62.8</td>\n",
       "      <td>Sweden</td>\n",
       "      <td>Uppsala</td>\n",
       "      <td>Europe</td>\n",
       "      <td>Public</td>\n",
       "      <td>Very High</td>\n",
       "      <td>10.0</td>\n",
       "      <td>8,401</td>\n",
       "      <td>L</td>\n",
       "      <td>2,843</td>\n",
       "    </tr>\n",
       "    <tr>\n",
       "      <th>98</th>\n",
       "      <td>Korea University</td>\n",
       "      <td>2017</td>\n",
       "      <td>98.0</td>\n",
       "      <td>62.8</td>\n",
       "      <td>South Korea</td>\n",
       "      <td>Seoul</td>\n",
       "      <td>Asia</td>\n",
       "      <td>Private</td>\n",
       "      <td>Very High</td>\n",
       "      <td>6.0</td>\n",
       "      <td>3,325</td>\n",
       "      <td>L</td>\n",
       "      <td>4,026</td>\n",
       "    </tr>\n",
       "    <tr>\n",
       "      <th>99</th>\n",
       "      <td>Trinity College Dublin, The University of Dublin</td>\n",
       "      <td>2017</td>\n",
       "      <td>98.0</td>\n",
       "      <td>62.8</td>\n",
       "      <td>Ireland</td>\n",
       "      <td>Dublin</td>\n",
       "      <td>Europe</td>\n",
       "      <td>Public</td>\n",
       "      <td>Very High</td>\n",
       "      <td>12.0</td>\n",
       "      <td>5,593</td>\n",
       "      <td>L</td>\n",
       "      <td>1,383</td>\n",
       "    </tr>\n",
       "    <tr>\n",
       "      <th>100</th>\n",
       "      <td>KIT, Karlsruhe Institute of Technology</td>\n",
       "      <td>2017</td>\n",
       "      <td>98.0</td>\n",
       "      <td>62.8</td>\n",
       "      <td>Germany</td>\n",
       "      <td>Karlsruhe</td>\n",
       "      <td>Europe</td>\n",
       "      <td>Public</td>\n",
       "      <td>Very High</td>\n",
       "      <td>10.0</td>\n",
       "      <td>5,030</td>\n",
       "      <td>L</td>\n",
       "      <td>2,080</td>\n",
       "    </tr>\n",
       "  </tbody>\n",
       "</table>\n",
       "<p>101 rows × 13 columns</p>\n",
       "</div>"
      ],
      "text/plain": [
       "                                           university  year  rank_display  \\\n",
       "0        Massachusetts Institute of Technology (MIT)   2017           1.0   \n",
       "1                                 Stanford University  2017           2.0   \n",
       "2                                  Harvard University  2017           3.0   \n",
       "3                             University of Cambridge  2017           4.0   \n",
       "4        California Institute of Technology (Caltech)  2017           5.0   \n",
       "..                                                ...   ...           ...   \n",
       "96                 KTH Royal Institute of Technology   2017          97.0   \n",
       "97                                 Uppsala University  2017          98.0   \n",
       "98                                   Korea University  2017          98.0   \n",
       "99   Trinity College Dublin, The University of Dublin  2017          98.0   \n",
       "100            KIT, Karlsruhe Institute of Technology  2017          98.0   \n",
       "\n",
       "     score         country       city         region     type research_output  \\\n",
       "0    100.0   United States  Cambridge  North America  Private       Very High   \n",
       "1     98.7   United States   Stanford  North America  Private       Very High   \n",
       "2     98.3   United States  Cambridge  North America  Private       Very High   \n",
       "3     97.2  United Kingdom  Cambridge         Europe   Public       Very high   \n",
       "4     96.9   United States   Pasadena  North America  Private       Very High   \n",
       "..     ...             ...        ...            ...      ...             ...   \n",
       "96    63.1          Sweden  Stockholm         Europe   Public       Very High   \n",
       "97    62.8          Sweden    Uppsala         Europe   Public       Very High   \n",
       "98    62.8     South Korea      Seoul           Asia  Private       Very High   \n",
       "99    62.8         Ireland     Dublin         Europe   Public       Very High   \n",
       "100   62.8         Germany  Karlsruhe         Europe   Public       Very High   \n",
       "\n",
       "     student_faculty_ratio international_students size faculty_count  \n",
       "0                      4.0                  3,730    M         3,065  \n",
       "1                      3.0                  3,879    L         4,725  \n",
       "2                      5.0                  5,877    L         4,646  \n",
       "3                      4.0                  7,925    L         5,800  \n",
       "4                      2.0                    692    S           968  \n",
       "..                     ...                    ...  ...           ...  \n",
       "96                     8.0                  3,057    L         3,600  \n",
       "97                    10.0                  8,401    L         2,843  \n",
       "98                     6.0                  3,325    L         4,026  \n",
       "99                    12.0                  5,593    L         1,383  \n",
       "100                   10.0                  5,030    L         2,080  \n",
       "\n",
       "[101 rows x 13 columns]"
      ]
     },
     "execution_count": 7,
     "metadata": {},
     "output_type": "execute_result"
    }
   ],
   "source": [
    "# make a new dataframe filter year = 2017  our main dataset\n",
    "df_2017 = df_rank_100[df_rank_100['year'] == 2017]\n",
    "df_2017"
   ]
  },
  {
   "cell_type": "code",
   "execution_count": 8,
   "metadata": {},
   "outputs": [
    {
     "data": {
      "text/plain": [
       "array(['United States', 'United Kingdom', 'Switzerland', 'Singapore',\n",
       "       'Australia', 'China (Mainland)', 'Hong Kong SAR', 'Canada',\n",
       "       'France', 'Japan', 'South Korea', 'Netherlands', 'Germany',\n",
       "       'Taiwan', 'Denmark', 'Sweden', 'Belgium', 'New Zealand',\n",
       "       'Argentina', 'Finland', 'Ireland'], dtype=object)"
      ]
     },
     "execution_count": 8,
     "metadata": {},
     "output_type": "execute_result"
    }
   ],
   "source": [
    "df_2017['country'].unique()"
   ]
  },
  {
   "cell_type": "markdown",
   "metadata": {},
   "source": [
    "# Clean the data of country profile"
   ]
  },
  {
   "cell_type": "code",
   "execution_count": 9,
   "metadata": {},
   "outputs": [],
   "source": [
    "country_profile = pd.read_csv('country_profile_variables.csv')"
   ]
  },
  {
   "cell_type": "code",
   "execution_count": 10,
   "metadata": {},
   "outputs": [],
   "source": [
    "# Convert columns to numeric\n",
    "for col in country_profile.columns[2:]:\n",
    "    country_profile[col] = pd.to_numeric(country_profile[col], errors='coerce')"
   ]
  },
  {
   "cell_type": "code",
   "execution_count": 11,
   "metadata": {},
   "outputs": [
    {
     "data": {
      "text/html": [
       "<div>\n",
       "<style scoped>\n",
       "    .dataframe tbody tr th:only-of-type {\n",
       "        vertical-align: middle;\n",
       "    }\n",
       "\n",
       "    .dataframe tbody tr th {\n",
       "        vertical-align: top;\n",
       "    }\n",
       "\n",
       "    .dataframe thead th {\n",
       "        text-align: right;\n",
       "    }\n",
       "</style>\n",
       "<table border=\"1\" class=\"dataframe\">\n",
       "  <thead>\n",
       "    <tr style=\"text-align: right;\">\n",
       "      <th></th>\n",
       "      <th>country</th>\n",
       "      <th>Region</th>\n",
       "      <th>Surface area (km2)</th>\n",
       "      <th>Population in thousands (2017)</th>\n",
       "      <th>Population density (per km2, 2017)</th>\n",
       "      <th>Sex ratio (m per 100 f, 2017)</th>\n",
       "      <th>GDP: Gross domestic product (million current US$)</th>\n",
       "      <th>GDP growth rate (annual %, const. 2005 prices)</th>\n",
       "      <th>GDP per capita (current US$)</th>\n",
       "      <th>Economy: Agriculture (% of GVA)</th>\n",
       "      <th>...</th>\n",
       "      <th>Mobile-cellular subscriptions (per 100 inhabitants).1</th>\n",
       "      <th>Individuals using the Internet (per 100 inhabitants)</th>\n",
       "      <th>Threatened species (number)</th>\n",
       "      <th>Forested area (% of land area)</th>\n",
       "      <th>CO2 emission estimates (million tons/tons per capita)</th>\n",
       "      <th>Energy production, primary (Petajoules)</th>\n",
       "      <th>Energy supply per capita (Gigajoules)</th>\n",
       "      <th>Pop. using improved drinking water (urban/rural, %)</th>\n",
       "      <th>Pop. using improved sanitation facilities (urban/rural, %)</th>\n",
       "      <th>Net Official Development Assist. received (% of GNI)</th>\n",
       "    </tr>\n",
       "  </thead>\n",
       "  <tbody>\n",
       "    <tr>\n",
       "      <th>0</th>\n",
       "      <td>Afghanistan</td>\n",
       "      <td>SouthernAsia</td>\n",
       "      <td>652864.0</td>\n",
       "      <td>35530</td>\n",
       "      <td>54.4</td>\n",
       "      <td>106.3</td>\n",
       "      <td>20270</td>\n",
       "      <td>-2.4</td>\n",
       "      <td>623.2</td>\n",
       "      <td>23.3</td>\n",
       "      <td>...</td>\n",
       "      <td>8.3</td>\n",
       "      <td>42</td>\n",
       "      <td>2.1</td>\n",
       "      <td>NaN</td>\n",
       "      <td>63</td>\n",
       "      <td>5</td>\n",
       "      <td>NaN</td>\n",
       "      <td>NaN</td>\n",
       "      <td>21.43</td>\n",
       "      <td>-99</td>\n",
       "    </tr>\n",
       "    <tr>\n",
       "      <th>1</th>\n",
       "      <td>Albania</td>\n",
       "      <td>SouthernEurope</td>\n",
       "      <td>28748.0</td>\n",
       "      <td>2930</td>\n",
       "      <td>106.9</td>\n",
       "      <td>101.9</td>\n",
       "      <td>11541</td>\n",
       "      <td>2.6</td>\n",
       "      <td>3984.2</td>\n",
       "      <td>22.4</td>\n",
       "      <td>...</td>\n",
       "      <td>63.3</td>\n",
       "      <td>130</td>\n",
       "      <td>28.2</td>\n",
       "      <td>NaN</td>\n",
       "      <td>84</td>\n",
       "      <td>36</td>\n",
       "      <td>NaN</td>\n",
       "      <td>NaN</td>\n",
       "      <td>2.96</td>\n",
       "      <td>-99</td>\n",
       "    </tr>\n",
       "    <tr>\n",
       "      <th>2</th>\n",
       "      <td>Algeria</td>\n",
       "      <td>NorthernAfrica</td>\n",
       "      <td>2381741.0</td>\n",
       "      <td>41318</td>\n",
       "      <td>17.3</td>\n",
       "      <td>102.0</td>\n",
       "      <td>164779</td>\n",
       "      <td>3.8</td>\n",
       "      <td>4154.1</td>\n",
       "      <td>12.2</td>\n",
       "      <td>...</td>\n",
       "      <td>38.2</td>\n",
       "      <td>135</td>\n",
       "      <td>0.8</td>\n",
       "      <td>NaN</td>\n",
       "      <td>5900</td>\n",
       "      <td>55</td>\n",
       "      <td>NaN</td>\n",
       "      <td>NaN</td>\n",
       "      <td>0.05</td>\n",
       "      <td>-99</td>\n",
       "    </tr>\n",
       "    <tr>\n",
       "      <th>3</th>\n",
       "      <td>American Samoa</td>\n",
       "      <td>Polynesia</td>\n",
       "      <td>199.0</td>\n",
       "      <td>56</td>\n",
       "      <td>278.2</td>\n",
       "      <td>103.6</td>\n",
       "      <td>-99</td>\n",
       "      <td>-99.0</td>\n",
       "      <td>-99.0</td>\n",
       "      <td>-99.0</td>\n",
       "      <td>...</td>\n",
       "      <td>-99.0</td>\n",
       "      <td>92</td>\n",
       "      <td>87.9</td>\n",
       "      <td>-99.0</td>\n",
       "      <td>-99</td>\n",
       "      <td>-99</td>\n",
       "      <td>NaN</td>\n",
       "      <td>NaN</td>\n",
       "      <td>-99.00</td>\n",
       "      <td>-99</td>\n",
       "    </tr>\n",
       "    <tr>\n",
       "      <th>4</th>\n",
       "      <td>Andorra</td>\n",
       "      <td>SouthernEurope</td>\n",
       "      <td>468.0</td>\n",
       "      <td>77</td>\n",
       "      <td>163.8</td>\n",
       "      <td>102.3</td>\n",
       "      <td>2812</td>\n",
       "      <td>0.8</td>\n",
       "      <td>39896.4</td>\n",
       "      <td>0.5</td>\n",
       "      <td>...</td>\n",
       "      <td>96.9</td>\n",
       "      <td>13</td>\n",
       "      <td>34.0</td>\n",
       "      <td>NaN</td>\n",
       "      <td>1</td>\n",
       "      <td>119</td>\n",
       "      <td>NaN</td>\n",
       "      <td>NaN</td>\n",
       "      <td>-99.00</td>\n",
       "      <td>-99</td>\n",
       "    </tr>\n",
       "    <tr>\n",
       "      <th>...</th>\n",
       "      <td>...</td>\n",
       "      <td>...</td>\n",
       "      <td>...</td>\n",
       "      <td>...</td>\n",
       "      <td>...</td>\n",
       "      <td>...</td>\n",
       "      <td>...</td>\n",
       "      <td>...</td>\n",
       "      <td>...</td>\n",
       "      <td>...</td>\n",
       "      <td>...</td>\n",
       "      <td>...</td>\n",
       "      <td>...</td>\n",
       "      <td>...</td>\n",
       "      <td>...</td>\n",
       "      <td>...</td>\n",
       "      <td>...</td>\n",
       "      <td>...</td>\n",
       "      <td>...</td>\n",
       "      <td>...</td>\n",
       "      <td>...</td>\n",
       "    </tr>\n",
       "    <tr>\n",
       "      <th>224</th>\n",
       "      <td>Wallis and Futuna Islands</td>\n",
       "      <td>Polynesia</td>\n",
       "      <td>142.0</td>\n",
       "      <td>12</td>\n",
       "      <td>84.1</td>\n",
       "      <td>93.4</td>\n",
       "      <td>-99</td>\n",
       "      <td>-99.0</td>\n",
       "      <td>-99.0</td>\n",
       "      <td>-99.0</td>\n",
       "      <td>...</td>\n",
       "      <td>9.0</td>\n",
       "      <td>89</td>\n",
       "      <td>41.6</td>\n",
       "      <td>NaN</td>\n",
       "      <td>-99</td>\n",
       "      <td>26</td>\n",
       "      <td>-99.0</td>\n",
       "      <td>-99.0</td>\n",
       "      <td>-99.00</td>\n",
       "      <td>-99</td>\n",
       "    </tr>\n",
       "    <tr>\n",
       "      <th>225</th>\n",
       "      <td>Western Sahara</td>\n",
       "      <td>NorthernAfrica</td>\n",
       "      <td>266000.0</td>\n",
       "      <td>553</td>\n",
       "      <td>2.1</td>\n",
       "      <td>110.1</td>\n",
       "      <td>-99</td>\n",
       "      <td>-99.0</td>\n",
       "      <td>-99.0</td>\n",
       "      <td>-99.0</td>\n",
       "      <td>...</td>\n",
       "      <td>-99.0</td>\n",
       "      <td>49</td>\n",
       "      <td>2.7</td>\n",
       "      <td>-99.0</td>\n",
       "      <td>-99</td>\n",
       "      <td>-99</td>\n",
       "      <td>-99.0</td>\n",
       "      <td>-99.0</td>\n",
       "      <td>-99.00</td>\n",
       "      <td>-99</td>\n",
       "    </tr>\n",
       "    <tr>\n",
       "      <th>226</th>\n",
       "      <td>Yemen</td>\n",
       "      <td>WesternAsia</td>\n",
       "      <td>527968.0</td>\n",
       "      <td>28250</td>\n",
       "      <td>53.5</td>\n",
       "      <td>102.1</td>\n",
       "      <td>29688</td>\n",
       "      <td>-28.1</td>\n",
       "      <td>1106.4</td>\n",
       "      <td>14.7</td>\n",
       "      <td>...</td>\n",
       "      <td>25.1</td>\n",
       "      <td>298</td>\n",
       "      <td>1.0</td>\n",
       "      <td>NaN</td>\n",
       "      <td>668</td>\n",
       "      <td>12</td>\n",
       "      <td>NaN</td>\n",
       "      <td>NaN</td>\n",
       "      <td>2.99</td>\n",
       "      <td>-99</td>\n",
       "    </tr>\n",
       "    <tr>\n",
       "      <th>227</th>\n",
       "      <td>Zambia</td>\n",
       "      <td>EasternAfrica</td>\n",
       "      <td>752612.0</td>\n",
       "      <td>17094</td>\n",
       "      <td>23.0</td>\n",
       "      <td>98.5</td>\n",
       "      <td>21255</td>\n",
       "      <td>2.9</td>\n",
       "      <td>1311.1</td>\n",
       "      <td>8.2</td>\n",
       "      <td>...</td>\n",
       "      <td>21.0</td>\n",
       "      <td>88</td>\n",
       "      <td>65.6</td>\n",
       "      <td>NaN</td>\n",
       "      <td>374</td>\n",
       "      <td>26</td>\n",
       "      <td>NaN</td>\n",
       "      <td>NaN</td>\n",
       "      <td>3.96</td>\n",
       "      <td>-99</td>\n",
       "    </tr>\n",
       "    <tr>\n",
       "      <th>228</th>\n",
       "      <td>Zimbabwe</td>\n",
       "      <td>EasternAfrica</td>\n",
       "      <td>390757.0</td>\n",
       "      <td>16530</td>\n",
       "      <td>42.7</td>\n",
       "      <td>95.0</td>\n",
       "      <td>13893</td>\n",
       "      <td>1.1</td>\n",
       "      <td>890.4</td>\n",
       "      <td>13.0</td>\n",
       "      <td>...</td>\n",
       "      <td>16.4</td>\n",
       "      <td>89</td>\n",
       "      <td>37.2</td>\n",
       "      <td>NaN</td>\n",
       "      <td>482</td>\n",
       "      <td>30</td>\n",
       "      <td>NaN</td>\n",
       "      <td>NaN</td>\n",
       "      <td>6.00</td>\n",
       "      <td>-99</td>\n",
       "    </tr>\n",
       "  </tbody>\n",
       "</table>\n",
       "<p>229 rows × 50 columns</p>\n",
       "</div>"
      ],
      "text/plain": [
       "                       country          Region  Surface area (km2)  \\\n",
       "0                  Afghanistan    SouthernAsia            652864.0   \n",
       "1                      Albania  SouthernEurope             28748.0   \n",
       "2                      Algeria  NorthernAfrica           2381741.0   \n",
       "3               American Samoa       Polynesia               199.0   \n",
       "4                      Andorra  SouthernEurope               468.0   \n",
       "..                         ...             ...                 ...   \n",
       "224  Wallis and Futuna Islands       Polynesia               142.0   \n",
       "225             Western Sahara  NorthernAfrica            266000.0   \n",
       "226                      Yemen     WesternAsia            527968.0   \n",
       "227                     Zambia   EasternAfrica            752612.0   \n",
       "228                   Zimbabwe   EasternAfrica            390757.0   \n",
       "\n",
       "     Population in thousands (2017)  Population density (per km2, 2017)  \\\n",
       "0                             35530                                54.4   \n",
       "1                              2930                               106.9   \n",
       "2                             41318                                17.3   \n",
       "3                                56                               278.2   \n",
       "4                                77                               163.8   \n",
       "..                              ...                                 ...   \n",
       "224                              12                                84.1   \n",
       "225                             553                                 2.1   \n",
       "226                           28250                                53.5   \n",
       "227                           17094                                23.0   \n",
       "228                           16530                                42.7   \n",
       "\n",
       "     Sex ratio (m per 100 f, 2017)  \\\n",
       "0                            106.3   \n",
       "1                            101.9   \n",
       "2                            102.0   \n",
       "3                            103.6   \n",
       "4                            102.3   \n",
       "..                             ...   \n",
       "224                           93.4   \n",
       "225                          110.1   \n",
       "226                          102.1   \n",
       "227                           98.5   \n",
       "228                           95.0   \n",
       "\n",
       "     GDP: Gross domestic product (million current US$)  \\\n",
       "0                                                20270   \n",
       "1                                                11541   \n",
       "2                                               164779   \n",
       "3                                                  -99   \n",
       "4                                                 2812   \n",
       "..                                                 ...   \n",
       "224                                                -99   \n",
       "225                                                -99   \n",
       "226                                              29688   \n",
       "227                                              21255   \n",
       "228                                              13893   \n",
       "\n",
       "     GDP growth rate (annual %, const. 2005 prices)  \\\n",
       "0                                              -2.4   \n",
       "1                                               2.6   \n",
       "2                                               3.8   \n",
       "3                                             -99.0   \n",
       "4                                               0.8   \n",
       "..                                              ...   \n",
       "224                                           -99.0   \n",
       "225                                           -99.0   \n",
       "226                                           -28.1   \n",
       "227                                             2.9   \n",
       "228                                             1.1   \n",
       "\n",
       "     GDP per capita (current US$)  Economy: Agriculture (% of GVA)  ...  \\\n",
       "0                           623.2                             23.3  ...   \n",
       "1                          3984.2                             22.4  ...   \n",
       "2                          4154.1                             12.2  ...   \n",
       "3                           -99.0                            -99.0  ...   \n",
       "4                         39896.4                              0.5  ...   \n",
       "..                            ...                              ...  ...   \n",
       "224                         -99.0                            -99.0  ...   \n",
       "225                         -99.0                            -99.0  ...   \n",
       "226                        1106.4                             14.7  ...   \n",
       "227                        1311.1                              8.2  ...   \n",
       "228                         890.4                             13.0  ...   \n",
       "\n",
       "     Mobile-cellular subscriptions (per 100 inhabitants).1  \\\n",
       "0                                                  8.3       \n",
       "1                                                 63.3       \n",
       "2                                                 38.2       \n",
       "3                                                -99.0       \n",
       "4                                                 96.9       \n",
       "..                                                 ...       \n",
       "224                                                9.0       \n",
       "225                                              -99.0       \n",
       "226                                               25.1       \n",
       "227                                               21.0       \n",
       "228                                               16.4       \n",
       "\n",
       "     Individuals using the Internet (per 100 inhabitants)  \\\n",
       "0                                                   42      \n",
       "1                                                  130      \n",
       "2                                                  135      \n",
       "3                                                   92      \n",
       "4                                                   13      \n",
       "..                                                 ...      \n",
       "224                                                 89      \n",
       "225                                                 49      \n",
       "226                                                298      \n",
       "227                                                 88      \n",
       "228                                                 89      \n",
       "\n",
       "     Threatened species (number)  Forested area (% of land area)  \\\n",
       "0                            2.1                             NaN   \n",
       "1                           28.2                             NaN   \n",
       "2                            0.8                             NaN   \n",
       "3                           87.9                           -99.0   \n",
       "4                           34.0                             NaN   \n",
       "..                           ...                             ...   \n",
       "224                         41.6                             NaN   \n",
       "225                          2.7                           -99.0   \n",
       "226                          1.0                             NaN   \n",
       "227                         65.6                             NaN   \n",
       "228                         37.2                             NaN   \n",
       "\n",
       "     CO2 emission estimates (million tons/tons per capita)  \\\n",
       "0                                                   63       \n",
       "1                                                   84       \n",
       "2                                                 5900       \n",
       "3                                                  -99       \n",
       "4                                                    1       \n",
       "..                                                 ...       \n",
       "224                                                -99       \n",
       "225                                                -99       \n",
       "226                                                668       \n",
       "227                                                374       \n",
       "228                                                482       \n",
       "\n",
       "     Energy production, primary (Petajoules)  \\\n",
       "0                                          5   \n",
       "1                                         36   \n",
       "2                                         55   \n",
       "3                                        -99   \n",
       "4                                        119   \n",
       "..                                       ...   \n",
       "224                                       26   \n",
       "225                                      -99   \n",
       "226                                       12   \n",
       "227                                       26   \n",
       "228                                       30   \n",
       "\n",
       "     Energy supply per capita (Gigajoules)  \\\n",
       "0                                      NaN   \n",
       "1                                      NaN   \n",
       "2                                      NaN   \n",
       "3                                      NaN   \n",
       "4                                      NaN   \n",
       "..                                     ...   \n",
       "224                                  -99.0   \n",
       "225                                  -99.0   \n",
       "226                                    NaN   \n",
       "227                                    NaN   \n",
       "228                                    NaN   \n",
       "\n",
       "     Pop. using improved drinking water (urban/rural, %)  \\\n",
       "0                                                  NaN     \n",
       "1                                                  NaN     \n",
       "2                                                  NaN     \n",
       "3                                                  NaN     \n",
       "4                                                  NaN     \n",
       "..                                                 ...     \n",
       "224                                              -99.0     \n",
       "225                                              -99.0     \n",
       "226                                                NaN     \n",
       "227                                                NaN     \n",
       "228                                                NaN     \n",
       "\n",
       "     Pop. using improved sanitation facilities (urban/rural, %)  \\\n",
       "0                                                21.43            \n",
       "1                                                 2.96            \n",
       "2                                                 0.05            \n",
       "3                                               -99.00            \n",
       "4                                               -99.00            \n",
       "..                                                 ...            \n",
       "224                                             -99.00            \n",
       "225                                             -99.00            \n",
       "226                                               2.99            \n",
       "227                                               3.96            \n",
       "228                                               6.00            \n",
       "\n",
       "     Net Official Development Assist. received (% of GNI)  \n",
       "0                                                  -99     \n",
       "1                                                  -99     \n",
       "2                                                  -99     \n",
       "3                                                  -99     \n",
       "4                                                  -99     \n",
       "..                                                 ...     \n",
       "224                                                -99     \n",
       "225                                                -99     \n",
       "226                                                -99     \n",
       "227                                                -99     \n",
       "228                                                -99     \n",
       "\n",
       "[229 rows x 50 columns]"
      ]
     },
     "execution_count": 11,
     "metadata": {},
     "output_type": "execute_result"
    }
   ],
   "source": [
    "country_profile"
   ]
  },
  {
   "cell_type": "code",
   "execution_count": 17,
   "metadata": {},
   "outputs": [
    {
     "name": "stderr",
     "output_type": "stream",
     "text": [
      "/var/folders/l5/p6r57rz54js0nf3r65vn2xy80000gn/T/ipykernel_33923/704202223.py:1: FutureWarning: A value is trying to be set on a copy of a DataFrame or Series through chained assignment using an inplace method.\n",
      "The behavior will change in pandas 3.0. This inplace method will never work because the intermediate object on which we are setting values always behaves as a copy.\n",
      "\n",
      "For example, when doing 'df[col].method(value, inplace=True)', try using 'df.method({col: value}, inplace=True)' or df[col] = df[col].method(value) instead, to perform the operation inplace on the original object.\n",
      "\n",
      "\n",
      "  country_profile['country'].replace({'China': 'China (Mainland)', 'Democratic People\\'s Republic of Korea': 'South Korea', 'United States of America': 'United States', 'China, Hong Kong SAR':'Hong Kong SAR'}, inplace=True)\n"
     ]
    }
   ],
   "source": [
    "# Replace country names in the country_profile dataframe to match the country names in the df_2017 dataframe\n",
    "country_profile['country'].replace({'China': 'China (Mainland)', 'Democratic People\\'s Republic of Korea': 'South Korea', 'United States of America': 'United States', 'China, Hong Kong SAR':'Hong Kong SAR'}, inplace=True)"
   ]
  },
  {
   "cell_type": "markdown",
   "metadata": {},
   "source": [
    "# Merge two dataset to one"
   ]
  },
  {
   "cell_type": "code",
   "execution_count": 18,
   "metadata": {},
   "outputs": [],
   "source": [
    "# create a function to merge two datasets\n",
    "def merge_dataset(df_2017, country_profile, key='country'):\n",
    "    # Merge two datasets\n",
    "    # df1: DataFrame 1\n",
    "    # df2: DataFrame 2\n",
    "    # key: column to merge on\n",
    "    # return: merged DataFrame\n",
    "    return pd.merge(df_2017, country_profile, on=key, how = 'left')"
   ]
  },
  {
   "cell_type": "code",
   "execution_count": 19,
   "metadata": {},
   "outputs": [
    {
     "data": {
      "text/html": [
       "<div>\n",
       "<style scoped>\n",
       "    .dataframe tbody tr th:only-of-type {\n",
       "        vertical-align: middle;\n",
       "    }\n",
       "\n",
       "    .dataframe tbody tr th {\n",
       "        vertical-align: top;\n",
       "    }\n",
       "\n",
       "    .dataframe thead th {\n",
       "        text-align: right;\n",
       "    }\n",
       "</style>\n",
       "<table border=\"1\" class=\"dataframe\">\n",
       "  <thead>\n",
       "    <tr style=\"text-align: right;\">\n",
       "      <th></th>\n",
       "      <th>university</th>\n",
       "      <th>year</th>\n",
       "      <th>rank_display</th>\n",
       "      <th>score</th>\n",
       "      <th>country</th>\n",
       "      <th>city</th>\n",
       "      <th>region</th>\n",
       "      <th>type</th>\n",
       "      <th>research_output</th>\n",
       "      <th>student_faculty_ratio</th>\n",
       "      <th>international_students</th>\n",
       "      <th>size</th>\n",
       "      <th>faculty_count</th>\n",
       "      <th>Region</th>\n",
       "      <th>Surface area (km2)</th>\n",
       "      <th>Population in thousands (2017)</th>\n",
       "      <th>Population density (per km2, 2017)</th>\n",
       "      <th>Sex ratio (m per 100 f, 2017)</th>\n",
       "      <th>GDP: Gross domestic product (million current US$)</th>\n",
       "      <th>GDP growth rate (annual %, const. 2005 prices)</th>\n",
       "      <th>GDP per capita (current US$)</th>\n",
       "      <th>Economy: Agriculture (% of GVA)</th>\n",
       "      <th>Economy: Industry (% of GVA)</th>\n",
       "      <th>Economy: Services and other activity (% of GVA)</th>\n",
       "      <th>Employment: Agriculture (% of employed)</th>\n",
       "      <th>Employment: Industry (% of employed)</th>\n",
       "      <th>Employment: Services (% of employed)</th>\n",
       "      <th>Unemployment (% of labour force)</th>\n",
       "      <th>Labour force participation (female/male pop. %)</th>\n",
       "      <th>Agricultural production index (2004-2006=100)</th>\n",
       "      <th>Food production index (2004-2006=100)</th>\n",
       "      <th>International trade: Exports (million US$)</th>\n",
       "      <th>International trade: Imports (million US$)</th>\n",
       "      <th>International trade: Balance (million US$)</th>\n",
       "      <th>Balance of payments, current account (million US$)</th>\n",
       "      <th>Population growth rate (average annual %)</th>\n",
       "      <th>Urban population (% of total population)</th>\n",
       "      <th>Urban population growth rate (average annual %)</th>\n",
       "      <th>Fertility rate, total (live births per woman)</th>\n",
       "      <th>Life expectancy at birth (females/males, years)</th>\n",
       "      <th>Population age distribution (0-14 / 60+ years, %)</th>\n",
       "      <th>International migrant stock (000/% of total pop.)</th>\n",
       "      <th>Refugees and others of concern to UNHCR (in thousands)</th>\n",
       "      <th>Infant mortality rate (per 1000 live births</th>\n",
       "      <th>Health: Total expenditure (% of GDP)</th>\n",
       "      <th>Health: Physicians (per 1000 pop.)</th>\n",
       "      <th>Education: Government expenditure (% of GDP)</th>\n",
       "      <th>Education: Primary gross enrol. ratio (f/m per 100 pop.)</th>\n",
       "      <th>Education: Secondary gross enrol. ratio (f/m per 100 pop.)</th>\n",
       "      <th>Education: Tertiary gross enrol. ratio (f/m per 100 pop.)</th>\n",
       "      <th>Seats held by women in national parliaments %</th>\n",
       "      <th>Mobile-cellular subscriptions (per 100 inhabitants)</th>\n",
       "      <th>Mobile-cellular subscriptions (per 100 inhabitants).1</th>\n",
       "      <th>Individuals using the Internet (per 100 inhabitants)</th>\n",
       "      <th>Threatened species (number)</th>\n",
       "      <th>Forested area (% of land area)</th>\n",
       "      <th>CO2 emission estimates (million tons/tons per capita)</th>\n",
       "      <th>Energy production, primary (Petajoules)</th>\n",
       "      <th>Energy supply per capita (Gigajoules)</th>\n",
       "      <th>Pop. using improved drinking water (urban/rural, %)</th>\n",
       "      <th>Pop. using improved sanitation facilities (urban/rural, %)</th>\n",
       "      <th>Net Official Development Assist. received (% of GNI)</th>\n",
       "    </tr>\n",
       "  </thead>\n",
       "  <tbody>\n",
       "    <tr>\n",
       "      <th>0</th>\n",
       "      <td>Massachusetts Institute of Technology (MIT)</td>\n",
       "      <td>2017</td>\n",
       "      <td>1.0</td>\n",
       "      <td>100.0</td>\n",
       "      <td>United States</td>\n",
       "      <td>Cambridge</td>\n",
       "      <td>North America</td>\n",
       "      <td>Private</td>\n",
       "      <td>Very High</td>\n",
       "      <td>4.0</td>\n",
       "      <td>3,730</td>\n",
       "      <td>M</td>\n",
       "      <td>3,065</td>\n",
       "      <td>NorthernAmerica</td>\n",
       "      <td>9833517.0</td>\n",
       "      <td>324460.0</td>\n",
       "      <td>35.5</td>\n",
       "      <td>98.0</td>\n",
       "      <td>18036648.0</td>\n",
       "      <td>2.6</td>\n",
       "      <td>56053.8</td>\n",
       "      <td>1.0</td>\n",
       "      <td>19.7</td>\n",
       "      <td>79.3</td>\n",
       "      <td>1.5</td>\n",
       "      <td>17.2</td>\n",
       "      <td>81.3</td>\n",
       "      <td>4.9</td>\n",
       "      <td>NaN</td>\n",
       "      <td>111.0</td>\n",
       "      <td>113.0</td>\n",
       "      <td>1453167.0</td>\n",
       "      <td>2249661.0</td>\n",
       "      <td>-796494.0</td>\n",
       "      <td>-462961.0</td>\n",
       "      <td>0.7</td>\n",
       "      <td>81.6</td>\n",
       "      <td>1.0</td>\n",
       "      <td>1.9</td>\n",
       "      <td>NaN</td>\n",
       "      <td>NaN</td>\n",
       "      <td>NaN</td>\n",
       "      <td>616.5</td>\n",
       "      <td>6.0</td>\n",
       "      <td>17.1</td>\n",
       "      <td>2.6</td>\n",
       "      <td>5.4</td>\n",
       "      <td>NaN</td>\n",
       "      <td>NaN</td>\n",
       "      <td>NaN</td>\n",
       "      <td>19.1</td>\n",
       "      <td>117.6</td>\n",
       "      <td>74.6</td>\n",
       "      <td>1513.0</td>\n",
       "      <td>33.9</td>\n",
       "      <td>NaN</td>\n",
       "      <td>83887.0</td>\n",
       "      <td>289.0</td>\n",
       "      <td>NaN</td>\n",
       "      <td>NaN</td>\n",
       "      <td>-99.0</td>\n",
       "      <td>-99.0</td>\n",
       "    </tr>\n",
       "    <tr>\n",
       "      <th>1</th>\n",
       "      <td>Stanford University</td>\n",
       "      <td>2017</td>\n",
       "      <td>2.0</td>\n",
       "      <td>98.7</td>\n",
       "      <td>United States</td>\n",
       "      <td>Stanford</td>\n",
       "      <td>North America</td>\n",
       "      <td>Private</td>\n",
       "      <td>Very High</td>\n",
       "      <td>3.0</td>\n",
       "      <td>3,879</td>\n",
       "      <td>L</td>\n",
       "      <td>4,725</td>\n",
       "      <td>NorthernAmerica</td>\n",
       "      <td>9833517.0</td>\n",
       "      <td>324460.0</td>\n",
       "      <td>35.5</td>\n",
       "      <td>98.0</td>\n",
       "      <td>18036648.0</td>\n",
       "      <td>2.6</td>\n",
       "      <td>56053.8</td>\n",
       "      <td>1.0</td>\n",
       "      <td>19.7</td>\n",
       "      <td>79.3</td>\n",
       "      <td>1.5</td>\n",
       "      <td>17.2</td>\n",
       "      <td>81.3</td>\n",
       "      <td>4.9</td>\n",
       "      <td>NaN</td>\n",
       "      <td>111.0</td>\n",
       "      <td>113.0</td>\n",
       "      <td>1453167.0</td>\n",
       "      <td>2249661.0</td>\n",
       "      <td>-796494.0</td>\n",
       "      <td>-462961.0</td>\n",
       "      <td>0.7</td>\n",
       "      <td>81.6</td>\n",
       "      <td>1.0</td>\n",
       "      <td>1.9</td>\n",
       "      <td>NaN</td>\n",
       "      <td>NaN</td>\n",
       "      <td>NaN</td>\n",
       "      <td>616.5</td>\n",
       "      <td>6.0</td>\n",
       "      <td>17.1</td>\n",
       "      <td>2.6</td>\n",
       "      <td>5.4</td>\n",
       "      <td>NaN</td>\n",
       "      <td>NaN</td>\n",
       "      <td>NaN</td>\n",
       "      <td>19.1</td>\n",
       "      <td>117.6</td>\n",
       "      <td>74.6</td>\n",
       "      <td>1513.0</td>\n",
       "      <td>33.9</td>\n",
       "      <td>NaN</td>\n",
       "      <td>83887.0</td>\n",
       "      <td>289.0</td>\n",
       "      <td>NaN</td>\n",
       "      <td>NaN</td>\n",
       "      <td>-99.0</td>\n",
       "      <td>-99.0</td>\n",
       "    </tr>\n",
       "    <tr>\n",
       "      <th>2</th>\n",
       "      <td>Harvard University</td>\n",
       "      <td>2017</td>\n",
       "      <td>3.0</td>\n",
       "      <td>98.3</td>\n",
       "      <td>United States</td>\n",
       "      <td>Cambridge</td>\n",
       "      <td>North America</td>\n",
       "      <td>Private</td>\n",
       "      <td>Very High</td>\n",
       "      <td>5.0</td>\n",
       "      <td>5,877</td>\n",
       "      <td>L</td>\n",
       "      <td>4,646</td>\n",
       "      <td>NorthernAmerica</td>\n",
       "      <td>9833517.0</td>\n",
       "      <td>324460.0</td>\n",
       "      <td>35.5</td>\n",
       "      <td>98.0</td>\n",
       "      <td>18036648.0</td>\n",
       "      <td>2.6</td>\n",
       "      <td>56053.8</td>\n",
       "      <td>1.0</td>\n",
       "      <td>19.7</td>\n",
       "      <td>79.3</td>\n",
       "      <td>1.5</td>\n",
       "      <td>17.2</td>\n",
       "      <td>81.3</td>\n",
       "      <td>4.9</td>\n",
       "      <td>NaN</td>\n",
       "      <td>111.0</td>\n",
       "      <td>113.0</td>\n",
       "      <td>1453167.0</td>\n",
       "      <td>2249661.0</td>\n",
       "      <td>-796494.0</td>\n",
       "      <td>-462961.0</td>\n",
       "      <td>0.7</td>\n",
       "      <td>81.6</td>\n",
       "      <td>1.0</td>\n",
       "      <td>1.9</td>\n",
       "      <td>NaN</td>\n",
       "      <td>NaN</td>\n",
       "      <td>NaN</td>\n",
       "      <td>616.5</td>\n",
       "      <td>6.0</td>\n",
       "      <td>17.1</td>\n",
       "      <td>2.6</td>\n",
       "      <td>5.4</td>\n",
       "      <td>NaN</td>\n",
       "      <td>NaN</td>\n",
       "      <td>NaN</td>\n",
       "      <td>19.1</td>\n",
       "      <td>117.6</td>\n",
       "      <td>74.6</td>\n",
       "      <td>1513.0</td>\n",
       "      <td>33.9</td>\n",
       "      <td>NaN</td>\n",
       "      <td>83887.0</td>\n",
       "      <td>289.0</td>\n",
       "      <td>NaN</td>\n",
       "      <td>NaN</td>\n",
       "      <td>-99.0</td>\n",
       "      <td>-99.0</td>\n",
       "    </tr>\n",
       "    <tr>\n",
       "      <th>3</th>\n",
       "      <td>University of Cambridge</td>\n",
       "      <td>2017</td>\n",
       "      <td>4.0</td>\n",
       "      <td>97.2</td>\n",
       "      <td>United Kingdom</td>\n",
       "      <td>Cambridge</td>\n",
       "      <td>Europe</td>\n",
       "      <td>Public</td>\n",
       "      <td>Very high</td>\n",
       "      <td>4.0</td>\n",
       "      <td>7,925</td>\n",
       "      <td>L</td>\n",
       "      <td>5,800</td>\n",
       "      <td>NorthernEurope</td>\n",
       "      <td>242495.0</td>\n",
       "      <td>66182.0</td>\n",
       "      <td>273.6</td>\n",
       "      <td>97.4</td>\n",
       "      <td>2858003.0</td>\n",
       "      <td>2.2</td>\n",
       "      <td>44162.4</td>\n",
       "      <td>0.7</td>\n",
       "      <td>19.4</td>\n",
       "      <td>79.9</td>\n",
       "      <td>1.2</td>\n",
       "      <td>18.4</td>\n",
       "      <td>80.4</td>\n",
       "      <td>5.0</td>\n",
       "      <td>NaN</td>\n",
       "      <td>108.0</td>\n",
       "      <td>108.0</td>\n",
       "      <td>415856.0</td>\n",
       "      <td>635570.0</td>\n",
       "      <td>-219713.0</td>\n",
       "      <td>-122571.0</td>\n",
       "      <td>0.6</td>\n",
       "      <td>82.6</td>\n",
       "      <td>0.9</td>\n",
       "      <td>1.9</td>\n",
       "      <td>NaN</td>\n",
       "      <td>NaN</td>\n",
       "      <td>NaN</td>\n",
       "      <td>151.7</td>\n",
       "      <td>4.1</td>\n",
       "      <td>9.1</td>\n",
       "      <td>2.8</td>\n",
       "      <td>5.7</td>\n",
       "      <td>NaN</td>\n",
       "      <td>NaN</td>\n",
       "      <td>NaN</td>\n",
       "      <td>30.0</td>\n",
       "      <td>125.8</td>\n",
       "      <td>92.0</td>\n",
       "      <td>102.0</td>\n",
       "      <td>12.9</td>\n",
       "      <td>NaN</td>\n",
       "      <td>4482.0</td>\n",
       "      <td>116.0</td>\n",
       "      <td>NaN</td>\n",
       "      <td>NaN</td>\n",
       "      <td>-99.0</td>\n",
       "      <td>-99.0</td>\n",
       "    </tr>\n",
       "    <tr>\n",
       "      <th>4</th>\n",
       "      <td>California Institute of Technology (Caltech)</td>\n",
       "      <td>2017</td>\n",
       "      <td>5.0</td>\n",
       "      <td>96.9</td>\n",
       "      <td>United States</td>\n",
       "      <td>Pasadena</td>\n",
       "      <td>North America</td>\n",
       "      <td>Private</td>\n",
       "      <td>Very High</td>\n",
       "      <td>2.0</td>\n",
       "      <td>692</td>\n",
       "      <td>S</td>\n",
       "      <td>968</td>\n",
       "      <td>NorthernAmerica</td>\n",
       "      <td>9833517.0</td>\n",
       "      <td>324460.0</td>\n",
       "      <td>35.5</td>\n",
       "      <td>98.0</td>\n",
       "      <td>18036648.0</td>\n",
       "      <td>2.6</td>\n",
       "      <td>56053.8</td>\n",
       "      <td>1.0</td>\n",
       "      <td>19.7</td>\n",
       "      <td>79.3</td>\n",
       "      <td>1.5</td>\n",
       "      <td>17.2</td>\n",
       "      <td>81.3</td>\n",
       "      <td>4.9</td>\n",
       "      <td>NaN</td>\n",
       "      <td>111.0</td>\n",
       "      <td>113.0</td>\n",
       "      <td>1453167.0</td>\n",
       "      <td>2249661.0</td>\n",
       "      <td>-796494.0</td>\n",
       "      <td>-462961.0</td>\n",
       "      <td>0.7</td>\n",
       "      <td>81.6</td>\n",
       "      <td>1.0</td>\n",
       "      <td>1.9</td>\n",
       "      <td>NaN</td>\n",
       "      <td>NaN</td>\n",
       "      <td>NaN</td>\n",
       "      <td>616.5</td>\n",
       "      <td>6.0</td>\n",
       "      <td>17.1</td>\n",
       "      <td>2.6</td>\n",
       "      <td>5.4</td>\n",
       "      <td>NaN</td>\n",
       "      <td>NaN</td>\n",
       "      <td>NaN</td>\n",
       "      <td>19.1</td>\n",
       "      <td>117.6</td>\n",
       "      <td>74.6</td>\n",
       "      <td>1513.0</td>\n",
       "      <td>33.9</td>\n",
       "      <td>NaN</td>\n",
       "      <td>83887.0</td>\n",
       "      <td>289.0</td>\n",
       "      <td>NaN</td>\n",
       "      <td>NaN</td>\n",
       "      <td>-99.0</td>\n",
       "      <td>-99.0</td>\n",
       "    </tr>\n",
       "    <tr>\n",
       "      <th>...</th>\n",
       "      <td>...</td>\n",
       "      <td>...</td>\n",
       "      <td>...</td>\n",
       "      <td>...</td>\n",
       "      <td>...</td>\n",
       "      <td>...</td>\n",
       "      <td>...</td>\n",
       "      <td>...</td>\n",
       "      <td>...</td>\n",
       "      <td>...</td>\n",
       "      <td>...</td>\n",
       "      <td>...</td>\n",
       "      <td>...</td>\n",
       "      <td>...</td>\n",
       "      <td>...</td>\n",
       "      <td>...</td>\n",
       "      <td>...</td>\n",
       "      <td>...</td>\n",
       "      <td>...</td>\n",
       "      <td>...</td>\n",
       "      <td>...</td>\n",
       "      <td>...</td>\n",
       "      <td>...</td>\n",
       "      <td>...</td>\n",
       "      <td>...</td>\n",
       "      <td>...</td>\n",
       "      <td>...</td>\n",
       "      <td>...</td>\n",
       "      <td>...</td>\n",
       "      <td>...</td>\n",
       "      <td>...</td>\n",
       "      <td>...</td>\n",
       "      <td>...</td>\n",
       "      <td>...</td>\n",
       "      <td>...</td>\n",
       "      <td>...</td>\n",
       "      <td>...</td>\n",
       "      <td>...</td>\n",
       "      <td>...</td>\n",
       "      <td>...</td>\n",
       "      <td>...</td>\n",
       "      <td>...</td>\n",
       "      <td>...</td>\n",
       "      <td>...</td>\n",
       "      <td>...</td>\n",
       "      <td>...</td>\n",
       "      <td>...</td>\n",
       "      <td>...</td>\n",
       "      <td>...</td>\n",
       "      <td>...</td>\n",
       "      <td>...</td>\n",
       "      <td>...</td>\n",
       "      <td>...</td>\n",
       "      <td>...</td>\n",
       "      <td>...</td>\n",
       "      <td>...</td>\n",
       "      <td>...</td>\n",
       "      <td>...</td>\n",
       "      <td>...</td>\n",
       "      <td>...</td>\n",
       "      <td>...</td>\n",
       "      <td>...</td>\n",
       "    </tr>\n",
       "    <tr>\n",
       "      <th>96</th>\n",
       "      <td>KTH Royal Institute of Technology</td>\n",
       "      <td>2017</td>\n",
       "      <td>97.0</td>\n",
       "      <td>63.1</td>\n",
       "      <td>Sweden</td>\n",
       "      <td>Stockholm</td>\n",
       "      <td>Europe</td>\n",
       "      <td>Public</td>\n",
       "      <td>Very High</td>\n",
       "      <td>8.0</td>\n",
       "      <td>3,057</td>\n",
       "      <td>L</td>\n",
       "      <td>3,600</td>\n",
       "      <td>NorthernEurope</td>\n",
       "      <td>438574.0</td>\n",
       "      <td>9911.0</td>\n",
       "      <td>24.2</td>\n",
       "      <td>100.2</td>\n",
       "      <td>495694.0</td>\n",
       "      <td>4.1</td>\n",
       "      <td>50687.5</td>\n",
       "      <td>1.3</td>\n",
       "      <td>26.3</td>\n",
       "      <td>72.4</td>\n",
       "      <td>1.8</td>\n",
       "      <td>18.2</td>\n",
       "      <td>79.9</td>\n",
       "      <td>7.3</td>\n",
       "      <td>NaN</td>\n",
       "      <td>100.0</td>\n",
       "      <td>100.0</td>\n",
       "      <td>139574.0</td>\n",
       "      <td>140838.0</td>\n",
       "      <td>-1263.0</td>\n",
       "      <td>23250.0</td>\n",
       "      <td>0.8</td>\n",
       "      <td>85.8</td>\n",
       "      <td>0.8</td>\n",
       "      <td>1.9</td>\n",
       "      <td>NaN</td>\n",
       "      <td>NaN</td>\n",
       "      <td>NaN</td>\n",
       "      <td>348.5</td>\n",
       "      <td>2.4</td>\n",
       "      <td>11.9</td>\n",
       "      <td>4.1</td>\n",
       "      <td>7.7</td>\n",
       "      <td>NaN</td>\n",
       "      <td>NaN</td>\n",
       "      <td>NaN</td>\n",
       "      <td>43.6</td>\n",
       "      <td>130.4</td>\n",
       "      <td>90.6</td>\n",
       "      <td>54.0</td>\n",
       "      <td>68.9</td>\n",
       "      <td>NaN</td>\n",
       "      <td>1428.0</td>\n",
       "      <td>206.0</td>\n",
       "      <td>NaN</td>\n",
       "      <td>NaN</td>\n",
       "      <td>-99.0</td>\n",
       "      <td>-99.0</td>\n",
       "    </tr>\n",
       "    <tr>\n",
       "      <th>97</th>\n",
       "      <td>Uppsala University</td>\n",
       "      <td>2017</td>\n",
       "      <td>98.0</td>\n",
       "      <td>62.8</td>\n",
       "      <td>Sweden</td>\n",
       "      <td>Uppsala</td>\n",
       "      <td>Europe</td>\n",
       "      <td>Public</td>\n",
       "      <td>Very High</td>\n",
       "      <td>10.0</td>\n",
       "      <td>8,401</td>\n",
       "      <td>L</td>\n",
       "      <td>2,843</td>\n",
       "      <td>NorthernEurope</td>\n",
       "      <td>438574.0</td>\n",
       "      <td>9911.0</td>\n",
       "      <td>24.2</td>\n",
       "      <td>100.2</td>\n",
       "      <td>495694.0</td>\n",
       "      <td>4.1</td>\n",
       "      <td>50687.5</td>\n",
       "      <td>1.3</td>\n",
       "      <td>26.3</td>\n",
       "      <td>72.4</td>\n",
       "      <td>1.8</td>\n",
       "      <td>18.2</td>\n",
       "      <td>79.9</td>\n",
       "      <td>7.3</td>\n",
       "      <td>NaN</td>\n",
       "      <td>100.0</td>\n",
       "      <td>100.0</td>\n",
       "      <td>139574.0</td>\n",
       "      <td>140838.0</td>\n",
       "      <td>-1263.0</td>\n",
       "      <td>23250.0</td>\n",
       "      <td>0.8</td>\n",
       "      <td>85.8</td>\n",
       "      <td>0.8</td>\n",
       "      <td>1.9</td>\n",
       "      <td>NaN</td>\n",
       "      <td>NaN</td>\n",
       "      <td>NaN</td>\n",
       "      <td>348.5</td>\n",
       "      <td>2.4</td>\n",
       "      <td>11.9</td>\n",
       "      <td>4.1</td>\n",
       "      <td>7.7</td>\n",
       "      <td>NaN</td>\n",
       "      <td>NaN</td>\n",
       "      <td>NaN</td>\n",
       "      <td>43.6</td>\n",
       "      <td>130.4</td>\n",
       "      <td>90.6</td>\n",
       "      <td>54.0</td>\n",
       "      <td>68.9</td>\n",
       "      <td>NaN</td>\n",
       "      <td>1428.0</td>\n",
       "      <td>206.0</td>\n",
       "      <td>NaN</td>\n",
       "      <td>NaN</td>\n",
       "      <td>-99.0</td>\n",
       "      <td>-99.0</td>\n",
       "    </tr>\n",
       "    <tr>\n",
       "      <th>98</th>\n",
       "      <td>Korea University</td>\n",
       "      <td>2017</td>\n",
       "      <td>98.0</td>\n",
       "      <td>62.8</td>\n",
       "      <td>South Korea</td>\n",
       "      <td>Seoul</td>\n",
       "      <td>Asia</td>\n",
       "      <td>Private</td>\n",
       "      <td>Very High</td>\n",
       "      <td>6.0</td>\n",
       "      <td>3,325</td>\n",
       "      <td>L</td>\n",
       "      <td>4,026</td>\n",
       "      <td>EasternAsia</td>\n",
       "      <td>120538.0</td>\n",
       "      <td>25491.0</td>\n",
       "      <td>211.7</td>\n",
       "      <td>95.7</td>\n",
       "      <td>16283.0</td>\n",
       "      <td>-1.1</td>\n",
       "      <td>648.0</td>\n",
       "      <td>21.6</td>\n",
       "      <td>46.2</td>\n",
       "      <td>32.2</td>\n",
       "      <td>58.9</td>\n",
       "      <td>19.3</td>\n",
       "      <td>21.8</td>\n",
       "      <td>4.3</td>\n",
       "      <td>NaN</td>\n",
       "      <td>104.0</td>\n",
       "      <td>103.0</td>\n",
       "      <td>1010.0</td>\n",
       "      <td>2757.0</td>\n",
       "      <td>-1748.0</td>\n",
       "      <td>-99.0</td>\n",
       "      <td>0.5</td>\n",
       "      <td>60.9</td>\n",
       "      <td>0.7</td>\n",
       "      <td>2.0</td>\n",
       "      <td>NaN</td>\n",
       "      <td>NaN</td>\n",
       "      <td>NaN</td>\n",
       "      <td>-99.0</td>\n",
       "      <td>18.5</td>\n",
       "      <td>-99.0</td>\n",
       "      <td>2.8</td>\n",
       "      <td>-99.0</td>\n",
       "      <td>NaN</td>\n",
       "      <td>NaN</td>\n",
       "      <td>NaN</td>\n",
       "      <td>16.3</td>\n",
       "      <td>12.9</td>\n",
       "      <td>0.0</td>\n",
       "      <td>78.0</td>\n",
       "      <td>42.8</td>\n",
       "      <td>NaN</td>\n",
       "      <td>871.0</td>\n",
       "      <td>20.0</td>\n",
       "      <td>NaN</td>\n",
       "      <td>NaN</td>\n",
       "      <td>-99.0</td>\n",
       "      <td>-99.0</td>\n",
       "    </tr>\n",
       "    <tr>\n",
       "      <th>99</th>\n",
       "      <td>Trinity College Dublin, The University of Dublin</td>\n",
       "      <td>2017</td>\n",
       "      <td>98.0</td>\n",
       "      <td>62.8</td>\n",
       "      <td>Ireland</td>\n",
       "      <td>Dublin</td>\n",
       "      <td>Europe</td>\n",
       "      <td>Public</td>\n",
       "      <td>Very High</td>\n",
       "      <td>12.0</td>\n",
       "      <td>5,593</td>\n",
       "      <td>L</td>\n",
       "      <td>1,383</td>\n",
       "      <td>NorthernEurope</td>\n",
       "      <td>69797.0</td>\n",
       "      <td>4762.0</td>\n",
       "      <td>69.1</td>\n",
       "      <td>98.4</td>\n",
       "      <td>283716.0</td>\n",
       "      <td>26.3</td>\n",
       "      <td>60513.6</td>\n",
       "      <td>1.0</td>\n",
       "      <td>41.7</td>\n",
       "      <td>57.3</td>\n",
       "      <td>4.8</td>\n",
       "      <td>17.7</td>\n",
       "      <td>77.4</td>\n",
       "      <td>7.6</td>\n",
       "      <td>NaN</td>\n",
       "      <td>102.0</td>\n",
       "      <td>102.0</td>\n",
       "      <td>129315.0</td>\n",
       "      <td>76997.0</td>\n",
       "      <td>52318.0</td>\n",
       "      <td>28967.0</td>\n",
       "      <td>0.3</td>\n",
       "      <td>63.2</td>\n",
       "      <td>1.6</td>\n",
       "      <td>2.0</td>\n",
       "      <td>NaN</td>\n",
       "      <td>NaN</td>\n",
       "      <td>NaN</td>\n",
       "      <td>10.5</td>\n",
       "      <td>3.4</td>\n",
       "      <td>7.8</td>\n",
       "      <td>2.8</td>\n",
       "      <td>5.3</td>\n",
       "      <td>NaN</td>\n",
       "      <td>NaN</td>\n",
       "      <td>NaN</td>\n",
       "      <td>22.2</td>\n",
       "      <td>103.7</td>\n",
       "      <td>80.1</td>\n",
       "      <td>50.0</td>\n",
       "      <td>10.9</td>\n",
       "      <td>NaN</td>\n",
       "      <td>84.0</td>\n",
       "      <td>114.0</td>\n",
       "      <td>NaN</td>\n",
       "      <td>NaN</td>\n",
       "      <td>-99.0</td>\n",
       "      <td>-99.0</td>\n",
       "    </tr>\n",
       "    <tr>\n",
       "      <th>100</th>\n",
       "      <td>KIT, Karlsruhe Institute of Technology</td>\n",
       "      <td>2017</td>\n",
       "      <td>98.0</td>\n",
       "      <td>62.8</td>\n",
       "      <td>Germany</td>\n",
       "      <td>Karlsruhe</td>\n",
       "      <td>Europe</td>\n",
       "      <td>Public</td>\n",
       "      <td>Very High</td>\n",
       "      <td>10.0</td>\n",
       "      <td>5,030</td>\n",
       "      <td>L</td>\n",
       "      <td>2,080</td>\n",
       "      <td>WesternEurope</td>\n",
       "      <td>357376.0</td>\n",
       "      <td>82114.0</td>\n",
       "      <td>235.6</td>\n",
       "      <td>97.0</td>\n",
       "      <td>3363600.0</td>\n",
       "      <td>1.7</td>\n",
       "      <td>41686.2</td>\n",
       "      <td>0.6</td>\n",
       "      <td>30.5</td>\n",
       "      <td>68.9</td>\n",
       "      <td>1.4</td>\n",
       "      <td>27.5</td>\n",
       "      <td>71.2</td>\n",
       "      <td>4.2</td>\n",
       "      <td>NaN</td>\n",
       "      <td>111.0</td>\n",
       "      <td>111.0</td>\n",
       "      <td>1340752.0</td>\n",
       "      <td>1060672.0</td>\n",
       "      <td>280080.0</td>\n",
       "      <td>279969.0</td>\n",
       "      <td>0.2</td>\n",
       "      <td>75.3</td>\n",
       "      <td>0.2</td>\n",
       "      <td>1.4</td>\n",
       "      <td>NaN</td>\n",
       "      <td>NaN</td>\n",
       "      <td>NaN</td>\n",
       "      <td>1052.1</td>\n",
       "      <td>3.4</td>\n",
       "      <td>11.3</td>\n",
       "      <td>4.1</td>\n",
       "      <td>5.0</td>\n",
       "      <td>NaN</td>\n",
       "      <td>NaN</td>\n",
       "      <td>NaN</td>\n",
       "      <td>37.0</td>\n",
       "      <td>116.7</td>\n",
       "      <td>87.6</td>\n",
       "      <td>116.0</td>\n",
       "      <td>32.7</td>\n",
       "      <td>NaN</td>\n",
       "      <td>5004.0</td>\n",
       "      <td>158.0</td>\n",
       "      <td>NaN</td>\n",
       "      <td>NaN</td>\n",
       "      <td>-99.0</td>\n",
       "      <td>-99.0</td>\n",
       "    </tr>\n",
       "  </tbody>\n",
       "</table>\n",
       "<p>101 rows × 62 columns</p>\n",
       "</div>"
      ],
      "text/plain": [
       "                                           university  year  rank_display  \\\n",
       "0        Massachusetts Institute of Technology (MIT)   2017           1.0   \n",
       "1                                 Stanford University  2017           2.0   \n",
       "2                                  Harvard University  2017           3.0   \n",
       "3                             University of Cambridge  2017           4.0   \n",
       "4        California Institute of Technology (Caltech)  2017           5.0   \n",
       "..                                                ...   ...           ...   \n",
       "96                 KTH Royal Institute of Technology   2017          97.0   \n",
       "97                                 Uppsala University  2017          98.0   \n",
       "98                                   Korea University  2017          98.0   \n",
       "99   Trinity College Dublin, The University of Dublin  2017          98.0   \n",
       "100            KIT, Karlsruhe Institute of Technology  2017          98.0   \n",
       "\n",
       "     score         country       city         region     type research_output  \\\n",
       "0    100.0   United States  Cambridge  North America  Private       Very High   \n",
       "1     98.7   United States   Stanford  North America  Private       Very High   \n",
       "2     98.3   United States  Cambridge  North America  Private       Very High   \n",
       "3     97.2  United Kingdom  Cambridge         Europe   Public       Very high   \n",
       "4     96.9   United States   Pasadena  North America  Private       Very High   \n",
       "..     ...             ...        ...            ...      ...             ...   \n",
       "96    63.1          Sweden  Stockholm         Europe   Public       Very High   \n",
       "97    62.8          Sweden    Uppsala         Europe   Public       Very High   \n",
       "98    62.8     South Korea      Seoul           Asia  Private       Very High   \n",
       "99    62.8         Ireland     Dublin         Europe   Public       Very High   \n",
       "100   62.8         Germany  Karlsruhe         Europe   Public       Very High   \n",
       "\n",
       "     student_faculty_ratio international_students size faculty_count  \\\n",
       "0                      4.0                  3,730    M         3,065   \n",
       "1                      3.0                  3,879    L         4,725   \n",
       "2                      5.0                  5,877    L         4,646   \n",
       "3                      4.0                  7,925    L         5,800   \n",
       "4                      2.0                    692    S           968   \n",
       "..                     ...                    ...  ...           ...   \n",
       "96                     8.0                  3,057    L         3,600   \n",
       "97                    10.0                  8,401    L         2,843   \n",
       "98                     6.0                  3,325    L         4,026   \n",
       "99                    12.0                  5,593    L         1,383   \n",
       "100                   10.0                  5,030    L         2,080   \n",
       "\n",
       "              Region  Surface area (km2)  Population in thousands (2017)  \\\n",
       "0    NorthernAmerica           9833517.0                        324460.0   \n",
       "1    NorthernAmerica           9833517.0                        324460.0   \n",
       "2    NorthernAmerica           9833517.0                        324460.0   \n",
       "3     NorthernEurope            242495.0                         66182.0   \n",
       "4    NorthernAmerica           9833517.0                        324460.0   \n",
       "..               ...                 ...                             ...   \n",
       "96    NorthernEurope            438574.0                          9911.0   \n",
       "97    NorthernEurope            438574.0                          9911.0   \n",
       "98       EasternAsia            120538.0                         25491.0   \n",
       "99    NorthernEurope             69797.0                          4762.0   \n",
       "100    WesternEurope            357376.0                         82114.0   \n",
       "\n",
       "     Population density (per km2, 2017)  Sex ratio (m per 100 f, 2017)  \\\n",
       "0                                  35.5                           98.0   \n",
       "1                                  35.5                           98.0   \n",
       "2                                  35.5                           98.0   \n",
       "3                                 273.6                           97.4   \n",
       "4                                  35.5                           98.0   \n",
       "..                                  ...                            ...   \n",
       "96                                 24.2                          100.2   \n",
       "97                                 24.2                          100.2   \n",
       "98                                211.7                           95.7   \n",
       "99                                 69.1                           98.4   \n",
       "100                               235.6                           97.0   \n",
       "\n",
       "     GDP: Gross domestic product (million current US$)  \\\n",
       "0                                           18036648.0   \n",
       "1                                           18036648.0   \n",
       "2                                           18036648.0   \n",
       "3                                            2858003.0   \n",
       "4                                           18036648.0   \n",
       "..                                                 ...   \n",
       "96                                            495694.0   \n",
       "97                                            495694.0   \n",
       "98                                             16283.0   \n",
       "99                                            283716.0   \n",
       "100                                          3363600.0   \n",
       "\n",
       "     GDP growth rate (annual %, const. 2005 prices)  \\\n",
       "0                                               2.6   \n",
       "1                                               2.6   \n",
       "2                                               2.6   \n",
       "3                                               2.2   \n",
       "4                                               2.6   \n",
       "..                                              ...   \n",
       "96                                              4.1   \n",
       "97                                              4.1   \n",
       "98                                             -1.1   \n",
       "99                                             26.3   \n",
       "100                                             1.7   \n",
       "\n",
       "     GDP per capita (current US$)  Economy: Agriculture (% of GVA)  \\\n",
       "0                         56053.8                              1.0   \n",
       "1                         56053.8                              1.0   \n",
       "2                         56053.8                              1.0   \n",
       "3                         44162.4                              0.7   \n",
       "4                         56053.8                              1.0   \n",
       "..                            ...                              ...   \n",
       "96                        50687.5                              1.3   \n",
       "97                        50687.5                              1.3   \n",
       "98                          648.0                             21.6   \n",
       "99                        60513.6                              1.0   \n",
       "100                       41686.2                              0.6   \n",
       "\n",
       "     Economy: Industry (% of GVA)  \\\n",
       "0                            19.7   \n",
       "1                            19.7   \n",
       "2                            19.7   \n",
       "3                            19.4   \n",
       "4                            19.7   \n",
       "..                            ...   \n",
       "96                           26.3   \n",
       "97                           26.3   \n",
       "98                           46.2   \n",
       "99                           41.7   \n",
       "100                          30.5   \n",
       "\n",
       "     Economy: Services and other activity (% of GVA)  \\\n",
       "0                                               79.3   \n",
       "1                                               79.3   \n",
       "2                                               79.3   \n",
       "3                                               79.9   \n",
       "4                                               79.3   \n",
       "..                                               ...   \n",
       "96                                              72.4   \n",
       "97                                              72.4   \n",
       "98                                              32.2   \n",
       "99                                              57.3   \n",
       "100                                             68.9   \n",
       "\n",
       "     Employment: Agriculture (% of employed)  \\\n",
       "0                                        1.5   \n",
       "1                                        1.5   \n",
       "2                                        1.5   \n",
       "3                                        1.2   \n",
       "4                                        1.5   \n",
       "..                                       ...   \n",
       "96                                       1.8   \n",
       "97                                       1.8   \n",
       "98                                      58.9   \n",
       "99                                       4.8   \n",
       "100                                      1.4   \n",
       "\n",
       "     Employment: Industry (% of employed)  \\\n",
       "0                                    17.2   \n",
       "1                                    17.2   \n",
       "2                                    17.2   \n",
       "3                                    18.4   \n",
       "4                                    17.2   \n",
       "..                                    ...   \n",
       "96                                   18.2   \n",
       "97                                   18.2   \n",
       "98                                   19.3   \n",
       "99                                   17.7   \n",
       "100                                  27.5   \n",
       "\n",
       "     Employment: Services (% of employed)  Unemployment (% of labour force)  \\\n",
       "0                                    81.3                               4.9   \n",
       "1                                    81.3                               4.9   \n",
       "2                                    81.3                               4.9   \n",
       "3                                    80.4                               5.0   \n",
       "4                                    81.3                               4.9   \n",
       "..                                    ...                               ...   \n",
       "96                                   79.9                               7.3   \n",
       "97                                   79.9                               7.3   \n",
       "98                                   21.8                               4.3   \n",
       "99                                   77.4                               7.6   \n",
       "100                                  71.2                               4.2   \n",
       "\n",
       "     Labour force participation (female/male pop. %)  \\\n",
       "0                                                NaN   \n",
       "1                                                NaN   \n",
       "2                                                NaN   \n",
       "3                                                NaN   \n",
       "4                                                NaN   \n",
       "..                                               ...   \n",
       "96                                               NaN   \n",
       "97                                               NaN   \n",
       "98                                               NaN   \n",
       "99                                               NaN   \n",
       "100                                              NaN   \n",
       "\n",
       "     Agricultural production index (2004-2006=100)  \\\n",
       "0                                            111.0   \n",
       "1                                            111.0   \n",
       "2                                            111.0   \n",
       "3                                            108.0   \n",
       "4                                            111.0   \n",
       "..                                             ...   \n",
       "96                                           100.0   \n",
       "97                                           100.0   \n",
       "98                                           104.0   \n",
       "99                                           102.0   \n",
       "100                                          111.0   \n",
       "\n",
       "     Food production index (2004-2006=100)  \\\n",
       "0                                    113.0   \n",
       "1                                    113.0   \n",
       "2                                    113.0   \n",
       "3                                    108.0   \n",
       "4                                    113.0   \n",
       "..                                     ...   \n",
       "96                                   100.0   \n",
       "97                                   100.0   \n",
       "98                                   103.0   \n",
       "99                                   102.0   \n",
       "100                                  111.0   \n",
       "\n",
       "     International trade: Exports (million US$)  \\\n",
       "0                                     1453167.0   \n",
       "1                                     1453167.0   \n",
       "2                                     1453167.0   \n",
       "3                                      415856.0   \n",
       "4                                     1453167.0   \n",
       "..                                          ...   \n",
       "96                                     139574.0   \n",
       "97                                     139574.0   \n",
       "98                                       1010.0   \n",
       "99                                     129315.0   \n",
       "100                                   1340752.0   \n",
       "\n",
       "     International trade: Imports (million US$)  \\\n",
       "0                                     2249661.0   \n",
       "1                                     2249661.0   \n",
       "2                                     2249661.0   \n",
       "3                                      635570.0   \n",
       "4                                     2249661.0   \n",
       "..                                          ...   \n",
       "96                                     140838.0   \n",
       "97                                     140838.0   \n",
       "98                                       2757.0   \n",
       "99                                      76997.0   \n",
       "100                                   1060672.0   \n",
       "\n",
       "     International trade: Balance (million US$)  \\\n",
       "0                                     -796494.0   \n",
       "1                                     -796494.0   \n",
       "2                                     -796494.0   \n",
       "3                                     -219713.0   \n",
       "4                                     -796494.0   \n",
       "..                                          ...   \n",
       "96                                      -1263.0   \n",
       "97                                      -1263.0   \n",
       "98                                      -1748.0   \n",
       "99                                      52318.0   \n",
       "100                                    280080.0   \n",
       "\n",
       "     Balance of payments, current account (million US$)  \\\n",
       "0                                            -462961.0    \n",
       "1                                            -462961.0    \n",
       "2                                            -462961.0    \n",
       "3                                            -122571.0    \n",
       "4                                            -462961.0    \n",
       "..                                                 ...    \n",
       "96                                             23250.0    \n",
       "97                                             23250.0    \n",
       "98                                               -99.0    \n",
       "99                                             28967.0    \n",
       "100                                           279969.0    \n",
       "\n",
       "     Population growth rate (average annual %)  \\\n",
       "0                                          0.7   \n",
       "1                                          0.7   \n",
       "2                                          0.7   \n",
       "3                                          0.6   \n",
       "4                                          0.7   \n",
       "..                                         ...   \n",
       "96                                         0.8   \n",
       "97                                         0.8   \n",
       "98                                         0.5   \n",
       "99                                         0.3   \n",
       "100                                        0.2   \n",
       "\n",
       "     Urban population (% of total population)  \\\n",
       "0                                        81.6   \n",
       "1                                        81.6   \n",
       "2                                        81.6   \n",
       "3                                        82.6   \n",
       "4                                        81.6   \n",
       "..                                        ...   \n",
       "96                                       85.8   \n",
       "97                                       85.8   \n",
       "98                                       60.9   \n",
       "99                                       63.2   \n",
       "100                                      75.3   \n",
       "\n",
       "     Urban population growth rate (average annual %)  \\\n",
       "0                                                1.0   \n",
       "1                                                1.0   \n",
       "2                                                1.0   \n",
       "3                                                0.9   \n",
       "4                                                1.0   \n",
       "..                                               ...   \n",
       "96                                               0.8   \n",
       "97                                               0.8   \n",
       "98                                               0.7   \n",
       "99                                               1.6   \n",
       "100                                              0.2   \n",
       "\n",
       "     Fertility rate, total (live births per woman)  \\\n",
       "0                                              1.9   \n",
       "1                                              1.9   \n",
       "2                                              1.9   \n",
       "3                                              1.9   \n",
       "4                                              1.9   \n",
       "..                                             ...   \n",
       "96                                             1.9   \n",
       "97                                             1.9   \n",
       "98                                             2.0   \n",
       "99                                             2.0   \n",
       "100                                            1.4   \n",
       "\n",
       "     Life expectancy at birth (females/males, years)  \\\n",
       "0                                                NaN   \n",
       "1                                                NaN   \n",
       "2                                                NaN   \n",
       "3                                                NaN   \n",
       "4                                                NaN   \n",
       "..                                               ...   \n",
       "96                                               NaN   \n",
       "97                                               NaN   \n",
       "98                                               NaN   \n",
       "99                                               NaN   \n",
       "100                                              NaN   \n",
       "\n",
       "     Population age distribution (0-14 / 60+ years, %)  \\\n",
       "0                                                  NaN   \n",
       "1                                                  NaN   \n",
       "2                                                  NaN   \n",
       "3                                                  NaN   \n",
       "4                                                  NaN   \n",
       "..                                                 ...   \n",
       "96                                                 NaN   \n",
       "97                                                 NaN   \n",
       "98                                                 NaN   \n",
       "99                                                 NaN   \n",
       "100                                                NaN   \n",
       "\n",
       "     International migrant stock (000/% of total pop.)  \\\n",
       "0                                                  NaN   \n",
       "1                                                  NaN   \n",
       "2                                                  NaN   \n",
       "3                                                  NaN   \n",
       "4                                                  NaN   \n",
       "..                                                 ...   \n",
       "96                                                 NaN   \n",
       "97                                                 NaN   \n",
       "98                                                 NaN   \n",
       "99                                                 NaN   \n",
       "100                                                NaN   \n",
       "\n",
       "     Refugees and others of concern to UNHCR (in thousands)  \\\n",
       "0                                                616.5        \n",
       "1                                                616.5        \n",
       "2                                                616.5        \n",
       "3                                                151.7        \n",
       "4                                                616.5        \n",
       "..                                                 ...        \n",
       "96                                               348.5        \n",
       "97                                               348.5        \n",
       "98                                               -99.0        \n",
       "99                                                10.5        \n",
       "100                                             1052.1        \n",
       "\n",
       "     Infant mortality rate (per 1000 live births  \\\n",
       "0                                            6.0   \n",
       "1                                            6.0   \n",
       "2                                            6.0   \n",
       "3                                            4.1   \n",
       "4                                            6.0   \n",
       "..                                           ...   \n",
       "96                                           2.4   \n",
       "97                                           2.4   \n",
       "98                                          18.5   \n",
       "99                                           3.4   \n",
       "100                                          3.4   \n",
       "\n",
       "     Health: Total expenditure (% of GDP)  Health: Physicians (per 1000 pop.)  \\\n",
       "0                                    17.1                                 2.6   \n",
       "1                                    17.1                                 2.6   \n",
       "2                                    17.1                                 2.6   \n",
       "3                                     9.1                                 2.8   \n",
       "4                                    17.1                                 2.6   \n",
       "..                                    ...                                 ...   \n",
       "96                                   11.9                                 4.1   \n",
       "97                                   11.9                                 4.1   \n",
       "98                                  -99.0                                 2.8   \n",
       "99                                    7.8                                 2.8   \n",
       "100                                  11.3                                 4.1   \n",
       "\n",
       "     Education: Government expenditure (% of GDP)  \\\n",
       "0                                             5.4   \n",
       "1                                             5.4   \n",
       "2                                             5.4   \n",
       "3                                             5.7   \n",
       "4                                             5.4   \n",
       "..                                            ...   \n",
       "96                                            7.7   \n",
       "97                                            7.7   \n",
       "98                                          -99.0   \n",
       "99                                            5.3   \n",
       "100                                           5.0   \n",
       "\n",
       "     Education: Primary gross enrol. ratio (f/m per 100 pop.)  \\\n",
       "0                                                  NaN          \n",
       "1                                                  NaN          \n",
       "2                                                  NaN          \n",
       "3                                                  NaN          \n",
       "4                                                  NaN          \n",
       "..                                                 ...          \n",
       "96                                                 NaN          \n",
       "97                                                 NaN          \n",
       "98                                                 NaN          \n",
       "99                                                 NaN          \n",
       "100                                                NaN          \n",
       "\n",
       "     Education: Secondary gross enrol. ratio (f/m per 100 pop.)  \\\n",
       "0                                                  NaN            \n",
       "1                                                  NaN            \n",
       "2                                                  NaN            \n",
       "3                                                  NaN            \n",
       "4                                                  NaN            \n",
       "..                                                 ...            \n",
       "96                                                 NaN            \n",
       "97                                                 NaN            \n",
       "98                                                 NaN            \n",
       "99                                                 NaN            \n",
       "100                                                NaN            \n",
       "\n",
       "     Education: Tertiary gross enrol. ratio (f/m per 100 pop.)  \\\n",
       "0                                                  NaN           \n",
       "1                                                  NaN           \n",
       "2                                                  NaN           \n",
       "3                                                  NaN           \n",
       "4                                                  NaN           \n",
       "..                                                 ...           \n",
       "96                                                 NaN           \n",
       "97                                                 NaN           \n",
       "98                                                 NaN           \n",
       "99                                                 NaN           \n",
       "100                                                NaN           \n",
       "\n",
       "     Seats held by women in national parliaments %  \\\n",
       "0                                             19.1   \n",
       "1                                             19.1   \n",
       "2                                             19.1   \n",
       "3                                             30.0   \n",
       "4                                             19.1   \n",
       "..                                             ...   \n",
       "96                                            43.6   \n",
       "97                                            43.6   \n",
       "98                                            16.3   \n",
       "99                                            22.2   \n",
       "100                                           37.0   \n",
       "\n",
       "     Mobile-cellular subscriptions (per 100 inhabitants)  \\\n",
       "0                                                117.6     \n",
       "1                                                117.6     \n",
       "2                                                117.6     \n",
       "3                                                125.8     \n",
       "4                                                117.6     \n",
       "..                                                 ...     \n",
       "96                                               130.4     \n",
       "97                                               130.4     \n",
       "98                                                12.9     \n",
       "99                                               103.7     \n",
       "100                                              116.7     \n",
       "\n",
       "     Mobile-cellular subscriptions (per 100 inhabitants).1  \\\n",
       "0                                                 74.6       \n",
       "1                                                 74.6       \n",
       "2                                                 74.6       \n",
       "3                                                 92.0       \n",
       "4                                                 74.6       \n",
       "..                                                 ...       \n",
       "96                                                90.6       \n",
       "97                                                90.6       \n",
       "98                                                 0.0       \n",
       "99                                                80.1       \n",
       "100                                               87.6       \n",
       "\n",
       "     Individuals using the Internet (per 100 inhabitants)  \\\n",
       "0                                               1513.0      \n",
       "1                                               1513.0      \n",
       "2                                               1513.0      \n",
       "3                                                102.0      \n",
       "4                                               1513.0      \n",
       "..                                                 ...      \n",
       "96                                                54.0      \n",
       "97                                                54.0      \n",
       "98                                                78.0      \n",
       "99                                                50.0      \n",
       "100                                              116.0      \n",
       "\n",
       "     Threatened species (number)  Forested area (% of land area)  \\\n",
       "0                           33.9                             NaN   \n",
       "1                           33.9                             NaN   \n",
       "2                           33.9                             NaN   \n",
       "3                           12.9                             NaN   \n",
       "4                           33.9                             NaN   \n",
       "..                           ...                             ...   \n",
       "96                          68.9                             NaN   \n",
       "97                          68.9                             NaN   \n",
       "98                          42.8                             NaN   \n",
       "99                          10.9                             NaN   \n",
       "100                         32.7                             NaN   \n",
       "\n",
       "     CO2 emission estimates (million tons/tons per capita)  \\\n",
       "0                                              83887.0       \n",
       "1                                              83887.0       \n",
       "2                                              83887.0       \n",
       "3                                               4482.0       \n",
       "4                                              83887.0       \n",
       "..                                                 ...       \n",
       "96                                              1428.0       \n",
       "97                                              1428.0       \n",
       "98                                               871.0       \n",
       "99                                                84.0       \n",
       "100                                             5004.0       \n",
       "\n",
       "     Energy production, primary (Petajoules)  \\\n",
       "0                                      289.0   \n",
       "1                                      289.0   \n",
       "2                                      289.0   \n",
       "3                                      116.0   \n",
       "4                                      289.0   \n",
       "..                                       ...   \n",
       "96                                     206.0   \n",
       "97                                     206.0   \n",
       "98                                      20.0   \n",
       "99                                     114.0   \n",
       "100                                    158.0   \n",
       "\n",
       "     Energy supply per capita (Gigajoules)  \\\n",
       "0                                      NaN   \n",
       "1                                      NaN   \n",
       "2                                      NaN   \n",
       "3                                      NaN   \n",
       "4                                      NaN   \n",
       "..                                     ...   \n",
       "96                                     NaN   \n",
       "97                                     NaN   \n",
       "98                                     NaN   \n",
       "99                                     NaN   \n",
       "100                                    NaN   \n",
       "\n",
       "     Pop. using improved drinking water (urban/rural, %)  \\\n",
       "0                                                  NaN     \n",
       "1                                                  NaN     \n",
       "2                                                  NaN     \n",
       "3                                                  NaN     \n",
       "4                                                  NaN     \n",
       "..                                                 ...     \n",
       "96                                                 NaN     \n",
       "97                                                 NaN     \n",
       "98                                                 NaN     \n",
       "99                                                 NaN     \n",
       "100                                                NaN     \n",
       "\n",
       "     Pop. using improved sanitation facilities (urban/rural, %)  \\\n",
       "0                                                -99.0            \n",
       "1                                                -99.0            \n",
       "2                                                -99.0            \n",
       "3                                                -99.0            \n",
       "4                                                -99.0            \n",
       "..                                                 ...            \n",
       "96                                               -99.0            \n",
       "97                                               -99.0            \n",
       "98                                               -99.0            \n",
       "99                                               -99.0            \n",
       "100                                              -99.0            \n",
       "\n",
       "     Net Official Development Assist. received (% of GNI)  \n",
       "0                                                -99.0     \n",
       "1                                                -99.0     \n",
       "2                                                -99.0     \n",
       "3                                                -99.0     \n",
       "4                                                -99.0     \n",
       "..                                                 ...     \n",
       "96                                               -99.0     \n",
       "97                                               -99.0     \n",
       "98                                               -99.0     \n",
       "99                                               -99.0     \n",
       "100                                              -99.0     \n",
       "\n",
       "[101 rows x 62 columns]"
      ]
     },
     "execution_count": 19,
     "metadata": {},
     "output_type": "execute_result"
    }
   ],
   "source": [
    "# Merge two datasets\n",
    "new_df = merge_dataset(df_2017, country_profile, key='country')\n",
    "pd.set_option('display.max_columns', None)\n",
    "new_df"
   ]
  },
  {
   "cell_type": "markdown",
   "metadata": {},
   "source": [
    "# Create a Dataframe for hypothesis 1"
   ]
  },
  {
   "cell_type": "code",
   "execution_count": null,
   "metadata": {},
   "outputs": [],
   "source": [
    "# craete a function to clean the data again and create a new dataframe for Hypothesis 1\n",
    "\n",
    "def clean_data(new_df):\n",
    "    \n"
   ]
  },
  {
   "cell_type": "code",
   "execution_count": 21,
   "metadata": {},
   "outputs": [
    {
     "data": {
      "text/html": [
       "<div>\n",
       "<style scoped>\n",
       "    .dataframe tbody tr th:only-of-type {\n",
       "        vertical-align: middle;\n",
       "    }\n",
       "\n",
       "    .dataframe tbody tr th {\n",
       "        vertical-align: top;\n",
       "    }\n",
       "\n",
       "    .dataframe thead th {\n",
       "        text-align: right;\n",
       "    }\n",
       "</style>\n",
       "<table border=\"1\" class=\"dataframe\">\n",
       "  <thead>\n",
       "    <tr style=\"text-align: right;\">\n",
       "      <th></th>\n",
       "      <th>university</th>\n",
       "      <th>year</th>\n",
       "      <th>rank_display</th>\n",
       "      <th>score</th>\n",
       "      <th>country</th>\n",
       "      <th>city</th>\n",
       "      <th>region</th>\n",
       "      <th>type</th>\n",
       "      <th>research_output</th>\n",
       "      <th>student_faculty_ratio</th>\n",
       "      <th>international_students</th>\n",
       "      <th>size</th>\n",
       "      <th>faculty_count</th>\n",
       "      <th>Region</th>\n",
       "      <th>Surface area (km2)</th>\n",
       "      <th>Population in thousands (2017)</th>\n",
       "      <th>Population density (per km2, 2017)</th>\n",
       "      <th>Sex ratio (m per 100 f, 2017)</th>\n",
       "      <th>GDP: Gross domestic product (million current US$)</th>\n",
       "      <th>GDP growth rate (annual %, const. 2005 prices)</th>\n",
       "      <th>GDP per capita (current US$)</th>\n",
       "      <th>Economy: Agriculture (% of GVA)</th>\n",
       "      <th>Economy: Industry (% of GVA)</th>\n",
       "      <th>Economy: Services and other activity (% of GVA)</th>\n",
       "      <th>Employment: Agriculture (% of employed)</th>\n",
       "      <th>Employment: Industry (% of employed)</th>\n",
       "      <th>Employment: Services (% of employed)</th>\n",
       "      <th>Unemployment (% of labour force)</th>\n",
       "      <th>Labour force participation (female/male pop. %)</th>\n",
       "      <th>Agricultural production index (2004-2006=100)</th>\n",
       "      <th>Food production index (2004-2006=100)</th>\n",
       "      <th>International trade: Exports (million US$)</th>\n",
       "      <th>International trade: Imports (million US$)</th>\n",
       "      <th>International trade: Balance (million US$)</th>\n",
       "      <th>Balance of payments, current account (million US$)</th>\n",
       "      <th>Population growth rate (average annual %)</th>\n",
       "      <th>Urban population (% of total population)</th>\n",
       "      <th>Urban population growth rate (average annual %)</th>\n",
       "      <th>Fertility rate, total (live births per woman)</th>\n",
       "      <th>Life expectancy at birth (females/males, years)</th>\n",
       "      <th>Population age distribution (0-14 / 60+ years, %)</th>\n",
       "      <th>International migrant stock (000/% of total pop.)</th>\n",
       "      <th>Refugees and others of concern to UNHCR (in thousands)</th>\n",
       "      <th>Infant mortality rate (per 1000 live births</th>\n",
       "      <th>Health: Total expenditure (% of GDP)</th>\n",
       "      <th>Health: Physicians (per 1000 pop.)</th>\n",
       "      <th>Education: Government expenditure (% of GDP)</th>\n",
       "      <th>Education: Primary gross enrol. ratio (f/m per 100 pop.)</th>\n",
       "      <th>Education: Secondary gross enrol. ratio (f/m per 100 pop.)</th>\n",
       "      <th>Education: Tertiary gross enrol. ratio (f/m per 100 pop.)</th>\n",
       "      <th>Seats held by women in national parliaments %</th>\n",
       "      <th>Mobile-cellular subscriptions (per 100 inhabitants)</th>\n",
       "      <th>Mobile-cellular subscriptions (per 100 inhabitants).1</th>\n",
       "      <th>Individuals using the Internet (per 100 inhabitants)</th>\n",
       "      <th>Threatened species (number)</th>\n",
       "      <th>Forested area (% of land area)</th>\n",
       "      <th>CO2 emission estimates (million tons/tons per capita)</th>\n",
       "      <th>Energy production, primary (Petajoules)</th>\n",
       "      <th>Energy supply per capita (Gigajoules)</th>\n",
       "      <th>Pop. using improved drinking water (urban/rural, %)</th>\n",
       "      <th>Pop. using improved sanitation facilities (urban/rural, %)</th>\n",
       "      <th>Net Official Development Assist. received (% of GNI)</th>\n",
       "    </tr>\n",
       "  </thead>\n",
       "  <tbody>\n",
       "    <tr>\n",
       "      <th>0</th>\n",
       "      <td>Massachusetts Institute of Technology (MIT)</td>\n",
       "      <td>2017</td>\n",
       "      <td>1.0</td>\n",
       "      <td>100.0</td>\n",
       "      <td>United States</td>\n",
       "      <td>Cambridge</td>\n",
       "      <td>North America</td>\n",
       "      <td>Private</td>\n",
       "      <td>Very High</td>\n",
       "      <td>4.0</td>\n",
       "      <td>3,730</td>\n",
       "      <td>M</td>\n",
       "      <td>3,065</td>\n",
       "      <td>NorthernAmerica</td>\n",
       "      <td>9833517.0</td>\n",
       "      <td>324460.0</td>\n",
       "      <td>35.5</td>\n",
       "      <td>98.0</td>\n",
       "      <td>18036648.0</td>\n",
       "      <td>2.6</td>\n",
       "      <td>56053.8</td>\n",
       "      <td>1.0</td>\n",
       "      <td>19.7</td>\n",
       "      <td>79.3</td>\n",
       "      <td>1.5</td>\n",
       "      <td>17.2</td>\n",
       "      <td>81.3</td>\n",
       "      <td>4.9</td>\n",
       "      <td>NaN</td>\n",
       "      <td>111.0</td>\n",
       "      <td>113.0</td>\n",
       "      <td>1453167.0</td>\n",
       "      <td>2249661.0</td>\n",
       "      <td>-796494.0</td>\n",
       "      <td>-462961.0</td>\n",
       "      <td>0.7</td>\n",
       "      <td>81.6</td>\n",
       "      <td>1.0</td>\n",
       "      <td>1.9</td>\n",
       "      <td>NaN</td>\n",
       "      <td>NaN</td>\n",
       "      <td>NaN</td>\n",
       "      <td>616.5</td>\n",
       "      <td>6.0</td>\n",
       "      <td>17.1</td>\n",
       "      <td>2.6</td>\n",
       "      <td>5.4</td>\n",
       "      <td>NaN</td>\n",
       "      <td>NaN</td>\n",
       "      <td>NaN</td>\n",
       "      <td>19.1</td>\n",
       "      <td>117.6</td>\n",
       "      <td>74.6</td>\n",
       "      <td>1513.0</td>\n",
       "      <td>33.9</td>\n",
       "      <td>NaN</td>\n",
       "      <td>83887.0</td>\n",
       "      <td>289.0</td>\n",
       "      <td>NaN</td>\n",
       "      <td>NaN</td>\n",
       "      <td>-99.0</td>\n",
       "      <td>-99.0</td>\n",
       "    </tr>\n",
       "    <tr>\n",
       "      <th>1</th>\n",
       "      <td>Stanford University</td>\n",
       "      <td>2017</td>\n",
       "      <td>2.0</td>\n",
       "      <td>98.7</td>\n",
       "      <td>United States</td>\n",
       "      <td>Stanford</td>\n",
       "      <td>North America</td>\n",
       "      <td>Private</td>\n",
       "      <td>Very High</td>\n",
       "      <td>3.0</td>\n",
       "      <td>3,879</td>\n",
       "      <td>L</td>\n",
       "      <td>4,725</td>\n",
       "      <td>NorthernAmerica</td>\n",
       "      <td>9833517.0</td>\n",
       "      <td>324460.0</td>\n",
       "      <td>35.5</td>\n",
       "      <td>98.0</td>\n",
       "      <td>18036648.0</td>\n",
       "      <td>2.6</td>\n",
       "      <td>56053.8</td>\n",
       "      <td>1.0</td>\n",
       "      <td>19.7</td>\n",
       "      <td>79.3</td>\n",
       "      <td>1.5</td>\n",
       "      <td>17.2</td>\n",
       "      <td>81.3</td>\n",
       "      <td>4.9</td>\n",
       "      <td>NaN</td>\n",
       "      <td>111.0</td>\n",
       "      <td>113.0</td>\n",
       "      <td>1453167.0</td>\n",
       "      <td>2249661.0</td>\n",
       "      <td>-796494.0</td>\n",
       "      <td>-462961.0</td>\n",
       "      <td>0.7</td>\n",
       "      <td>81.6</td>\n",
       "      <td>1.0</td>\n",
       "      <td>1.9</td>\n",
       "      <td>NaN</td>\n",
       "      <td>NaN</td>\n",
       "      <td>NaN</td>\n",
       "      <td>616.5</td>\n",
       "      <td>6.0</td>\n",
       "      <td>17.1</td>\n",
       "      <td>2.6</td>\n",
       "      <td>5.4</td>\n",
       "      <td>NaN</td>\n",
       "      <td>NaN</td>\n",
       "      <td>NaN</td>\n",
       "      <td>19.1</td>\n",
       "      <td>117.6</td>\n",
       "      <td>74.6</td>\n",
       "      <td>1513.0</td>\n",
       "      <td>33.9</td>\n",
       "      <td>NaN</td>\n",
       "      <td>83887.0</td>\n",
       "      <td>289.0</td>\n",
       "      <td>NaN</td>\n",
       "      <td>NaN</td>\n",
       "      <td>-99.0</td>\n",
       "      <td>-99.0</td>\n",
       "    </tr>\n",
       "    <tr>\n",
       "      <th>2</th>\n",
       "      <td>Harvard University</td>\n",
       "      <td>2017</td>\n",
       "      <td>3.0</td>\n",
       "      <td>98.3</td>\n",
       "      <td>United States</td>\n",
       "      <td>Cambridge</td>\n",
       "      <td>North America</td>\n",
       "      <td>Private</td>\n",
       "      <td>Very High</td>\n",
       "      <td>5.0</td>\n",
       "      <td>5,877</td>\n",
       "      <td>L</td>\n",
       "      <td>4,646</td>\n",
       "      <td>NorthernAmerica</td>\n",
       "      <td>9833517.0</td>\n",
       "      <td>324460.0</td>\n",
       "      <td>35.5</td>\n",
       "      <td>98.0</td>\n",
       "      <td>18036648.0</td>\n",
       "      <td>2.6</td>\n",
       "      <td>56053.8</td>\n",
       "      <td>1.0</td>\n",
       "      <td>19.7</td>\n",
       "      <td>79.3</td>\n",
       "      <td>1.5</td>\n",
       "      <td>17.2</td>\n",
       "      <td>81.3</td>\n",
       "      <td>4.9</td>\n",
       "      <td>NaN</td>\n",
       "      <td>111.0</td>\n",
       "      <td>113.0</td>\n",
       "      <td>1453167.0</td>\n",
       "      <td>2249661.0</td>\n",
       "      <td>-796494.0</td>\n",
       "      <td>-462961.0</td>\n",
       "      <td>0.7</td>\n",
       "      <td>81.6</td>\n",
       "      <td>1.0</td>\n",
       "      <td>1.9</td>\n",
       "      <td>NaN</td>\n",
       "      <td>NaN</td>\n",
       "      <td>NaN</td>\n",
       "      <td>616.5</td>\n",
       "      <td>6.0</td>\n",
       "      <td>17.1</td>\n",
       "      <td>2.6</td>\n",
       "      <td>5.4</td>\n",
       "      <td>NaN</td>\n",
       "      <td>NaN</td>\n",
       "      <td>NaN</td>\n",
       "      <td>19.1</td>\n",
       "      <td>117.6</td>\n",
       "      <td>74.6</td>\n",
       "      <td>1513.0</td>\n",
       "      <td>33.9</td>\n",
       "      <td>NaN</td>\n",
       "      <td>83887.0</td>\n",
       "      <td>289.0</td>\n",
       "      <td>NaN</td>\n",
       "      <td>NaN</td>\n",
       "      <td>-99.0</td>\n",
       "      <td>-99.0</td>\n",
       "    </tr>\n",
       "    <tr>\n",
       "      <th>3</th>\n",
       "      <td>University of Cambridge</td>\n",
       "      <td>2017</td>\n",
       "      <td>4.0</td>\n",
       "      <td>97.2</td>\n",
       "      <td>United Kingdom</td>\n",
       "      <td>Cambridge</td>\n",
       "      <td>Europe</td>\n",
       "      <td>Public</td>\n",
       "      <td>Very high</td>\n",
       "      <td>4.0</td>\n",
       "      <td>7,925</td>\n",
       "      <td>L</td>\n",
       "      <td>5,800</td>\n",
       "      <td>NorthernEurope</td>\n",
       "      <td>242495.0</td>\n",
       "      <td>66182.0</td>\n",
       "      <td>273.6</td>\n",
       "      <td>97.4</td>\n",
       "      <td>2858003.0</td>\n",
       "      <td>2.2</td>\n",
       "      <td>44162.4</td>\n",
       "      <td>0.7</td>\n",
       "      <td>19.4</td>\n",
       "      <td>79.9</td>\n",
       "      <td>1.2</td>\n",
       "      <td>18.4</td>\n",
       "      <td>80.4</td>\n",
       "      <td>5.0</td>\n",
       "      <td>NaN</td>\n",
       "      <td>108.0</td>\n",
       "      <td>108.0</td>\n",
       "      <td>415856.0</td>\n",
       "      <td>635570.0</td>\n",
       "      <td>-219713.0</td>\n",
       "      <td>-122571.0</td>\n",
       "      <td>0.6</td>\n",
       "      <td>82.6</td>\n",
       "      <td>0.9</td>\n",
       "      <td>1.9</td>\n",
       "      <td>NaN</td>\n",
       "      <td>NaN</td>\n",
       "      <td>NaN</td>\n",
       "      <td>151.7</td>\n",
       "      <td>4.1</td>\n",
       "      <td>9.1</td>\n",
       "      <td>2.8</td>\n",
       "      <td>5.7</td>\n",
       "      <td>NaN</td>\n",
       "      <td>NaN</td>\n",
       "      <td>NaN</td>\n",
       "      <td>30.0</td>\n",
       "      <td>125.8</td>\n",
       "      <td>92.0</td>\n",
       "      <td>102.0</td>\n",
       "      <td>12.9</td>\n",
       "      <td>NaN</td>\n",
       "      <td>4482.0</td>\n",
       "      <td>116.0</td>\n",
       "      <td>NaN</td>\n",
       "      <td>NaN</td>\n",
       "      <td>-99.0</td>\n",
       "      <td>-99.0</td>\n",
       "    </tr>\n",
       "    <tr>\n",
       "      <th>4</th>\n",
       "      <td>California Institute of Technology (Caltech)</td>\n",
       "      <td>2017</td>\n",
       "      <td>5.0</td>\n",
       "      <td>96.9</td>\n",
       "      <td>United States</td>\n",
       "      <td>Pasadena</td>\n",
       "      <td>North America</td>\n",
       "      <td>Private</td>\n",
       "      <td>Very High</td>\n",
       "      <td>2.0</td>\n",
       "      <td>692</td>\n",
       "      <td>S</td>\n",
       "      <td>968</td>\n",
       "      <td>NorthernAmerica</td>\n",
       "      <td>9833517.0</td>\n",
       "      <td>324460.0</td>\n",
       "      <td>35.5</td>\n",
       "      <td>98.0</td>\n",
       "      <td>18036648.0</td>\n",
       "      <td>2.6</td>\n",
       "      <td>56053.8</td>\n",
       "      <td>1.0</td>\n",
       "      <td>19.7</td>\n",
       "      <td>79.3</td>\n",
       "      <td>1.5</td>\n",
       "      <td>17.2</td>\n",
       "      <td>81.3</td>\n",
       "      <td>4.9</td>\n",
       "      <td>NaN</td>\n",
       "      <td>111.0</td>\n",
       "      <td>113.0</td>\n",
       "      <td>1453167.0</td>\n",
       "      <td>2249661.0</td>\n",
       "      <td>-796494.0</td>\n",
       "      <td>-462961.0</td>\n",
       "      <td>0.7</td>\n",
       "      <td>81.6</td>\n",
       "      <td>1.0</td>\n",
       "      <td>1.9</td>\n",
       "      <td>NaN</td>\n",
       "      <td>NaN</td>\n",
       "      <td>NaN</td>\n",
       "      <td>616.5</td>\n",
       "      <td>6.0</td>\n",
       "      <td>17.1</td>\n",
       "      <td>2.6</td>\n",
       "      <td>5.4</td>\n",
       "      <td>NaN</td>\n",
       "      <td>NaN</td>\n",
       "      <td>NaN</td>\n",
       "      <td>19.1</td>\n",
       "      <td>117.6</td>\n",
       "      <td>74.6</td>\n",
       "      <td>1513.0</td>\n",
       "      <td>33.9</td>\n",
       "      <td>NaN</td>\n",
       "      <td>83887.0</td>\n",
       "      <td>289.0</td>\n",
       "      <td>NaN</td>\n",
       "      <td>NaN</td>\n",
       "      <td>-99.0</td>\n",
       "      <td>-99.0</td>\n",
       "    </tr>\n",
       "    <tr>\n",
       "      <th>...</th>\n",
       "      <td>...</td>\n",
       "      <td>...</td>\n",
       "      <td>...</td>\n",
       "      <td>...</td>\n",
       "      <td>...</td>\n",
       "      <td>...</td>\n",
       "      <td>...</td>\n",
       "      <td>...</td>\n",
       "      <td>...</td>\n",
       "      <td>...</td>\n",
       "      <td>...</td>\n",
       "      <td>...</td>\n",
       "      <td>...</td>\n",
       "      <td>...</td>\n",
       "      <td>...</td>\n",
       "      <td>...</td>\n",
       "      <td>...</td>\n",
       "      <td>...</td>\n",
       "      <td>...</td>\n",
       "      <td>...</td>\n",
       "      <td>...</td>\n",
       "      <td>...</td>\n",
       "      <td>...</td>\n",
       "      <td>...</td>\n",
       "      <td>...</td>\n",
       "      <td>...</td>\n",
       "      <td>...</td>\n",
       "      <td>...</td>\n",
       "      <td>...</td>\n",
       "      <td>...</td>\n",
       "      <td>...</td>\n",
       "      <td>...</td>\n",
       "      <td>...</td>\n",
       "      <td>...</td>\n",
       "      <td>...</td>\n",
       "      <td>...</td>\n",
       "      <td>...</td>\n",
       "      <td>...</td>\n",
       "      <td>...</td>\n",
       "      <td>...</td>\n",
       "      <td>...</td>\n",
       "      <td>...</td>\n",
       "      <td>...</td>\n",
       "      <td>...</td>\n",
       "      <td>...</td>\n",
       "      <td>...</td>\n",
       "      <td>...</td>\n",
       "      <td>...</td>\n",
       "      <td>...</td>\n",
       "      <td>...</td>\n",
       "      <td>...</td>\n",
       "      <td>...</td>\n",
       "      <td>...</td>\n",
       "      <td>...</td>\n",
       "      <td>...</td>\n",
       "      <td>...</td>\n",
       "      <td>...</td>\n",
       "      <td>...</td>\n",
       "      <td>...</td>\n",
       "      <td>...</td>\n",
       "      <td>...</td>\n",
       "      <td>...</td>\n",
       "    </tr>\n",
       "    <tr>\n",
       "      <th>96</th>\n",
       "      <td>KTH Royal Institute of Technology</td>\n",
       "      <td>2017</td>\n",
       "      <td>97.0</td>\n",
       "      <td>63.1</td>\n",
       "      <td>Sweden</td>\n",
       "      <td>Stockholm</td>\n",
       "      <td>Europe</td>\n",
       "      <td>Public</td>\n",
       "      <td>Very High</td>\n",
       "      <td>8.0</td>\n",
       "      <td>3,057</td>\n",
       "      <td>L</td>\n",
       "      <td>3,600</td>\n",
       "      <td>NorthernEurope</td>\n",
       "      <td>438574.0</td>\n",
       "      <td>9911.0</td>\n",
       "      <td>24.2</td>\n",
       "      <td>100.2</td>\n",
       "      <td>495694.0</td>\n",
       "      <td>4.1</td>\n",
       "      <td>50687.5</td>\n",
       "      <td>1.3</td>\n",
       "      <td>26.3</td>\n",
       "      <td>72.4</td>\n",
       "      <td>1.8</td>\n",
       "      <td>18.2</td>\n",
       "      <td>79.9</td>\n",
       "      <td>7.3</td>\n",
       "      <td>NaN</td>\n",
       "      <td>100.0</td>\n",
       "      <td>100.0</td>\n",
       "      <td>139574.0</td>\n",
       "      <td>140838.0</td>\n",
       "      <td>-1263.0</td>\n",
       "      <td>23250.0</td>\n",
       "      <td>0.8</td>\n",
       "      <td>85.8</td>\n",
       "      <td>0.8</td>\n",
       "      <td>1.9</td>\n",
       "      <td>NaN</td>\n",
       "      <td>NaN</td>\n",
       "      <td>NaN</td>\n",
       "      <td>348.5</td>\n",
       "      <td>2.4</td>\n",
       "      <td>11.9</td>\n",
       "      <td>4.1</td>\n",
       "      <td>7.7</td>\n",
       "      <td>NaN</td>\n",
       "      <td>NaN</td>\n",
       "      <td>NaN</td>\n",
       "      <td>43.6</td>\n",
       "      <td>130.4</td>\n",
       "      <td>90.6</td>\n",
       "      <td>54.0</td>\n",
       "      <td>68.9</td>\n",
       "      <td>NaN</td>\n",
       "      <td>1428.0</td>\n",
       "      <td>206.0</td>\n",
       "      <td>NaN</td>\n",
       "      <td>NaN</td>\n",
       "      <td>-99.0</td>\n",
       "      <td>-99.0</td>\n",
       "    </tr>\n",
       "    <tr>\n",
       "      <th>97</th>\n",
       "      <td>Uppsala University</td>\n",
       "      <td>2017</td>\n",
       "      <td>98.0</td>\n",
       "      <td>62.8</td>\n",
       "      <td>Sweden</td>\n",
       "      <td>Uppsala</td>\n",
       "      <td>Europe</td>\n",
       "      <td>Public</td>\n",
       "      <td>Very High</td>\n",
       "      <td>10.0</td>\n",
       "      <td>8,401</td>\n",
       "      <td>L</td>\n",
       "      <td>2,843</td>\n",
       "      <td>NorthernEurope</td>\n",
       "      <td>438574.0</td>\n",
       "      <td>9911.0</td>\n",
       "      <td>24.2</td>\n",
       "      <td>100.2</td>\n",
       "      <td>495694.0</td>\n",
       "      <td>4.1</td>\n",
       "      <td>50687.5</td>\n",
       "      <td>1.3</td>\n",
       "      <td>26.3</td>\n",
       "      <td>72.4</td>\n",
       "      <td>1.8</td>\n",
       "      <td>18.2</td>\n",
       "      <td>79.9</td>\n",
       "      <td>7.3</td>\n",
       "      <td>NaN</td>\n",
       "      <td>100.0</td>\n",
       "      <td>100.0</td>\n",
       "      <td>139574.0</td>\n",
       "      <td>140838.0</td>\n",
       "      <td>-1263.0</td>\n",
       "      <td>23250.0</td>\n",
       "      <td>0.8</td>\n",
       "      <td>85.8</td>\n",
       "      <td>0.8</td>\n",
       "      <td>1.9</td>\n",
       "      <td>NaN</td>\n",
       "      <td>NaN</td>\n",
       "      <td>NaN</td>\n",
       "      <td>348.5</td>\n",
       "      <td>2.4</td>\n",
       "      <td>11.9</td>\n",
       "      <td>4.1</td>\n",
       "      <td>7.7</td>\n",
       "      <td>NaN</td>\n",
       "      <td>NaN</td>\n",
       "      <td>NaN</td>\n",
       "      <td>43.6</td>\n",
       "      <td>130.4</td>\n",
       "      <td>90.6</td>\n",
       "      <td>54.0</td>\n",
       "      <td>68.9</td>\n",
       "      <td>NaN</td>\n",
       "      <td>1428.0</td>\n",
       "      <td>206.0</td>\n",
       "      <td>NaN</td>\n",
       "      <td>NaN</td>\n",
       "      <td>-99.0</td>\n",
       "      <td>-99.0</td>\n",
       "    </tr>\n",
       "    <tr>\n",
       "      <th>98</th>\n",
       "      <td>Korea University</td>\n",
       "      <td>2017</td>\n",
       "      <td>98.0</td>\n",
       "      <td>62.8</td>\n",
       "      <td>South Korea</td>\n",
       "      <td>Seoul</td>\n",
       "      <td>Asia</td>\n",
       "      <td>Private</td>\n",
       "      <td>Very High</td>\n",
       "      <td>6.0</td>\n",
       "      <td>3,325</td>\n",
       "      <td>L</td>\n",
       "      <td>4,026</td>\n",
       "      <td>EasternAsia</td>\n",
       "      <td>120538.0</td>\n",
       "      <td>25491.0</td>\n",
       "      <td>211.7</td>\n",
       "      <td>95.7</td>\n",
       "      <td>16283.0</td>\n",
       "      <td>-1.1</td>\n",
       "      <td>648.0</td>\n",
       "      <td>21.6</td>\n",
       "      <td>46.2</td>\n",
       "      <td>32.2</td>\n",
       "      <td>58.9</td>\n",
       "      <td>19.3</td>\n",
       "      <td>21.8</td>\n",
       "      <td>4.3</td>\n",
       "      <td>NaN</td>\n",
       "      <td>104.0</td>\n",
       "      <td>103.0</td>\n",
       "      <td>1010.0</td>\n",
       "      <td>2757.0</td>\n",
       "      <td>-1748.0</td>\n",
       "      <td>-99.0</td>\n",
       "      <td>0.5</td>\n",
       "      <td>60.9</td>\n",
       "      <td>0.7</td>\n",
       "      <td>2.0</td>\n",
       "      <td>NaN</td>\n",
       "      <td>NaN</td>\n",
       "      <td>NaN</td>\n",
       "      <td>-99.0</td>\n",
       "      <td>18.5</td>\n",
       "      <td>-99.0</td>\n",
       "      <td>2.8</td>\n",
       "      <td>-99.0</td>\n",
       "      <td>NaN</td>\n",
       "      <td>NaN</td>\n",
       "      <td>NaN</td>\n",
       "      <td>16.3</td>\n",
       "      <td>12.9</td>\n",
       "      <td>0.0</td>\n",
       "      <td>78.0</td>\n",
       "      <td>42.8</td>\n",
       "      <td>NaN</td>\n",
       "      <td>871.0</td>\n",
       "      <td>20.0</td>\n",
       "      <td>NaN</td>\n",
       "      <td>NaN</td>\n",
       "      <td>-99.0</td>\n",
       "      <td>-99.0</td>\n",
       "    </tr>\n",
       "    <tr>\n",
       "      <th>99</th>\n",
       "      <td>Trinity College Dublin, The University of Dublin</td>\n",
       "      <td>2017</td>\n",
       "      <td>98.0</td>\n",
       "      <td>62.8</td>\n",
       "      <td>Ireland</td>\n",
       "      <td>Dublin</td>\n",
       "      <td>Europe</td>\n",
       "      <td>Public</td>\n",
       "      <td>Very High</td>\n",
       "      <td>12.0</td>\n",
       "      <td>5,593</td>\n",
       "      <td>L</td>\n",
       "      <td>1,383</td>\n",
       "      <td>NorthernEurope</td>\n",
       "      <td>69797.0</td>\n",
       "      <td>4762.0</td>\n",
       "      <td>69.1</td>\n",
       "      <td>98.4</td>\n",
       "      <td>283716.0</td>\n",
       "      <td>26.3</td>\n",
       "      <td>60513.6</td>\n",
       "      <td>1.0</td>\n",
       "      <td>41.7</td>\n",
       "      <td>57.3</td>\n",
       "      <td>4.8</td>\n",
       "      <td>17.7</td>\n",
       "      <td>77.4</td>\n",
       "      <td>7.6</td>\n",
       "      <td>NaN</td>\n",
       "      <td>102.0</td>\n",
       "      <td>102.0</td>\n",
       "      <td>129315.0</td>\n",
       "      <td>76997.0</td>\n",
       "      <td>52318.0</td>\n",
       "      <td>28967.0</td>\n",
       "      <td>0.3</td>\n",
       "      <td>63.2</td>\n",
       "      <td>1.6</td>\n",
       "      <td>2.0</td>\n",
       "      <td>NaN</td>\n",
       "      <td>NaN</td>\n",
       "      <td>NaN</td>\n",
       "      <td>10.5</td>\n",
       "      <td>3.4</td>\n",
       "      <td>7.8</td>\n",
       "      <td>2.8</td>\n",
       "      <td>5.3</td>\n",
       "      <td>NaN</td>\n",
       "      <td>NaN</td>\n",
       "      <td>NaN</td>\n",
       "      <td>22.2</td>\n",
       "      <td>103.7</td>\n",
       "      <td>80.1</td>\n",
       "      <td>50.0</td>\n",
       "      <td>10.9</td>\n",
       "      <td>NaN</td>\n",
       "      <td>84.0</td>\n",
       "      <td>114.0</td>\n",
       "      <td>NaN</td>\n",
       "      <td>NaN</td>\n",
       "      <td>-99.0</td>\n",
       "      <td>-99.0</td>\n",
       "    </tr>\n",
       "    <tr>\n",
       "      <th>100</th>\n",
       "      <td>KIT, Karlsruhe Institute of Technology</td>\n",
       "      <td>2017</td>\n",
       "      <td>98.0</td>\n",
       "      <td>62.8</td>\n",
       "      <td>Germany</td>\n",
       "      <td>Karlsruhe</td>\n",
       "      <td>Europe</td>\n",
       "      <td>Public</td>\n",
       "      <td>Very High</td>\n",
       "      <td>10.0</td>\n",
       "      <td>5,030</td>\n",
       "      <td>L</td>\n",
       "      <td>2,080</td>\n",
       "      <td>WesternEurope</td>\n",
       "      <td>357376.0</td>\n",
       "      <td>82114.0</td>\n",
       "      <td>235.6</td>\n",
       "      <td>97.0</td>\n",
       "      <td>3363600.0</td>\n",
       "      <td>1.7</td>\n",
       "      <td>41686.2</td>\n",
       "      <td>0.6</td>\n",
       "      <td>30.5</td>\n",
       "      <td>68.9</td>\n",
       "      <td>1.4</td>\n",
       "      <td>27.5</td>\n",
       "      <td>71.2</td>\n",
       "      <td>4.2</td>\n",
       "      <td>NaN</td>\n",
       "      <td>111.0</td>\n",
       "      <td>111.0</td>\n",
       "      <td>1340752.0</td>\n",
       "      <td>1060672.0</td>\n",
       "      <td>280080.0</td>\n",
       "      <td>279969.0</td>\n",
       "      <td>0.2</td>\n",
       "      <td>75.3</td>\n",
       "      <td>0.2</td>\n",
       "      <td>1.4</td>\n",
       "      <td>NaN</td>\n",
       "      <td>NaN</td>\n",
       "      <td>NaN</td>\n",
       "      <td>1052.1</td>\n",
       "      <td>3.4</td>\n",
       "      <td>11.3</td>\n",
       "      <td>4.1</td>\n",
       "      <td>5.0</td>\n",
       "      <td>NaN</td>\n",
       "      <td>NaN</td>\n",
       "      <td>NaN</td>\n",
       "      <td>37.0</td>\n",
       "      <td>116.7</td>\n",
       "      <td>87.6</td>\n",
       "      <td>116.0</td>\n",
       "      <td>32.7</td>\n",
       "      <td>NaN</td>\n",
       "      <td>5004.0</td>\n",
       "      <td>158.0</td>\n",
       "      <td>NaN</td>\n",
       "      <td>NaN</td>\n",
       "      <td>-99.0</td>\n",
       "      <td>-99.0</td>\n",
       "    </tr>\n",
       "  </tbody>\n",
       "</table>\n",
       "<p>101 rows × 62 columns</p>\n",
       "</div>"
      ],
      "text/plain": [
       "                                           university  year  rank_display  \\\n",
       "0        Massachusetts Institute of Technology (MIT)   2017           1.0   \n",
       "1                                 Stanford University  2017           2.0   \n",
       "2                                  Harvard University  2017           3.0   \n",
       "3                             University of Cambridge  2017           4.0   \n",
       "4        California Institute of Technology (Caltech)  2017           5.0   \n",
       "..                                                ...   ...           ...   \n",
       "96                 KTH Royal Institute of Technology   2017          97.0   \n",
       "97                                 Uppsala University  2017          98.0   \n",
       "98                                   Korea University  2017          98.0   \n",
       "99   Trinity College Dublin, The University of Dublin  2017          98.0   \n",
       "100            KIT, Karlsruhe Institute of Technology  2017          98.0   \n",
       "\n",
       "     score         country       city         region     type research_output  \\\n",
       "0    100.0   United States  Cambridge  North America  Private       Very High   \n",
       "1     98.7   United States   Stanford  North America  Private       Very High   \n",
       "2     98.3   United States  Cambridge  North America  Private       Very High   \n",
       "3     97.2  United Kingdom  Cambridge         Europe   Public       Very high   \n",
       "4     96.9   United States   Pasadena  North America  Private       Very High   \n",
       "..     ...             ...        ...            ...      ...             ...   \n",
       "96    63.1          Sweden  Stockholm         Europe   Public       Very High   \n",
       "97    62.8          Sweden    Uppsala         Europe   Public       Very High   \n",
       "98    62.8     South Korea      Seoul           Asia  Private       Very High   \n",
       "99    62.8         Ireland     Dublin         Europe   Public       Very High   \n",
       "100   62.8         Germany  Karlsruhe         Europe   Public       Very High   \n",
       "\n",
       "     student_faculty_ratio international_students size faculty_count  \\\n",
       "0                      4.0                  3,730    M         3,065   \n",
       "1                      3.0                  3,879    L         4,725   \n",
       "2                      5.0                  5,877    L         4,646   \n",
       "3                      4.0                  7,925    L         5,800   \n",
       "4                      2.0                    692    S           968   \n",
       "..                     ...                    ...  ...           ...   \n",
       "96                     8.0                  3,057    L         3,600   \n",
       "97                    10.0                  8,401    L         2,843   \n",
       "98                     6.0                  3,325    L         4,026   \n",
       "99                    12.0                  5,593    L         1,383   \n",
       "100                   10.0                  5,030    L         2,080   \n",
       "\n",
       "              Region  Surface area (km2)  Population in thousands (2017)  \\\n",
       "0    NorthernAmerica           9833517.0                        324460.0   \n",
       "1    NorthernAmerica           9833517.0                        324460.0   \n",
       "2    NorthernAmerica           9833517.0                        324460.0   \n",
       "3     NorthernEurope            242495.0                         66182.0   \n",
       "4    NorthernAmerica           9833517.0                        324460.0   \n",
       "..               ...                 ...                             ...   \n",
       "96    NorthernEurope            438574.0                          9911.0   \n",
       "97    NorthernEurope            438574.0                          9911.0   \n",
       "98       EasternAsia            120538.0                         25491.0   \n",
       "99    NorthernEurope             69797.0                          4762.0   \n",
       "100    WesternEurope            357376.0                         82114.0   \n",
       "\n",
       "     Population density (per km2, 2017)  Sex ratio (m per 100 f, 2017)  \\\n",
       "0                                  35.5                           98.0   \n",
       "1                                  35.5                           98.0   \n",
       "2                                  35.5                           98.0   \n",
       "3                                 273.6                           97.4   \n",
       "4                                  35.5                           98.0   \n",
       "..                                  ...                            ...   \n",
       "96                                 24.2                          100.2   \n",
       "97                                 24.2                          100.2   \n",
       "98                                211.7                           95.7   \n",
       "99                                 69.1                           98.4   \n",
       "100                               235.6                           97.0   \n",
       "\n",
       "     GDP: Gross domestic product (million current US$)  \\\n",
       "0                                           18036648.0   \n",
       "1                                           18036648.0   \n",
       "2                                           18036648.0   \n",
       "3                                            2858003.0   \n",
       "4                                           18036648.0   \n",
       "..                                                 ...   \n",
       "96                                            495694.0   \n",
       "97                                            495694.0   \n",
       "98                                             16283.0   \n",
       "99                                            283716.0   \n",
       "100                                          3363600.0   \n",
       "\n",
       "     GDP growth rate (annual %, const. 2005 prices)  \\\n",
       "0                                               2.6   \n",
       "1                                               2.6   \n",
       "2                                               2.6   \n",
       "3                                               2.2   \n",
       "4                                               2.6   \n",
       "..                                              ...   \n",
       "96                                              4.1   \n",
       "97                                              4.1   \n",
       "98                                             -1.1   \n",
       "99                                             26.3   \n",
       "100                                             1.7   \n",
       "\n",
       "     GDP per capita (current US$)  Economy: Agriculture (% of GVA)  \\\n",
       "0                         56053.8                              1.0   \n",
       "1                         56053.8                              1.0   \n",
       "2                         56053.8                              1.0   \n",
       "3                         44162.4                              0.7   \n",
       "4                         56053.8                              1.0   \n",
       "..                            ...                              ...   \n",
       "96                        50687.5                              1.3   \n",
       "97                        50687.5                              1.3   \n",
       "98                          648.0                             21.6   \n",
       "99                        60513.6                              1.0   \n",
       "100                       41686.2                              0.6   \n",
       "\n",
       "     Economy: Industry (% of GVA)  \\\n",
       "0                            19.7   \n",
       "1                            19.7   \n",
       "2                            19.7   \n",
       "3                            19.4   \n",
       "4                            19.7   \n",
       "..                            ...   \n",
       "96                           26.3   \n",
       "97                           26.3   \n",
       "98                           46.2   \n",
       "99                           41.7   \n",
       "100                          30.5   \n",
       "\n",
       "     Economy: Services and other activity (% of GVA)  \\\n",
       "0                                               79.3   \n",
       "1                                               79.3   \n",
       "2                                               79.3   \n",
       "3                                               79.9   \n",
       "4                                               79.3   \n",
       "..                                               ...   \n",
       "96                                              72.4   \n",
       "97                                              72.4   \n",
       "98                                              32.2   \n",
       "99                                              57.3   \n",
       "100                                             68.9   \n",
       "\n",
       "     Employment: Agriculture (% of employed)  \\\n",
       "0                                        1.5   \n",
       "1                                        1.5   \n",
       "2                                        1.5   \n",
       "3                                        1.2   \n",
       "4                                        1.5   \n",
       "..                                       ...   \n",
       "96                                       1.8   \n",
       "97                                       1.8   \n",
       "98                                      58.9   \n",
       "99                                       4.8   \n",
       "100                                      1.4   \n",
       "\n",
       "     Employment: Industry (% of employed)  \\\n",
       "0                                    17.2   \n",
       "1                                    17.2   \n",
       "2                                    17.2   \n",
       "3                                    18.4   \n",
       "4                                    17.2   \n",
       "..                                    ...   \n",
       "96                                   18.2   \n",
       "97                                   18.2   \n",
       "98                                   19.3   \n",
       "99                                   17.7   \n",
       "100                                  27.5   \n",
       "\n",
       "     Employment: Services (% of employed)  Unemployment (% of labour force)  \\\n",
       "0                                    81.3                               4.9   \n",
       "1                                    81.3                               4.9   \n",
       "2                                    81.3                               4.9   \n",
       "3                                    80.4                               5.0   \n",
       "4                                    81.3                               4.9   \n",
       "..                                    ...                               ...   \n",
       "96                                   79.9                               7.3   \n",
       "97                                   79.9                               7.3   \n",
       "98                                   21.8                               4.3   \n",
       "99                                   77.4                               7.6   \n",
       "100                                  71.2                               4.2   \n",
       "\n",
       "     Labour force participation (female/male pop. %)  \\\n",
       "0                                                NaN   \n",
       "1                                                NaN   \n",
       "2                                                NaN   \n",
       "3                                                NaN   \n",
       "4                                                NaN   \n",
       "..                                               ...   \n",
       "96                                               NaN   \n",
       "97                                               NaN   \n",
       "98                                               NaN   \n",
       "99                                               NaN   \n",
       "100                                              NaN   \n",
       "\n",
       "     Agricultural production index (2004-2006=100)  \\\n",
       "0                                            111.0   \n",
       "1                                            111.0   \n",
       "2                                            111.0   \n",
       "3                                            108.0   \n",
       "4                                            111.0   \n",
       "..                                             ...   \n",
       "96                                           100.0   \n",
       "97                                           100.0   \n",
       "98                                           104.0   \n",
       "99                                           102.0   \n",
       "100                                          111.0   \n",
       "\n",
       "     Food production index (2004-2006=100)  \\\n",
       "0                                    113.0   \n",
       "1                                    113.0   \n",
       "2                                    113.0   \n",
       "3                                    108.0   \n",
       "4                                    113.0   \n",
       "..                                     ...   \n",
       "96                                   100.0   \n",
       "97                                   100.0   \n",
       "98                                   103.0   \n",
       "99                                   102.0   \n",
       "100                                  111.0   \n",
       "\n",
       "     International trade: Exports (million US$)  \\\n",
       "0                                     1453167.0   \n",
       "1                                     1453167.0   \n",
       "2                                     1453167.0   \n",
       "3                                      415856.0   \n",
       "4                                     1453167.0   \n",
       "..                                          ...   \n",
       "96                                     139574.0   \n",
       "97                                     139574.0   \n",
       "98                                       1010.0   \n",
       "99                                     129315.0   \n",
       "100                                   1340752.0   \n",
       "\n",
       "     International trade: Imports (million US$)  \\\n",
       "0                                     2249661.0   \n",
       "1                                     2249661.0   \n",
       "2                                     2249661.0   \n",
       "3                                      635570.0   \n",
       "4                                     2249661.0   \n",
       "..                                          ...   \n",
       "96                                     140838.0   \n",
       "97                                     140838.0   \n",
       "98                                       2757.0   \n",
       "99                                      76997.0   \n",
       "100                                   1060672.0   \n",
       "\n",
       "     International trade: Balance (million US$)  \\\n",
       "0                                     -796494.0   \n",
       "1                                     -796494.0   \n",
       "2                                     -796494.0   \n",
       "3                                     -219713.0   \n",
       "4                                     -796494.0   \n",
       "..                                          ...   \n",
       "96                                      -1263.0   \n",
       "97                                      -1263.0   \n",
       "98                                      -1748.0   \n",
       "99                                      52318.0   \n",
       "100                                    280080.0   \n",
       "\n",
       "     Balance of payments, current account (million US$)  \\\n",
       "0                                            -462961.0    \n",
       "1                                            -462961.0    \n",
       "2                                            -462961.0    \n",
       "3                                            -122571.0    \n",
       "4                                            -462961.0    \n",
       "..                                                 ...    \n",
       "96                                             23250.0    \n",
       "97                                             23250.0    \n",
       "98                                               -99.0    \n",
       "99                                             28967.0    \n",
       "100                                           279969.0    \n",
       "\n",
       "     Population growth rate (average annual %)  \\\n",
       "0                                          0.7   \n",
       "1                                          0.7   \n",
       "2                                          0.7   \n",
       "3                                          0.6   \n",
       "4                                          0.7   \n",
       "..                                         ...   \n",
       "96                                         0.8   \n",
       "97                                         0.8   \n",
       "98                                         0.5   \n",
       "99                                         0.3   \n",
       "100                                        0.2   \n",
       "\n",
       "     Urban population (% of total population)  \\\n",
       "0                                        81.6   \n",
       "1                                        81.6   \n",
       "2                                        81.6   \n",
       "3                                        82.6   \n",
       "4                                        81.6   \n",
       "..                                        ...   \n",
       "96                                       85.8   \n",
       "97                                       85.8   \n",
       "98                                       60.9   \n",
       "99                                       63.2   \n",
       "100                                      75.3   \n",
       "\n",
       "     Urban population growth rate (average annual %)  \\\n",
       "0                                                1.0   \n",
       "1                                                1.0   \n",
       "2                                                1.0   \n",
       "3                                                0.9   \n",
       "4                                                1.0   \n",
       "..                                               ...   \n",
       "96                                               0.8   \n",
       "97                                               0.8   \n",
       "98                                               0.7   \n",
       "99                                               1.6   \n",
       "100                                              0.2   \n",
       "\n",
       "     Fertility rate, total (live births per woman)  \\\n",
       "0                                              1.9   \n",
       "1                                              1.9   \n",
       "2                                              1.9   \n",
       "3                                              1.9   \n",
       "4                                              1.9   \n",
       "..                                             ...   \n",
       "96                                             1.9   \n",
       "97                                             1.9   \n",
       "98                                             2.0   \n",
       "99                                             2.0   \n",
       "100                                            1.4   \n",
       "\n",
       "     Life expectancy at birth (females/males, years)  \\\n",
       "0                                                NaN   \n",
       "1                                                NaN   \n",
       "2                                                NaN   \n",
       "3                                                NaN   \n",
       "4                                                NaN   \n",
       "..                                               ...   \n",
       "96                                               NaN   \n",
       "97                                               NaN   \n",
       "98                                               NaN   \n",
       "99                                               NaN   \n",
       "100                                              NaN   \n",
       "\n",
       "     Population age distribution (0-14 / 60+ years, %)  \\\n",
       "0                                                  NaN   \n",
       "1                                                  NaN   \n",
       "2                                                  NaN   \n",
       "3                                                  NaN   \n",
       "4                                                  NaN   \n",
       "..                                                 ...   \n",
       "96                                                 NaN   \n",
       "97                                                 NaN   \n",
       "98                                                 NaN   \n",
       "99                                                 NaN   \n",
       "100                                                NaN   \n",
       "\n",
       "     International migrant stock (000/% of total pop.)  \\\n",
       "0                                                  NaN   \n",
       "1                                                  NaN   \n",
       "2                                                  NaN   \n",
       "3                                                  NaN   \n",
       "4                                                  NaN   \n",
       "..                                                 ...   \n",
       "96                                                 NaN   \n",
       "97                                                 NaN   \n",
       "98                                                 NaN   \n",
       "99                                                 NaN   \n",
       "100                                                NaN   \n",
       "\n",
       "     Refugees and others of concern to UNHCR (in thousands)  \\\n",
       "0                                                616.5        \n",
       "1                                                616.5        \n",
       "2                                                616.5        \n",
       "3                                                151.7        \n",
       "4                                                616.5        \n",
       "..                                                 ...        \n",
       "96                                               348.5        \n",
       "97                                               348.5        \n",
       "98                                               -99.0        \n",
       "99                                                10.5        \n",
       "100                                             1052.1        \n",
       "\n",
       "     Infant mortality rate (per 1000 live births  \\\n",
       "0                                            6.0   \n",
       "1                                            6.0   \n",
       "2                                            6.0   \n",
       "3                                            4.1   \n",
       "4                                            6.0   \n",
       "..                                           ...   \n",
       "96                                           2.4   \n",
       "97                                           2.4   \n",
       "98                                          18.5   \n",
       "99                                           3.4   \n",
       "100                                          3.4   \n",
       "\n",
       "     Health: Total expenditure (% of GDP)  Health: Physicians (per 1000 pop.)  \\\n",
       "0                                    17.1                                 2.6   \n",
       "1                                    17.1                                 2.6   \n",
       "2                                    17.1                                 2.6   \n",
       "3                                     9.1                                 2.8   \n",
       "4                                    17.1                                 2.6   \n",
       "..                                    ...                                 ...   \n",
       "96                                   11.9                                 4.1   \n",
       "97                                   11.9                                 4.1   \n",
       "98                                  -99.0                                 2.8   \n",
       "99                                    7.8                                 2.8   \n",
       "100                                  11.3                                 4.1   \n",
       "\n",
       "     Education: Government expenditure (% of GDP)  \\\n",
       "0                                             5.4   \n",
       "1                                             5.4   \n",
       "2                                             5.4   \n",
       "3                                             5.7   \n",
       "4                                             5.4   \n",
       "..                                            ...   \n",
       "96                                            7.7   \n",
       "97                                            7.7   \n",
       "98                                          -99.0   \n",
       "99                                            5.3   \n",
       "100                                           5.0   \n",
       "\n",
       "     Education: Primary gross enrol. ratio (f/m per 100 pop.)  \\\n",
       "0                                                  NaN          \n",
       "1                                                  NaN          \n",
       "2                                                  NaN          \n",
       "3                                                  NaN          \n",
       "4                                                  NaN          \n",
       "..                                                 ...          \n",
       "96                                                 NaN          \n",
       "97                                                 NaN          \n",
       "98                                                 NaN          \n",
       "99                                                 NaN          \n",
       "100                                                NaN          \n",
       "\n",
       "     Education: Secondary gross enrol. ratio (f/m per 100 pop.)  \\\n",
       "0                                                  NaN            \n",
       "1                                                  NaN            \n",
       "2                                                  NaN            \n",
       "3                                                  NaN            \n",
       "4                                                  NaN            \n",
       "..                                                 ...            \n",
       "96                                                 NaN            \n",
       "97                                                 NaN            \n",
       "98                                                 NaN            \n",
       "99                                                 NaN            \n",
       "100                                                NaN            \n",
       "\n",
       "     Education: Tertiary gross enrol. ratio (f/m per 100 pop.)  \\\n",
       "0                                                  NaN           \n",
       "1                                                  NaN           \n",
       "2                                                  NaN           \n",
       "3                                                  NaN           \n",
       "4                                                  NaN           \n",
       "..                                                 ...           \n",
       "96                                                 NaN           \n",
       "97                                                 NaN           \n",
       "98                                                 NaN           \n",
       "99                                                 NaN           \n",
       "100                                                NaN           \n",
       "\n",
       "     Seats held by women in national parliaments %  \\\n",
       "0                                             19.1   \n",
       "1                                             19.1   \n",
       "2                                             19.1   \n",
       "3                                             30.0   \n",
       "4                                             19.1   \n",
       "..                                             ...   \n",
       "96                                            43.6   \n",
       "97                                            43.6   \n",
       "98                                            16.3   \n",
       "99                                            22.2   \n",
       "100                                           37.0   \n",
       "\n",
       "     Mobile-cellular subscriptions (per 100 inhabitants)  \\\n",
       "0                                                117.6     \n",
       "1                                                117.6     \n",
       "2                                                117.6     \n",
       "3                                                125.8     \n",
       "4                                                117.6     \n",
       "..                                                 ...     \n",
       "96                                               130.4     \n",
       "97                                               130.4     \n",
       "98                                                12.9     \n",
       "99                                               103.7     \n",
       "100                                              116.7     \n",
       "\n",
       "     Mobile-cellular subscriptions (per 100 inhabitants).1  \\\n",
       "0                                                 74.6       \n",
       "1                                                 74.6       \n",
       "2                                                 74.6       \n",
       "3                                                 92.0       \n",
       "4                                                 74.6       \n",
       "..                                                 ...       \n",
       "96                                                90.6       \n",
       "97                                                90.6       \n",
       "98                                                 0.0       \n",
       "99                                                80.1       \n",
       "100                                               87.6       \n",
       "\n",
       "     Individuals using the Internet (per 100 inhabitants)  \\\n",
       "0                                               1513.0      \n",
       "1                                               1513.0      \n",
       "2                                               1513.0      \n",
       "3                                                102.0      \n",
       "4                                               1513.0      \n",
       "..                                                 ...      \n",
       "96                                                54.0      \n",
       "97                                                54.0      \n",
       "98                                                78.0      \n",
       "99                                                50.0      \n",
       "100                                              116.0      \n",
       "\n",
       "     Threatened species (number)  Forested area (% of land area)  \\\n",
       "0                           33.9                             NaN   \n",
       "1                           33.9                             NaN   \n",
       "2                           33.9                             NaN   \n",
       "3                           12.9                             NaN   \n",
       "4                           33.9                             NaN   \n",
       "..                           ...                             ...   \n",
       "96                          68.9                             NaN   \n",
       "97                          68.9                             NaN   \n",
       "98                          42.8                             NaN   \n",
       "99                          10.9                             NaN   \n",
       "100                         32.7                             NaN   \n",
       "\n",
       "     CO2 emission estimates (million tons/tons per capita)  \\\n",
       "0                                              83887.0       \n",
       "1                                              83887.0       \n",
       "2                                              83887.0       \n",
       "3                                               4482.0       \n",
       "4                                              83887.0       \n",
       "..                                                 ...       \n",
       "96                                              1428.0       \n",
       "97                                              1428.0       \n",
       "98                                               871.0       \n",
       "99                                                84.0       \n",
       "100                                             5004.0       \n",
       "\n",
       "     Energy production, primary (Petajoules)  \\\n",
       "0                                      289.0   \n",
       "1                                      289.0   \n",
       "2                                      289.0   \n",
       "3                                      116.0   \n",
       "4                                      289.0   \n",
       "..                                       ...   \n",
       "96                                     206.0   \n",
       "97                                     206.0   \n",
       "98                                      20.0   \n",
       "99                                     114.0   \n",
       "100                                    158.0   \n",
       "\n",
       "     Energy supply per capita (Gigajoules)  \\\n",
       "0                                      NaN   \n",
       "1                                      NaN   \n",
       "2                                      NaN   \n",
       "3                                      NaN   \n",
       "4                                      NaN   \n",
       "..                                     ...   \n",
       "96                                     NaN   \n",
       "97                                     NaN   \n",
       "98                                     NaN   \n",
       "99                                     NaN   \n",
       "100                                    NaN   \n",
       "\n",
       "     Pop. using improved drinking water (urban/rural, %)  \\\n",
       "0                                                  NaN     \n",
       "1                                                  NaN     \n",
       "2                                                  NaN     \n",
       "3                                                  NaN     \n",
       "4                                                  NaN     \n",
       "..                                                 ...     \n",
       "96                                                 NaN     \n",
       "97                                                 NaN     \n",
       "98                                                 NaN     \n",
       "99                                                 NaN     \n",
       "100                                                NaN     \n",
       "\n",
       "     Pop. using improved sanitation facilities (urban/rural, %)  \\\n",
       "0                                                -99.0            \n",
       "1                                                -99.0            \n",
       "2                                                -99.0            \n",
       "3                                                -99.0            \n",
       "4                                                -99.0            \n",
       "..                                                 ...            \n",
       "96                                               -99.0            \n",
       "97                                               -99.0            \n",
       "98                                               -99.0            \n",
       "99                                               -99.0            \n",
       "100                                              -99.0            \n",
       "\n",
       "     Net Official Development Assist. received (% of GNI)  \n",
       "0                                                -99.0     \n",
       "1                                                -99.0     \n",
       "2                                                -99.0     \n",
       "3                                                -99.0     \n",
       "4                                                -99.0     \n",
       "..                                                 ...     \n",
       "96                                               -99.0     \n",
       "97                                               -99.0     \n",
       "98                                               -99.0     \n",
       "99                                               -99.0     \n",
       "100                                              -99.0     \n",
       "\n",
       "[101 rows x 62 columns]"
      ]
     },
     "execution_count": 21,
     "metadata": {},
     "output_type": "execute_result"
    }
   ],
   "source": [
    "df_edu = new_df.copy()\n",
    "df_edu"
   ]
  },
  {
   "cell_type": "code",
   "execution_count": 22,
   "metadata": {},
   "outputs": [],
   "source": [
    "student_table = df_edu[['country', 'international_students', 'rank_display', 'score', 'type', 'Population in thousands (2017)', 'Sex ratio (m per 100 f, 2017)','GDP per capita (current US$)']]\n"
   ]
  },
  {
   "cell_type": "code",
   "execution_count": 23,
   "metadata": {},
   "outputs": [
    {
     "name": "stderr",
     "output_type": "stream",
     "text": [
      "/var/folders/l5/p6r57rz54js0nf3r65vn2xy80000gn/T/ipykernel_33923/2797062284.py:1: FutureWarning: A value is trying to be set on a copy of a DataFrame or Series through chained assignment using an inplace method.\n",
      "The behavior will change in pandas 3.0. This inplace method will never work because the intermediate object on which we are setting values always behaves as a copy.\n",
      "\n",
      "For example, when doing 'df[col].method(value, inplace=True)', try using 'df.method({col: value}, inplace=True)' or df[col] = df[col].method(value) instead, to perform the operation inplace on the original object.\n",
      "\n",
      "\n",
      "  student_table['international_students'].replace(',', '', regex=True, inplace=True)\n",
      "/var/folders/l5/p6r57rz54js0nf3r65vn2xy80000gn/T/ipykernel_33923/2797062284.py:1: SettingWithCopyWarning: \n",
      "A value is trying to be set on a copy of a slice from a DataFrame\n",
      "\n",
      "See the caveats in the documentation: https://pandas.pydata.org/pandas-docs/stable/user_guide/indexing.html#returning-a-view-versus-a-copy\n",
      "  student_table['international_students'].replace(',', '', regex=True, inplace=True)\n"
     ]
    }
   ],
   "source": [
    "student_table['international_students'].replace(',', '', regex=True, inplace=True)\n",
    "\n"
   ]
  },
  {
   "cell_type": "code",
   "execution_count": 24,
   "metadata": {},
   "outputs": [
    {
     "name": "stderr",
     "output_type": "stream",
     "text": [
      "/var/folders/l5/p6r57rz54js0nf3r65vn2xy80000gn/T/ipykernel_33923/350608482.py:1: SettingWithCopyWarning: \n",
      "A value is trying to be set on a copy of a slice from a DataFrame.\n",
      "Try using .loc[row_indexer,col_indexer] = value instead\n",
      "\n",
      "See the caveats in the documentation: https://pandas.pydata.org/pandas-docs/stable/user_guide/indexing.html#returning-a-view-versus-a-copy\n",
      "  student_table['international_students'] = pd.to_numeric(student_table['international_students'], errors='coerce')\n"
     ]
    }
   ],
   "source": [
    "student_table['international_students'] = pd.to_numeric(student_table['international_students'], errors='coerce')"
   ]
  },
  {
   "cell_type": "code",
   "execution_count": 25,
   "metadata": {},
   "outputs": [
    {
     "data": {
      "text/html": [
       "<div>\n",
       "<style scoped>\n",
       "    .dataframe tbody tr th:only-of-type {\n",
       "        vertical-align: middle;\n",
       "    }\n",
       "\n",
       "    .dataframe tbody tr th {\n",
       "        vertical-align: top;\n",
       "    }\n",
       "\n",
       "    .dataframe thead th {\n",
       "        text-align: right;\n",
       "    }\n",
       "</style>\n",
       "<table border=\"1\" class=\"dataframe\">\n",
       "  <thead>\n",
       "    <tr style=\"text-align: right;\">\n",
       "      <th></th>\n",
       "      <th>country</th>\n",
       "      <th>international_students</th>\n",
       "      <th>rank_display</th>\n",
       "      <th>score</th>\n",
       "      <th>type</th>\n",
       "      <th>Population in thousands (2017)</th>\n",
       "      <th>Sex ratio (m per 100 f, 2017)</th>\n",
       "      <th>GDP per capita (current US$)</th>\n",
       "    </tr>\n",
       "  </thead>\n",
       "  <tbody>\n",
       "    <tr>\n",
       "      <th>0</th>\n",
       "      <td>United States</td>\n",
       "      <td>3730</td>\n",
       "      <td>1.0</td>\n",
       "      <td>100.0</td>\n",
       "      <td>Private</td>\n",
       "      <td>324460.0</td>\n",
       "      <td>98.0</td>\n",
       "      <td>56053.8</td>\n",
       "    </tr>\n",
       "    <tr>\n",
       "      <th>1</th>\n",
       "      <td>United States</td>\n",
       "      <td>3879</td>\n",
       "      <td>2.0</td>\n",
       "      <td>98.7</td>\n",
       "      <td>Private</td>\n",
       "      <td>324460.0</td>\n",
       "      <td>98.0</td>\n",
       "      <td>56053.8</td>\n",
       "    </tr>\n",
       "    <tr>\n",
       "      <th>2</th>\n",
       "      <td>United States</td>\n",
       "      <td>5877</td>\n",
       "      <td>3.0</td>\n",
       "      <td>98.3</td>\n",
       "      <td>Private</td>\n",
       "      <td>324460.0</td>\n",
       "      <td>98.0</td>\n",
       "      <td>56053.8</td>\n",
       "    </tr>\n",
       "    <tr>\n",
       "      <th>3</th>\n",
       "      <td>United Kingdom</td>\n",
       "      <td>7925</td>\n",
       "      <td>4.0</td>\n",
       "      <td>97.2</td>\n",
       "      <td>Public</td>\n",
       "      <td>66182.0</td>\n",
       "      <td>97.4</td>\n",
       "      <td>44162.4</td>\n",
       "    </tr>\n",
       "    <tr>\n",
       "      <th>4</th>\n",
       "      <td>United States</td>\n",
       "      <td>692</td>\n",
       "      <td>5.0</td>\n",
       "      <td>96.9</td>\n",
       "      <td>Private</td>\n",
       "      <td>324460.0</td>\n",
       "      <td>98.0</td>\n",
       "      <td>56053.8</td>\n",
       "    </tr>\n",
       "    <tr>\n",
       "      <th>...</th>\n",
       "      <td>...</td>\n",
       "      <td>...</td>\n",
       "      <td>...</td>\n",
       "      <td>...</td>\n",
       "      <td>...</td>\n",
       "      <td>...</td>\n",
       "      <td>...</td>\n",
       "      <td>...</td>\n",
       "    </tr>\n",
       "    <tr>\n",
       "      <th>96</th>\n",
       "      <td>Sweden</td>\n",
       "      <td>3057</td>\n",
       "      <td>97.0</td>\n",
       "      <td>63.1</td>\n",
       "      <td>Public</td>\n",
       "      <td>9911.0</td>\n",
       "      <td>100.2</td>\n",
       "      <td>50687.5</td>\n",
       "    </tr>\n",
       "    <tr>\n",
       "      <th>97</th>\n",
       "      <td>Sweden</td>\n",
       "      <td>8401</td>\n",
       "      <td>98.0</td>\n",
       "      <td>62.8</td>\n",
       "      <td>Public</td>\n",
       "      <td>9911.0</td>\n",
       "      <td>100.2</td>\n",
       "      <td>50687.5</td>\n",
       "    </tr>\n",
       "    <tr>\n",
       "      <th>98</th>\n",
       "      <td>South Korea</td>\n",
       "      <td>3325</td>\n",
       "      <td>98.0</td>\n",
       "      <td>62.8</td>\n",
       "      <td>Private</td>\n",
       "      <td>25491.0</td>\n",
       "      <td>95.7</td>\n",
       "      <td>648.0</td>\n",
       "    </tr>\n",
       "    <tr>\n",
       "      <th>99</th>\n",
       "      <td>Ireland</td>\n",
       "      <td>5593</td>\n",
       "      <td>98.0</td>\n",
       "      <td>62.8</td>\n",
       "      <td>Public</td>\n",
       "      <td>4762.0</td>\n",
       "      <td>98.4</td>\n",
       "      <td>60513.6</td>\n",
       "    </tr>\n",
       "    <tr>\n",
       "      <th>100</th>\n",
       "      <td>Germany</td>\n",
       "      <td>5030</td>\n",
       "      <td>98.0</td>\n",
       "      <td>62.8</td>\n",
       "      <td>Public</td>\n",
       "      <td>82114.0</td>\n",
       "      <td>97.0</td>\n",
       "      <td>41686.2</td>\n",
       "    </tr>\n",
       "  </tbody>\n",
       "</table>\n",
       "<p>101 rows × 8 columns</p>\n",
       "</div>"
      ],
      "text/plain": [
       "            country  international_students  rank_display  score     type  \\\n",
       "0     United States                    3730           1.0  100.0  Private   \n",
       "1     United States                    3879           2.0   98.7  Private   \n",
       "2     United States                    5877           3.0   98.3  Private   \n",
       "3    United Kingdom                    7925           4.0   97.2   Public   \n",
       "4     United States                     692           5.0   96.9  Private   \n",
       "..              ...                     ...           ...    ...      ...   \n",
       "96           Sweden                    3057          97.0   63.1   Public   \n",
       "97           Sweden                    8401          98.0   62.8   Public   \n",
       "98      South Korea                    3325          98.0   62.8  Private   \n",
       "99          Ireland                    5593          98.0   62.8   Public   \n",
       "100         Germany                    5030          98.0   62.8   Public   \n",
       "\n",
       "     Population in thousands (2017)  Sex ratio (m per 100 f, 2017)  \\\n",
       "0                          324460.0                           98.0   \n",
       "1                          324460.0                           98.0   \n",
       "2                          324460.0                           98.0   \n",
       "3                           66182.0                           97.4   \n",
       "4                          324460.0                           98.0   \n",
       "..                              ...                            ...   \n",
       "96                           9911.0                          100.2   \n",
       "97                           9911.0                          100.2   \n",
       "98                          25491.0                           95.7   \n",
       "99                           4762.0                           98.4   \n",
       "100                         82114.0                           97.0   \n",
       "\n",
       "     GDP per capita (current US$)  \n",
       "0                         56053.8  \n",
       "1                         56053.8  \n",
       "2                         56053.8  \n",
       "3                         44162.4  \n",
       "4                         56053.8  \n",
       "..                            ...  \n",
       "96                        50687.5  \n",
       "97                        50687.5  \n",
       "98                          648.0  \n",
       "99                        60513.6  \n",
       "100                       41686.2  \n",
       "\n",
       "[101 rows x 8 columns]"
      ]
     },
     "execution_count": 25,
     "metadata": {},
     "output_type": "execute_result"
    }
   ],
   "source": [
    "student_table"
   ]
  },
  {
   "cell_type": "code",
   "execution_count": 26,
   "metadata": {},
   "outputs": [
    {
     "data": {
      "text/html": [
       "<div>\n",
       "<style scoped>\n",
       "    .dataframe tbody tr th:only-of-type {\n",
       "        vertical-align: middle;\n",
       "    }\n",
       "\n",
       "    .dataframe tbody tr th {\n",
       "        vertical-align: top;\n",
       "    }\n",
       "\n",
       "    .dataframe thead th {\n",
       "        text-align: right;\n",
       "    }\n",
       "</style>\n",
       "<table border=\"1\" class=\"dataframe\">\n",
       "  <thead>\n",
       "    <tr style=\"text-align: right;\">\n",
       "      <th></th>\n",
       "      <th>international_students</th>\n",
       "      <th>score</th>\n",
       "    </tr>\n",
       "    <tr>\n",
       "      <th>country</th>\n",
       "      <th></th>\n",
       "      <th></th>\n",
       "    </tr>\n",
       "  </thead>\n",
       "  <tbody>\n",
       "    <tr>\n",
       "      <th>Argentina</th>\n",
       "      <td>29516</td>\n",
       "      <td>65.800000</td>\n",
       "    </tr>\n",
       "    <tr>\n",
       "      <th>Australia</th>\n",
       "      <td>128735</td>\n",
       "      <td>78.616667</td>\n",
       "    </tr>\n",
       "    <tr>\n",
       "      <th>Belgium</th>\n",
       "      <td>8485</td>\n",
       "      <td>67.900000</td>\n",
       "    </tr>\n",
       "    <tr>\n",
       "      <th>Canada</th>\n",
       "      <td>63451</td>\n",
       "      <td>77.475000</td>\n",
       "    </tr>\n",
       "    <tr>\n",
       "      <th>China (Mainland)</th>\n",
       "      <td>22549</td>\n",
       "      <td>79.725000</td>\n",
       "    </tr>\n",
       "    <tr>\n",
       "      <th>Denmark</th>\n",
       "      <td>4135</td>\n",
       "      <td>70.200000</td>\n",
       "    </tr>\n",
       "    <tr>\n",
       "      <th>Finland</th>\n",
       "      <td>1254</td>\n",
       "      <td>64.700000</td>\n",
       "    </tr>\n",
       "    <tr>\n",
       "      <th>France</th>\n",
       "      <td>1622</td>\n",
       "      <td>74.900000</td>\n",
       "    </tr>\n",
       "    <tr>\n",
       "      <th>Germany</th>\n",
       "      <td>26483</td>\n",
       "      <td>68.775000</td>\n",
       "    </tr>\n",
       "    <tr>\n",
       "      <th>Hong Kong SAR</th>\n",
       "      <td>22737</td>\n",
       "      <td>80.175000</td>\n",
       "    </tr>\n",
       "    <tr>\n",
       "      <th>Ireland</th>\n",
       "      <td>5593</td>\n",
       "      <td>62.800000</td>\n",
       "    </tr>\n",
       "    <tr>\n",
       "      <th>Japan</th>\n",
       "      <td>12608</td>\n",
       "      <td>75.920000</td>\n",
       "    </tr>\n",
       "    <tr>\n",
       "      <th>Netherlands</th>\n",
       "      <td>14073</td>\n",
       "      <td>73.200000</td>\n",
       "    </tr>\n",
       "    <tr>\n",
       "      <th>New Zealand</th>\n",
       "      <td>9924</td>\n",
       "      <td>67.300000</td>\n",
       "    </tr>\n",
       "    <tr>\n",
       "      <th>Singapore</th>\n",
       "      <td>13642</td>\n",
       "      <td>91.450000</td>\n",
       "    </tr>\n",
       "    <tr>\n",
       "      <th>South Korea</th>\n",
       "      <td>6195</td>\n",
       "      <td>72.450000</td>\n",
       "    </tr>\n",
       "    <tr>\n",
       "      <th>Sweden</th>\n",
       "      <td>18140</td>\n",
       "      <td>65.000000</td>\n",
       "    </tr>\n",
       "    <tr>\n",
       "      <th>Switzerland</th>\n",
       "      <td>25750</td>\n",
       "      <td>79.175000</td>\n",
       "    </tr>\n",
       "    <tr>\n",
       "      <th>Taiwan</th>\n",
       "      <td>5058</td>\n",
       "      <td>70.200000</td>\n",
       "    </tr>\n",
       "    <tr>\n",
       "      <th>United Kingdom</th>\n",
       "      <td>194164</td>\n",
       "      <td>79.183333</td>\n",
       "    </tr>\n",
       "    <tr>\n",
       "      <th>United States</th>\n",
       "      <td>190002</td>\n",
       "      <td>80.765625</td>\n",
       "    </tr>\n",
       "  </tbody>\n",
       "</table>\n",
       "</div>"
      ],
      "text/plain": [
       "                  international_students      score\n",
       "country                                            \n",
       "Argentina                          29516  65.800000\n",
       "Australia                         128735  78.616667\n",
       "Belgium                             8485  67.900000\n",
       "Canada                             63451  77.475000\n",
       "China (Mainland)                   22549  79.725000\n",
       "Denmark                             4135  70.200000\n",
       "Finland                             1254  64.700000\n",
       "France                              1622  74.900000\n",
       "Germany                            26483  68.775000\n",
       "Hong Kong SAR                      22737  80.175000\n",
       "Ireland                             5593  62.800000\n",
       "Japan                              12608  75.920000\n",
       "Netherlands                        14073  73.200000\n",
       "New Zealand                         9924  67.300000\n",
       "Singapore                          13642  91.450000\n",
       "South Korea                         6195  72.450000\n",
       "Sweden                             18140  65.000000\n",
       "Switzerland                        25750  79.175000\n",
       "Taiwan                              5058  70.200000\n",
       "United Kingdom                    194164  79.183333\n",
       "United States                     190002  80.765625"
      ]
     },
     "execution_count": 26,
     "metadata": {},
     "output_type": "execute_result"
    }
   ],
   "source": [
    "student_table = student_table.groupby('country').agg({'international_students': 'sum', 'score': 'mean'})\n",
    "student_table"
   ]
  },
  {
   "cell_type": "code",
   "execution_count": 27,
   "metadata": {},
   "outputs": [],
   "source": [
    "student_table.rename(columns={'international_students': 'total_international_students', 'score': 'average_score'}, inplace=True)"
   ]
  },
  {
   "cell_type": "code",
   "execution_count": 28,
   "metadata": {},
   "outputs": [],
   "source": [
    "country_table = df_edu.groupby('country').agg({'rank_display': 'count'})\n",
    "country_table.rename(columns={'rank_display': 'total_universities ranked in 100'}, inplace= True)"
   ]
  },
  {
   "cell_type": "code",
   "execution_count": 29,
   "metadata": {},
   "outputs": [],
   "source": [
    "country_table = country_table.merge(student_table, on='country', how='inner')\n"
   ]
  },
  {
   "cell_type": "code",
   "execution_count": 30,
   "metadata": {},
   "outputs": [],
   "source": [
    "country_table['total_international_students'] = country_table['total_international_students'].astype(int)\n",
    "country_table['total_universities ranked in 100'] = country_table['total_universities ranked in 100'].astype(int)\n"
   ]
  },
  {
   "cell_type": "code",
   "execution_count": 31,
   "metadata": {},
   "outputs": [
    {
     "data": {
      "text/html": [
       "<div>\n",
       "<style scoped>\n",
       "    .dataframe tbody tr th:only-of-type {\n",
       "        vertical-align: middle;\n",
       "    }\n",
       "\n",
       "    .dataframe tbody tr th {\n",
       "        vertical-align: top;\n",
       "    }\n",
       "\n",
       "    .dataframe thead th {\n",
       "        text-align: right;\n",
       "    }\n",
       "</style>\n",
       "<table border=\"1\" class=\"dataframe\">\n",
       "  <thead>\n",
       "    <tr style=\"text-align: right;\">\n",
       "      <th></th>\n",
       "      <th>total_universities ranked in 100</th>\n",
       "      <th>total_international_students</th>\n",
       "      <th>average_score</th>\n",
       "    </tr>\n",
       "    <tr>\n",
       "      <th>country</th>\n",
       "      <th></th>\n",
       "      <th></th>\n",
       "      <th></th>\n",
       "    </tr>\n",
       "  </thead>\n",
       "  <tbody>\n",
       "    <tr>\n",
       "      <th>Argentina</th>\n",
       "      <td>1</td>\n",
       "      <td>29516</td>\n",
       "      <td>65.800000</td>\n",
       "    </tr>\n",
       "    <tr>\n",
       "      <th>Australia</th>\n",
       "      <td>6</td>\n",
       "      <td>128735</td>\n",
       "      <td>78.616667</td>\n",
       "    </tr>\n",
       "    <tr>\n",
       "      <th>Belgium</th>\n",
       "      <td>1</td>\n",
       "      <td>8485</td>\n",
       "      <td>67.900000</td>\n",
       "    </tr>\n",
       "    <tr>\n",
       "      <th>Canada</th>\n",
       "      <td>4</td>\n",
       "      <td>63451</td>\n",
       "      <td>77.475000</td>\n",
       "    </tr>\n",
       "    <tr>\n",
       "      <th>China (Mainland)</th>\n",
       "      <td>4</td>\n",
       "      <td>22549</td>\n",
       "      <td>79.725000</td>\n",
       "    </tr>\n",
       "    <tr>\n",
       "      <th>Denmark</th>\n",
       "      <td>1</td>\n",
       "      <td>4135</td>\n",
       "      <td>70.200000</td>\n",
       "    </tr>\n",
       "    <tr>\n",
       "      <th>Finland</th>\n",
       "      <td>1</td>\n",
       "      <td>1254</td>\n",
       "      <td>64.700000</td>\n",
       "    </tr>\n",
       "    <tr>\n",
       "      <th>France</th>\n",
       "      <td>2</td>\n",
       "      <td>1622</td>\n",
       "      <td>74.900000</td>\n",
       "    </tr>\n",
       "    <tr>\n",
       "      <th>Germany</th>\n",
       "      <td>4</td>\n",
       "      <td>26483</td>\n",
       "      <td>68.775000</td>\n",
       "    </tr>\n",
       "    <tr>\n",
       "      <th>Hong Kong SAR</th>\n",
       "      <td>4</td>\n",
       "      <td>22737</td>\n",
       "      <td>80.175000</td>\n",
       "    </tr>\n",
       "    <tr>\n",
       "      <th>Ireland</th>\n",
       "      <td>1</td>\n",
       "      <td>5593</td>\n",
       "      <td>62.800000</td>\n",
       "    </tr>\n",
       "    <tr>\n",
       "      <th>Japan</th>\n",
       "      <td>5</td>\n",
       "      <td>12608</td>\n",
       "      <td>75.920000</td>\n",
       "    </tr>\n",
       "    <tr>\n",
       "      <th>Netherlands</th>\n",
       "      <td>2</td>\n",
       "      <td>14073</td>\n",
       "      <td>73.200000</td>\n",
       "    </tr>\n",
       "    <tr>\n",
       "      <th>New Zealand</th>\n",
       "      <td>1</td>\n",
       "      <td>9924</td>\n",
       "      <td>67.300000</td>\n",
       "    </tr>\n",
       "    <tr>\n",
       "      <th>Singapore</th>\n",
       "      <td>2</td>\n",
       "      <td>13642</td>\n",
       "      <td>91.450000</td>\n",
       "    </tr>\n",
       "    <tr>\n",
       "      <th>South Korea</th>\n",
       "      <td>4</td>\n",
       "      <td>6195</td>\n",
       "      <td>72.450000</td>\n",
       "    </tr>\n",
       "    <tr>\n",
       "      <th>Sweden</th>\n",
       "      <td>3</td>\n",
       "      <td>18140</td>\n",
       "      <td>65.000000</td>\n",
       "    </tr>\n",
       "    <tr>\n",
       "      <th>Switzerland</th>\n",
       "      <td>4</td>\n",
       "      <td>25750</td>\n",
       "      <td>79.175000</td>\n",
       "    </tr>\n",
       "    <tr>\n",
       "      <th>Taiwan</th>\n",
       "      <td>1</td>\n",
       "      <td>5058</td>\n",
       "      <td>70.200000</td>\n",
       "    </tr>\n",
       "    <tr>\n",
       "      <th>United Kingdom</th>\n",
       "      <td>18</td>\n",
       "      <td>194164</td>\n",
       "      <td>79.183333</td>\n",
       "    </tr>\n",
       "    <tr>\n",
       "      <th>United States</th>\n",
       "      <td>32</td>\n",
       "      <td>190002</td>\n",
       "      <td>80.765625</td>\n",
       "    </tr>\n",
       "  </tbody>\n",
       "</table>\n",
       "</div>"
      ],
      "text/plain": [
       "                  total_universities ranked in 100  \\\n",
       "country                                              \n",
       "Argentina                                        1   \n",
       "Australia                                        6   \n",
       "Belgium                                          1   \n",
       "Canada                                           4   \n",
       "China (Mainland)                                 4   \n",
       "Denmark                                          1   \n",
       "Finland                                          1   \n",
       "France                                           2   \n",
       "Germany                                          4   \n",
       "Hong Kong SAR                                    4   \n",
       "Ireland                                          1   \n",
       "Japan                                            5   \n",
       "Netherlands                                      2   \n",
       "New Zealand                                      1   \n",
       "Singapore                                        2   \n",
       "South Korea                                      4   \n",
       "Sweden                                           3   \n",
       "Switzerland                                      4   \n",
       "Taiwan                                           1   \n",
       "United Kingdom                                  18   \n",
       "United States                                   32   \n",
       "\n",
       "                  total_international_students  average_score  \n",
       "country                                                        \n",
       "Argentina                                29516      65.800000  \n",
       "Australia                               128735      78.616667  \n",
       "Belgium                                   8485      67.900000  \n",
       "Canada                                   63451      77.475000  \n",
       "China (Mainland)                         22549      79.725000  \n",
       "Denmark                                   4135      70.200000  \n",
       "Finland                                   1254      64.700000  \n",
       "France                                    1622      74.900000  \n",
       "Germany                                  26483      68.775000  \n",
       "Hong Kong SAR                            22737      80.175000  \n",
       "Ireland                                   5593      62.800000  \n",
       "Japan                                    12608      75.920000  \n",
       "Netherlands                              14073      73.200000  \n",
       "New Zealand                               9924      67.300000  \n",
       "Singapore                                13642      91.450000  \n",
       "South Korea                               6195      72.450000  \n",
       "Sweden                                   18140      65.000000  \n",
       "Switzerland                              25750      79.175000  \n",
       "Taiwan                                    5058      70.200000  \n",
       "United Kingdom                          194164      79.183333  \n",
       "United States                           190002      80.765625  "
      ]
     },
     "execution_count": 31,
     "metadata": {},
     "output_type": "execute_result"
    }
   ],
   "source": [
    "country_table"
   ]
  },
  {
   "cell_type": "code",
   "execution_count": 32,
   "metadata": {},
   "outputs": [],
   "source": [
    "country_table = country_table[['total_universities ranked in 100', 'total_international_students', 'average_score']]\n"
   ]
  },
  {
   "cell_type": "code",
   "execution_count": 33,
   "metadata": {},
   "outputs": [
    {
     "data": {
      "text/html": [
       "<div>\n",
       "<style scoped>\n",
       "    .dataframe tbody tr th:only-of-type {\n",
       "        vertical-align: middle;\n",
       "    }\n",
       "\n",
       "    .dataframe tbody tr th {\n",
       "        vertical-align: top;\n",
       "    }\n",
       "\n",
       "    .dataframe thead th {\n",
       "        text-align: right;\n",
       "    }\n",
       "</style>\n",
       "<table border=\"1\" class=\"dataframe\">\n",
       "  <thead>\n",
       "    <tr style=\"text-align: right;\">\n",
       "      <th></th>\n",
       "      <th>total_universities ranked in 100</th>\n",
       "      <th>total_international_students</th>\n",
       "      <th>average_score</th>\n",
       "    </tr>\n",
       "    <tr>\n",
       "      <th>country</th>\n",
       "      <th></th>\n",
       "      <th></th>\n",
       "      <th></th>\n",
       "    </tr>\n",
       "  </thead>\n",
       "  <tbody>\n",
       "    <tr>\n",
       "      <th>United States</th>\n",
       "      <td>32</td>\n",
       "      <td>190002</td>\n",
       "      <td>80.765625</td>\n",
       "    </tr>\n",
       "    <tr>\n",
       "      <th>United Kingdom</th>\n",
       "      <td>18</td>\n",
       "      <td>194164</td>\n",
       "      <td>79.183333</td>\n",
       "    </tr>\n",
       "    <tr>\n",
       "      <th>Australia</th>\n",
       "      <td>6</td>\n",
       "      <td>128735</td>\n",
       "      <td>78.616667</td>\n",
       "    </tr>\n",
       "    <tr>\n",
       "      <th>Japan</th>\n",
       "      <td>5</td>\n",
       "      <td>12608</td>\n",
       "      <td>75.920000</td>\n",
       "    </tr>\n",
       "    <tr>\n",
       "      <th>South Korea</th>\n",
       "      <td>4</td>\n",
       "      <td>6195</td>\n",
       "      <td>72.450000</td>\n",
       "    </tr>\n",
       "    <tr>\n",
       "      <th>Canada</th>\n",
       "      <td>4</td>\n",
       "      <td>63451</td>\n",
       "      <td>77.475000</td>\n",
       "    </tr>\n",
       "    <tr>\n",
       "      <th>China (Mainland)</th>\n",
       "      <td>4</td>\n",
       "      <td>22549</td>\n",
       "      <td>79.725000</td>\n",
       "    </tr>\n",
       "    <tr>\n",
       "      <th>Switzerland</th>\n",
       "      <td>4</td>\n",
       "      <td>25750</td>\n",
       "      <td>79.175000</td>\n",
       "    </tr>\n",
       "    <tr>\n",
       "      <th>Germany</th>\n",
       "      <td>4</td>\n",
       "      <td>26483</td>\n",
       "      <td>68.775000</td>\n",
       "    </tr>\n",
       "    <tr>\n",
       "      <th>Hong Kong SAR</th>\n",
       "      <td>4</td>\n",
       "      <td>22737</td>\n",
       "      <td>80.175000</td>\n",
       "    </tr>\n",
       "    <tr>\n",
       "      <th>Sweden</th>\n",
       "      <td>3</td>\n",
       "      <td>18140</td>\n",
       "      <td>65.000000</td>\n",
       "    </tr>\n",
       "    <tr>\n",
       "      <th>France</th>\n",
       "      <td>2</td>\n",
       "      <td>1622</td>\n",
       "      <td>74.900000</td>\n",
       "    </tr>\n",
       "    <tr>\n",
       "      <th>Netherlands</th>\n",
       "      <td>2</td>\n",
       "      <td>14073</td>\n",
       "      <td>73.200000</td>\n",
       "    </tr>\n",
       "    <tr>\n",
       "      <th>Singapore</th>\n",
       "      <td>2</td>\n",
       "      <td>13642</td>\n",
       "      <td>91.450000</td>\n",
       "    </tr>\n",
       "    <tr>\n",
       "      <th>Taiwan</th>\n",
       "      <td>1</td>\n",
       "      <td>5058</td>\n",
       "      <td>70.200000</td>\n",
       "    </tr>\n",
       "    <tr>\n",
       "      <th>Argentina</th>\n",
       "      <td>1</td>\n",
       "      <td>29516</td>\n",
       "      <td>65.800000</td>\n",
       "    </tr>\n",
       "    <tr>\n",
       "      <th>New Zealand</th>\n",
       "      <td>1</td>\n",
       "      <td>9924</td>\n",
       "      <td>67.300000</td>\n",
       "    </tr>\n",
       "    <tr>\n",
       "      <th>Finland</th>\n",
       "      <td>1</td>\n",
       "      <td>1254</td>\n",
       "      <td>64.700000</td>\n",
       "    </tr>\n",
       "    <tr>\n",
       "      <th>Denmark</th>\n",
       "      <td>1</td>\n",
       "      <td>4135</td>\n",
       "      <td>70.200000</td>\n",
       "    </tr>\n",
       "    <tr>\n",
       "      <th>Belgium</th>\n",
       "      <td>1</td>\n",
       "      <td>8485</td>\n",
       "      <td>67.900000</td>\n",
       "    </tr>\n",
       "    <tr>\n",
       "      <th>Ireland</th>\n",
       "      <td>1</td>\n",
       "      <td>5593</td>\n",
       "      <td>62.800000</td>\n",
       "    </tr>\n",
       "  </tbody>\n",
       "</table>\n",
       "</div>"
      ],
      "text/plain": [
       "                  total_universities ranked in 100  \\\n",
       "country                                              \n",
       "United States                                   32   \n",
       "United Kingdom                                  18   \n",
       "Australia                                        6   \n",
       "Japan                                            5   \n",
       "South Korea                                      4   \n",
       "Canada                                           4   \n",
       "China (Mainland)                                 4   \n",
       "Switzerland                                      4   \n",
       "Germany                                          4   \n",
       "Hong Kong SAR                                    4   \n",
       "Sweden                                           3   \n",
       "France                                           2   \n",
       "Netherlands                                      2   \n",
       "Singapore                                        2   \n",
       "Taiwan                                           1   \n",
       "Argentina                                        1   \n",
       "New Zealand                                      1   \n",
       "Finland                                          1   \n",
       "Denmark                                          1   \n",
       "Belgium                                          1   \n",
       "Ireland                                          1   \n",
       "\n",
       "                  total_international_students  average_score  \n",
       "country                                                        \n",
       "United States                           190002      80.765625  \n",
       "United Kingdom                          194164      79.183333  \n",
       "Australia                               128735      78.616667  \n",
       "Japan                                    12608      75.920000  \n",
       "South Korea                               6195      72.450000  \n",
       "Canada                                   63451      77.475000  \n",
       "China (Mainland)                         22549      79.725000  \n",
       "Switzerland                              25750      79.175000  \n",
       "Germany                                  26483      68.775000  \n",
       "Hong Kong SAR                            22737      80.175000  \n",
       "Sweden                                   18140      65.000000  \n",
       "France                                    1622      74.900000  \n",
       "Netherlands                              14073      73.200000  \n",
       "Singapore                                13642      91.450000  \n",
       "Taiwan                                    5058      70.200000  \n",
       "Argentina                                29516      65.800000  \n",
       "New Zealand                               9924      67.300000  \n",
       "Finland                                   1254      64.700000  \n",
       "Denmark                                   4135      70.200000  \n",
       "Belgium                                   8485      67.900000  \n",
       "Ireland                                   5593      62.800000  "
      ]
     },
     "execution_count": 33,
     "metadata": {},
     "output_type": "execute_result"
    }
   ],
   "source": [
    "country_table.sort_values(by='total_universities ranked in 100', ascending=False, inplace=True)\n",
    "country_table"
   ]
  },
  {
   "cell_type": "code",
   "execution_count": 34,
   "metadata": {},
   "outputs": [
    {
     "data": {
      "text/html": [
       "<div>\n",
       "<style scoped>\n",
       "    .dataframe tbody tr th:only-of-type {\n",
       "        vertical-align: middle;\n",
       "    }\n",
       "\n",
       "    .dataframe tbody tr th {\n",
       "        vertical-align: top;\n",
       "    }\n",
       "\n",
       "    .dataframe thead th {\n",
       "        text-align: right;\n",
       "    }\n",
       "</style>\n",
       "<table border=\"1\" class=\"dataframe\">\n",
       "  <thead>\n",
       "    <tr style=\"text-align: right;\">\n",
       "      <th></th>\n",
       "      <th>total_universities ranked in 100</th>\n",
       "      <th>total_international_students</th>\n",
       "      <th>average_score</th>\n",
       "    </tr>\n",
       "    <tr>\n",
       "      <th>country</th>\n",
       "      <th></th>\n",
       "      <th></th>\n",
       "      <th></th>\n",
       "    </tr>\n",
       "  </thead>\n",
       "  <tbody>\n",
       "    <tr>\n",
       "      <th>United States</th>\n",
       "      <td>32</td>\n",
       "      <td>190002</td>\n",
       "      <td>80.77</td>\n",
       "    </tr>\n",
       "    <tr>\n",
       "      <th>United Kingdom</th>\n",
       "      <td>18</td>\n",
       "      <td>194164</td>\n",
       "      <td>79.18</td>\n",
       "    </tr>\n",
       "    <tr>\n",
       "      <th>Australia</th>\n",
       "      <td>6</td>\n",
       "      <td>128735</td>\n",
       "      <td>78.62</td>\n",
       "    </tr>\n",
       "    <tr>\n",
       "      <th>Japan</th>\n",
       "      <td>5</td>\n",
       "      <td>12608</td>\n",
       "      <td>75.92</td>\n",
       "    </tr>\n",
       "    <tr>\n",
       "      <th>South Korea</th>\n",
       "      <td>4</td>\n",
       "      <td>6195</td>\n",
       "      <td>72.45</td>\n",
       "    </tr>\n",
       "    <tr>\n",
       "      <th>Canada</th>\n",
       "      <td>4</td>\n",
       "      <td>63451</td>\n",
       "      <td>77.47</td>\n",
       "    </tr>\n",
       "    <tr>\n",
       "      <th>China (Mainland)</th>\n",
       "      <td>4</td>\n",
       "      <td>22549</td>\n",
       "      <td>79.72</td>\n",
       "    </tr>\n",
       "    <tr>\n",
       "      <th>Switzerland</th>\n",
       "      <td>4</td>\n",
       "      <td>25750</td>\n",
       "      <td>79.18</td>\n",
       "    </tr>\n",
       "    <tr>\n",
       "      <th>Germany</th>\n",
       "      <td>4</td>\n",
       "      <td>26483</td>\n",
       "      <td>68.78</td>\n",
       "    </tr>\n",
       "    <tr>\n",
       "      <th>Hong Kong SAR</th>\n",
       "      <td>4</td>\n",
       "      <td>22737</td>\n",
       "      <td>80.18</td>\n",
       "    </tr>\n",
       "    <tr>\n",
       "      <th>Sweden</th>\n",
       "      <td>3</td>\n",
       "      <td>18140</td>\n",
       "      <td>65.00</td>\n",
       "    </tr>\n",
       "    <tr>\n",
       "      <th>France</th>\n",
       "      <td>2</td>\n",
       "      <td>1622</td>\n",
       "      <td>74.90</td>\n",
       "    </tr>\n",
       "    <tr>\n",
       "      <th>Netherlands</th>\n",
       "      <td>2</td>\n",
       "      <td>14073</td>\n",
       "      <td>73.20</td>\n",
       "    </tr>\n",
       "    <tr>\n",
       "      <th>Singapore</th>\n",
       "      <td>2</td>\n",
       "      <td>13642</td>\n",
       "      <td>91.45</td>\n",
       "    </tr>\n",
       "    <tr>\n",
       "      <th>Taiwan</th>\n",
       "      <td>1</td>\n",
       "      <td>5058</td>\n",
       "      <td>70.20</td>\n",
       "    </tr>\n",
       "    <tr>\n",
       "      <th>Argentina</th>\n",
       "      <td>1</td>\n",
       "      <td>29516</td>\n",
       "      <td>65.80</td>\n",
       "    </tr>\n",
       "    <tr>\n",
       "      <th>New Zealand</th>\n",
       "      <td>1</td>\n",
       "      <td>9924</td>\n",
       "      <td>67.30</td>\n",
       "    </tr>\n",
       "    <tr>\n",
       "      <th>Finland</th>\n",
       "      <td>1</td>\n",
       "      <td>1254</td>\n",
       "      <td>64.70</td>\n",
       "    </tr>\n",
       "    <tr>\n",
       "      <th>Denmark</th>\n",
       "      <td>1</td>\n",
       "      <td>4135</td>\n",
       "      <td>70.20</td>\n",
       "    </tr>\n",
       "    <tr>\n",
       "      <th>Belgium</th>\n",
       "      <td>1</td>\n",
       "      <td>8485</td>\n",
       "      <td>67.90</td>\n",
       "    </tr>\n",
       "    <tr>\n",
       "      <th>Ireland</th>\n",
       "      <td>1</td>\n",
       "      <td>5593</td>\n",
       "      <td>62.80</td>\n",
       "    </tr>\n",
       "  </tbody>\n",
       "</table>\n",
       "</div>"
      ],
      "text/plain": [
       "                  total_universities ranked in 100  \\\n",
       "country                                              \n",
       "United States                                   32   \n",
       "United Kingdom                                  18   \n",
       "Australia                                        6   \n",
       "Japan                                            5   \n",
       "South Korea                                      4   \n",
       "Canada                                           4   \n",
       "China (Mainland)                                 4   \n",
       "Switzerland                                      4   \n",
       "Germany                                          4   \n",
       "Hong Kong SAR                                    4   \n",
       "Sweden                                           3   \n",
       "France                                           2   \n",
       "Netherlands                                      2   \n",
       "Singapore                                        2   \n",
       "Taiwan                                           1   \n",
       "Argentina                                        1   \n",
       "New Zealand                                      1   \n",
       "Finland                                          1   \n",
       "Denmark                                          1   \n",
       "Belgium                                          1   \n",
       "Ireland                                          1   \n",
       "\n",
       "                  total_international_students  average_score  \n",
       "country                                                        \n",
       "United States                           190002          80.77  \n",
       "United Kingdom                          194164          79.18  \n",
       "Australia                               128735          78.62  \n",
       "Japan                                    12608          75.92  \n",
       "South Korea                               6195          72.45  \n",
       "Canada                                   63451          77.47  \n",
       "China (Mainland)                         22549          79.72  \n",
       "Switzerland                              25750          79.18  \n",
       "Germany                                  26483          68.78  \n",
       "Hong Kong SAR                            22737          80.18  \n",
       "Sweden                                   18140          65.00  \n",
       "France                                    1622          74.90  \n",
       "Netherlands                              14073          73.20  \n",
       "Singapore                                13642          91.45  \n",
       "Taiwan                                    5058          70.20  \n",
       "Argentina                                29516          65.80  \n",
       "New Zealand                               9924          67.30  \n",
       "Finland                                   1254          64.70  \n",
       "Denmark                                   4135          70.20  \n",
       "Belgium                                   8485          67.90  \n",
       "Ireland                                   5593          62.80  "
      ]
     },
     "execution_count": 34,
     "metadata": {},
     "output_type": "execute_result"
    }
   ],
   "source": [
    "country_table['average_score'] = country_table['average_score'].round(2)\n",
    "country_table"
   ]
  },
  {
   "cell_type": "code",
   "execution_count": 35,
   "metadata": {},
   "outputs": [
    {
     "data": {
      "text/html": [
       "<div>\n",
       "<style scoped>\n",
       "    .dataframe tbody tr th:only-of-type {\n",
       "        vertical-align: middle;\n",
       "    }\n",
       "\n",
       "    .dataframe tbody tr th {\n",
       "        vertical-align: top;\n",
       "    }\n",
       "\n",
       "    .dataframe thead th {\n",
       "        text-align: right;\n",
       "    }\n",
       "</style>\n",
       "<table border=\"1\" class=\"dataframe\">\n",
       "  <thead>\n",
       "    <tr style=\"text-align: right;\">\n",
       "      <th></th>\n",
       "      <th>country</th>\n",
       "      <th>total_universities ranked in 100</th>\n",
       "      <th>total_international_students</th>\n",
       "      <th>average_score</th>\n",
       "      <th>Region</th>\n",
       "      <th>Surface area (km2)</th>\n",
       "      <th>Population in thousands (2017)</th>\n",
       "      <th>Population density (per km2, 2017)</th>\n",
       "      <th>Sex ratio (m per 100 f, 2017)</th>\n",
       "      <th>GDP: Gross domestic product (million current US$)</th>\n",
       "      <th>GDP growth rate (annual %, const. 2005 prices)</th>\n",
       "      <th>GDP per capita (current US$)</th>\n",
       "      <th>Economy: Agriculture (% of GVA)</th>\n",
       "      <th>Economy: Industry (% of GVA)</th>\n",
       "      <th>Economy: Services and other activity (% of GVA)</th>\n",
       "      <th>Employment: Agriculture (% of employed)</th>\n",
       "      <th>Employment: Industry (% of employed)</th>\n",
       "      <th>Employment: Services (% of employed)</th>\n",
       "      <th>Unemployment (% of labour force)</th>\n",
       "      <th>Labour force participation (female/male pop. %)</th>\n",
       "      <th>Agricultural production index (2004-2006=100)</th>\n",
       "      <th>Food production index (2004-2006=100)</th>\n",
       "      <th>International trade: Exports (million US$)</th>\n",
       "      <th>International trade: Imports (million US$)</th>\n",
       "      <th>International trade: Balance (million US$)</th>\n",
       "      <th>Balance of payments, current account (million US$)</th>\n",
       "      <th>Population growth rate (average annual %)</th>\n",
       "      <th>Urban population (% of total population)</th>\n",
       "      <th>Urban population growth rate (average annual %)</th>\n",
       "      <th>Fertility rate, total (live births per woman)</th>\n",
       "      <th>Life expectancy at birth (females/males, years)</th>\n",
       "      <th>Population age distribution (0-14 / 60+ years, %)</th>\n",
       "      <th>International migrant stock (000/% of total pop.)</th>\n",
       "      <th>Refugees and others of concern to UNHCR (in thousands)</th>\n",
       "      <th>Infant mortality rate (per 1000 live births</th>\n",
       "      <th>Health: Total expenditure (% of GDP)</th>\n",
       "      <th>Health: Physicians (per 1000 pop.)</th>\n",
       "      <th>Education: Government expenditure (% of GDP)</th>\n",
       "      <th>Education: Primary gross enrol. ratio (f/m per 100 pop.)</th>\n",
       "      <th>Education: Secondary gross enrol. ratio (f/m per 100 pop.)</th>\n",
       "      <th>Education: Tertiary gross enrol. ratio (f/m per 100 pop.)</th>\n",
       "      <th>Seats held by women in national parliaments %</th>\n",
       "      <th>Mobile-cellular subscriptions (per 100 inhabitants)</th>\n",
       "      <th>Mobile-cellular subscriptions (per 100 inhabitants).1</th>\n",
       "      <th>Individuals using the Internet (per 100 inhabitants)</th>\n",
       "      <th>Threatened species (number)</th>\n",
       "      <th>Forested area (% of land area)</th>\n",
       "      <th>CO2 emission estimates (million tons/tons per capita)</th>\n",
       "      <th>Energy production, primary (Petajoules)</th>\n",
       "      <th>Energy supply per capita (Gigajoules)</th>\n",
       "      <th>Pop. using improved drinking water (urban/rural, %)</th>\n",
       "      <th>Pop. using improved sanitation facilities (urban/rural, %)</th>\n",
       "      <th>Net Official Development Assist. received (% of GNI)</th>\n",
       "    </tr>\n",
       "  </thead>\n",
       "  <tbody>\n",
       "    <tr>\n",
       "      <th>0</th>\n",
       "      <td>United States</td>\n",
       "      <td>32</td>\n",
       "      <td>190002</td>\n",
       "      <td>80.77</td>\n",
       "      <td>NorthernAmerica</td>\n",
       "      <td>9833517.0</td>\n",
       "      <td>324460.0</td>\n",
       "      <td>35.5</td>\n",
       "      <td>98.0</td>\n",
       "      <td>18036648.0</td>\n",
       "      <td>2.6</td>\n",
       "      <td>56053.8</td>\n",
       "      <td>1.0</td>\n",
       "      <td>19.7</td>\n",
       "      <td>79.3</td>\n",
       "      <td>1.5</td>\n",
       "      <td>17.2</td>\n",
       "      <td>81.3</td>\n",
       "      <td>4.9</td>\n",
       "      <td>NaN</td>\n",
       "      <td>111.0</td>\n",
       "      <td>113.0</td>\n",
       "      <td>1453167.0</td>\n",
       "      <td>2249661.0</td>\n",
       "      <td>-796494.0</td>\n",
       "      <td>-462961.0</td>\n",
       "      <td>0.7</td>\n",
       "      <td>81.6</td>\n",
       "      <td>1.0</td>\n",
       "      <td>1.9</td>\n",
       "      <td>NaN</td>\n",
       "      <td>NaN</td>\n",
       "      <td>NaN</td>\n",
       "      <td>616.5</td>\n",
       "      <td>6.0</td>\n",
       "      <td>17.1</td>\n",
       "      <td>2.6</td>\n",
       "      <td>5.4</td>\n",
       "      <td>NaN</td>\n",
       "      <td>NaN</td>\n",
       "      <td>NaN</td>\n",
       "      <td>19.1</td>\n",
       "      <td>117.6</td>\n",
       "      <td>74.6</td>\n",
       "      <td>1513.0</td>\n",
       "      <td>33.9</td>\n",
       "      <td>NaN</td>\n",
       "      <td>83887.0</td>\n",
       "      <td>289.0</td>\n",
       "      <td>NaN</td>\n",
       "      <td>NaN</td>\n",
       "      <td>-99.00</td>\n",
       "      <td>-99.0</td>\n",
       "    </tr>\n",
       "    <tr>\n",
       "      <th>1</th>\n",
       "      <td>United Kingdom</td>\n",
       "      <td>18</td>\n",
       "      <td>194164</td>\n",
       "      <td>79.18</td>\n",
       "      <td>NorthernEurope</td>\n",
       "      <td>242495.0</td>\n",
       "      <td>66182.0</td>\n",
       "      <td>273.6</td>\n",
       "      <td>97.4</td>\n",
       "      <td>2858003.0</td>\n",
       "      <td>2.2</td>\n",
       "      <td>44162.4</td>\n",
       "      <td>0.7</td>\n",
       "      <td>19.4</td>\n",
       "      <td>79.9</td>\n",
       "      <td>1.2</td>\n",
       "      <td>18.4</td>\n",
       "      <td>80.4</td>\n",
       "      <td>5.0</td>\n",
       "      <td>NaN</td>\n",
       "      <td>108.0</td>\n",
       "      <td>108.0</td>\n",
       "      <td>415856.0</td>\n",
       "      <td>635570.0</td>\n",
       "      <td>-219713.0</td>\n",
       "      <td>-122571.0</td>\n",
       "      <td>0.6</td>\n",
       "      <td>82.6</td>\n",
       "      <td>0.9</td>\n",
       "      <td>1.9</td>\n",
       "      <td>NaN</td>\n",
       "      <td>NaN</td>\n",
       "      <td>NaN</td>\n",
       "      <td>151.7</td>\n",
       "      <td>4.1</td>\n",
       "      <td>9.1</td>\n",
       "      <td>2.8</td>\n",
       "      <td>5.7</td>\n",
       "      <td>NaN</td>\n",
       "      <td>NaN</td>\n",
       "      <td>NaN</td>\n",
       "      <td>30.0</td>\n",
       "      <td>125.8</td>\n",
       "      <td>92.0</td>\n",
       "      <td>102.0</td>\n",
       "      <td>12.9</td>\n",
       "      <td>NaN</td>\n",
       "      <td>4482.0</td>\n",
       "      <td>116.0</td>\n",
       "      <td>NaN</td>\n",
       "      <td>NaN</td>\n",
       "      <td>-99.00</td>\n",
       "      <td>-99.0</td>\n",
       "    </tr>\n",
       "    <tr>\n",
       "      <th>2</th>\n",
       "      <td>Australia</td>\n",
       "      <td>6</td>\n",
       "      <td>128735</td>\n",
       "      <td>78.62</td>\n",
       "      <td>Oceania</td>\n",
       "      <td>7692060.0</td>\n",
       "      <td>24451.0</td>\n",
       "      <td>3.2</td>\n",
       "      <td>99.3</td>\n",
       "      <td>1230859.0</td>\n",
       "      <td>2.4</td>\n",
       "      <td>51352.2</td>\n",
       "      <td>2.5</td>\n",
       "      <td>26.5</td>\n",
       "      <td>71.1</td>\n",
       "      <td>2.7</td>\n",
       "      <td>21.2</td>\n",
       "      <td>76.1</td>\n",
       "      <td>5.5</td>\n",
       "      <td>NaN</td>\n",
       "      <td>111.0</td>\n",
       "      <td>111.0</td>\n",
       "      <td>189630.0</td>\n",
       "      <td>189406.0</td>\n",
       "      <td>224.0</td>\n",
       "      <td>-57746.0</td>\n",
       "      <td>1.5</td>\n",
       "      <td>89.4</td>\n",
       "      <td>1.5</td>\n",
       "      <td>1.9</td>\n",
       "      <td>NaN</td>\n",
       "      <td>NaN</td>\n",
       "      <td>NaN</td>\n",
       "      <td>58.2</td>\n",
       "      <td>3.9</td>\n",
       "      <td>9.4</td>\n",
       "      <td>3.4</td>\n",
       "      <td>5.2</td>\n",
       "      <td>NaN</td>\n",
       "      <td>NaN</td>\n",
       "      <td>NaN</td>\n",
       "      <td>28.7</td>\n",
       "      <td>132.8</td>\n",
       "      <td>84.6</td>\n",
       "      <td>948.0</td>\n",
       "      <td>16.2</td>\n",
       "      <td>NaN</td>\n",
       "      <td>15282.0</td>\n",
       "      <td>222.0</td>\n",
       "      <td>NaN</td>\n",
       "      <td>NaN</td>\n",
       "      <td>-99.00</td>\n",
       "      <td>-99.0</td>\n",
       "    </tr>\n",
       "    <tr>\n",
       "      <th>3</th>\n",
       "      <td>Japan</td>\n",
       "      <td>5</td>\n",
       "      <td>12608</td>\n",
       "      <td>75.92</td>\n",
       "      <td>EasternAsia</td>\n",
       "      <td>377930.0</td>\n",
       "      <td>127484.0</td>\n",
       "      <td>349.7</td>\n",
       "      <td>95.4</td>\n",
       "      <td>4383076.0</td>\n",
       "      <td>1.2</td>\n",
       "      <td>34628.7</td>\n",
       "      <td>1.2</td>\n",
       "      <td>26.4</td>\n",
       "      <td>72.4</td>\n",
       "      <td>3.7</td>\n",
       "      <td>26.5</td>\n",
       "      <td>69.8</td>\n",
       "      <td>3.0</td>\n",
       "      <td>NaN</td>\n",
       "      <td>96.0</td>\n",
       "      <td>97.0</td>\n",
       "      <td>644932.0</td>\n",
       "      <td>606924.0</td>\n",
       "      <td>38008.0</td>\n",
       "      <td>135608.0</td>\n",
       "      <td>-0.1</td>\n",
       "      <td>93.5</td>\n",
       "      <td>0.6</td>\n",
       "      <td>1.4</td>\n",
       "      <td>NaN</td>\n",
       "      <td>NaN</td>\n",
       "      <td>NaN</td>\n",
       "      <td>19.4</td>\n",
       "      <td>2.2</td>\n",
       "      <td>10.2</td>\n",
       "      <td>2.3</td>\n",
       "      <td>3.6</td>\n",
       "      <td>NaN</td>\n",
       "      <td>NaN</td>\n",
       "      <td>NaN</td>\n",
       "      <td>9.3</td>\n",
       "      <td>125.0</td>\n",
       "      <td>93.3</td>\n",
       "      <td>404.0</td>\n",
       "      <td>68.5</td>\n",
       "      <td>NaN</td>\n",
       "      <td>1114.0</td>\n",
       "      <td>146.0</td>\n",
       "      <td>NaN</td>\n",
       "      <td>NaN</td>\n",
       "      <td>-99.00</td>\n",
       "      <td>-99.0</td>\n",
       "    </tr>\n",
       "    <tr>\n",
       "      <th>4</th>\n",
       "      <td>South Korea</td>\n",
       "      <td>4</td>\n",
       "      <td>6195</td>\n",
       "      <td>72.45</td>\n",
       "      <td>EasternAsia</td>\n",
       "      <td>120538.0</td>\n",
       "      <td>25491.0</td>\n",
       "      <td>211.7</td>\n",
       "      <td>95.7</td>\n",
       "      <td>16283.0</td>\n",
       "      <td>-1.1</td>\n",
       "      <td>648.0</td>\n",
       "      <td>21.6</td>\n",
       "      <td>46.2</td>\n",
       "      <td>32.2</td>\n",
       "      <td>58.9</td>\n",
       "      <td>19.3</td>\n",
       "      <td>21.8</td>\n",
       "      <td>4.3</td>\n",
       "      <td>NaN</td>\n",
       "      <td>104.0</td>\n",
       "      <td>103.0</td>\n",
       "      <td>1010.0</td>\n",
       "      <td>2757.0</td>\n",
       "      <td>-1748.0</td>\n",
       "      <td>-99.0</td>\n",
       "      <td>0.5</td>\n",
       "      <td>60.9</td>\n",
       "      <td>0.7</td>\n",
       "      <td>2.0</td>\n",
       "      <td>NaN</td>\n",
       "      <td>NaN</td>\n",
       "      <td>NaN</td>\n",
       "      <td>-99.0</td>\n",
       "      <td>18.5</td>\n",
       "      <td>-99.0</td>\n",
       "      <td>2.8</td>\n",
       "      <td>-99.0</td>\n",
       "      <td>NaN</td>\n",
       "      <td>NaN</td>\n",
       "      <td>NaN</td>\n",
       "      <td>16.3</td>\n",
       "      <td>12.9</td>\n",
       "      <td>0.0</td>\n",
       "      <td>78.0</td>\n",
       "      <td>42.8</td>\n",
       "      <td>NaN</td>\n",
       "      <td>871.0</td>\n",
       "      <td>20.0</td>\n",
       "      <td>NaN</td>\n",
       "      <td>NaN</td>\n",
       "      <td>-99.00</td>\n",
       "      <td>-99.0</td>\n",
       "    </tr>\n",
       "    <tr>\n",
       "      <th>5</th>\n",
       "      <td>Canada</td>\n",
       "      <td>4</td>\n",
       "      <td>63451</td>\n",
       "      <td>77.47</td>\n",
       "      <td>NorthernAmerica</td>\n",
       "      <td>9984670.0</td>\n",
       "      <td>36624.0</td>\n",
       "      <td>4.0</td>\n",
       "      <td>98.5</td>\n",
       "      <td>1552808.0</td>\n",
       "      <td>0.9</td>\n",
       "      <td>43205.6</td>\n",
       "      <td>1.8</td>\n",
       "      <td>28.6</td>\n",
       "      <td>69.6</td>\n",
       "      <td>2.1</td>\n",
       "      <td>19.5</td>\n",
       "      <td>78.4</td>\n",
       "      <td>7.1</td>\n",
       "      <td>NaN</td>\n",
       "      <td>109.0</td>\n",
       "      <td>109.0</td>\n",
       "      <td>388911.0</td>\n",
       "      <td>402954.0</td>\n",
       "      <td>-14043.0</td>\n",
       "      <td>-53083.0</td>\n",
       "      <td>1.0</td>\n",
       "      <td>81.8</td>\n",
       "      <td>1.2</td>\n",
       "      <td>1.6</td>\n",
       "      <td>NaN</td>\n",
       "      <td>NaN</td>\n",
       "      <td>NaN</td>\n",
       "      <td>155.8</td>\n",
       "      <td>4.7</td>\n",
       "      <td>10.4</td>\n",
       "      <td>2.5</td>\n",
       "      <td>5.3</td>\n",
       "      <td>NaN</td>\n",
       "      <td>NaN</td>\n",
       "      <td>NaN</td>\n",
       "      <td>26.3</td>\n",
       "      <td>81.9</td>\n",
       "      <td>88.5</td>\n",
       "      <td>122.0</td>\n",
       "      <td>38.2</td>\n",
       "      <td>NaN</td>\n",
       "      <td>19276.0</td>\n",
       "      <td>324.0</td>\n",
       "      <td>NaN</td>\n",
       "      <td>NaN</td>\n",
       "      <td>-99.00</td>\n",
       "      <td>-99.0</td>\n",
       "    </tr>\n",
       "    <tr>\n",
       "      <th>6</th>\n",
       "      <td>China (Mainland)</td>\n",
       "      <td>4</td>\n",
       "      <td>22549</td>\n",
       "      <td>79.72</td>\n",
       "      <td>EasternAsia</td>\n",
       "      <td>9600000.0</td>\n",
       "      <td>1409517.0</td>\n",
       "      <td>150.1</td>\n",
       "      <td>106.3</td>\n",
       "      <td>11158457.0</td>\n",
       "      <td>6.9</td>\n",
       "      <td>8109.1</td>\n",
       "      <td>9.2</td>\n",
       "      <td>41.1</td>\n",
       "      <td>49.7</td>\n",
       "      <td>27.0</td>\n",
       "      <td>23.9</td>\n",
       "      <td>49.1</td>\n",
       "      <td>4.6</td>\n",
       "      <td>NaN</td>\n",
       "      <td>132.0</td>\n",
       "      <td>133.0</td>\n",
       "      <td>2118981.0</td>\n",
       "      <td>1588696.0</td>\n",
       "      <td>530285.0</td>\n",
       "      <td>330602.0</td>\n",
       "      <td>0.5</td>\n",
       "      <td>55.6</td>\n",
       "      <td>3.0</td>\n",
       "      <td>1.6</td>\n",
       "      <td>NaN</td>\n",
       "      <td>NaN</td>\n",
       "      <td>NaN</td>\n",
       "      <td>301.7</td>\n",
       "      <td>11.6</td>\n",
       "      <td>5.5</td>\n",
       "      <td>1.5</td>\n",
       "      <td>-99.0</td>\n",
       "      <td>NaN</td>\n",
       "      <td>NaN</td>\n",
       "      <td>NaN</td>\n",
       "      <td>23.7</td>\n",
       "      <td>93.2</td>\n",
       "      <td>50.3</td>\n",
       "      <td>1080.0</td>\n",
       "      <td>22.0</td>\n",
       "      <td>NaN</td>\n",
       "      <td>101394.0</td>\n",
       "      <td>87.0</td>\n",
       "      <td>NaN</td>\n",
       "      <td>NaN</td>\n",
       "      <td>0.00</td>\n",
       "      <td>-99.0</td>\n",
       "    </tr>\n",
       "    <tr>\n",
       "      <th>7</th>\n",
       "      <td>Switzerland</td>\n",
       "      <td>4</td>\n",
       "      <td>25750</td>\n",
       "      <td>79.18</td>\n",
       "      <td>WesternEurope</td>\n",
       "      <td>41291.0</td>\n",
       "      <td>8476.0</td>\n",
       "      <td>214.5</td>\n",
       "      <td>98.2</td>\n",
       "      <td>670790.0</td>\n",
       "      <td>0.8</td>\n",
       "      <td>80831.1</td>\n",
       "      <td>0.7</td>\n",
       "      <td>25.5</td>\n",
       "      <td>73.8</td>\n",
       "      <td>3.5</td>\n",
       "      <td>20.4</td>\n",
       "      <td>76.1</td>\n",
       "      <td>4.6</td>\n",
       "      <td>NaN</td>\n",
       "      <td>106.0</td>\n",
       "      <td>106.0</td>\n",
       "      <td>304691.0</td>\n",
       "      <td>269157.0</td>\n",
       "      <td>35534.0</td>\n",
       "      <td>77378.0</td>\n",
       "      <td>1.2</td>\n",
       "      <td>73.9</td>\n",
       "      <td>1.1</td>\n",
       "      <td>1.5</td>\n",
       "      <td>NaN</td>\n",
       "      <td>NaN</td>\n",
       "      <td>NaN</td>\n",
       "      <td>110.1</td>\n",
       "      <td>3.9</td>\n",
       "      <td>11.7</td>\n",
       "      <td>4.1</td>\n",
       "      <td>5.1</td>\n",
       "      <td>NaN</td>\n",
       "      <td>NaN</td>\n",
       "      <td>NaN</td>\n",
       "      <td>32.5</td>\n",
       "      <td>142.0</td>\n",
       "      <td>88.0</td>\n",
       "      <td>74.0</td>\n",
       "      <td>31.6</td>\n",
       "      <td>NaN</td>\n",
       "      <td>552.0</td>\n",
       "      <td>126.0</td>\n",
       "      <td>NaN</td>\n",
       "      <td>NaN</td>\n",
       "      <td>-99.00</td>\n",
       "      <td>-99.0</td>\n",
       "    </tr>\n",
       "    <tr>\n",
       "      <th>8</th>\n",
       "      <td>Germany</td>\n",
       "      <td>4</td>\n",
       "      <td>26483</td>\n",
       "      <td>68.78</td>\n",
       "      <td>WesternEurope</td>\n",
       "      <td>357376.0</td>\n",
       "      <td>82114.0</td>\n",
       "      <td>235.6</td>\n",
       "      <td>97.0</td>\n",
       "      <td>3363600.0</td>\n",
       "      <td>1.7</td>\n",
       "      <td>41686.2</td>\n",
       "      <td>0.6</td>\n",
       "      <td>30.5</td>\n",
       "      <td>68.9</td>\n",
       "      <td>1.4</td>\n",
       "      <td>27.5</td>\n",
       "      <td>71.2</td>\n",
       "      <td>4.2</td>\n",
       "      <td>NaN</td>\n",
       "      <td>111.0</td>\n",
       "      <td>111.0</td>\n",
       "      <td>1340752.0</td>\n",
       "      <td>1060672.0</td>\n",
       "      <td>280080.0</td>\n",
       "      <td>279969.0</td>\n",
       "      <td>0.2</td>\n",
       "      <td>75.3</td>\n",
       "      <td>0.2</td>\n",
       "      <td>1.4</td>\n",
       "      <td>NaN</td>\n",
       "      <td>NaN</td>\n",
       "      <td>NaN</td>\n",
       "      <td>1052.1</td>\n",
       "      <td>3.4</td>\n",
       "      <td>11.3</td>\n",
       "      <td>4.1</td>\n",
       "      <td>5.0</td>\n",
       "      <td>NaN</td>\n",
       "      <td>NaN</td>\n",
       "      <td>NaN</td>\n",
       "      <td>37.0</td>\n",
       "      <td>116.7</td>\n",
       "      <td>87.6</td>\n",
       "      <td>116.0</td>\n",
       "      <td>32.7</td>\n",
       "      <td>NaN</td>\n",
       "      <td>5004.0</td>\n",
       "      <td>158.0</td>\n",
       "      <td>NaN</td>\n",
       "      <td>NaN</td>\n",
       "      <td>-99.00</td>\n",
       "      <td>-99.0</td>\n",
       "    </tr>\n",
       "    <tr>\n",
       "      <th>9</th>\n",
       "      <td>Hong Kong SAR</td>\n",
       "      <td>4</td>\n",
       "      <td>22737</td>\n",
       "      <td>80.18</td>\n",
       "      <td>EasternAsia</td>\n",
       "      <td>1106.0</td>\n",
       "      <td>7365.0</td>\n",
       "      <td>7014.2</td>\n",
       "      <td>85.1</td>\n",
       "      <td>309236.0</td>\n",
       "      <td>2.4</td>\n",
       "      <td>42431.0</td>\n",
       "      <td>0.1</td>\n",
       "      <td>7.2</td>\n",
       "      <td>92.7</td>\n",
       "      <td>0.2</td>\n",
       "      <td>14.9</td>\n",
       "      <td>84.9</td>\n",
       "      <td>3.5</td>\n",
       "      <td>NaN</td>\n",
       "      <td>34.0</td>\n",
       "      <td>34.0</td>\n",
       "      <td>516588.0</td>\n",
       "      <td>547124.0</td>\n",
       "      <td>-30536.0</td>\n",
       "      <td>10101.0</td>\n",
       "      <td>0.6</td>\n",
       "      <td>100.0</td>\n",
       "      <td>0.7</td>\n",
       "      <td>1.2</td>\n",
       "      <td>NaN</td>\n",
       "      <td>NaN</td>\n",
       "      <td>NaN</td>\n",
       "      <td>2.5</td>\n",
       "      <td>1.6</td>\n",
       "      <td>-99.0</td>\n",
       "      <td>-99.0</td>\n",
       "      <td>3.3</td>\n",
       "      <td>-99.0</td>\n",
       "      <td>NaN</td>\n",
       "      <td>NaN</td>\n",
       "      <td>-99.0</td>\n",
       "      <td>228.8</td>\n",
       "      <td>84.9</td>\n",
       "      <td>64.0</td>\n",
       "      <td>-99.0</td>\n",
       "      <td>NaN</td>\n",
       "      <td>-99.0</td>\n",
       "      <td>83.0</td>\n",
       "      <td>-99.0</td>\n",
       "      <td>-99.0</td>\n",
       "      <td>-99.00</td>\n",
       "      <td>-99.0</td>\n",
       "    </tr>\n",
       "    <tr>\n",
       "      <th>10</th>\n",
       "      <td>Sweden</td>\n",
       "      <td>3</td>\n",
       "      <td>18140</td>\n",
       "      <td>65.00</td>\n",
       "      <td>NorthernEurope</td>\n",
       "      <td>438574.0</td>\n",
       "      <td>9911.0</td>\n",
       "      <td>24.2</td>\n",
       "      <td>100.2</td>\n",
       "      <td>495694.0</td>\n",
       "      <td>4.1</td>\n",
       "      <td>50687.5</td>\n",
       "      <td>1.3</td>\n",
       "      <td>26.3</td>\n",
       "      <td>72.4</td>\n",
       "      <td>1.8</td>\n",
       "      <td>18.2</td>\n",
       "      <td>79.9</td>\n",
       "      <td>7.3</td>\n",
       "      <td>NaN</td>\n",
       "      <td>100.0</td>\n",
       "      <td>100.0</td>\n",
       "      <td>139574.0</td>\n",
       "      <td>140838.0</td>\n",
       "      <td>-1263.0</td>\n",
       "      <td>23250.0</td>\n",
       "      <td>0.8</td>\n",
       "      <td>85.8</td>\n",
       "      <td>0.8</td>\n",
       "      <td>1.9</td>\n",
       "      <td>NaN</td>\n",
       "      <td>NaN</td>\n",
       "      <td>NaN</td>\n",
       "      <td>348.5</td>\n",
       "      <td>2.4</td>\n",
       "      <td>11.9</td>\n",
       "      <td>4.1</td>\n",
       "      <td>7.7</td>\n",
       "      <td>NaN</td>\n",
       "      <td>NaN</td>\n",
       "      <td>NaN</td>\n",
       "      <td>43.6</td>\n",
       "      <td>130.4</td>\n",
       "      <td>90.6</td>\n",
       "      <td>54.0</td>\n",
       "      <td>68.9</td>\n",
       "      <td>NaN</td>\n",
       "      <td>1428.0</td>\n",
       "      <td>206.0</td>\n",
       "      <td>NaN</td>\n",
       "      <td>NaN</td>\n",
       "      <td>-99.00</td>\n",
       "      <td>-99.0</td>\n",
       "    </tr>\n",
       "    <tr>\n",
       "      <th>11</th>\n",
       "      <td>France</td>\n",
       "      <td>2</td>\n",
       "      <td>1622</td>\n",
       "      <td>74.90</td>\n",
       "      <td>WesternEurope</td>\n",
       "      <td>551500.0</td>\n",
       "      <td>64980.0</td>\n",
       "      <td>118.7</td>\n",
       "      <td>96.7</td>\n",
       "      <td>2418946.0</td>\n",
       "      <td>1.3</td>\n",
       "      <td>36304.2</td>\n",
       "      <td>1.7</td>\n",
       "      <td>19.5</td>\n",
       "      <td>78.8</td>\n",
       "      <td>2.7</td>\n",
       "      <td>20.5</td>\n",
       "      <td>76.8</td>\n",
       "      <td>9.8</td>\n",
       "      <td>NaN</td>\n",
       "      <td>103.0</td>\n",
       "      <td>103.0</td>\n",
       "      <td>488885.0</td>\n",
       "      <td>560555.0</td>\n",
       "      <td>-71670.0</td>\n",
       "      <td>-4861.0</td>\n",
       "      <td>0.4</td>\n",
       "      <td>79.5</td>\n",
       "      <td>0.8</td>\n",
       "      <td>2.0</td>\n",
       "      <td>NaN</td>\n",
       "      <td>NaN</td>\n",
       "      <td>NaN</td>\n",
       "      <td>356.2</td>\n",
       "      <td>3.4</td>\n",
       "      <td>11.5</td>\n",
       "      <td>3.2</td>\n",
       "      <td>5.5</td>\n",
       "      <td>NaN</td>\n",
       "      <td>NaN</td>\n",
       "      <td>NaN</td>\n",
       "      <td>25.8</td>\n",
       "      <td>102.6</td>\n",
       "      <td>84.7</td>\n",
       "      <td>278.0</td>\n",
       "      <td>30.8</td>\n",
       "      <td>NaN</td>\n",
       "      <td>5694.0</td>\n",
       "      <td>158.0</td>\n",
       "      <td>NaN</td>\n",
       "      <td>NaN</td>\n",
       "      <td>-99.00</td>\n",
       "      <td>-99.0</td>\n",
       "    </tr>\n",
       "    <tr>\n",
       "      <th>12</th>\n",
       "      <td>Netherlands</td>\n",
       "      <td>2</td>\n",
       "      <td>14073</td>\n",
       "      <td>73.20</td>\n",
       "      <td>WesternEurope</td>\n",
       "      <td>41542.0</td>\n",
       "      <td>17036.0</td>\n",
       "      <td>505.2</td>\n",
       "      <td>99.0</td>\n",
       "      <td>750318.0</td>\n",
       "      <td>2.0</td>\n",
       "      <td>44332.1</td>\n",
       "      <td>1.8</td>\n",
       "      <td>20.0</td>\n",
       "      <td>78.2</td>\n",
       "      <td>2.2</td>\n",
       "      <td>15.9</td>\n",
       "      <td>81.9</td>\n",
       "      <td>5.6</td>\n",
       "      <td>NaN</td>\n",
       "      <td>115.0</td>\n",
       "      <td>115.0</td>\n",
       "      <td>511714.0</td>\n",
       "      <td>420969.0</td>\n",
       "      <td>90745.0</td>\n",
       "      <td>65129.0</td>\n",
       "      <td>0.3</td>\n",
       "      <td>90.5</td>\n",
       "      <td>1.0</td>\n",
       "      <td>1.7</td>\n",
       "      <td>NaN</td>\n",
       "      <td>NaN</td>\n",
       "      <td>NaN</td>\n",
       "      <td>116.3</td>\n",
       "      <td>3.5</td>\n",
       "      <td>10.9</td>\n",
       "      <td>3.4</td>\n",
       "      <td>5.5</td>\n",
       "      <td>NaN</td>\n",
       "      <td>NaN</td>\n",
       "      <td>NaN</td>\n",
       "      <td>38.0</td>\n",
       "      <td>123.5</td>\n",
       "      <td>93.1</td>\n",
       "      <td>40.0</td>\n",
       "      <td>11.1</td>\n",
       "      <td>NaN</td>\n",
       "      <td>2447.0</td>\n",
       "      <td>178.0</td>\n",
       "      <td>NaN</td>\n",
       "      <td>NaN</td>\n",
       "      <td>-99.00</td>\n",
       "      <td>-99.0</td>\n",
       "    </tr>\n",
       "    <tr>\n",
       "      <th>13</th>\n",
       "      <td>Singapore</td>\n",
       "      <td>2</td>\n",
       "      <td>13642</td>\n",
       "      <td>91.45</td>\n",
       "      <td>South-easternAsia</td>\n",
       "      <td>719.0</td>\n",
       "      <td>5709.0</td>\n",
       "      <td>8155.5</td>\n",
       "      <td>97.7</td>\n",
       "      <td>292734.0</td>\n",
       "      <td>2.0</td>\n",
       "      <td>52239.0</td>\n",
       "      <td>NaN</td>\n",
       "      <td>26.4</td>\n",
       "      <td>73.6</td>\n",
       "      <td>0.3</td>\n",
       "      <td>17.0</td>\n",
       "      <td>82.6</td>\n",
       "      <td>2.0</td>\n",
       "      <td>NaN</td>\n",
       "      <td>112.0</td>\n",
       "      <td>112.0</td>\n",
       "      <td>329871.0</td>\n",
       "      <td>283009.0</td>\n",
       "      <td>46862.0</td>\n",
       "      <td>57922.0</td>\n",
       "      <td>1.7</td>\n",
       "      <td>100.0</td>\n",
       "      <td>2.0</td>\n",
       "      <td>1.2</td>\n",
       "      <td>NaN</td>\n",
       "      <td>NaN</td>\n",
       "      <td>NaN</td>\n",
       "      <td>NaN</td>\n",
       "      <td>2.1</td>\n",
       "      <td>4.9</td>\n",
       "      <td>1.9</td>\n",
       "      <td>2.9</td>\n",
       "      <td>-99.0</td>\n",
       "      <td>-99.0</td>\n",
       "      <td>-99.0</td>\n",
       "      <td>23.8</td>\n",
       "      <td>146.1</td>\n",
       "      <td>82.1</td>\n",
       "      <td>293.0</td>\n",
       "      <td>23.1</td>\n",
       "      <td>NaN</td>\n",
       "      <td>27.0</td>\n",
       "      <td>209.0</td>\n",
       "      <td>NaN</td>\n",
       "      <td>NaN</td>\n",
       "      <td>-99.00</td>\n",
       "      <td>-99.0</td>\n",
       "    </tr>\n",
       "    <tr>\n",
       "      <th>14</th>\n",
       "      <td>Taiwan</td>\n",
       "      <td>1</td>\n",
       "      <td>5058</td>\n",
       "      <td>70.20</td>\n",
       "      <td>NaN</td>\n",
       "      <td>NaN</td>\n",
       "      <td>NaN</td>\n",
       "      <td>NaN</td>\n",
       "      <td>NaN</td>\n",
       "      <td>NaN</td>\n",
       "      <td>NaN</td>\n",
       "      <td>NaN</td>\n",
       "      <td>NaN</td>\n",
       "      <td>NaN</td>\n",
       "      <td>NaN</td>\n",
       "      <td>NaN</td>\n",
       "      <td>NaN</td>\n",
       "      <td>NaN</td>\n",
       "      <td>NaN</td>\n",
       "      <td>NaN</td>\n",
       "      <td>NaN</td>\n",
       "      <td>NaN</td>\n",
       "      <td>NaN</td>\n",
       "      <td>NaN</td>\n",
       "      <td>NaN</td>\n",
       "      <td>NaN</td>\n",
       "      <td>NaN</td>\n",
       "      <td>NaN</td>\n",
       "      <td>NaN</td>\n",
       "      <td>NaN</td>\n",
       "      <td>NaN</td>\n",
       "      <td>NaN</td>\n",
       "      <td>NaN</td>\n",
       "      <td>NaN</td>\n",
       "      <td>NaN</td>\n",
       "      <td>NaN</td>\n",
       "      <td>NaN</td>\n",
       "      <td>NaN</td>\n",
       "      <td>NaN</td>\n",
       "      <td>NaN</td>\n",
       "      <td>NaN</td>\n",
       "      <td>NaN</td>\n",
       "      <td>NaN</td>\n",
       "      <td>NaN</td>\n",
       "      <td>NaN</td>\n",
       "      <td>NaN</td>\n",
       "      <td>NaN</td>\n",
       "      <td>NaN</td>\n",
       "      <td>NaN</td>\n",
       "      <td>NaN</td>\n",
       "      <td>NaN</td>\n",
       "      <td>NaN</td>\n",
       "      <td>NaN</td>\n",
       "    </tr>\n",
       "    <tr>\n",
       "      <th>15</th>\n",
       "      <td>Argentina</td>\n",
       "      <td>1</td>\n",
       "      <td>29516</td>\n",
       "      <td>65.80</td>\n",
       "      <td>SouthAmerica</td>\n",
       "      <td>2780400.0</td>\n",
       "      <td>44271.0</td>\n",
       "      <td>16.2</td>\n",
       "      <td>95.9</td>\n",
       "      <td>632343.0</td>\n",
       "      <td>2.4</td>\n",
       "      <td>14564.5</td>\n",
       "      <td>6.0</td>\n",
       "      <td>27.8</td>\n",
       "      <td>66.2</td>\n",
       "      <td>2.0</td>\n",
       "      <td>24.8</td>\n",
       "      <td>73.1</td>\n",
       "      <td>6.5</td>\n",
       "      <td>NaN</td>\n",
       "      <td>119.0</td>\n",
       "      <td>119.0</td>\n",
       "      <td>57733.0</td>\n",
       "      <td>55610.0</td>\n",
       "      <td>2124.0</td>\n",
       "      <td>-15944.0</td>\n",
       "      <td>1.0</td>\n",
       "      <td>91.8</td>\n",
       "      <td>1.0</td>\n",
       "      <td>2.3</td>\n",
       "      <td>NaN</td>\n",
       "      <td>NaN</td>\n",
       "      <td>NaN</td>\n",
       "      <td>5.0</td>\n",
       "      <td>13.7</td>\n",
       "      <td>4.8</td>\n",
       "      <td>3.8</td>\n",
       "      <td>5.3</td>\n",
       "      <td>NaN</td>\n",
       "      <td>NaN</td>\n",
       "      <td>NaN</td>\n",
       "      <td>38.9</td>\n",
       "      <td>143.9</td>\n",
       "      <td>69.4</td>\n",
       "      <td>256.0</td>\n",
       "      <td>10.0</td>\n",
       "      <td>NaN</td>\n",
       "      <td>3167.0</td>\n",
       "      <td>85.0</td>\n",
       "      <td>NaN</td>\n",
       "      <td>NaN</td>\n",
       "      <td>0.01</td>\n",
       "      <td>-99.0</td>\n",
       "    </tr>\n",
       "    <tr>\n",
       "      <th>16</th>\n",
       "      <td>New Zealand</td>\n",
       "      <td>1</td>\n",
       "      <td>9924</td>\n",
       "      <td>67.30</td>\n",
       "      <td>Oceania</td>\n",
       "      <td>268107.0</td>\n",
       "      <td>4706.0</td>\n",
       "      <td>17.9</td>\n",
       "      <td>96.7</td>\n",
       "      <td>173417.0</td>\n",
       "      <td>3.1</td>\n",
       "      <td>38294.3</td>\n",
       "      <td>6.5</td>\n",
       "      <td>23.0</td>\n",
       "      <td>70.6</td>\n",
       "      <td>5.9</td>\n",
       "      <td>21.4</td>\n",
       "      <td>72.6</td>\n",
       "      <td>5.5</td>\n",
       "      <td>NaN</td>\n",
       "      <td>116.0</td>\n",
       "      <td>118.0</td>\n",
       "      <td>33833.0</td>\n",
       "      <td>36423.0</td>\n",
       "      <td>-2589.0</td>\n",
       "      <td>-5501.0</td>\n",
       "      <td>1.1</td>\n",
       "      <td>86.3</td>\n",
       "      <td>1.0</td>\n",
       "      <td>2.0</td>\n",
       "      <td>NaN</td>\n",
       "      <td>NaN</td>\n",
       "      <td>NaN</td>\n",
       "      <td>1.7</td>\n",
       "      <td>4.4</td>\n",
       "      <td>11.0</td>\n",
       "      <td>2.9</td>\n",
       "      <td>6.4</td>\n",
       "      <td>NaN</td>\n",
       "      <td>NaN</td>\n",
       "      <td>NaN</td>\n",
       "      <td>34.2</td>\n",
       "      <td>121.8</td>\n",
       "      <td>88.2</td>\n",
       "      <td>199.0</td>\n",
       "      <td>38.6</td>\n",
       "      <td>NaN</td>\n",
       "      <td>783.0</td>\n",
       "      <td>207.0</td>\n",
       "      <td>NaN</td>\n",
       "      <td>-99.0</td>\n",
       "      <td>-99.00</td>\n",
       "      <td>-99.0</td>\n",
       "    </tr>\n",
       "    <tr>\n",
       "      <th>17</th>\n",
       "      <td>Finland</td>\n",
       "      <td>1</td>\n",
       "      <td>1254</td>\n",
       "      <td>64.70</td>\n",
       "      <td>NorthernEurope</td>\n",
       "      <td>338440.0</td>\n",
       "      <td>5523.0</td>\n",
       "      <td>18.2</td>\n",
       "      <td>97.2</td>\n",
       "      <td>231960.0</td>\n",
       "      <td>0.2</td>\n",
       "      <td>42148.1</td>\n",
       "      <td>2.5</td>\n",
       "      <td>26.8</td>\n",
       "      <td>70.6</td>\n",
       "      <td>4.2</td>\n",
       "      <td>22.0</td>\n",
       "      <td>73.8</td>\n",
       "      <td>8.9</td>\n",
       "      <td>NaN</td>\n",
       "      <td>101.0</td>\n",
       "      <td>101.0</td>\n",
       "      <td>57326.0</td>\n",
       "      <td>60502.0</td>\n",
       "      <td>-3176.0</td>\n",
       "      <td>-979.0</td>\n",
       "      <td>0.4</td>\n",
       "      <td>84.2</td>\n",
       "      <td>0.5</td>\n",
       "      <td>1.8</td>\n",
       "      <td>NaN</td>\n",
       "      <td>NaN</td>\n",
       "      <td>NaN</td>\n",
       "      <td>32.6</td>\n",
       "      <td>2.3</td>\n",
       "      <td>9.7</td>\n",
       "      <td>3.0</td>\n",
       "      <td>7.2</td>\n",
       "      <td>NaN</td>\n",
       "      <td>NaN</td>\n",
       "      <td>NaN</td>\n",
       "      <td>42.0</td>\n",
       "      <td>135.5</td>\n",
       "      <td>92.7</td>\n",
       "      <td>36.0</td>\n",
       "      <td>73.1</td>\n",
       "      <td>NaN</td>\n",
       "      <td>757.0</td>\n",
       "      <td>257.0</td>\n",
       "      <td>NaN</td>\n",
       "      <td>NaN</td>\n",
       "      <td>-99.00</td>\n",
       "      <td>-99.0</td>\n",
       "    </tr>\n",
       "    <tr>\n",
       "      <th>18</th>\n",
       "      <td>Denmark</td>\n",
       "      <td>1</td>\n",
       "      <td>4135</td>\n",
       "      <td>70.20</td>\n",
       "      <td>NorthernEurope</td>\n",
       "      <td>42921.0</td>\n",
       "      <td>5734.0</td>\n",
       "      <td>135.1</td>\n",
       "      <td>99.0</td>\n",
       "      <td>301308.0</td>\n",
       "      <td>1.6</td>\n",
       "      <td>53149.3</td>\n",
       "      <td>1.2</td>\n",
       "      <td>22.9</td>\n",
       "      <td>75.8</td>\n",
       "      <td>2.4</td>\n",
       "      <td>19.2</td>\n",
       "      <td>78.4</td>\n",
       "      <td>6.0</td>\n",
       "      <td>NaN</td>\n",
       "      <td>105.0</td>\n",
       "      <td>105.0</td>\n",
       "      <td>94355.0</td>\n",
       "      <td>85133.0</td>\n",
       "      <td>9222.0</td>\n",
       "      <td>27582.0</td>\n",
       "      <td>0.5</td>\n",
       "      <td>87.7</td>\n",
       "      <td>0.6</td>\n",
       "      <td>1.7</td>\n",
       "      <td>NaN</td>\n",
       "      <td>NaN</td>\n",
       "      <td>NaN</td>\n",
       "      <td>48.2</td>\n",
       "      <td>3.5</td>\n",
       "      <td>10.8</td>\n",
       "      <td>3.6</td>\n",
       "      <td>8.6</td>\n",
       "      <td>NaN</td>\n",
       "      <td>NaN</td>\n",
       "      <td>NaN</td>\n",
       "      <td>37.4</td>\n",
       "      <td>128.3</td>\n",
       "      <td>96.3</td>\n",
       "      <td>47.0</td>\n",
       "      <td>14.4</td>\n",
       "      <td>NaN</td>\n",
       "      <td>666.0</td>\n",
       "      <td>119.0</td>\n",
       "      <td>NaN</td>\n",
       "      <td>NaN</td>\n",
       "      <td>-99.00</td>\n",
       "      <td>-99.0</td>\n",
       "    </tr>\n",
       "    <tr>\n",
       "      <th>19</th>\n",
       "      <td>Belgium</td>\n",
       "      <td>1</td>\n",
       "      <td>8485</td>\n",
       "      <td>67.90</td>\n",
       "      <td>WesternEurope</td>\n",
       "      <td>30528.0</td>\n",
       "      <td>11429.0</td>\n",
       "      <td>377.5</td>\n",
       "      <td>97.3</td>\n",
       "      <td>455107.0</td>\n",
       "      <td>1.5</td>\n",
       "      <td>40277.8</td>\n",
       "      <td>0.7</td>\n",
       "      <td>22.2</td>\n",
       "      <td>77.1</td>\n",
       "      <td>1.2</td>\n",
       "      <td>21.2</td>\n",
       "      <td>77.6</td>\n",
       "      <td>8.3</td>\n",
       "      <td>NaN</td>\n",
       "      <td>108.0</td>\n",
       "      <td>107.0</td>\n",
       "      <td>398033.0</td>\n",
       "      <td>372713.0</td>\n",
       "      <td>25321.0</td>\n",
       "      <td>1936.0</td>\n",
       "      <td>0.6</td>\n",
       "      <td>97.9</td>\n",
       "      <td>0.5</td>\n",
       "      <td>1.8</td>\n",
       "      <td>NaN</td>\n",
       "      <td>NaN</td>\n",
       "      <td>NaN</td>\n",
       "      <td>63.8</td>\n",
       "      <td>3.5</td>\n",
       "      <td>10.6</td>\n",
       "      <td>3.0</td>\n",
       "      <td>6.6</td>\n",
       "      <td>NaN</td>\n",
       "      <td>NaN</td>\n",
       "      <td>NaN</td>\n",
       "      <td>38.0</td>\n",
       "      <td>115.7</td>\n",
       "      <td>85.1</td>\n",
       "      <td>37.0</td>\n",
       "      <td>22.6</td>\n",
       "      <td>NaN</td>\n",
       "      <td>520.0</td>\n",
       "      <td>196.0</td>\n",
       "      <td>NaN</td>\n",
       "      <td>NaN</td>\n",
       "      <td>-99.00</td>\n",
       "      <td>-99.0</td>\n",
       "    </tr>\n",
       "    <tr>\n",
       "      <th>20</th>\n",
       "      <td>Ireland</td>\n",
       "      <td>1</td>\n",
       "      <td>5593</td>\n",
       "      <td>62.80</td>\n",
       "      <td>NorthernEurope</td>\n",
       "      <td>69797.0</td>\n",
       "      <td>4762.0</td>\n",
       "      <td>69.1</td>\n",
       "      <td>98.4</td>\n",
       "      <td>283716.0</td>\n",
       "      <td>26.3</td>\n",
       "      <td>60513.6</td>\n",
       "      <td>1.0</td>\n",
       "      <td>41.7</td>\n",
       "      <td>57.3</td>\n",
       "      <td>4.8</td>\n",
       "      <td>17.7</td>\n",
       "      <td>77.4</td>\n",
       "      <td>7.6</td>\n",
       "      <td>NaN</td>\n",
       "      <td>102.0</td>\n",
       "      <td>102.0</td>\n",
       "      <td>129315.0</td>\n",
       "      <td>76997.0</td>\n",
       "      <td>52318.0</td>\n",
       "      <td>28967.0</td>\n",
       "      <td>0.3</td>\n",
       "      <td>63.2</td>\n",
       "      <td>1.6</td>\n",
       "      <td>2.0</td>\n",
       "      <td>NaN</td>\n",
       "      <td>NaN</td>\n",
       "      <td>NaN</td>\n",
       "      <td>10.5</td>\n",
       "      <td>3.4</td>\n",
       "      <td>7.8</td>\n",
       "      <td>2.8</td>\n",
       "      <td>5.3</td>\n",
       "      <td>NaN</td>\n",
       "      <td>NaN</td>\n",
       "      <td>NaN</td>\n",
       "      <td>22.2</td>\n",
       "      <td>103.7</td>\n",
       "      <td>80.1</td>\n",
       "      <td>50.0</td>\n",
       "      <td>10.9</td>\n",
       "      <td>NaN</td>\n",
       "      <td>84.0</td>\n",
       "      <td>114.0</td>\n",
       "      <td>NaN</td>\n",
       "      <td>NaN</td>\n",
       "      <td>-99.00</td>\n",
       "      <td>-99.0</td>\n",
       "    </tr>\n",
       "  </tbody>\n",
       "</table>\n",
       "</div>"
      ],
      "text/plain": [
       "             country  total_universities ranked in 100  \\\n",
       "0      United States                                32   \n",
       "1     United Kingdom                                18   \n",
       "2          Australia                                 6   \n",
       "3              Japan                                 5   \n",
       "4        South Korea                                 4   \n",
       "5             Canada                                 4   \n",
       "6   China (Mainland)                                 4   \n",
       "7        Switzerland                                 4   \n",
       "8            Germany                                 4   \n",
       "9      Hong Kong SAR                                 4   \n",
       "10            Sweden                                 3   \n",
       "11            France                                 2   \n",
       "12       Netherlands                                 2   \n",
       "13         Singapore                                 2   \n",
       "14            Taiwan                                 1   \n",
       "15         Argentina                                 1   \n",
       "16       New Zealand                                 1   \n",
       "17           Finland                                 1   \n",
       "18           Denmark                                 1   \n",
       "19           Belgium                                 1   \n",
       "20           Ireland                                 1   \n",
       "\n",
       "    total_international_students  average_score             Region  \\\n",
       "0                         190002          80.77    NorthernAmerica   \n",
       "1                         194164          79.18     NorthernEurope   \n",
       "2                         128735          78.62            Oceania   \n",
       "3                          12608          75.92        EasternAsia   \n",
       "4                           6195          72.45        EasternAsia   \n",
       "5                          63451          77.47    NorthernAmerica   \n",
       "6                          22549          79.72        EasternAsia   \n",
       "7                          25750          79.18      WesternEurope   \n",
       "8                          26483          68.78      WesternEurope   \n",
       "9                          22737          80.18        EasternAsia   \n",
       "10                         18140          65.00     NorthernEurope   \n",
       "11                          1622          74.90      WesternEurope   \n",
       "12                         14073          73.20      WesternEurope   \n",
       "13                         13642          91.45  South-easternAsia   \n",
       "14                          5058          70.20                NaN   \n",
       "15                         29516          65.80       SouthAmerica   \n",
       "16                          9924          67.30            Oceania   \n",
       "17                          1254          64.70     NorthernEurope   \n",
       "18                          4135          70.20     NorthernEurope   \n",
       "19                          8485          67.90      WesternEurope   \n",
       "20                          5593          62.80     NorthernEurope   \n",
       "\n",
       "    Surface area (km2)  Population in thousands (2017)  \\\n",
       "0            9833517.0                        324460.0   \n",
       "1             242495.0                         66182.0   \n",
       "2            7692060.0                         24451.0   \n",
       "3             377930.0                        127484.0   \n",
       "4             120538.0                         25491.0   \n",
       "5            9984670.0                         36624.0   \n",
       "6            9600000.0                       1409517.0   \n",
       "7              41291.0                          8476.0   \n",
       "8             357376.0                         82114.0   \n",
       "9               1106.0                          7365.0   \n",
       "10            438574.0                          9911.0   \n",
       "11            551500.0                         64980.0   \n",
       "12             41542.0                         17036.0   \n",
       "13               719.0                          5709.0   \n",
       "14                 NaN                             NaN   \n",
       "15           2780400.0                         44271.0   \n",
       "16            268107.0                          4706.0   \n",
       "17            338440.0                          5523.0   \n",
       "18             42921.0                          5734.0   \n",
       "19             30528.0                         11429.0   \n",
       "20             69797.0                          4762.0   \n",
       "\n",
       "    Population density (per km2, 2017)  Sex ratio (m per 100 f, 2017)  \\\n",
       "0                                 35.5                           98.0   \n",
       "1                                273.6                           97.4   \n",
       "2                                  3.2                           99.3   \n",
       "3                                349.7                           95.4   \n",
       "4                                211.7                           95.7   \n",
       "5                                  4.0                           98.5   \n",
       "6                                150.1                          106.3   \n",
       "7                                214.5                           98.2   \n",
       "8                                235.6                           97.0   \n",
       "9                               7014.2                           85.1   \n",
       "10                                24.2                          100.2   \n",
       "11                               118.7                           96.7   \n",
       "12                               505.2                           99.0   \n",
       "13                              8155.5                           97.7   \n",
       "14                                 NaN                            NaN   \n",
       "15                                16.2                           95.9   \n",
       "16                                17.9                           96.7   \n",
       "17                                18.2                           97.2   \n",
       "18                               135.1                           99.0   \n",
       "19                               377.5                           97.3   \n",
       "20                                69.1                           98.4   \n",
       "\n",
       "    GDP: Gross domestic product (million current US$)  \\\n",
       "0                                          18036648.0   \n",
       "1                                           2858003.0   \n",
       "2                                           1230859.0   \n",
       "3                                           4383076.0   \n",
       "4                                             16283.0   \n",
       "5                                           1552808.0   \n",
       "6                                          11158457.0   \n",
       "7                                            670790.0   \n",
       "8                                           3363600.0   \n",
       "9                                            309236.0   \n",
       "10                                           495694.0   \n",
       "11                                          2418946.0   \n",
       "12                                           750318.0   \n",
       "13                                           292734.0   \n",
       "14                                                NaN   \n",
       "15                                           632343.0   \n",
       "16                                           173417.0   \n",
       "17                                           231960.0   \n",
       "18                                           301308.0   \n",
       "19                                           455107.0   \n",
       "20                                           283716.0   \n",
       "\n",
       "    GDP growth rate (annual %, const. 2005 prices)  \\\n",
       "0                                              2.6   \n",
       "1                                              2.2   \n",
       "2                                              2.4   \n",
       "3                                              1.2   \n",
       "4                                             -1.1   \n",
       "5                                              0.9   \n",
       "6                                              6.9   \n",
       "7                                              0.8   \n",
       "8                                              1.7   \n",
       "9                                              2.4   \n",
       "10                                             4.1   \n",
       "11                                             1.3   \n",
       "12                                             2.0   \n",
       "13                                             2.0   \n",
       "14                                             NaN   \n",
       "15                                             2.4   \n",
       "16                                             3.1   \n",
       "17                                             0.2   \n",
       "18                                             1.6   \n",
       "19                                             1.5   \n",
       "20                                            26.3   \n",
       "\n",
       "    GDP per capita (current US$)  Economy: Agriculture (% of GVA)  \\\n",
       "0                        56053.8                              1.0   \n",
       "1                        44162.4                              0.7   \n",
       "2                        51352.2                              2.5   \n",
       "3                        34628.7                              1.2   \n",
       "4                          648.0                             21.6   \n",
       "5                        43205.6                              1.8   \n",
       "6                         8109.1                              9.2   \n",
       "7                        80831.1                              0.7   \n",
       "8                        41686.2                              0.6   \n",
       "9                        42431.0                              0.1   \n",
       "10                       50687.5                              1.3   \n",
       "11                       36304.2                              1.7   \n",
       "12                       44332.1                              1.8   \n",
       "13                       52239.0                              NaN   \n",
       "14                           NaN                              NaN   \n",
       "15                       14564.5                              6.0   \n",
       "16                       38294.3                              6.5   \n",
       "17                       42148.1                              2.5   \n",
       "18                       53149.3                              1.2   \n",
       "19                       40277.8                              0.7   \n",
       "20                       60513.6                              1.0   \n",
       "\n",
       "    Economy: Industry (% of GVA)  \\\n",
       "0                           19.7   \n",
       "1                           19.4   \n",
       "2                           26.5   \n",
       "3                           26.4   \n",
       "4                           46.2   \n",
       "5                           28.6   \n",
       "6                           41.1   \n",
       "7                           25.5   \n",
       "8                           30.5   \n",
       "9                            7.2   \n",
       "10                          26.3   \n",
       "11                          19.5   \n",
       "12                          20.0   \n",
       "13                          26.4   \n",
       "14                           NaN   \n",
       "15                          27.8   \n",
       "16                          23.0   \n",
       "17                          26.8   \n",
       "18                          22.9   \n",
       "19                          22.2   \n",
       "20                          41.7   \n",
       "\n",
       "    Economy: Services and other activity (% of GVA)  \\\n",
       "0                                              79.3   \n",
       "1                                              79.9   \n",
       "2                                              71.1   \n",
       "3                                              72.4   \n",
       "4                                              32.2   \n",
       "5                                              69.6   \n",
       "6                                              49.7   \n",
       "7                                              73.8   \n",
       "8                                              68.9   \n",
       "9                                              92.7   \n",
       "10                                             72.4   \n",
       "11                                             78.8   \n",
       "12                                             78.2   \n",
       "13                                             73.6   \n",
       "14                                              NaN   \n",
       "15                                             66.2   \n",
       "16                                             70.6   \n",
       "17                                             70.6   \n",
       "18                                             75.8   \n",
       "19                                             77.1   \n",
       "20                                             57.3   \n",
       "\n",
       "    Employment: Agriculture (% of employed)  \\\n",
       "0                                       1.5   \n",
       "1                                       1.2   \n",
       "2                                       2.7   \n",
       "3                                       3.7   \n",
       "4                                      58.9   \n",
       "5                                       2.1   \n",
       "6                                      27.0   \n",
       "7                                       3.5   \n",
       "8                                       1.4   \n",
       "9                                       0.2   \n",
       "10                                      1.8   \n",
       "11                                      2.7   \n",
       "12                                      2.2   \n",
       "13                                      0.3   \n",
       "14                                      NaN   \n",
       "15                                      2.0   \n",
       "16                                      5.9   \n",
       "17                                      4.2   \n",
       "18                                      2.4   \n",
       "19                                      1.2   \n",
       "20                                      4.8   \n",
       "\n",
       "    Employment: Industry (% of employed)  \\\n",
       "0                                   17.2   \n",
       "1                                   18.4   \n",
       "2                                   21.2   \n",
       "3                                   26.5   \n",
       "4                                   19.3   \n",
       "5                                   19.5   \n",
       "6                                   23.9   \n",
       "7                                   20.4   \n",
       "8                                   27.5   \n",
       "9                                   14.9   \n",
       "10                                  18.2   \n",
       "11                                  20.5   \n",
       "12                                  15.9   \n",
       "13                                  17.0   \n",
       "14                                   NaN   \n",
       "15                                  24.8   \n",
       "16                                  21.4   \n",
       "17                                  22.0   \n",
       "18                                  19.2   \n",
       "19                                  21.2   \n",
       "20                                  17.7   \n",
       "\n",
       "    Employment: Services (% of employed)  Unemployment (% of labour force)  \\\n",
       "0                                   81.3                               4.9   \n",
       "1                                   80.4                               5.0   \n",
       "2                                   76.1                               5.5   \n",
       "3                                   69.8                               3.0   \n",
       "4                                   21.8                               4.3   \n",
       "5                                   78.4                               7.1   \n",
       "6                                   49.1                               4.6   \n",
       "7                                   76.1                               4.6   \n",
       "8                                   71.2                               4.2   \n",
       "9                                   84.9                               3.5   \n",
       "10                                  79.9                               7.3   \n",
       "11                                  76.8                               9.8   \n",
       "12                                  81.9                               5.6   \n",
       "13                                  82.6                               2.0   \n",
       "14                                   NaN                               NaN   \n",
       "15                                  73.1                               6.5   \n",
       "16                                  72.6                               5.5   \n",
       "17                                  73.8                               8.9   \n",
       "18                                  78.4                               6.0   \n",
       "19                                  77.6                               8.3   \n",
       "20                                  77.4                               7.6   \n",
       "\n",
       "    Labour force participation (female/male pop. %)  \\\n",
       "0                                               NaN   \n",
       "1                                               NaN   \n",
       "2                                               NaN   \n",
       "3                                               NaN   \n",
       "4                                               NaN   \n",
       "5                                               NaN   \n",
       "6                                               NaN   \n",
       "7                                               NaN   \n",
       "8                                               NaN   \n",
       "9                                               NaN   \n",
       "10                                              NaN   \n",
       "11                                              NaN   \n",
       "12                                              NaN   \n",
       "13                                              NaN   \n",
       "14                                              NaN   \n",
       "15                                              NaN   \n",
       "16                                              NaN   \n",
       "17                                              NaN   \n",
       "18                                              NaN   \n",
       "19                                              NaN   \n",
       "20                                              NaN   \n",
       "\n",
       "    Agricultural production index (2004-2006=100)  \\\n",
       "0                                           111.0   \n",
       "1                                           108.0   \n",
       "2                                           111.0   \n",
       "3                                            96.0   \n",
       "4                                           104.0   \n",
       "5                                           109.0   \n",
       "6                                           132.0   \n",
       "7                                           106.0   \n",
       "8                                           111.0   \n",
       "9                                            34.0   \n",
       "10                                          100.0   \n",
       "11                                          103.0   \n",
       "12                                          115.0   \n",
       "13                                          112.0   \n",
       "14                                            NaN   \n",
       "15                                          119.0   \n",
       "16                                          116.0   \n",
       "17                                          101.0   \n",
       "18                                          105.0   \n",
       "19                                          108.0   \n",
       "20                                          102.0   \n",
       "\n",
       "    Food production index (2004-2006=100)  \\\n",
       "0                                   113.0   \n",
       "1                                   108.0   \n",
       "2                                   111.0   \n",
       "3                                    97.0   \n",
       "4                                   103.0   \n",
       "5                                   109.0   \n",
       "6                                   133.0   \n",
       "7                                   106.0   \n",
       "8                                   111.0   \n",
       "9                                    34.0   \n",
       "10                                  100.0   \n",
       "11                                  103.0   \n",
       "12                                  115.0   \n",
       "13                                  112.0   \n",
       "14                                    NaN   \n",
       "15                                  119.0   \n",
       "16                                  118.0   \n",
       "17                                  101.0   \n",
       "18                                  105.0   \n",
       "19                                  107.0   \n",
       "20                                  102.0   \n",
       "\n",
       "    International trade: Exports (million US$)  \\\n",
       "0                                    1453167.0   \n",
       "1                                     415856.0   \n",
       "2                                     189630.0   \n",
       "3                                     644932.0   \n",
       "4                                       1010.0   \n",
       "5                                     388911.0   \n",
       "6                                    2118981.0   \n",
       "7                                     304691.0   \n",
       "8                                    1340752.0   \n",
       "9                                     516588.0   \n",
       "10                                    139574.0   \n",
       "11                                    488885.0   \n",
       "12                                    511714.0   \n",
       "13                                    329871.0   \n",
       "14                                         NaN   \n",
       "15                                     57733.0   \n",
       "16                                     33833.0   \n",
       "17                                     57326.0   \n",
       "18                                     94355.0   \n",
       "19                                    398033.0   \n",
       "20                                    129315.0   \n",
       "\n",
       "    International trade: Imports (million US$)  \\\n",
       "0                                    2249661.0   \n",
       "1                                     635570.0   \n",
       "2                                     189406.0   \n",
       "3                                     606924.0   \n",
       "4                                       2757.0   \n",
       "5                                     402954.0   \n",
       "6                                    1588696.0   \n",
       "7                                     269157.0   \n",
       "8                                    1060672.0   \n",
       "9                                     547124.0   \n",
       "10                                    140838.0   \n",
       "11                                    560555.0   \n",
       "12                                    420969.0   \n",
       "13                                    283009.0   \n",
       "14                                         NaN   \n",
       "15                                     55610.0   \n",
       "16                                     36423.0   \n",
       "17                                     60502.0   \n",
       "18                                     85133.0   \n",
       "19                                    372713.0   \n",
       "20                                     76997.0   \n",
       "\n",
       "    International trade: Balance (million US$)  \\\n",
       "0                                    -796494.0   \n",
       "1                                    -219713.0   \n",
       "2                                        224.0   \n",
       "3                                      38008.0   \n",
       "4                                      -1748.0   \n",
       "5                                     -14043.0   \n",
       "6                                     530285.0   \n",
       "7                                      35534.0   \n",
       "8                                     280080.0   \n",
       "9                                     -30536.0   \n",
       "10                                     -1263.0   \n",
       "11                                    -71670.0   \n",
       "12                                     90745.0   \n",
       "13                                     46862.0   \n",
       "14                                         NaN   \n",
       "15                                      2124.0   \n",
       "16                                     -2589.0   \n",
       "17                                     -3176.0   \n",
       "18                                      9222.0   \n",
       "19                                     25321.0   \n",
       "20                                     52318.0   \n",
       "\n",
       "    Balance of payments, current account (million US$)  \\\n",
       "0                                           -462961.0    \n",
       "1                                           -122571.0    \n",
       "2                                            -57746.0    \n",
       "3                                            135608.0    \n",
       "4                                               -99.0    \n",
       "5                                            -53083.0    \n",
       "6                                            330602.0    \n",
       "7                                             77378.0    \n",
       "8                                            279969.0    \n",
       "9                                             10101.0    \n",
       "10                                            23250.0    \n",
       "11                                            -4861.0    \n",
       "12                                            65129.0    \n",
       "13                                            57922.0    \n",
       "14                                                NaN    \n",
       "15                                           -15944.0    \n",
       "16                                            -5501.0    \n",
       "17                                             -979.0    \n",
       "18                                            27582.0    \n",
       "19                                             1936.0    \n",
       "20                                            28967.0    \n",
       "\n",
       "    Population growth rate (average annual %)  \\\n",
       "0                                         0.7   \n",
       "1                                         0.6   \n",
       "2                                         1.5   \n",
       "3                                        -0.1   \n",
       "4                                         0.5   \n",
       "5                                         1.0   \n",
       "6                                         0.5   \n",
       "7                                         1.2   \n",
       "8                                         0.2   \n",
       "9                                         0.6   \n",
       "10                                        0.8   \n",
       "11                                        0.4   \n",
       "12                                        0.3   \n",
       "13                                        1.7   \n",
       "14                                        NaN   \n",
       "15                                        1.0   \n",
       "16                                        1.1   \n",
       "17                                        0.4   \n",
       "18                                        0.5   \n",
       "19                                        0.6   \n",
       "20                                        0.3   \n",
       "\n",
       "    Urban population (% of total population)  \\\n",
       "0                                       81.6   \n",
       "1                                       82.6   \n",
       "2                                       89.4   \n",
       "3                                       93.5   \n",
       "4                                       60.9   \n",
       "5                                       81.8   \n",
       "6                                       55.6   \n",
       "7                                       73.9   \n",
       "8                                       75.3   \n",
       "9                                      100.0   \n",
       "10                                      85.8   \n",
       "11                                      79.5   \n",
       "12                                      90.5   \n",
       "13                                     100.0   \n",
       "14                                       NaN   \n",
       "15                                      91.8   \n",
       "16                                      86.3   \n",
       "17                                      84.2   \n",
       "18                                      87.7   \n",
       "19                                      97.9   \n",
       "20                                      63.2   \n",
       "\n",
       "    Urban population growth rate (average annual %)  \\\n",
       "0                                               1.0   \n",
       "1                                               0.9   \n",
       "2                                               1.5   \n",
       "3                                               0.6   \n",
       "4                                               0.7   \n",
       "5                                               1.2   \n",
       "6                                               3.0   \n",
       "7                                               1.1   \n",
       "8                                               0.2   \n",
       "9                                               0.7   \n",
       "10                                              0.8   \n",
       "11                                              0.8   \n",
       "12                                              1.0   \n",
       "13                                              2.0   \n",
       "14                                              NaN   \n",
       "15                                              1.0   \n",
       "16                                              1.0   \n",
       "17                                              0.5   \n",
       "18                                              0.6   \n",
       "19                                              0.5   \n",
       "20                                              1.6   \n",
       "\n",
       "    Fertility rate, total (live births per woman)  \\\n",
       "0                                             1.9   \n",
       "1                                             1.9   \n",
       "2                                             1.9   \n",
       "3                                             1.4   \n",
       "4                                             2.0   \n",
       "5                                             1.6   \n",
       "6                                             1.6   \n",
       "7                                             1.5   \n",
       "8                                             1.4   \n",
       "9                                             1.2   \n",
       "10                                            1.9   \n",
       "11                                            2.0   \n",
       "12                                            1.7   \n",
       "13                                            1.2   \n",
       "14                                            NaN   \n",
       "15                                            2.3   \n",
       "16                                            2.0   \n",
       "17                                            1.8   \n",
       "18                                            1.7   \n",
       "19                                            1.8   \n",
       "20                                            2.0   \n",
       "\n",
       "    Life expectancy at birth (females/males, years)  \\\n",
       "0                                               NaN   \n",
       "1                                               NaN   \n",
       "2                                               NaN   \n",
       "3                                               NaN   \n",
       "4                                               NaN   \n",
       "5                                               NaN   \n",
       "6                                               NaN   \n",
       "7                                               NaN   \n",
       "8                                               NaN   \n",
       "9                                               NaN   \n",
       "10                                              NaN   \n",
       "11                                              NaN   \n",
       "12                                              NaN   \n",
       "13                                              NaN   \n",
       "14                                              NaN   \n",
       "15                                              NaN   \n",
       "16                                              NaN   \n",
       "17                                              NaN   \n",
       "18                                              NaN   \n",
       "19                                              NaN   \n",
       "20                                              NaN   \n",
       "\n",
       "    Population age distribution (0-14 / 60+ years, %)  \\\n",
       "0                                                 NaN   \n",
       "1                                                 NaN   \n",
       "2                                                 NaN   \n",
       "3                                                 NaN   \n",
       "4                                                 NaN   \n",
       "5                                                 NaN   \n",
       "6                                                 NaN   \n",
       "7                                                 NaN   \n",
       "8                                                 NaN   \n",
       "9                                                 NaN   \n",
       "10                                                NaN   \n",
       "11                                                NaN   \n",
       "12                                                NaN   \n",
       "13                                                NaN   \n",
       "14                                                NaN   \n",
       "15                                                NaN   \n",
       "16                                                NaN   \n",
       "17                                                NaN   \n",
       "18                                                NaN   \n",
       "19                                                NaN   \n",
       "20                                                NaN   \n",
       "\n",
       "    International migrant stock (000/% of total pop.)  \\\n",
       "0                                                 NaN   \n",
       "1                                                 NaN   \n",
       "2                                                 NaN   \n",
       "3                                                 NaN   \n",
       "4                                                 NaN   \n",
       "5                                                 NaN   \n",
       "6                                                 NaN   \n",
       "7                                                 NaN   \n",
       "8                                                 NaN   \n",
       "9                                                 NaN   \n",
       "10                                                NaN   \n",
       "11                                                NaN   \n",
       "12                                                NaN   \n",
       "13                                                NaN   \n",
       "14                                                NaN   \n",
       "15                                                NaN   \n",
       "16                                                NaN   \n",
       "17                                                NaN   \n",
       "18                                                NaN   \n",
       "19                                                NaN   \n",
       "20                                                NaN   \n",
       "\n",
       "    Refugees and others of concern to UNHCR (in thousands)  \\\n",
       "0                                               616.5        \n",
       "1                                               151.7        \n",
       "2                                                58.2        \n",
       "3                                                19.4        \n",
       "4                                               -99.0        \n",
       "5                                               155.8        \n",
       "6                                               301.7        \n",
       "7                                               110.1        \n",
       "8                                              1052.1        \n",
       "9                                                 2.5        \n",
       "10                                              348.5        \n",
       "11                                              356.2        \n",
       "12                                              116.3        \n",
       "13                                                NaN        \n",
       "14                                                NaN        \n",
       "15                                                5.0        \n",
       "16                                                1.7        \n",
       "17                                               32.6        \n",
       "18                                               48.2        \n",
       "19                                               63.8        \n",
       "20                                               10.5        \n",
       "\n",
       "    Infant mortality rate (per 1000 live births  \\\n",
       "0                                           6.0   \n",
       "1                                           4.1   \n",
       "2                                           3.9   \n",
       "3                                           2.2   \n",
       "4                                          18.5   \n",
       "5                                           4.7   \n",
       "6                                          11.6   \n",
       "7                                           3.9   \n",
       "8                                           3.4   \n",
       "9                                           1.6   \n",
       "10                                          2.4   \n",
       "11                                          3.4   \n",
       "12                                          3.5   \n",
       "13                                          2.1   \n",
       "14                                          NaN   \n",
       "15                                         13.7   \n",
       "16                                          4.4   \n",
       "17                                          2.3   \n",
       "18                                          3.5   \n",
       "19                                          3.5   \n",
       "20                                          3.4   \n",
       "\n",
       "    Health: Total expenditure (% of GDP)  Health: Physicians (per 1000 pop.)  \\\n",
       "0                                   17.1                                 2.6   \n",
       "1                                    9.1                                 2.8   \n",
       "2                                    9.4                                 3.4   \n",
       "3                                   10.2                                 2.3   \n",
       "4                                  -99.0                                 2.8   \n",
       "5                                   10.4                                 2.5   \n",
       "6                                    5.5                                 1.5   \n",
       "7                                   11.7                                 4.1   \n",
       "8                                   11.3                                 4.1   \n",
       "9                                  -99.0                               -99.0   \n",
       "10                                  11.9                                 4.1   \n",
       "11                                  11.5                                 3.2   \n",
       "12                                  10.9                                 3.4   \n",
       "13                                   4.9                                 1.9   \n",
       "14                                   NaN                                 NaN   \n",
       "15                                   4.8                                 3.8   \n",
       "16                                  11.0                                 2.9   \n",
       "17                                   9.7                                 3.0   \n",
       "18                                  10.8                                 3.6   \n",
       "19                                  10.6                                 3.0   \n",
       "20                                   7.8                                 2.8   \n",
       "\n",
       "    Education: Government expenditure (% of GDP)  \\\n",
       "0                                            5.4   \n",
       "1                                            5.7   \n",
       "2                                            5.2   \n",
       "3                                            3.6   \n",
       "4                                          -99.0   \n",
       "5                                            5.3   \n",
       "6                                          -99.0   \n",
       "7                                            5.1   \n",
       "8                                            5.0   \n",
       "9                                            3.3   \n",
       "10                                           7.7   \n",
       "11                                           5.5   \n",
       "12                                           5.5   \n",
       "13                                           2.9   \n",
       "14                                           NaN   \n",
       "15                                           5.3   \n",
       "16                                           6.4   \n",
       "17                                           7.2   \n",
       "18                                           8.6   \n",
       "19                                           6.6   \n",
       "20                                           5.3   \n",
       "\n",
       "    Education: Primary gross enrol. ratio (f/m per 100 pop.)  \\\n",
       "0                                                 NaN          \n",
       "1                                                 NaN          \n",
       "2                                                 NaN          \n",
       "3                                                 NaN          \n",
       "4                                                 NaN          \n",
       "5                                                 NaN          \n",
       "6                                                 NaN          \n",
       "7                                                 NaN          \n",
       "8                                                 NaN          \n",
       "9                                               -99.0          \n",
       "10                                                NaN          \n",
       "11                                                NaN          \n",
       "12                                                NaN          \n",
       "13                                              -99.0          \n",
       "14                                                NaN          \n",
       "15                                                NaN          \n",
       "16                                                NaN          \n",
       "17                                                NaN          \n",
       "18                                                NaN          \n",
       "19                                                NaN          \n",
       "20                                                NaN          \n",
       "\n",
       "    Education: Secondary gross enrol. ratio (f/m per 100 pop.)  \\\n",
       "0                                                 NaN            \n",
       "1                                                 NaN            \n",
       "2                                                 NaN            \n",
       "3                                                 NaN            \n",
       "4                                                 NaN            \n",
       "5                                                 NaN            \n",
       "6                                                 NaN            \n",
       "7                                                 NaN            \n",
       "8                                                 NaN            \n",
       "9                                                 NaN            \n",
       "10                                                NaN            \n",
       "11                                                NaN            \n",
       "12                                                NaN            \n",
       "13                                              -99.0            \n",
       "14                                                NaN            \n",
       "15                                                NaN            \n",
       "16                                                NaN            \n",
       "17                                                NaN            \n",
       "18                                                NaN            \n",
       "19                                                NaN            \n",
       "20                                                NaN            \n",
       "\n",
       "    Education: Tertiary gross enrol. ratio (f/m per 100 pop.)  \\\n",
       "0                                                 NaN           \n",
       "1                                                 NaN           \n",
       "2                                                 NaN           \n",
       "3                                                 NaN           \n",
       "4                                                 NaN           \n",
       "5                                                 NaN           \n",
       "6                                                 NaN           \n",
       "7                                                 NaN           \n",
       "8                                                 NaN           \n",
       "9                                                 NaN           \n",
       "10                                                NaN           \n",
       "11                                                NaN           \n",
       "12                                                NaN           \n",
       "13                                              -99.0           \n",
       "14                                                NaN           \n",
       "15                                                NaN           \n",
       "16                                                NaN           \n",
       "17                                                NaN           \n",
       "18                                                NaN           \n",
       "19                                                NaN           \n",
       "20                                                NaN           \n",
       "\n",
       "    Seats held by women in national parliaments %  \\\n",
       "0                                            19.1   \n",
       "1                                            30.0   \n",
       "2                                            28.7   \n",
       "3                                             9.3   \n",
       "4                                            16.3   \n",
       "5                                            26.3   \n",
       "6                                            23.7   \n",
       "7                                            32.5   \n",
       "8                                            37.0   \n",
       "9                                           -99.0   \n",
       "10                                           43.6   \n",
       "11                                           25.8   \n",
       "12                                           38.0   \n",
       "13                                           23.8   \n",
       "14                                            NaN   \n",
       "15                                           38.9   \n",
       "16                                           34.2   \n",
       "17                                           42.0   \n",
       "18                                           37.4   \n",
       "19                                           38.0   \n",
       "20                                           22.2   \n",
       "\n",
       "    Mobile-cellular subscriptions (per 100 inhabitants)  \\\n",
       "0                                               117.6     \n",
       "1                                               125.8     \n",
       "2                                               132.8     \n",
       "3                                               125.0     \n",
       "4                                                12.9     \n",
       "5                                                81.9     \n",
       "6                                                93.2     \n",
       "7                                               142.0     \n",
       "8                                               116.7     \n",
       "9                                               228.8     \n",
       "10                                              130.4     \n",
       "11                                              102.6     \n",
       "12                                              123.5     \n",
       "13                                              146.1     \n",
       "14                                                NaN     \n",
       "15                                              143.9     \n",
       "16                                              121.8     \n",
       "17                                              135.5     \n",
       "18                                              128.3     \n",
       "19                                              115.7     \n",
       "20                                              103.7     \n",
       "\n",
       "    Mobile-cellular subscriptions (per 100 inhabitants).1  \\\n",
       "0                                                74.6       \n",
       "1                                                92.0       \n",
       "2                                                84.6       \n",
       "3                                                93.3       \n",
       "4                                                 0.0       \n",
       "5                                                88.5       \n",
       "6                                                50.3       \n",
       "7                                                88.0       \n",
       "8                                                87.6       \n",
       "9                                                84.9       \n",
       "10                                               90.6       \n",
       "11                                               84.7       \n",
       "12                                               93.1       \n",
       "13                                               82.1       \n",
       "14                                                NaN       \n",
       "15                                               69.4       \n",
       "16                                               88.2       \n",
       "17                                               92.7       \n",
       "18                                               96.3       \n",
       "19                                               85.1       \n",
       "20                                               80.1       \n",
       "\n",
       "    Individuals using the Internet (per 100 inhabitants)  \\\n",
       "0                                              1513.0      \n",
       "1                                               102.0      \n",
       "2                                               948.0      \n",
       "3                                               404.0      \n",
       "4                                                78.0      \n",
       "5                                               122.0      \n",
       "6                                              1080.0      \n",
       "7                                                74.0      \n",
       "8                                               116.0      \n",
       "9                                                64.0      \n",
       "10                                               54.0      \n",
       "11                                              278.0      \n",
       "12                                               40.0      \n",
       "13                                              293.0      \n",
       "14                                                NaN      \n",
       "15                                              256.0      \n",
       "16                                              199.0      \n",
       "17                                               36.0      \n",
       "18                                               47.0      \n",
       "19                                               37.0      \n",
       "20                                               50.0      \n",
       "\n",
       "    Threatened species (number)  Forested area (% of land area)  \\\n",
       "0                          33.9                             NaN   \n",
       "1                          12.9                             NaN   \n",
       "2                          16.2                             NaN   \n",
       "3                          68.5                             NaN   \n",
       "4                          42.8                             NaN   \n",
       "5                          38.2                             NaN   \n",
       "6                          22.0                             NaN   \n",
       "7                          31.6                             NaN   \n",
       "8                          32.7                             NaN   \n",
       "9                         -99.0                             NaN   \n",
       "10                         68.9                             NaN   \n",
       "11                         30.8                             NaN   \n",
       "12                         11.1                             NaN   \n",
       "13                         23.1                             NaN   \n",
       "14                          NaN                             NaN   \n",
       "15                         10.0                             NaN   \n",
       "16                         38.6                             NaN   \n",
       "17                         73.1                             NaN   \n",
       "18                         14.4                             NaN   \n",
       "19                         22.6                             NaN   \n",
       "20                         10.9                             NaN   \n",
       "\n",
       "    CO2 emission estimates (million tons/tons per capita)  \\\n",
       "0                                             83887.0       \n",
       "1                                              4482.0       \n",
       "2                                             15282.0       \n",
       "3                                              1114.0       \n",
       "4                                               871.0       \n",
       "5                                             19276.0       \n",
       "6                                            101394.0       \n",
       "7                                               552.0       \n",
       "8                                              5004.0       \n",
       "9                                               -99.0       \n",
       "10                                             1428.0       \n",
       "11                                             5694.0       \n",
       "12                                             2447.0       \n",
       "13                                               27.0       \n",
       "14                                                NaN       \n",
       "15                                             3167.0       \n",
       "16                                              783.0       \n",
       "17                                              757.0       \n",
       "18                                              666.0       \n",
       "19                                              520.0       \n",
       "20                                               84.0       \n",
       "\n",
       "    Energy production, primary (Petajoules)  \\\n",
       "0                                     289.0   \n",
       "1                                     116.0   \n",
       "2                                     222.0   \n",
       "3                                     146.0   \n",
       "4                                      20.0   \n",
       "5                                     324.0   \n",
       "6                                      87.0   \n",
       "7                                     126.0   \n",
       "8                                     158.0   \n",
       "9                                      83.0   \n",
       "10                                    206.0   \n",
       "11                                    158.0   \n",
       "12                                    178.0   \n",
       "13                                    209.0   \n",
       "14                                      NaN   \n",
       "15                                     85.0   \n",
       "16                                    207.0   \n",
       "17                                    257.0   \n",
       "18                                    119.0   \n",
       "19                                    196.0   \n",
       "20                                    114.0   \n",
       "\n",
       "    Energy supply per capita (Gigajoules)  \\\n",
       "0                                     NaN   \n",
       "1                                     NaN   \n",
       "2                                     NaN   \n",
       "3                                     NaN   \n",
       "4                                     NaN   \n",
       "5                                     NaN   \n",
       "6                                     NaN   \n",
       "7                                     NaN   \n",
       "8                                     NaN   \n",
       "9                                   -99.0   \n",
       "10                                    NaN   \n",
       "11                                    NaN   \n",
       "12                                    NaN   \n",
       "13                                    NaN   \n",
       "14                                    NaN   \n",
       "15                                    NaN   \n",
       "16                                    NaN   \n",
       "17                                    NaN   \n",
       "18                                    NaN   \n",
       "19                                    NaN   \n",
       "20                                    NaN   \n",
       "\n",
       "    Pop. using improved drinking water (urban/rural, %)  \\\n",
       "0                                                 NaN     \n",
       "1                                                 NaN     \n",
       "2                                                 NaN     \n",
       "3                                                 NaN     \n",
       "4                                                 NaN     \n",
       "5                                                 NaN     \n",
       "6                                                 NaN     \n",
       "7                                                 NaN     \n",
       "8                                                 NaN     \n",
       "9                                               -99.0     \n",
       "10                                                NaN     \n",
       "11                                                NaN     \n",
       "12                                                NaN     \n",
       "13                                                NaN     \n",
       "14                                                NaN     \n",
       "15                                                NaN     \n",
       "16                                              -99.0     \n",
       "17                                                NaN     \n",
       "18                                                NaN     \n",
       "19                                                NaN     \n",
       "20                                                NaN     \n",
       "\n",
       "    Pop. using improved sanitation facilities (urban/rural, %)  \\\n",
       "0                                              -99.00            \n",
       "1                                              -99.00            \n",
       "2                                              -99.00            \n",
       "3                                              -99.00            \n",
       "4                                              -99.00            \n",
       "5                                              -99.00            \n",
       "6                                                0.00            \n",
       "7                                              -99.00            \n",
       "8                                              -99.00            \n",
       "9                                              -99.00            \n",
       "10                                             -99.00            \n",
       "11                                             -99.00            \n",
       "12                                             -99.00            \n",
       "13                                             -99.00            \n",
       "14                                                NaN            \n",
       "15                                               0.01            \n",
       "16                                             -99.00            \n",
       "17                                             -99.00            \n",
       "18                                             -99.00            \n",
       "19                                             -99.00            \n",
       "20                                             -99.00            \n",
       "\n",
       "    Net Official Development Assist. received (% of GNI)  \n",
       "0                                               -99.0     \n",
       "1                                               -99.0     \n",
       "2                                               -99.0     \n",
       "3                                               -99.0     \n",
       "4                                               -99.0     \n",
       "5                                               -99.0     \n",
       "6                                               -99.0     \n",
       "7                                               -99.0     \n",
       "8                                               -99.0     \n",
       "9                                               -99.0     \n",
       "10                                              -99.0     \n",
       "11                                              -99.0     \n",
       "12                                              -99.0     \n",
       "13                                              -99.0     \n",
       "14                                                NaN     \n",
       "15                                              -99.0     \n",
       "16                                              -99.0     \n",
       "17                                              -99.0     \n",
       "18                                              -99.0     \n",
       "19                                              -99.0     \n",
       "20                                              -99.0     "
      ]
     },
     "execution_count": 35,
     "metadata": {},
     "output_type": "execute_result"
    }
   ],
   "source": [
    "new_country_table = merge_dataset(country_table, country_profile, key='country')\n",
    "pd.set_option('display.max_columns', None)\n",
    "new_country_table"
   ]
  },
  {
   "cell_type": "code",
   "execution_count": 77,
   "metadata": {},
   "outputs": [],
   "source": [
    "# remove the missing values rows \n",
    "final_df = new_country_table[['country', 'total_universities ranked in 100', 'total_international_students', 'average_score', 'Region', 'Population in thousands (2017)', 'GDP per capita (current US$)', 'Sex ratio (m per 100 f, 2017)', 'Education: Government expenditure (% of GDP)', 'Fertility rate, total (live births per woman)']]\n",
    "final_df= final_df[(final_df['Population in thousands (2017)'] >= 0) & (final_df['Education: Government expenditure (% of GDP)'] >= 0)]"
   ]
  },
  {
   "cell_type": "code",
   "execution_count": 78,
   "metadata": {},
   "outputs": [
    {
     "data": {
      "text/html": [
       "<div>\n",
       "<style scoped>\n",
       "    .dataframe tbody tr th:only-of-type {\n",
       "        vertical-align: middle;\n",
       "    }\n",
       "\n",
       "    .dataframe tbody tr th {\n",
       "        vertical-align: top;\n",
       "    }\n",
       "\n",
       "    .dataframe thead th {\n",
       "        text-align: right;\n",
       "    }\n",
       "</style>\n",
       "<table border=\"1\" class=\"dataframe\">\n",
       "  <thead>\n",
       "    <tr style=\"text-align: right;\">\n",
       "      <th></th>\n",
       "      <th>country</th>\n",
       "      <th>total_universities ranked in 100</th>\n",
       "      <th>total_international_students</th>\n",
       "      <th>average_score</th>\n",
       "      <th>Region</th>\n",
       "      <th>Population in thousands (2017)</th>\n",
       "      <th>GDP per capita (current US$)</th>\n",
       "      <th>Sex ratio (m per 100 f, 2017)</th>\n",
       "      <th>Education: Government expenditure (% of GDP)</th>\n",
       "      <th>Fertility rate, total (live births per woman)</th>\n",
       "    </tr>\n",
       "  </thead>\n",
       "  <tbody>\n",
       "    <tr>\n",
       "      <th>0</th>\n",
       "      <td>United States</td>\n",
       "      <td>32</td>\n",
       "      <td>190002</td>\n",
       "      <td>80.77</td>\n",
       "      <td>NorthernAmerica</td>\n",
       "      <td>324460.0</td>\n",
       "      <td>56053.8</td>\n",
       "      <td>98.0</td>\n",
       "      <td>5.4</td>\n",
       "      <td>1.9</td>\n",
       "    </tr>\n",
       "    <tr>\n",
       "      <th>1</th>\n",
       "      <td>United Kingdom</td>\n",
       "      <td>18</td>\n",
       "      <td>194164</td>\n",
       "      <td>79.18</td>\n",
       "      <td>NorthernEurope</td>\n",
       "      <td>66182.0</td>\n",
       "      <td>44162.4</td>\n",
       "      <td>97.4</td>\n",
       "      <td>5.7</td>\n",
       "      <td>1.9</td>\n",
       "    </tr>\n",
       "    <tr>\n",
       "      <th>2</th>\n",
       "      <td>Australia</td>\n",
       "      <td>6</td>\n",
       "      <td>128735</td>\n",
       "      <td>78.62</td>\n",
       "      <td>Oceania</td>\n",
       "      <td>24451.0</td>\n",
       "      <td>51352.2</td>\n",
       "      <td>99.3</td>\n",
       "      <td>5.2</td>\n",
       "      <td>1.9</td>\n",
       "    </tr>\n",
       "    <tr>\n",
       "      <th>3</th>\n",
       "      <td>Japan</td>\n",
       "      <td>5</td>\n",
       "      <td>12608</td>\n",
       "      <td>75.92</td>\n",
       "      <td>EasternAsia</td>\n",
       "      <td>127484.0</td>\n",
       "      <td>34628.7</td>\n",
       "      <td>95.4</td>\n",
       "      <td>3.6</td>\n",
       "      <td>1.4</td>\n",
       "    </tr>\n",
       "    <tr>\n",
       "      <th>5</th>\n",
       "      <td>Canada</td>\n",
       "      <td>4</td>\n",
       "      <td>63451</td>\n",
       "      <td>77.47</td>\n",
       "      <td>NorthernAmerica</td>\n",
       "      <td>36624.0</td>\n",
       "      <td>43205.6</td>\n",
       "      <td>98.5</td>\n",
       "      <td>5.3</td>\n",
       "      <td>1.6</td>\n",
       "    </tr>\n",
       "    <tr>\n",
       "      <th>7</th>\n",
       "      <td>Switzerland</td>\n",
       "      <td>4</td>\n",
       "      <td>25750</td>\n",
       "      <td>79.18</td>\n",
       "      <td>WesternEurope</td>\n",
       "      <td>8476.0</td>\n",
       "      <td>80831.1</td>\n",
       "      <td>98.2</td>\n",
       "      <td>5.1</td>\n",
       "      <td>1.5</td>\n",
       "    </tr>\n",
       "    <tr>\n",
       "      <th>8</th>\n",
       "      <td>Germany</td>\n",
       "      <td>4</td>\n",
       "      <td>26483</td>\n",
       "      <td>68.78</td>\n",
       "      <td>WesternEurope</td>\n",
       "      <td>82114.0</td>\n",
       "      <td>41686.2</td>\n",
       "      <td>97.0</td>\n",
       "      <td>5.0</td>\n",
       "      <td>1.4</td>\n",
       "    </tr>\n",
       "    <tr>\n",
       "      <th>9</th>\n",
       "      <td>Hong Kong SAR</td>\n",
       "      <td>4</td>\n",
       "      <td>22737</td>\n",
       "      <td>80.18</td>\n",
       "      <td>EasternAsia</td>\n",
       "      <td>7365.0</td>\n",
       "      <td>42431.0</td>\n",
       "      <td>85.1</td>\n",
       "      <td>3.3</td>\n",
       "      <td>1.2</td>\n",
       "    </tr>\n",
       "    <tr>\n",
       "      <th>10</th>\n",
       "      <td>Sweden</td>\n",
       "      <td>3</td>\n",
       "      <td>18140</td>\n",
       "      <td>65.00</td>\n",
       "      <td>NorthernEurope</td>\n",
       "      <td>9911.0</td>\n",
       "      <td>50687.5</td>\n",
       "      <td>100.2</td>\n",
       "      <td>7.7</td>\n",
       "      <td>1.9</td>\n",
       "    </tr>\n",
       "    <tr>\n",
       "      <th>11</th>\n",
       "      <td>France</td>\n",
       "      <td>2</td>\n",
       "      <td>1622</td>\n",
       "      <td>74.90</td>\n",
       "      <td>WesternEurope</td>\n",
       "      <td>64980.0</td>\n",
       "      <td>36304.2</td>\n",
       "      <td>96.7</td>\n",
       "      <td>5.5</td>\n",
       "      <td>2.0</td>\n",
       "    </tr>\n",
       "    <tr>\n",
       "      <th>12</th>\n",
       "      <td>Netherlands</td>\n",
       "      <td>2</td>\n",
       "      <td>14073</td>\n",
       "      <td>73.20</td>\n",
       "      <td>WesternEurope</td>\n",
       "      <td>17036.0</td>\n",
       "      <td>44332.1</td>\n",
       "      <td>99.0</td>\n",
       "      <td>5.5</td>\n",
       "      <td>1.7</td>\n",
       "    </tr>\n",
       "    <tr>\n",
       "      <th>13</th>\n",
       "      <td>Singapore</td>\n",
       "      <td>2</td>\n",
       "      <td>13642</td>\n",
       "      <td>91.45</td>\n",
       "      <td>South-easternAsia</td>\n",
       "      <td>5709.0</td>\n",
       "      <td>52239.0</td>\n",
       "      <td>97.7</td>\n",
       "      <td>2.9</td>\n",
       "      <td>1.2</td>\n",
       "    </tr>\n",
       "    <tr>\n",
       "      <th>15</th>\n",
       "      <td>Argentina</td>\n",
       "      <td>1</td>\n",
       "      <td>29516</td>\n",
       "      <td>65.80</td>\n",
       "      <td>SouthAmerica</td>\n",
       "      <td>44271.0</td>\n",
       "      <td>14564.5</td>\n",
       "      <td>95.9</td>\n",
       "      <td>5.3</td>\n",
       "      <td>2.3</td>\n",
       "    </tr>\n",
       "    <tr>\n",
       "      <th>16</th>\n",
       "      <td>New Zealand</td>\n",
       "      <td>1</td>\n",
       "      <td>9924</td>\n",
       "      <td>67.30</td>\n",
       "      <td>Oceania</td>\n",
       "      <td>4706.0</td>\n",
       "      <td>38294.3</td>\n",
       "      <td>96.7</td>\n",
       "      <td>6.4</td>\n",
       "      <td>2.0</td>\n",
       "    </tr>\n",
       "    <tr>\n",
       "      <th>17</th>\n",
       "      <td>Finland</td>\n",
       "      <td>1</td>\n",
       "      <td>1254</td>\n",
       "      <td>64.70</td>\n",
       "      <td>NorthernEurope</td>\n",
       "      <td>5523.0</td>\n",
       "      <td>42148.1</td>\n",
       "      <td>97.2</td>\n",
       "      <td>7.2</td>\n",
       "      <td>1.8</td>\n",
       "    </tr>\n",
       "    <tr>\n",
       "      <th>18</th>\n",
       "      <td>Denmark</td>\n",
       "      <td>1</td>\n",
       "      <td>4135</td>\n",
       "      <td>70.20</td>\n",
       "      <td>NorthernEurope</td>\n",
       "      <td>5734.0</td>\n",
       "      <td>53149.3</td>\n",
       "      <td>99.0</td>\n",
       "      <td>8.6</td>\n",
       "      <td>1.7</td>\n",
       "    </tr>\n",
       "    <tr>\n",
       "      <th>19</th>\n",
       "      <td>Belgium</td>\n",
       "      <td>1</td>\n",
       "      <td>8485</td>\n",
       "      <td>67.90</td>\n",
       "      <td>WesternEurope</td>\n",
       "      <td>11429.0</td>\n",
       "      <td>40277.8</td>\n",
       "      <td>97.3</td>\n",
       "      <td>6.6</td>\n",
       "      <td>1.8</td>\n",
       "    </tr>\n",
       "    <tr>\n",
       "      <th>20</th>\n",
       "      <td>Ireland</td>\n",
       "      <td>1</td>\n",
       "      <td>5593</td>\n",
       "      <td>62.80</td>\n",
       "      <td>NorthernEurope</td>\n",
       "      <td>4762.0</td>\n",
       "      <td>60513.6</td>\n",
       "      <td>98.4</td>\n",
       "      <td>5.3</td>\n",
       "      <td>2.0</td>\n",
       "    </tr>\n",
       "  </tbody>\n",
       "</table>\n",
       "</div>"
      ],
      "text/plain": [
       "           country  total_universities ranked in 100  \\\n",
       "0    United States                                32   \n",
       "1   United Kingdom                                18   \n",
       "2        Australia                                 6   \n",
       "3            Japan                                 5   \n",
       "5           Canada                                 4   \n",
       "7      Switzerland                                 4   \n",
       "8          Germany                                 4   \n",
       "9    Hong Kong SAR                                 4   \n",
       "10          Sweden                                 3   \n",
       "11          France                                 2   \n",
       "12     Netherlands                                 2   \n",
       "13       Singapore                                 2   \n",
       "15       Argentina                                 1   \n",
       "16     New Zealand                                 1   \n",
       "17         Finland                                 1   \n",
       "18         Denmark                                 1   \n",
       "19         Belgium                                 1   \n",
       "20         Ireland                                 1   \n",
       "\n",
       "    total_international_students  average_score             Region  \\\n",
       "0                         190002          80.77    NorthernAmerica   \n",
       "1                         194164          79.18     NorthernEurope   \n",
       "2                         128735          78.62            Oceania   \n",
       "3                          12608          75.92        EasternAsia   \n",
       "5                          63451          77.47    NorthernAmerica   \n",
       "7                          25750          79.18      WesternEurope   \n",
       "8                          26483          68.78      WesternEurope   \n",
       "9                          22737          80.18        EasternAsia   \n",
       "10                         18140          65.00     NorthernEurope   \n",
       "11                          1622          74.90      WesternEurope   \n",
       "12                         14073          73.20      WesternEurope   \n",
       "13                         13642          91.45  South-easternAsia   \n",
       "15                         29516          65.80       SouthAmerica   \n",
       "16                          9924          67.30            Oceania   \n",
       "17                          1254          64.70     NorthernEurope   \n",
       "18                          4135          70.20     NorthernEurope   \n",
       "19                          8485          67.90      WesternEurope   \n",
       "20                          5593          62.80     NorthernEurope   \n",
       "\n",
       "    Population in thousands (2017)  GDP per capita (current US$)  \\\n",
       "0                         324460.0                       56053.8   \n",
       "1                          66182.0                       44162.4   \n",
       "2                          24451.0                       51352.2   \n",
       "3                         127484.0                       34628.7   \n",
       "5                          36624.0                       43205.6   \n",
       "7                           8476.0                       80831.1   \n",
       "8                          82114.0                       41686.2   \n",
       "9                           7365.0                       42431.0   \n",
       "10                          9911.0                       50687.5   \n",
       "11                         64980.0                       36304.2   \n",
       "12                         17036.0                       44332.1   \n",
       "13                          5709.0                       52239.0   \n",
       "15                         44271.0                       14564.5   \n",
       "16                          4706.0                       38294.3   \n",
       "17                          5523.0                       42148.1   \n",
       "18                          5734.0                       53149.3   \n",
       "19                         11429.0                       40277.8   \n",
       "20                          4762.0                       60513.6   \n",
       "\n",
       "    Sex ratio (m per 100 f, 2017)  \\\n",
       "0                            98.0   \n",
       "1                            97.4   \n",
       "2                            99.3   \n",
       "3                            95.4   \n",
       "5                            98.5   \n",
       "7                            98.2   \n",
       "8                            97.0   \n",
       "9                            85.1   \n",
       "10                          100.2   \n",
       "11                           96.7   \n",
       "12                           99.0   \n",
       "13                           97.7   \n",
       "15                           95.9   \n",
       "16                           96.7   \n",
       "17                           97.2   \n",
       "18                           99.0   \n",
       "19                           97.3   \n",
       "20                           98.4   \n",
       "\n",
       "    Education: Government expenditure (% of GDP)  \\\n",
       "0                                            5.4   \n",
       "1                                            5.7   \n",
       "2                                            5.2   \n",
       "3                                            3.6   \n",
       "5                                            5.3   \n",
       "7                                            5.1   \n",
       "8                                            5.0   \n",
       "9                                            3.3   \n",
       "10                                           7.7   \n",
       "11                                           5.5   \n",
       "12                                           5.5   \n",
       "13                                           2.9   \n",
       "15                                           5.3   \n",
       "16                                           6.4   \n",
       "17                                           7.2   \n",
       "18                                           8.6   \n",
       "19                                           6.6   \n",
       "20                                           5.3   \n",
       "\n",
       "    Fertility rate, total (live births per woman)  \n",
       "0                                             1.9  \n",
       "1                                             1.9  \n",
       "2                                             1.9  \n",
       "3                                             1.4  \n",
       "5                                             1.6  \n",
       "7                                             1.5  \n",
       "8                                             1.4  \n",
       "9                                             1.2  \n",
       "10                                            1.9  \n",
       "11                                            2.0  \n",
       "12                                            1.7  \n",
       "13                                            1.2  \n",
       "15                                            2.3  \n",
       "16                                            2.0  \n",
       "17                                            1.8  \n",
       "18                                            1.7  \n",
       "19                                            1.8  \n",
       "20                                            2.0  "
      ]
     },
     "execution_count": 78,
     "metadata": {},
     "output_type": "execute_result"
    }
   ],
   "source": [
    "final_df"
   ]
  },
  {
   "cell_type": "code",
   "execution_count": 74,
   "metadata": {},
   "outputs": [],
   "source": [
    "# import ploty\n",
    "\n",
    "import plotly.express as px"
   ]
  },
  {
   "cell_type": "markdown",
   "metadata": {},
   "source": [
    "# Hypothesis: Countries with higher government expenditure on education as a percentage of GDP have more universities in the top 100."
   ]
  },
  {
   "cell_type": "code",
   "execution_count": 83,
   "metadata": {},
   "outputs": [
    {
     "data": {
      "application/vnd.plotly.v1+json": {
       "config": {
        "plotlyServerURL": "https://plot.ly"
       },
       "data": [
        {
         "alignmentgroup": "True",
         "hovertemplate": "country=%{x}<br>total_universities ranked in 100=%{y}<extra></extra>",
         "legendgroup": "",
         "marker": {
          "color": "#636efa",
          "pattern": {
           "shape": ""
          }
         },
         "name": "",
         "offsetgroup": "",
         "orientation": "v",
         "showlegend": false,
         "textposition": "auto",
         "type": "bar",
         "x": [
          "United States",
          "United Kingdom",
          "Australia",
          "Japan",
          "South Korea",
          "Canada",
          "China (Mainland)",
          "Switzerland",
          "Germany",
          "Hong Kong SAR",
          "Sweden",
          "France",
          "Netherlands",
          "Singapore",
          "Taiwan",
          "Argentina",
          "New Zealand",
          "Finland",
          "Denmark",
          "Belgium",
          "Ireland"
         ],
         "xaxis": "x",
         "y": [
          32,
          18,
          6,
          5,
          4,
          4,
          4,
          4,
          4,
          4,
          3,
          2,
          2,
          2,
          1,
          1,
          1,
          1,
          1,
          1,
          1
         ],
         "yaxis": "y"
        }
       ],
       "layout": {
        "barmode": "relative",
        "legend": {
         "tracegroupgap": 0
        },
        "template": {
         "data": {
          "bar": [
           {
            "error_x": {
             "color": "#2a3f5f"
            },
            "error_y": {
             "color": "#2a3f5f"
            },
            "marker": {
             "line": {
              "color": "#E5ECF6",
              "width": 0.5
             },
             "pattern": {
              "fillmode": "overlay",
              "size": 10,
              "solidity": 0.2
             }
            },
            "type": "bar"
           }
          ],
          "barpolar": [
           {
            "marker": {
             "line": {
              "color": "#E5ECF6",
              "width": 0.5
             },
             "pattern": {
              "fillmode": "overlay",
              "size": 10,
              "solidity": 0.2
             }
            },
            "type": "barpolar"
           }
          ],
          "carpet": [
           {
            "aaxis": {
             "endlinecolor": "#2a3f5f",
             "gridcolor": "white",
             "linecolor": "white",
             "minorgridcolor": "white",
             "startlinecolor": "#2a3f5f"
            },
            "baxis": {
             "endlinecolor": "#2a3f5f",
             "gridcolor": "white",
             "linecolor": "white",
             "minorgridcolor": "white",
             "startlinecolor": "#2a3f5f"
            },
            "type": "carpet"
           }
          ],
          "choropleth": [
           {
            "colorbar": {
             "outlinewidth": 0,
             "ticks": ""
            },
            "type": "choropleth"
           }
          ],
          "contour": [
           {
            "colorbar": {
             "outlinewidth": 0,
             "ticks": ""
            },
            "colorscale": [
             [
              0,
              "#0d0887"
             ],
             [
              0.1111111111111111,
              "#46039f"
             ],
             [
              0.2222222222222222,
              "#7201a8"
             ],
             [
              0.3333333333333333,
              "#9c179e"
             ],
             [
              0.4444444444444444,
              "#bd3786"
             ],
             [
              0.5555555555555556,
              "#d8576b"
             ],
             [
              0.6666666666666666,
              "#ed7953"
             ],
             [
              0.7777777777777778,
              "#fb9f3a"
             ],
             [
              0.8888888888888888,
              "#fdca26"
             ],
             [
              1,
              "#f0f921"
             ]
            ],
            "type": "contour"
           }
          ],
          "contourcarpet": [
           {
            "colorbar": {
             "outlinewidth": 0,
             "ticks": ""
            },
            "type": "contourcarpet"
           }
          ],
          "heatmap": [
           {
            "colorbar": {
             "outlinewidth": 0,
             "ticks": ""
            },
            "colorscale": [
             [
              0,
              "#0d0887"
             ],
             [
              0.1111111111111111,
              "#46039f"
             ],
             [
              0.2222222222222222,
              "#7201a8"
             ],
             [
              0.3333333333333333,
              "#9c179e"
             ],
             [
              0.4444444444444444,
              "#bd3786"
             ],
             [
              0.5555555555555556,
              "#d8576b"
             ],
             [
              0.6666666666666666,
              "#ed7953"
             ],
             [
              0.7777777777777778,
              "#fb9f3a"
             ],
             [
              0.8888888888888888,
              "#fdca26"
             ],
             [
              1,
              "#f0f921"
             ]
            ],
            "type": "heatmap"
           }
          ],
          "heatmapgl": [
           {
            "colorbar": {
             "outlinewidth": 0,
             "ticks": ""
            },
            "colorscale": [
             [
              0,
              "#0d0887"
             ],
             [
              0.1111111111111111,
              "#46039f"
             ],
             [
              0.2222222222222222,
              "#7201a8"
             ],
             [
              0.3333333333333333,
              "#9c179e"
             ],
             [
              0.4444444444444444,
              "#bd3786"
             ],
             [
              0.5555555555555556,
              "#d8576b"
             ],
             [
              0.6666666666666666,
              "#ed7953"
             ],
             [
              0.7777777777777778,
              "#fb9f3a"
             ],
             [
              0.8888888888888888,
              "#fdca26"
             ],
             [
              1,
              "#f0f921"
             ]
            ],
            "type": "heatmapgl"
           }
          ],
          "histogram": [
           {
            "marker": {
             "pattern": {
              "fillmode": "overlay",
              "size": 10,
              "solidity": 0.2
             }
            },
            "type": "histogram"
           }
          ],
          "histogram2d": [
           {
            "colorbar": {
             "outlinewidth": 0,
             "ticks": ""
            },
            "colorscale": [
             [
              0,
              "#0d0887"
             ],
             [
              0.1111111111111111,
              "#46039f"
             ],
             [
              0.2222222222222222,
              "#7201a8"
             ],
             [
              0.3333333333333333,
              "#9c179e"
             ],
             [
              0.4444444444444444,
              "#bd3786"
             ],
             [
              0.5555555555555556,
              "#d8576b"
             ],
             [
              0.6666666666666666,
              "#ed7953"
             ],
             [
              0.7777777777777778,
              "#fb9f3a"
             ],
             [
              0.8888888888888888,
              "#fdca26"
             ],
             [
              1,
              "#f0f921"
             ]
            ],
            "type": "histogram2d"
           }
          ],
          "histogram2dcontour": [
           {
            "colorbar": {
             "outlinewidth": 0,
             "ticks": ""
            },
            "colorscale": [
             [
              0,
              "#0d0887"
             ],
             [
              0.1111111111111111,
              "#46039f"
             ],
             [
              0.2222222222222222,
              "#7201a8"
             ],
             [
              0.3333333333333333,
              "#9c179e"
             ],
             [
              0.4444444444444444,
              "#bd3786"
             ],
             [
              0.5555555555555556,
              "#d8576b"
             ],
             [
              0.6666666666666666,
              "#ed7953"
             ],
             [
              0.7777777777777778,
              "#fb9f3a"
             ],
             [
              0.8888888888888888,
              "#fdca26"
             ],
             [
              1,
              "#f0f921"
             ]
            ],
            "type": "histogram2dcontour"
           }
          ],
          "mesh3d": [
           {
            "colorbar": {
             "outlinewidth": 0,
             "ticks": ""
            },
            "type": "mesh3d"
           }
          ],
          "parcoords": [
           {
            "line": {
             "colorbar": {
              "outlinewidth": 0,
              "ticks": ""
             }
            },
            "type": "parcoords"
           }
          ],
          "pie": [
           {
            "automargin": true,
            "type": "pie"
           }
          ],
          "scatter": [
           {
            "fillpattern": {
             "fillmode": "overlay",
             "size": 10,
             "solidity": 0.2
            },
            "type": "scatter"
           }
          ],
          "scatter3d": [
           {
            "line": {
             "colorbar": {
              "outlinewidth": 0,
              "ticks": ""
             }
            },
            "marker": {
             "colorbar": {
              "outlinewidth": 0,
              "ticks": ""
             }
            },
            "type": "scatter3d"
           }
          ],
          "scattercarpet": [
           {
            "marker": {
             "colorbar": {
              "outlinewidth": 0,
              "ticks": ""
             }
            },
            "type": "scattercarpet"
           }
          ],
          "scattergeo": [
           {
            "marker": {
             "colorbar": {
              "outlinewidth": 0,
              "ticks": ""
             }
            },
            "type": "scattergeo"
           }
          ],
          "scattergl": [
           {
            "marker": {
             "colorbar": {
              "outlinewidth": 0,
              "ticks": ""
             }
            },
            "type": "scattergl"
           }
          ],
          "scattermapbox": [
           {
            "marker": {
             "colorbar": {
              "outlinewidth": 0,
              "ticks": ""
             }
            },
            "type": "scattermapbox"
           }
          ],
          "scatterpolar": [
           {
            "marker": {
             "colorbar": {
              "outlinewidth": 0,
              "ticks": ""
             }
            },
            "type": "scatterpolar"
           }
          ],
          "scatterpolargl": [
           {
            "marker": {
             "colorbar": {
              "outlinewidth": 0,
              "ticks": ""
             }
            },
            "type": "scatterpolargl"
           }
          ],
          "scatterternary": [
           {
            "marker": {
             "colorbar": {
              "outlinewidth": 0,
              "ticks": ""
             }
            },
            "type": "scatterternary"
           }
          ],
          "surface": [
           {
            "colorbar": {
             "outlinewidth": 0,
             "ticks": ""
            },
            "colorscale": [
             [
              0,
              "#0d0887"
             ],
             [
              0.1111111111111111,
              "#46039f"
             ],
             [
              0.2222222222222222,
              "#7201a8"
             ],
             [
              0.3333333333333333,
              "#9c179e"
             ],
             [
              0.4444444444444444,
              "#bd3786"
             ],
             [
              0.5555555555555556,
              "#d8576b"
             ],
             [
              0.6666666666666666,
              "#ed7953"
             ],
             [
              0.7777777777777778,
              "#fb9f3a"
             ],
             [
              0.8888888888888888,
              "#fdca26"
             ],
             [
              1,
              "#f0f921"
             ]
            ],
            "type": "surface"
           }
          ],
          "table": [
           {
            "cells": {
             "fill": {
              "color": "#EBF0F8"
             },
             "line": {
              "color": "white"
             }
            },
            "header": {
             "fill": {
              "color": "#C8D4E3"
             },
             "line": {
              "color": "white"
             }
            },
            "type": "table"
           }
          ]
         },
         "layout": {
          "annotationdefaults": {
           "arrowcolor": "#2a3f5f",
           "arrowhead": 0,
           "arrowwidth": 1
          },
          "autotypenumbers": "strict",
          "coloraxis": {
           "colorbar": {
            "outlinewidth": 0,
            "ticks": ""
           }
          },
          "colorscale": {
           "diverging": [
            [
             0,
             "#8e0152"
            ],
            [
             0.1,
             "#c51b7d"
            ],
            [
             0.2,
             "#de77ae"
            ],
            [
             0.3,
             "#f1b6da"
            ],
            [
             0.4,
             "#fde0ef"
            ],
            [
             0.5,
             "#f7f7f7"
            ],
            [
             0.6,
             "#e6f5d0"
            ],
            [
             0.7,
             "#b8e186"
            ],
            [
             0.8,
             "#7fbc41"
            ],
            [
             0.9,
             "#4d9221"
            ],
            [
             1,
             "#276419"
            ]
           ],
           "sequential": [
            [
             0,
             "#0d0887"
            ],
            [
             0.1111111111111111,
             "#46039f"
            ],
            [
             0.2222222222222222,
             "#7201a8"
            ],
            [
             0.3333333333333333,
             "#9c179e"
            ],
            [
             0.4444444444444444,
             "#bd3786"
            ],
            [
             0.5555555555555556,
             "#d8576b"
            ],
            [
             0.6666666666666666,
             "#ed7953"
            ],
            [
             0.7777777777777778,
             "#fb9f3a"
            ],
            [
             0.8888888888888888,
             "#fdca26"
            ],
            [
             1,
             "#f0f921"
            ]
           ],
           "sequentialminus": [
            [
             0,
             "#0d0887"
            ],
            [
             0.1111111111111111,
             "#46039f"
            ],
            [
             0.2222222222222222,
             "#7201a8"
            ],
            [
             0.3333333333333333,
             "#9c179e"
            ],
            [
             0.4444444444444444,
             "#bd3786"
            ],
            [
             0.5555555555555556,
             "#d8576b"
            ],
            [
             0.6666666666666666,
             "#ed7953"
            ],
            [
             0.7777777777777778,
             "#fb9f3a"
            ],
            [
             0.8888888888888888,
             "#fdca26"
            ],
            [
             1,
             "#f0f921"
            ]
           ]
          },
          "colorway": [
           "#636efa",
           "#EF553B",
           "#00cc96",
           "#ab63fa",
           "#FFA15A",
           "#19d3f3",
           "#FF6692",
           "#B6E880",
           "#FF97FF",
           "#FECB52"
          ],
          "font": {
           "color": "#2a3f5f"
          },
          "geo": {
           "bgcolor": "white",
           "lakecolor": "white",
           "landcolor": "#E5ECF6",
           "showlakes": true,
           "showland": true,
           "subunitcolor": "white"
          },
          "hoverlabel": {
           "align": "left"
          },
          "hovermode": "closest",
          "mapbox": {
           "style": "light"
          },
          "paper_bgcolor": "white",
          "plot_bgcolor": "#E5ECF6",
          "polar": {
           "angularaxis": {
            "gridcolor": "white",
            "linecolor": "white",
            "ticks": ""
           },
           "bgcolor": "#E5ECF6",
           "radialaxis": {
            "gridcolor": "white",
            "linecolor": "white",
            "ticks": ""
           }
          },
          "scene": {
           "xaxis": {
            "backgroundcolor": "#E5ECF6",
            "gridcolor": "white",
            "gridwidth": 2,
            "linecolor": "white",
            "showbackground": true,
            "ticks": "",
            "zerolinecolor": "white"
           },
           "yaxis": {
            "backgroundcolor": "#E5ECF6",
            "gridcolor": "white",
            "gridwidth": 2,
            "linecolor": "white",
            "showbackground": true,
            "ticks": "",
            "zerolinecolor": "white"
           },
           "zaxis": {
            "backgroundcolor": "#E5ECF6",
            "gridcolor": "white",
            "gridwidth": 2,
            "linecolor": "white",
            "showbackground": true,
            "ticks": "",
            "zerolinecolor": "white"
           }
          },
          "shapedefaults": {
           "line": {
            "color": "#2a3f5f"
           }
          },
          "ternary": {
           "aaxis": {
            "gridcolor": "white",
            "linecolor": "white",
            "ticks": ""
           },
           "baxis": {
            "gridcolor": "white",
            "linecolor": "white",
            "ticks": ""
           },
           "bgcolor": "#E5ECF6",
           "caxis": {
            "gridcolor": "white",
            "linecolor": "white",
            "ticks": ""
           }
          },
          "title": {
           "x": 0.05
          },
          "xaxis": {
           "automargin": true,
           "gridcolor": "white",
           "linecolor": "white",
           "ticks": "",
           "title": {
            "standoff": 15
           },
           "zerolinecolor": "white",
           "zerolinewidth": 2
          },
          "yaxis": {
           "automargin": true,
           "gridcolor": "white",
           "linecolor": "white",
           "ticks": "",
           "title": {
            "standoff": 15
           },
           "zerolinecolor": "white",
           "zerolinewidth": 2
          }
         }
        },
        "title": {
         "text": "Total Universities Ranked in 100 by Country"
        },
        "xaxis": {
         "anchor": "y",
         "domain": [
          0,
          1
         ],
         "title": {
          "text": "country"
         }
        },
        "yaxis": {
         "anchor": "x",
         "domain": [
          0,
          1
         ],
         "title": {
          "text": "total_universities ranked in 100"
         }
        }
       }
      }
     },
     "metadata": {},
     "output_type": "display_data"
    }
   ],
   "source": [
    "# plot the total universities ranked in 100 \n",
    "\n",
    "fig = px.bar(new_country_table, x='country', y='total_universities ranked in 100', title='Total Universities Ranked in 100 by Country')\n",
    "fig.show()"
   ]
  },
  {
   "cell_type": "code",
   "execution_count": 84,
   "metadata": {},
   "outputs": [
    {
     "data": {
      "application/vnd.plotly.v1+json": {
       "config": {
        "plotlyServerURL": "https://plot.ly"
       },
       "data": [
        {
         "alignmentgroup": "True",
         "hovertemplate": "Region=%{x}<br>total_universities ranked in 100=%{y}<extra></extra>",
         "legendgroup": "",
         "marker": {
          "color": "#636efa",
          "pattern": {
           "shape": ""
          }
         },
         "name": "",
         "offsetgroup": "",
         "orientation": "v",
         "showlegend": false,
         "textposition": "auto",
         "type": "bar",
         "x": [
          "NorthernAmerica",
          "NorthernEurope",
          "Oceania",
          "EasternAsia",
          "EasternAsia",
          "NorthernAmerica",
          "EasternAsia",
          "WesternEurope",
          "WesternEurope",
          "EasternAsia",
          "NorthernEurope",
          "WesternEurope",
          "WesternEurope",
          "South-easternAsia",
          null,
          "SouthAmerica",
          "Oceania",
          "NorthernEurope",
          "NorthernEurope",
          "WesternEurope",
          "NorthernEurope"
         ],
         "xaxis": "x",
         "y": [
          32,
          18,
          6,
          5,
          4,
          4,
          4,
          4,
          4,
          4,
          3,
          2,
          2,
          2,
          1,
          1,
          1,
          1,
          1,
          1,
          1
         ],
         "yaxis": "y"
        }
       ],
       "layout": {
        "barmode": "relative",
        "legend": {
         "tracegroupgap": 0
        },
        "template": {
         "data": {
          "bar": [
           {
            "error_x": {
             "color": "#2a3f5f"
            },
            "error_y": {
             "color": "#2a3f5f"
            },
            "marker": {
             "line": {
              "color": "#E5ECF6",
              "width": 0.5
             },
             "pattern": {
              "fillmode": "overlay",
              "size": 10,
              "solidity": 0.2
             }
            },
            "type": "bar"
           }
          ],
          "barpolar": [
           {
            "marker": {
             "line": {
              "color": "#E5ECF6",
              "width": 0.5
             },
             "pattern": {
              "fillmode": "overlay",
              "size": 10,
              "solidity": 0.2
             }
            },
            "type": "barpolar"
           }
          ],
          "carpet": [
           {
            "aaxis": {
             "endlinecolor": "#2a3f5f",
             "gridcolor": "white",
             "linecolor": "white",
             "minorgridcolor": "white",
             "startlinecolor": "#2a3f5f"
            },
            "baxis": {
             "endlinecolor": "#2a3f5f",
             "gridcolor": "white",
             "linecolor": "white",
             "minorgridcolor": "white",
             "startlinecolor": "#2a3f5f"
            },
            "type": "carpet"
           }
          ],
          "choropleth": [
           {
            "colorbar": {
             "outlinewidth": 0,
             "ticks": ""
            },
            "type": "choropleth"
           }
          ],
          "contour": [
           {
            "colorbar": {
             "outlinewidth": 0,
             "ticks": ""
            },
            "colorscale": [
             [
              0,
              "#0d0887"
             ],
             [
              0.1111111111111111,
              "#46039f"
             ],
             [
              0.2222222222222222,
              "#7201a8"
             ],
             [
              0.3333333333333333,
              "#9c179e"
             ],
             [
              0.4444444444444444,
              "#bd3786"
             ],
             [
              0.5555555555555556,
              "#d8576b"
             ],
             [
              0.6666666666666666,
              "#ed7953"
             ],
             [
              0.7777777777777778,
              "#fb9f3a"
             ],
             [
              0.8888888888888888,
              "#fdca26"
             ],
             [
              1,
              "#f0f921"
             ]
            ],
            "type": "contour"
           }
          ],
          "contourcarpet": [
           {
            "colorbar": {
             "outlinewidth": 0,
             "ticks": ""
            },
            "type": "contourcarpet"
           }
          ],
          "heatmap": [
           {
            "colorbar": {
             "outlinewidth": 0,
             "ticks": ""
            },
            "colorscale": [
             [
              0,
              "#0d0887"
             ],
             [
              0.1111111111111111,
              "#46039f"
             ],
             [
              0.2222222222222222,
              "#7201a8"
             ],
             [
              0.3333333333333333,
              "#9c179e"
             ],
             [
              0.4444444444444444,
              "#bd3786"
             ],
             [
              0.5555555555555556,
              "#d8576b"
             ],
             [
              0.6666666666666666,
              "#ed7953"
             ],
             [
              0.7777777777777778,
              "#fb9f3a"
             ],
             [
              0.8888888888888888,
              "#fdca26"
             ],
             [
              1,
              "#f0f921"
             ]
            ],
            "type": "heatmap"
           }
          ],
          "heatmapgl": [
           {
            "colorbar": {
             "outlinewidth": 0,
             "ticks": ""
            },
            "colorscale": [
             [
              0,
              "#0d0887"
             ],
             [
              0.1111111111111111,
              "#46039f"
             ],
             [
              0.2222222222222222,
              "#7201a8"
             ],
             [
              0.3333333333333333,
              "#9c179e"
             ],
             [
              0.4444444444444444,
              "#bd3786"
             ],
             [
              0.5555555555555556,
              "#d8576b"
             ],
             [
              0.6666666666666666,
              "#ed7953"
             ],
             [
              0.7777777777777778,
              "#fb9f3a"
             ],
             [
              0.8888888888888888,
              "#fdca26"
             ],
             [
              1,
              "#f0f921"
             ]
            ],
            "type": "heatmapgl"
           }
          ],
          "histogram": [
           {
            "marker": {
             "pattern": {
              "fillmode": "overlay",
              "size": 10,
              "solidity": 0.2
             }
            },
            "type": "histogram"
           }
          ],
          "histogram2d": [
           {
            "colorbar": {
             "outlinewidth": 0,
             "ticks": ""
            },
            "colorscale": [
             [
              0,
              "#0d0887"
             ],
             [
              0.1111111111111111,
              "#46039f"
             ],
             [
              0.2222222222222222,
              "#7201a8"
             ],
             [
              0.3333333333333333,
              "#9c179e"
             ],
             [
              0.4444444444444444,
              "#bd3786"
             ],
             [
              0.5555555555555556,
              "#d8576b"
             ],
             [
              0.6666666666666666,
              "#ed7953"
             ],
             [
              0.7777777777777778,
              "#fb9f3a"
             ],
             [
              0.8888888888888888,
              "#fdca26"
             ],
             [
              1,
              "#f0f921"
             ]
            ],
            "type": "histogram2d"
           }
          ],
          "histogram2dcontour": [
           {
            "colorbar": {
             "outlinewidth": 0,
             "ticks": ""
            },
            "colorscale": [
             [
              0,
              "#0d0887"
             ],
             [
              0.1111111111111111,
              "#46039f"
             ],
             [
              0.2222222222222222,
              "#7201a8"
             ],
             [
              0.3333333333333333,
              "#9c179e"
             ],
             [
              0.4444444444444444,
              "#bd3786"
             ],
             [
              0.5555555555555556,
              "#d8576b"
             ],
             [
              0.6666666666666666,
              "#ed7953"
             ],
             [
              0.7777777777777778,
              "#fb9f3a"
             ],
             [
              0.8888888888888888,
              "#fdca26"
             ],
             [
              1,
              "#f0f921"
             ]
            ],
            "type": "histogram2dcontour"
           }
          ],
          "mesh3d": [
           {
            "colorbar": {
             "outlinewidth": 0,
             "ticks": ""
            },
            "type": "mesh3d"
           }
          ],
          "parcoords": [
           {
            "line": {
             "colorbar": {
              "outlinewidth": 0,
              "ticks": ""
             }
            },
            "type": "parcoords"
           }
          ],
          "pie": [
           {
            "automargin": true,
            "type": "pie"
           }
          ],
          "scatter": [
           {
            "fillpattern": {
             "fillmode": "overlay",
             "size": 10,
             "solidity": 0.2
            },
            "type": "scatter"
           }
          ],
          "scatter3d": [
           {
            "line": {
             "colorbar": {
              "outlinewidth": 0,
              "ticks": ""
             }
            },
            "marker": {
             "colorbar": {
              "outlinewidth": 0,
              "ticks": ""
             }
            },
            "type": "scatter3d"
           }
          ],
          "scattercarpet": [
           {
            "marker": {
             "colorbar": {
              "outlinewidth": 0,
              "ticks": ""
             }
            },
            "type": "scattercarpet"
           }
          ],
          "scattergeo": [
           {
            "marker": {
             "colorbar": {
              "outlinewidth": 0,
              "ticks": ""
             }
            },
            "type": "scattergeo"
           }
          ],
          "scattergl": [
           {
            "marker": {
             "colorbar": {
              "outlinewidth": 0,
              "ticks": ""
             }
            },
            "type": "scattergl"
           }
          ],
          "scattermapbox": [
           {
            "marker": {
             "colorbar": {
              "outlinewidth": 0,
              "ticks": ""
             }
            },
            "type": "scattermapbox"
           }
          ],
          "scatterpolar": [
           {
            "marker": {
             "colorbar": {
              "outlinewidth": 0,
              "ticks": ""
             }
            },
            "type": "scatterpolar"
           }
          ],
          "scatterpolargl": [
           {
            "marker": {
             "colorbar": {
              "outlinewidth": 0,
              "ticks": ""
             }
            },
            "type": "scatterpolargl"
           }
          ],
          "scatterternary": [
           {
            "marker": {
             "colorbar": {
              "outlinewidth": 0,
              "ticks": ""
             }
            },
            "type": "scatterternary"
           }
          ],
          "surface": [
           {
            "colorbar": {
             "outlinewidth": 0,
             "ticks": ""
            },
            "colorscale": [
             [
              0,
              "#0d0887"
             ],
             [
              0.1111111111111111,
              "#46039f"
             ],
             [
              0.2222222222222222,
              "#7201a8"
             ],
             [
              0.3333333333333333,
              "#9c179e"
             ],
             [
              0.4444444444444444,
              "#bd3786"
             ],
             [
              0.5555555555555556,
              "#d8576b"
             ],
             [
              0.6666666666666666,
              "#ed7953"
             ],
             [
              0.7777777777777778,
              "#fb9f3a"
             ],
             [
              0.8888888888888888,
              "#fdca26"
             ],
             [
              1,
              "#f0f921"
             ]
            ],
            "type": "surface"
           }
          ],
          "table": [
           {
            "cells": {
             "fill": {
              "color": "#EBF0F8"
             },
             "line": {
              "color": "white"
             }
            },
            "header": {
             "fill": {
              "color": "#C8D4E3"
             },
             "line": {
              "color": "white"
             }
            },
            "type": "table"
           }
          ]
         },
         "layout": {
          "annotationdefaults": {
           "arrowcolor": "#2a3f5f",
           "arrowhead": 0,
           "arrowwidth": 1
          },
          "autotypenumbers": "strict",
          "coloraxis": {
           "colorbar": {
            "outlinewidth": 0,
            "ticks": ""
           }
          },
          "colorscale": {
           "diverging": [
            [
             0,
             "#8e0152"
            ],
            [
             0.1,
             "#c51b7d"
            ],
            [
             0.2,
             "#de77ae"
            ],
            [
             0.3,
             "#f1b6da"
            ],
            [
             0.4,
             "#fde0ef"
            ],
            [
             0.5,
             "#f7f7f7"
            ],
            [
             0.6,
             "#e6f5d0"
            ],
            [
             0.7,
             "#b8e186"
            ],
            [
             0.8,
             "#7fbc41"
            ],
            [
             0.9,
             "#4d9221"
            ],
            [
             1,
             "#276419"
            ]
           ],
           "sequential": [
            [
             0,
             "#0d0887"
            ],
            [
             0.1111111111111111,
             "#46039f"
            ],
            [
             0.2222222222222222,
             "#7201a8"
            ],
            [
             0.3333333333333333,
             "#9c179e"
            ],
            [
             0.4444444444444444,
             "#bd3786"
            ],
            [
             0.5555555555555556,
             "#d8576b"
            ],
            [
             0.6666666666666666,
             "#ed7953"
            ],
            [
             0.7777777777777778,
             "#fb9f3a"
            ],
            [
             0.8888888888888888,
             "#fdca26"
            ],
            [
             1,
             "#f0f921"
            ]
           ],
           "sequentialminus": [
            [
             0,
             "#0d0887"
            ],
            [
             0.1111111111111111,
             "#46039f"
            ],
            [
             0.2222222222222222,
             "#7201a8"
            ],
            [
             0.3333333333333333,
             "#9c179e"
            ],
            [
             0.4444444444444444,
             "#bd3786"
            ],
            [
             0.5555555555555556,
             "#d8576b"
            ],
            [
             0.6666666666666666,
             "#ed7953"
            ],
            [
             0.7777777777777778,
             "#fb9f3a"
            ],
            [
             0.8888888888888888,
             "#fdca26"
            ],
            [
             1,
             "#f0f921"
            ]
           ]
          },
          "colorway": [
           "#636efa",
           "#EF553B",
           "#00cc96",
           "#ab63fa",
           "#FFA15A",
           "#19d3f3",
           "#FF6692",
           "#B6E880",
           "#FF97FF",
           "#FECB52"
          ],
          "font": {
           "color": "#2a3f5f"
          },
          "geo": {
           "bgcolor": "white",
           "lakecolor": "white",
           "landcolor": "#E5ECF6",
           "showlakes": true,
           "showland": true,
           "subunitcolor": "white"
          },
          "hoverlabel": {
           "align": "left"
          },
          "hovermode": "closest",
          "mapbox": {
           "style": "light"
          },
          "paper_bgcolor": "white",
          "plot_bgcolor": "#E5ECF6",
          "polar": {
           "angularaxis": {
            "gridcolor": "white",
            "linecolor": "white",
            "ticks": ""
           },
           "bgcolor": "#E5ECF6",
           "radialaxis": {
            "gridcolor": "white",
            "linecolor": "white",
            "ticks": ""
           }
          },
          "scene": {
           "xaxis": {
            "backgroundcolor": "#E5ECF6",
            "gridcolor": "white",
            "gridwidth": 2,
            "linecolor": "white",
            "showbackground": true,
            "ticks": "",
            "zerolinecolor": "white"
           },
           "yaxis": {
            "backgroundcolor": "#E5ECF6",
            "gridcolor": "white",
            "gridwidth": 2,
            "linecolor": "white",
            "showbackground": true,
            "ticks": "",
            "zerolinecolor": "white"
           },
           "zaxis": {
            "backgroundcolor": "#E5ECF6",
            "gridcolor": "white",
            "gridwidth": 2,
            "linecolor": "white",
            "showbackground": true,
            "ticks": "",
            "zerolinecolor": "white"
           }
          },
          "shapedefaults": {
           "line": {
            "color": "#2a3f5f"
           }
          },
          "ternary": {
           "aaxis": {
            "gridcolor": "white",
            "linecolor": "white",
            "ticks": ""
           },
           "baxis": {
            "gridcolor": "white",
            "linecolor": "white",
            "ticks": ""
           },
           "bgcolor": "#E5ECF6",
           "caxis": {
            "gridcolor": "white",
            "linecolor": "white",
            "ticks": ""
           }
          },
          "title": {
           "x": 0.05
          },
          "xaxis": {
           "automargin": true,
           "gridcolor": "white",
           "linecolor": "white",
           "ticks": "",
           "title": {
            "standoff": 15
           },
           "zerolinecolor": "white",
           "zerolinewidth": 2
          },
          "yaxis": {
           "automargin": true,
           "gridcolor": "white",
           "linecolor": "white",
           "ticks": "",
           "title": {
            "standoff": 15
           },
           "zerolinecolor": "white",
           "zerolinewidth": 2
          }
         }
        },
        "title": {
         "text": "Total Universities Ranked in 100 by Region"
        },
        "xaxis": {
         "anchor": "y",
         "domain": [
          0,
          1
         ],
         "title": {
          "text": "Region"
         }
        },
        "yaxis": {
         "anchor": "x",
         "domain": [
          0,
          1
         ],
         "title": {
          "text": "total_universities ranked in 100"
         }
        }
       }
      }
     },
     "metadata": {},
     "output_type": "display_data"
    }
   ],
   "source": [
    "fig = px.bar(new_country_table, x='Region', y='total_universities ranked in 100', title='Total Universities Ranked in 100 by Region')\n",
    "fig.show()"
   ]
  },
  {
   "cell_type": "code",
   "execution_count": 92,
   "metadata": {},
   "outputs": [
    {
     "data": {
      "application/vnd.plotly.v1+json": {
       "config": {
        "plotlyServerURL": "https://plot.ly"
       },
       "data": [
        {
         "hovertemplate": "country=United States<br>total_universities ranked in 100=%{x}<br>GDP per capita (current US$)=%{y}<extra></extra>",
         "legendgroup": "United States",
         "marker": {
          "color": "#636efa",
          "symbol": "circle"
         },
         "mode": "markers",
         "name": "United States",
         "orientation": "v",
         "showlegend": true,
         "type": "scatter",
         "x": [
          32
         ],
         "xaxis": "x",
         "y": [
          56053.8
         ],
         "yaxis": "y"
        },
        {
         "hovertemplate": "country=United Kingdom<br>total_universities ranked in 100=%{x}<br>GDP per capita (current US$)=%{y}<extra></extra>",
         "legendgroup": "United Kingdom",
         "marker": {
          "color": "#EF553B",
          "symbol": "circle"
         },
         "mode": "markers",
         "name": "United Kingdom",
         "orientation": "v",
         "showlegend": true,
         "type": "scatter",
         "x": [
          18
         ],
         "xaxis": "x",
         "y": [
          44162.4
         ],
         "yaxis": "y"
        },
        {
         "hovertemplate": "country=Australia<br>total_universities ranked in 100=%{x}<br>GDP per capita (current US$)=%{y}<extra></extra>",
         "legendgroup": "Australia",
         "marker": {
          "color": "#00cc96",
          "symbol": "circle"
         },
         "mode": "markers",
         "name": "Australia",
         "orientation": "v",
         "showlegend": true,
         "type": "scatter",
         "x": [
          6
         ],
         "xaxis": "x",
         "y": [
          51352.2
         ],
         "yaxis": "y"
        },
        {
         "hovertemplate": "country=Japan<br>total_universities ranked in 100=%{x}<br>GDP per capita (current US$)=%{y}<extra></extra>",
         "legendgroup": "Japan",
         "marker": {
          "color": "#ab63fa",
          "symbol": "circle"
         },
         "mode": "markers",
         "name": "Japan",
         "orientation": "v",
         "showlegend": true,
         "type": "scatter",
         "x": [
          5
         ],
         "xaxis": "x",
         "y": [
          34628.7
         ],
         "yaxis": "y"
        },
        {
         "hovertemplate": "country=South Korea<br>total_universities ranked in 100=%{x}<br>GDP per capita (current US$)=%{y}<extra></extra>",
         "legendgroup": "South Korea",
         "marker": {
          "color": "#FFA15A",
          "symbol": "circle"
         },
         "mode": "markers",
         "name": "South Korea",
         "orientation": "v",
         "showlegend": true,
         "type": "scatter",
         "x": [
          4
         ],
         "xaxis": "x",
         "y": [
          648
         ],
         "yaxis": "y"
        },
        {
         "hovertemplate": "country=Canada<br>total_universities ranked in 100=%{x}<br>GDP per capita (current US$)=%{y}<extra></extra>",
         "legendgroup": "Canada",
         "marker": {
          "color": "#19d3f3",
          "symbol": "circle"
         },
         "mode": "markers",
         "name": "Canada",
         "orientation": "v",
         "showlegend": true,
         "type": "scatter",
         "x": [
          4
         ],
         "xaxis": "x",
         "y": [
          43205.6
         ],
         "yaxis": "y"
        },
        {
         "hovertemplate": "country=China (Mainland)<br>total_universities ranked in 100=%{x}<br>GDP per capita (current US$)=%{y}<extra></extra>",
         "legendgroup": "China (Mainland)",
         "marker": {
          "color": "#FF6692",
          "symbol": "circle"
         },
         "mode": "markers",
         "name": "China (Mainland)",
         "orientation": "v",
         "showlegend": true,
         "type": "scatter",
         "x": [
          4
         ],
         "xaxis": "x",
         "y": [
          8109.1
         ],
         "yaxis": "y"
        },
        {
         "hovertemplate": "country=Switzerland<br>total_universities ranked in 100=%{x}<br>GDP per capita (current US$)=%{y}<extra></extra>",
         "legendgroup": "Switzerland",
         "marker": {
          "color": "#B6E880",
          "symbol": "circle"
         },
         "mode": "markers",
         "name": "Switzerland",
         "orientation": "v",
         "showlegend": true,
         "type": "scatter",
         "x": [
          4
         ],
         "xaxis": "x",
         "y": [
          80831.1
         ],
         "yaxis": "y"
        },
        {
         "hovertemplate": "country=Germany<br>total_universities ranked in 100=%{x}<br>GDP per capita (current US$)=%{y}<extra></extra>",
         "legendgroup": "Germany",
         "marker": {
          "color": "#FF97FF",
          "symbol": "circle"
         },
         "mode": "markers",
         "name": "Germany",
         "orientation": "v",
         "showlegend": true,
         "type": "scatter",
         "x": [
          4
         ],
         "xaxis": "x",
         "y": [
          41686.2
         ],
         "yaxis": "y"
        },
        {
         "hovertemplate": "country=Hong Kong SAR<br>total_universities ranked in 100=%{x}<br>GDP per capita (current US$)=%{y}<extra></extra>",
         "legendgroup": "Hong Kong SAR",
         "marker": {
          "color": "#FECB52",
          "symbol": "circle"
         },
         "mode": "markers",
         "name": "Hong Kong SAR",
         "orientation": "v",
         "showlegend": true,
         "type": "scatter",
         "x": [
          4
         ],
         "xaxis": "x",
         "y": [
          42431
         ],
         "yaxis": "y"
        },
        {
         "hovertemplate": "country=Sweden<br>total_universities ranked in 100=%{x}<br>GDP per capita (current US$)=%{y}<extra></extra>",
         "legendgroup": "Sweden",
         "marker": {
          "color": "#636efa",
          "symbol": "circle"
         },
         "mode": "markers",
         "name": "Sweden",
         "orientation": "v",
         "showlegend": true,
         "type": "scatter",
         "x": [
          3
         ],
         "xaxis": "x",
         "y": [
          50687.5
         ],
         "yaxis": "y"
        },
        {
         "hovertemplate": "country=France<br>total_universities ranked in 100=%{x}<br>GDP per capita (current US$)=%{y}<extra></extra>",
         "legendgroup": "France",
         "marker": {
          "color": "#EF553B",
          "symbol": "circle"
         },
         "mode": "markers",
         "name": "France",
         "orientation": "v",
         "showlegend": true,
         "type": "scatter",
         "x": [
          2
         ],
         "xaxis": "x",
         "y": [
          36304.2
         ],
         "yaxis": "y"
        },
        {
         "hovertemplate": "country=Netherlands<br>total_universities ranked in 100=%{x}<br>GDP per capita (current US$)=%{y}<extra></extra>",
         "legendgroup": "Netherlands",
         "marker": {
          "color": "#00cc96",
          "symbol": "circle"
         },
         "mode": "markers",
         "name": "Netherlands",
         "orientation": "v",
         "showlegend": true,
         "type": "scatter",
         "x": [
          2
         ],
         "xaxis": "x",
         "y": [
          44332.1
         ],
         "yaxis": "y"
        },
        {
         "hovertemplate": "country=Singapore<br>total_universities ranked in 100=%{x}<br>GDP per capita (current US$)=%{y}<extra></extra>",
         "legendgroup": "Singapore",
         "marker": {
          "color": "#ab63fa",
          "symbol": "circle"
         },
         "mode": "markers",
         "name": "Singapore",
         "orientation": "v",
         "showlegend": true,
         "type": "scatter",
         "x": [
          2
         ],
         "xaxis": "x",
         "y": [
          52239
         ],
         "yaxis": "y"
        },
        {
         "hovertemplate": "country=Taiwan<br>total_universities ranked in 100=%{x}<br>GDP per capita (current US$)=%{y}<extra></extra>",
         "legendgroup": "Taiwan",
         "marker": {
          "color": "#FFA15A",
          "symbol": "circle"
         },
         "mode": "markers",
         "name": "Taiwan",
         "orientation": "v",
         "showlegend": true,
         "type": "scatter",
         "x": [
          1
         ],
         "xaxis": "x",
         "y": [
          null
         ],
         "yaxis": "y"
        },
        {
         "hovertemplate": "country=Argentina<br>total_universities ranked in 100=%{x}<br>GDP per capita (current US$)=%{y}<extra></extra>",
         "legendgroup": "Argentina",
         "marker": {
          "color": "#19d3f3",
          "symbol": "circle"
         },
         "mode": "markers",
         "name": "Argentina",
         "orientation": "v",
         "showlegend": true,
         "type": "scatter",
         "x": [
          1
         ],
         "xaxis": "x",
         "y": [
          14564.5
         ],
         "yaxis": "y"
        },
        {
         "hovertemplate": "country=New Zealand<br>total_universities ranked in 100=%{x}<br>GDP per capita (current US$)=%{y}<extra></extra>",
         "legendgroup": "New Zealand",
         "marker": {
          "color": "#FF6692",
          "symbol": "circle"
         },
         "mode": "markers",
         "name": "New Zealand",
         "orientation": "v",
         "showlegend": true,
         "type": "scatter",
         "x": [
          1
         ],
         "xaxis": "x",
         "y": [
          38294.3
         ],
         "yaxis": "y"
        },
        {
         "hovertemplate": "country=Finland<br>total_universities ranked in 100=%{x}<br>GDP per capita (current US$)=%{y}<extra></extra>",
         "legendgroup": "Finland",
         "marker": {
          "color": "#B6E880",
          "symbol": "circle"
         },
         "mode": "markers",
         "name": "Finland",
         "orientation": "v",
         "showlegend": true,
         "type": "scatter",
         "x": [
          1
         ],
         "xaxis": "x",
         "y": [
          42148.1
         ],
         "yaxis": "y"
        },
        {
         "hovertemplate": "country=Denmark<br>total_universities ranked in 100=%{x}<br>GDP per capita (current US$)=%{y}<extra></extra>",
         "legendgroup": "Denmark",
         "marker": {
          "color": "#FF97FF",
          "symbol": "circle"
         },
         "mode": "markers",
         "name": "Denmark",
         "orientation": "v",
         "showlegend": true,
         "type": "scatter",
         "x": [
          1
         ],
         "xaxis": "x",
         "y": [
          53149.3
         ],
         "yaxis": "y"
        },
        {
         "hovertemplate": "country=Belgium<br>total_universities ranked in 100=%{x}<br>GDP per capita (current US$)=%{y}<extra></extra>",
         "legendgroup": "Belgium",
         "marker": {
          "color": "#FECB52",
          "symbol": "circle"
         },
         "mode": "markers",
         "name": "Belgium",
         "orientation": "v",
         "showlegend": true,
         "type": "scatter",
         "x": [
          1
         ],
         "xaxis": "x",
         "y": [
          40277.8
         ],
         "yaxis": "y"
        },
        {
         "hovertemplate": "country=Ireland<br>total_universities ranked in 100=%{x}<br>GDP per capita (current US$)=%{y}<extra></extra>",
         "legendgroup": "Ireland",
         "marker": {
          "color": "#636efa",
          "symbol": "circle"
         },
         "mode": "markers",
         "name": "Ireland",
         "orientation": "v",
         "showlegend": true,
         "type": "scatter",
         "x": [
          1
         ],
         "xaxis": "x",
         "y": [
          60513.6
         ],
         "yaxis": "y"
        }
       ],
       "layout": {
        "legend": {
         "title": {
          "text": "country"
         },
         "tracegroupgap": 0
        },
        "template": {
         "data": {
          "bar": [
           {
            "error_x": {
             "color": "#2a3f5f"
            },
            "error_y": {
             "color": "#2a3f5f"
            },
            "marker": {
             "line": {
              "color": "#E5ECF6",
              "width": 0.5
             },
             "pattern": {
              "fillmode": "overlay",
              "size": 10,
              "solidity": 0.2
             }
            },
            "type": "bar"
           }
          ],
          "barpolar": [
           {
            "marker": {
             "line": {
              "color": "#E5ECF6",
              "width": 0.5
             },
             "pattern": {
              "fillmode": "overlay",
              "size": 10,
              "solidity": 0.2
             }
            },
            "type": "barpolar"
           }
          ],
          "carpet": [
           {
            "aaxis": {
             "endlinecolor": "#2a3f5f",
             "gridcolor": "white",
             "linecolor": "white",
             "minorgridcolor": "white",
             "startlinecolor": "#2a3f5f"
            },
            "baxis": {
             "endlinecolor": "#2a3f5f",
             "gridcolor": "white",
             "linecolor": "white",
             "minorgridcolor": "white",
             "startlinecolor": "#2a3f5f"
            },
            "type": "carpet"
           }
          ],
          "choropleth": [
           {
            "colorbar": {
             "outlinewidth": 0,
             "ticks": ""
            },
            "type": "choropleth"
           }
          ],
          "contour": [
           {
            "colorbar": {
             "outlinewidth": 0,
             "ticks": ""
            },
            "colorscale": [
             [
              0,
              "#0d0887"
             ],
             [
              0.1111111111111111,
              "#46039f"
             ],
             [
              0.2222222222222222,
              "#7201a8"
             ],
             [
              0.3333333333333333,
              "#9c179e"
             ],
             [
              0.4444444444444444,
              "#bd3786"
             ],
             [
              0.5555555555555556,
              "#d8576b"
             ],
             [
              0.6666666666666666,
              "#ed7953"
             ],
             [
              0.7777777777777778,
              "#fb9f3a"
             ],
             [
              0.8888888888888888,
              "#fdca26"
             ],
             [
              1,
              "#f0f921"
             ]
            ],
            "type": "contour"
           }
          ],
          "contourcarpet": [
           {
            "colorbar": {
             "outlinewidth": 0,
             "ticks": ""
            },
            "type": "contourcarpet"
           }
          ],
          "heatmap": [
           {
            "colorbar": {
             "outlinewidth": 0,
             "ticks": ""
            },
            "colorscale": [
             [
              0,
              "#0d0887"
             ],
             [
              0.1111111111111111,
              "#46039f"
             ],
             [
              0.2222222222222222,
              "#7201a8"
             ],
             [
              0.3333333333333333,
              "#9c179e"
             ],
             [
              0.4444444444444444,
              "#bd3786"
             ],
             [
              0.5555555555555556,
              "#d8576b"
             ],
             [
              0.6666666666666666,
              "#ed7953"
             ],
             [
              0.7777777777777778,
              "#fb9f3a"
             ],
             [
              0.8888888888888888,
              "#fdca26"
             ],
             [
              1,
              "#f0f921"
             ]
            ],
            "type": "heatmap"
           }
          ],
          "heatmapgl": [
           {
            "colorbar": {
             "outlinewidth": 0,
             "ticks": ""
            },
            "colorscale": [
             [
              0,
              "#0d0887"
             ],
             [
              0.1111111111111111,
              "#46039f"
             ],
             [
              0.2222222222222222,
              "#7201a8"
             ],
             [
              0.3333333333333333,
              "#9c179e"
             ],
             [
              0.4444444444444444,
              "#bd3786"
             ],
             [
              0.5555555555555556,
              "#d8576b"
             ],
             [
              0.6666666666666666,
              "#ed7953"
             ],
             [
              0.7777777777777778,
              "#fb9f3a"
             ],
             [
              0.8888888888888888,
              "#fdca26"
             ],
             [
              1,
              "#f0f921"
             ]
            ],
            "type": "heatmapgl"
           }
          ],
          "histogram": [
           {
            "marker": {
             "pattern": {
              "fillmode": "overlay",
              "size": 10,
              "solidity": 0.2
             }
            },
            "type": "histogram"
           }
          ],
          "histogram2d": [
           {
            "colorbar": {
             "outlinewidth": 0,
             "ticks": ""
            },
            "colorscale": [
             [
              0,
              "#0d0887"
             ],
             [
              0.1111111111111111,
              "#46039f"
             ],
             [
              0.2222222222222222,
              "#7201a8"
             ],
             [
              0.3333333333333333,
              "#9c179e"
             ],
             [
              0.4444444444444444,
              "#bd3786"
             ],
             [
              0.5555555555555556,
              "#d8576b"
             ],
             [
              0.6666666666666666,
              "#ed7953"
             ],
             [
              0.7777777777777778,
              "#fb9f3a"
             ],
             [
              0.8888888888888888,
              "#fdca26"
             ],
             [
              1,
              "#f0f921"
             ]
            ],
            "type": "histogram2d"
           }
          ],
          "histogram2dcontour": [
           {
            "colorbar": {
             "outlinewidth": 0,
             "ticks": ""
            },
            "colorscale": [
             [
              0,
              "#0d0887"
             ],
             [
              0.1111111111111111,
              "#46039f"
             ],
             [
              0.2222222222222222,
              "#7201a8"
             ],
             [
              0.3333333333333333,
              "#9c179e"
             ],
             [
              0.4444444444444444,
              "#bd3786"
             ],
             [
              0.5555555555555556,
              "#d8576b"
             ],
             [
              0.6666666666666666,
              "#ed7953"
             ],
             [
              0.7777777777777778,
              "#fb9f3a"
             ],
             [
              0.8888888888888888,
              "#fdca26"
             ],
             [
              1,
              "#f0f921"
             ]
            ],
            "type": "histogram2dcontour"
           }
          ],
          "mesh3d": [
           {
            "colorbar": {
             "outlinewidth": 0,
             "ticks": ""
            },
            "type": "mesh3d"
           }
          ],
          "parcoords": [
           {
            "line": {
             "colorbar": {
              "outlinewidth": 0,
              "ticks": ""
             }
            },
            "type": "parcoords"
           }
          ],
          "pie": [
           {
            "automargin": true,
            "type": "pie"
           }
          ],
          "scatter": [
           {
            "fillpattern": {
             "fillmode": "overlay",
             "size": 10,
             "solidity": 0.2
            },
            "type": "scatter"
           }
          ],
          "scatter3d": [
           {
            "line": {
             "colorbar": {
              "outlinewidth": 0,
              "ticks": ""
             }
            },
            "marker": {
             "colorbar": {
              "outlinewidth": 0,
              "ticks": ""
             }
            },
            "type": "scatter3d"
           }
          ],
          "scattercarpet": [
           {
            "marker": {
             "colorbar": {
              "outlinewidth": 0,
              "ticks": ""
             }
            },
            "type": "scattercarpet"
           }
          ],
          "scattergeo": [
           {
            "marker": {
             "colorbar": {
              "outlinewidth": 0,
              "ticks": ""
             }
            },
            "type": "scattergeo"
           }
          ],
          "scattergl": [
           {
            "marker": {
             "colorbar": {
              "outlinewidth": 0,
              "ticks": ""
             }
            },
            "type": "scattergl"
           }
          ],
          "scattermapbox": [
           {
            "marker": {
             "colorbar": {
              "outlinewidth": 0,
              "ticks": ""
             }
            },
            "type": "scattermapbox"
           }
          ],
          "scatterpolar": [
           {
            "marker": {
             "colorbar": {
              "outlinewidth": 0,
              "ticks": ""
             }
            },
            "type": "scatterpolar"
           }
          ],
          "scatterpolargl": [
           {
            "marker": {
             "colorbar": {
              "outlinewidth": 0,
              "ticks": ""
             }
            },
            "type": "scatterpolargl"
           }
          ],
          "scatterternary": [
           {
            "marker": {
             "colorbar": {
              "outlinewidth": 0,
              "ticks": ""
             }
            },
            "type": "scatterternary"
           }
          ],
          "surface": [
           {
            "colorbar": {
             "outlinewidth": 0,
             "ticks": ""
            },
            "colorscale": [
             [
              0,
              "#0d0887"
             ],
             [
              0.1111111111111111,
              "#46039f"
             ],
             [
              0.2222222222222222,
              "#7201a8"
             ],
             [
              0.3333333333333333,
              "#9c179e"
             ],
             [
              0.4444444444444444,
              "#bd3786"
             ],
             [
              0.5555555555555556,
              "#d8576b"
             ],
             [
              0.6666666666666666,
              "#ed7953"
             ],
             [
              0.7777777777777778,
              "#fb9f3a"
             ],
             [
              0.8888888888888888,
              "#fdca26"
             ],
             [
              1,
              "#f0f921"
             ]
            ],
            "type": "surface"
           }
          ],
          "table": [
           {
            "cells": {
             "fill": {
              "color": "#EBF0F8"
             },
             "line": {
              "color": "white"
             }
            },
            "header": {
             "fill": {
              "color": "#C8D4E3"
             },
             "line": {
              "color": "white"
             }
            },
            "type": "table"
           }
          ]
         },
         "layout": {
          "annotationdefaults": {
           "arrowcolor": "#2a3f5f",
           "arrowhead": 0,
           "arrowwidth": 1
          },
          "autotypenumbers": "strict",
          "coloraxis": {
           "colorbar": {
            "outlinewidth": 0,
            "ticks": ""
           }
          },
          "colorscale": {
           "diverging": [
            [
             0,
             "#8e0152"
            ],
            [
             0.1,
             "#c51b7d"
            ],
            [
             0.2,
             "#de77ae"
            ],
            [
             0.3,
             "#f1b6da"
            ],
            [
             0.4,
             "#fde0ef"
            ],
            [
             0.5,
             "#f7f7f7"
            ],
            [
             0.6,
             "#e6f5d0"
            ],
            [
             0.7,
             "#b8e186"
            ],
            [
             0.8,
             "#7fbc41"
            ],
            [
             0.9,
             "#4d9221"
            ],
            [
             1,
             "#276419"
            ]
           ],
           "sequential": [
            [
             0,
             "#0d0887"
            ],
            [
             0.1111111111111111,
             "#46039f"
            ],
            [
             0.2222222222222222,
             "#7201a8"
            ],
            [
             0.3333333333333333,
             "#9c179e"
            ],
            [
             0.4444444444444444,
             "#bd3786"
            ],
            [
             0.5555555555555556,
             "#d8576b"
            ],
            [
             0.6666666666666666,
             "#ed7953"
            ],
            [
             0.7777777777777778,
             "#fb9f3a"
            ],
            [
             0.8888888888888888,
             "#fdca26"
            ],
            [
             1,
             "#f0f921"
            ]
           ],
           "sequentialminus": [
            [
             0,
             "#0d0887"
            ],
            [
             0.1111111111111111,
             "#46039f"
            ],
            [
             0.2222222222222222,
             "#7201a8"
            ],
            [
             0.3333333333333333,
             "#9c179e"
            ],
            [
             0.4444444444444444,
             "#bd3786"
            ],
            [
             0.5555555555555556,
             "#d8576b"
            ],
            [
             0.6666666666666666,
             "#ed7953"
            ],
            [
             0.7777777777777778,
             "#fb9f3a"
            ],
            [
             0.8888888888888888,
             "#fdca26"
            ],
            [
             1,
             "#f0f921"
            ]
           ]
          },
          "colorway": [
           "#636efa",
           "#EF553B",
           "#00cc96",
           "#ab63fa",
           "#FFA15A",
           "#19d3f3",
           "#FF6692",
           "#B6E880",
           "#FF97FF",
           "#FECB52"
          ],
          "font": {
           "color": "#2a3f5f"
          },
          "geo": {
           "bgcolor": "white",
           "lakecolor": "white",
           "landcolor": "#E5ECF6",
           "showlakes": true,
           "showland": true,
           "subunitcolor": "white"
          },
          "hoverlabel": {
           "align": "left"
          },
          "hovermode": "closest",
          "mapbox": {
           "style": "light"
          },
          "paper_bgcolor": "white",
          "plot_bgcolor": "#E5ECF6",
          "polar": {
           "angularaxis": {
            "gridcolor": "white",
            "linecolor": "white",
            "ticks": ""
           },
           "bgcolor": "#E5ECF6",
           "radialaxis": {
            "gridcolor": "white",
            "linecolor": "white",
            "ticks": ""
           }
          },
          "scene": {
           "xaxis": {
            "backgroundcolor": "#E5ECF6",
            "gridcolor": "white",
            "gridwidth": 2,
            "linecolor": "white",
            "showbackground": true,
            "ticks": "",
            "zerolinecolor": "white"
           },
           "yaxis": {
            "backgroundcolor": "#E5ECF6",
            "gridcolor": "white",
            "gridwidth": 2,
            "linecolor": "white",
            "showbackground": true,
            "ticks": "",
            "zerolinecolor": "white"
           },
           "zaxis": {
            "backgroundcolor": "#E5ECF6",
            "gridcolor": "white",
            "gridwidth": 2,
            "linecolor": "white",
            "showbackground": true,
            "ticks": "",
            "zerolinecolor": "white"
           }
          },
          "shapedefaults": {
           "line": {
            "color": "#2a3f5f"
           }
          },
          "ternary": {
           "aaxis": {
            "gridcolor": "white",
            "linecolor": "white",
            "ticks": ""
           },
           "baxis": {
            "gridcolor": "white",
            "linecolor": "white",
            "ticks": ""
           },
           "bgcolor": "#E5ECF6",
           "caxis": {
            "gridcolor": "white",
            "linecolor": "white",
            "ticks": ""
           }
          },
          "title": {
           "x": 0.05
          },
          "xaxis": {
           "automargin": true,
           "gridcolor": "white",
           "linecolor": "white",
           "ticks": "",
           "title": {
            "standoff": 15
           },
           "zerolinecolor": "white",
           "zerolinewidth": 2
          },
          "yaxis": {
           "automargin": true,
           "gridcolor": "white",
           "linecolor": "white",
           "ticks": "",
           "title": {
            "standoff": 15
           },
           "zerolinecolor": "white",
           "zerolinewidth": 2
          }
         }
        },
        "title": {
         "text": "Correlation between Total Universities Ranked in 100 and GDP per capita"
        },
        "xaxis": {
         "anchor": "y",
         "domain": [
          0,
          1
         ],
         "title": {
          "text": "total_universities ranked in 100"
         }
        },
        "yaxis": {
         "anchor": "x",
         "domain": [
          0,
          1
         ],
         "title": {
          "text": "GDP per capita (current US$)"
         }
        }
       }
      }
     },
     "metadata": {},
     "output_type": "display_data"
    }
   ],
   "source": [
    "# the corrleation between total universities ranked in 100 and GDP per capita\n",
    "fig = px.scatter(new_country_table, x='total_universities ranked in 100', y='GDP per capita (current US$)', color='country', title='Correlation between Total Universities Ranked in 100 and GDP per capita',)\n",
    "fig.show()"
   ]
  },
  {
   "cell_type": "code",
   "execution_count": 89,
   "metadata": {},
   "outputs": [],
   "source": [
    "#Countries with higher government expenditure on education as a percentage of GDP have more universities in the top 100.\n",
    "fig = px.scatter(final_df, x='Education: Government expenditure (% of GDP)', y='total_universities ranked in 100', color='country', size='Population in thousands (2017)', hover_name='country', title='Countries with higher government expenditure on education as a percentage of GDP have more universities in the top 100')"
   ]
  },
  {
   "cell_type": "code",
   "execution_count": 90,
   "metadata": {},
   "outputs": [
    {
     "data": {
      "application/vnd.plotly.v1+json": {
       "config": {
        "plotlyServerURL": "https://plot.ly"
       },
       "data": [
        {
         "hovertemplate": "<b>%{hovertext}</b><br><br>country=United States<br>Education: Government expenditure (% of GDP)=%{x}<br>total_universities ranked in 100=%{y}<br>Population in thousands (2017)=%{marker.size}<extra></extra>",
         "hovertext": [
          "United States"
         ],
         "legendgroup": "United States",
         "marker": {
          "color": "#636efa",
          "size": [
           324460
          ],
          "sizemode": "area",
          "sizeref": 811.15,
          "symbol": "circle"
         },
         "mode": "markers",
         "name": "United States",
         "orientation": "v",
         "showlegend": true,
         "type": "scatter",
         "x": [
          5.4
         ],
         "xaxis": "x",
         "y": [
          32
         ],
         "yaxis": "y"
        },
        {
         "hovertemplate": "<b>%{hovertext}</b><br><br>country=United Kingdom<br>Education: Government expenditure (% of GDP)=%{x}<br>total_universities ranked in 100=%{y}<br>Population in thousands (2017)=%{marker.size}<extra></extra>",
         "hovertext": [
          "United Kingdom"
         ],
         "legendgroup": "United Kingdom",
         "marker": {
          "color": "#EF553B",
          "size": [
           66182
          ],
          "sizemode": "area",
          "sizeref": 811.15,
          "symbol": "circle"
         },
         "mode": "markers",
         "name": "United Kingdom",
         "orientation": "v",
         "showlegend": true,
         "type": "scatter",
         "x": [
          5.7
         ],
         "xaxis": "x",
         "y": [
          18
         ],
         "yaxis": "y"
        },
        {
         "hovertemplate": "<b>%{hovertext}</b><br><br>country=Australia<br>Education: Government expenditure (% of GDP)=%{x}<br>total_universities ranked in 100=%{y}<br>Population in thousands (2017)=%{marker.size}<extra></extra>",
         "hovertext": [
          "Australia"
         ],
         "legendgroup": "Australia",
         "marker": {
          "color": "#00cc96",
          "size": [
           24451
          ],
          "sizemode": "area",
          "sizeref": 811.15,
          "symbol": "circle"
         },
         "mode": "markers",
         "name": "Australia",
         "orientation": "v",
         "showlegend": true,
         "type": "scatter",
         "x": [
          5.2
         ],
         "xaxis": "x",
         "y": [
          6
         ],
         "yaxis": "y"
        },
        {
         "hovertemplate": "<b>%{hovertext}</b><br><br>country=Japan<br>Education: Government expenditure (% of GDP)=%{x}<br>total_universities ranked in 100=%{y}<br>Population in thousands (2017)=%{marker.size}<extra></extra>",
         "hovertext": [
          "Japan"
         ],
         "legendgroup": "Japan",
         "marker": {
          "color": "#ab63fa",
          "size": [
           127484
          ],
          "sizemode": "area",
          "sizeref": 811.15,
          "symbol": "circle"
         },
         "mode": "markers",
         "name": "Japan",
         "orientation": "v",
         "showlegend": true,
         "type": "scatter",
         "x": [
          3.6
         ],
         "xaxis": "x",
         "y": [
          5
         ],
         "yaxis": "y"
        },
        {
         "hovertemplate": "<b>%{hovertext}</b><br><br>country=Canada<br>Education: Government expenditure (% of GDP)=%{x}<br>total_universities ranked in 100=%{y}<br>Population in thousands (2017)=%{marker.size}<extra></extra>",
         "hovertext": [
          "Canada"
         ],
         "legendgroup": "Canada",
         "marker": {
          "color": "#FFA15A",
          "size": [
           36624
          ],
          "sizemode": "area",
          "sizeref": 811.15,
          "symbol": "circle"
         },
         "mode": "markers",
         "name": "Canada",
         "orientation": "v",
         "showlegend": true,
         "type": "scatter",
         "x": [
          5.3
         ],
         "xaxis": "x",
         "y": [
          4
         ],
         "yaxis": "y"
        },
        {
         "hovertemplate": "<b>%{hovertext}</b><br><br>country=Switzerland<br>Education: Government expenditure (% of GDP)=%{x}<br>total_universities ranked in 100=%{y}<br>Population in thousands (2017)=%{marker.size}<extra></extra>",
         "hovertext": [
          "Switzerland"
         ],
         "legendgroup": "Switzerland",
         "marker": {
          "color": "#19d3f3",
          "size": [
           8476
          ],
          "sizemode": "area",
          "sizeref": 811.15,
          "symbol": "circle"
         },
         "mode": "markers",
         "name": "Switzerland",
         "orientation": "v",
         "showlegend": true,
         "type": "scatter",
         "x": [
          5.1
         ],
         "xaxis": "x",
         "y": [
          4
         ],
         "yaxis": "y"
        },
        {
         "hovertemplate": "<b>%{hovertext}</b><br><br>country=Germany<br>Education: Government expenditure (% of GDP)=%{x}<br>total_universities ranked in 100=%{y}<br>Population in thousands (2017)=%{marker.size}<extra></extra>",
         "hovertext": [
          "Germany"
         ],
         "legendgroup": "Germany",
         "marker": {
          "color": "#FF6692",
          "size": [
           82114
          ],
          "sizemode": "area",
          "sizeref": 811.15,
          "symbol": "circle"
         },
         "mode": "markers",
         "name": "Germany",
         "orientation": "v",
         "showlegend": true,
         "type": "scatter",
         "x": [
          5
         ],
         "xaxis": "x",
         "y": [
          4
         ],
         "yaxis": "y"
        },
        {
         "hovertemplate": "<b>%{hovertext}</b><br><br>country=Hong Kong SAR<br>Education: Government expenditure (% of GDP)=%{x}<br>total_universities ranked in 100=%{y}<br>Population in thousands (2017)=%{marker.size}<extra></extra>",
         "hovertext": [
          "Hong Kong SAR"
         ],
         "legendgroup": "Hong Kong SAR",
         "marker": {
          "color": "#B6E880",
          "size": [
           7365
          ],
          "sizemode": "area",
          "sizeref": 811.15,
          "symbol": "circle"
         },
         "mode": "markers",
         "name": "Hong Kong SAR",
         "orientation": "v",
         "showlegend": true,
         "type": "scatter",
         "x": [
          3.3
         ],
         "xaxis": "x",
         "y": [
          4
         ],
         "yaxis": "y"
        },
        {
         "hovertemplate": "<b>%{hovertext}</b><br><br>country=Sweden<br>Education: Government expenditure (% of GDP)=%{x}<br>total_universities ranked in 100=%{y}<br>Population in thousands (2017)=%{marker.size}<extra></extra>",
         "hovertext": [
          "Sweden"
         ],
         "legendgroup": "Sweden",
         "marker": {
          "color": "#FF97FF",
          "size": [
           9911
          ],
          "sizemode": "area",
          "sizeref": 811.15,
          "symbol": "circle"
         },
         "mode": "markers",
         "name": "Sweden",
         "orientation": "v",
         "showlegend": true,
         "type": "scatter",
         "x": [
          7.7
         ],
         "xaxis": "x",
         "y": [
          3
         ],
         "yaxis": "y"
        },
        {
         "hovertemplate": "<b>%{hovertext}</b><br><br>country=France<br>Education: Government expenditure (% of GDP)=%{x}<br>total_universities ranked in 100=%{y}<br>Population in thousands (2017)=%{marker.size}<extra></extra>",
         "hovertext": [
          "France"
         ],
         "legendgroup": "France",
         "marker": {
          "color": "#FECB52",
          "size": [
           64980
          ],
          "sizemode": "area",
          "sizeref": 811.15,
          "symbol": "circle"
         },
         "mode": "markers",
         "name": "France",
         "orientation": "v",
         "showlegend": true,
         "type": "scatter",
         "x": [
          5.5
         ],
         "xaxis": "x",
         "y": [
          2
         ],
         "yaxis": "y"
        },
        {
         "hovertemplate": "<b>%{hovertext}</b><br><br>country=Netherlands<br>Education: Government expenditure (% of GDP)=%{x}<br>total_universities ranked in 100=%{y}<br>Population in thousands (2017)=%{marker.size}<extra></extra>",
         "hovertext": [
          "Netherlands"
         ],
         "legendgroup": "Netherlands",
         "marker": {
          "color": "#636efa",
          "size": [
           17036
          ],
          "sizemode": "area",
          "sizeref": 811.15,
          "symbol": "circle"
         },
         "mode": "markers",
         "name": "Netherlands",
         "orientation": "v",
         "showlegend": true,
         "type": "scatter",
         "x": [
          5.5
         ],
         "xaxis": "x",
         "y": [
          2
         ],
         "yaxis": "y"
        },
        {
         "hovertemplate": "<b>%{hovertext}</b><br><br>country=Singapore<br>Education: Government expenditure (% of GDP)=%{x}<br>total_universities ranked in 100=%{y}<br>Population in thousands (2017)=%{marker.size}<extra></extra>",
         "hovertext": [
          "Singapore"
         ],
         "legendgroup": "Singapore",
         "marker": {
          "color": "#EF553B",
          "size": [
           5709
          ],
          "sizemode": "area",
          "sizeref": 811.15,
          "symbol": "circle"
         },
         "mode": "markers",
         "name": "Singapore",
         "orientation": "v",
         "showlegend": true,
         "type": "scatter",
         "x": [
          2.9
         ],
         "xaxis": "x",
         "y": [
          2
         ],
         "yaxis": "y"
        },
        {
         "hovertemplate": "<b>%{hovertext}</b><br><br>country=Argentina<br>Education: Government expenditure (% of GDP)=%{x}<br>total_universities ranked in 100=%{y}<br>Population in thousands (2017)=%{marker.size}<extra></extra>",
         "hovertext": [
          "Argentina"
         ],
         "legendgroup": "Argentina",
         "marker": {
          "color": "#00cc96",
          "size": [
           44271
          ],
          "sizemode": "area",
          "sizeref": 811.15,
          "symbol": "circle"
         },
         "mode": "markers",
         "name": "Argentina",
         "orientation": "v",
         "showlegend": true,
         "type": "scatter",
         "x": [
          5.3
         ],
         "xaxis": "x",
         "y": [
          1
         ],
         "yaxis": "y"
        },
        {
         "hovertemplate": "<b>%{hovertext}</b><br><br>country=New Zealand<br>Education: Government expenditure (% of GDP)=%{x}<br>total_universities ranked in 100=%{y}<br>Population in thousands (2017)=%{marker.size}<extra></extra>",
         "hovertext": [
          "New Zealand"
         ],
         "legendgroup": "New Zealand",
         "marker": {
          "color": "#ab63fa",
          "size": [
           4706
          ],
          "sizemode": "area",
          "sizeref": 811.15,
          "symbol": "circle"
         },
         "mode": "markers",
         "name": "New Zealand",
         "orientation": "v",
         "showlegend": true,
         "type": "scatter",
         "x": [
          6.4
         ],
         "xaxis": "x",
         "y": [
          1
         ],
         "yaxis": "y"
        },
        {
         "hovertemplate": "<b>%{hovertext}</b><br><br>country=Finland<br>Education: Government expenditure (% of GDP)=%{x}<br>total_universities ranked in 100=%{y}<br>Population in thousands (2017)=%{marker.size}<extra></extra>",
         "hovertext": [
          "Finland"
         ],
         "legendgroup": "Finland",
         "marker": {
          "color": "#FFA15A",
          "size": [
           5523
          ],
          "sizemode": "area",
          "sizeref": 811.15,
          "symbol": "circle"
         },
         "mode": "markers",
         "name": "Finland",
         "orientation": "v",
         "showlegend": true,
         "type": "scatter",
         "x": [
          7.2
         ],
         "xaxis": "x",
         "y": [
          1
         ],
         "yaxis": "y"
        },
        {
         "hovertemplate": "<b>%{hovertext}</b><br><br>country=Denmark<br>Education: Government expenditure (% of GDP)=%{x}<br>total_universities ranked in 100=%{y}<br>Population in thousands (2017)=%{marker.size}<extra></extra>",
         "hovertext": [
          "Denmark"
         ],
         "legendgroup": "Denmark",
         "marker": {
          "color": "#19d3f3",
          "size": [
           5734
          ],
          "sizemode": "area",
          "sizeref": 811.15,
          "symbol": "circle"
         },
         "mode": "markers",
         "name": "Denmark",
         "orientation": "v",
         "showlegend": true,
         "type": "scatter",
         "x": [
          8.6
         ],
         "xaxis": "x",
         "y": [
          1
         ],
         "yaxis": "y"
        },
        {
         "hovertemplate": "<b>%{hovertext}</b><br><br>country=Belgium<br>Education: Government expenditure (% of GDP)=%{x}<br>total_universities ranked in 100=%{y}<br>Population in thousands (2017)=%{marker.size}<extra></extra>",
         "hovertext": [
          "Belgium"
         ],
         "legendgroup": "Belgium",
         "marker": {
          "color": "#FF6692",
          "size": [
           11429
          ],
          "sizemode": "area",
          "sizeref": 811.15,
          "symbol": "circle"
         },
         "mode": "markers",
         "name": "Belgium",
         "orientation": "v",
         "showlegend": true,
         "type": "scatter",
         "x": [
          6.6
         ],
         "xaxis": "x",
         "y": [
          1
         ],
         "yaxis": "y"
        },
        {
         "hovertemplate": "<b>%{hovertext}</b><br><br>country=Ireland<br>Education: Government expenditure (% of GDP)=%{x}<br>total_universities ranked in 100=%{y}<br>Population in thousands (2017)=%{marker.size}<extra></extra>",
         "hovertext": [
          "Ireland"
         ],
         "legendgroup": "Ireland",
         "marker": {
          "color": "#B6E880",
          "size": [
           4762
          ],
          "sizemode": "area",
          "sizeref": 811.15,
          "symbol": "circle"
         },
         "mode": "markers",
         "name": "Ireland",
         "orientation": "v",
         "showlegend": true,
         "type": "scatter",
         "x": [
          5.3
         ],
         "xaxis": "x",
         "y": [
          1
         ],
         "yaxis": "y"
        }
       ],
       "layout": {
        "legend": {
         "itemsizing": "constant",
         "title": {
          "text": "country"
         },
         "tracegroupgap": 0
        },
        "template": {
         "data": {
          "bar": [
           {
            "error_x": {
             "color": "#2a3f5f"
            },
            "error_y": {
             "color": "#2a3f5f"
            },
            "marker": {
             "line": {
              "color": "#E5ECF6",
              "width": 0.5
             },
             "pattern": {
              "fillmode": "overlay",
              "size": 10,
              "solidity": 0.2
             }
            },
            "type": "bar"
           }
          ],
          "barpolar": [
           {
            "marker": {
             "line": {
              "color": "#E5ECF6",
              "width": 0.5
             },
             "pattern": {
              "fillmode": "overlay",
              "size": 10,
              "solidity": 0.2
             }
            },
            "type": "barpolar"
           }
          ],
          "carpet": [
           {
            "aaxis": {
             "endlinecolor": "#2a3f5f",
             "gridcolor": "white",
             "linecolor": "white",
             "minorgridcolor": "white",
             "startlinecolor": "#2a3f5f"
            },
            "baxis": {
             "endlinecolor": "#2a3f5f",
             "gridcolor": "white",
             "linecolor": "white",
             "minorgridcolor": "white",
             "startlinecolor": "#2a3f5f"
            },
            "type": "carpet"
           }
          ],
          "choropleth": [
           {
            "colorbar": {
             "outlinewidth": 0,
             "ticks": ""
            },
            "type": "choropleth"
           }
          ],
          "contour": [
           {
            "colorbar": {
             "outlinewidth": 0,
             "ticks": ""
            },
            "colorscale": [
             [
              0,
              "#0d0887"
             ],
             [
              0.1111111111111111,
              "#46039f"
             ],
             [
              0.2222222222222222,
              "#7201a8"
             ],
             [
              0.3333333333333333,
              "#9c179e"
             ],
             [
              0.4444444444444444,
              "#bd3786"
             ],
             [
              0.5555555555555556,
              "#d8576b"
             ],
             [
              0.6666666666666666,
              "#ed7953"
             ],
             [
              0.7777777777777778,
              "#fb9f3a"
             ],
             [
              0.8888888888888888,
              "#fdca26"
             ],
             [
              1,
              "#f0f921"
             ]
            ],
            "type": "contour"
           }
          ],
          "contourcarpet": [
           {
            "colorbar": {
             "outlinewidth": 0,
             "ticks": ""
            },
            "type": "contourcarpet"
           }
          ],
          "heatmap": [
           {
            "colorbar": {
             "outlinewidth": 0,
             "ticks": ""
            },
            "colorscale": [
             [
              0,
              "#0d0887"
             ],
             [
              0.1111111111111111,
              "#46039f"
             ],
             [
              0.2222222222222222,
              "#7201a8"
             ],
             [
              0.3333333333333333,
              "#9c179e"
             ],
             [
              0.4444444444444444,
              "#bd3786"
             ],
             [
              0.5555555555555556,
              "#d8576b"
             ],
             [
              0.6666666666666666,
              "#ed7953"
             ],
             [
              0.7777777777777778,
              "#fb9f3a"
             ],
             [
              0.8888888888888888,
              "#fdca26"
             ],
             [
              1,
              "#f0f921"
             ]
            ],
            "type": "heatmap"
           }
          ],
          "heatmapgl": [
           {
            "colorbar": {
             "outlinewidth": 0,
             "ticks": ""
            },
            "colorscale": [
             [
              0,
              "#0d0887"
             ],
             [
              0.1111111111111111,
              "#46039f"
             ],
             [
              0.2222222222222222,
              "#7201a8"
             ],
             [
              0.3333333333333333,
              "#9c179e"
             ],
             [
              0.4444444444444444,
              "#bd3786"
             ],
             [
              0.5555555555555556,
              "#d8576b"
             ],
             [
              0.6666666666666666,
              "#ed7953"
             ],
             [
              0.7777777777777778,
              "#fb9f3a"
             ],
             [
              0.8888888888888888,
              "#fdca26"
             ],
             [
              1,
              "#f0f921"
             ]
            ],
            "type": "heatmapgl"
           }
          ],
          "histogram": [
           {
            "marker": {
             "pattern": {
              "fillmode": "overlay",
              "size": 10,
              "solidity": 0.2
             }
            },
            "type": "histogram"
           }
          ],
          "histogram2d": [
           {
            "colorbar": {
             "outlinewidth": 0,
             "ticks": ""
            },
            "colorscale": [
             [
              0,
              "#0d0887"
             ],
             [
              0.1111111111111111,
              "#46039f"
             ],
             [
              0.2222222222222222,
              "#7201a8"
             ],
             [
              0.3333333333333333,
              "#9c179e"
             ],
             [
              0.4444444444444444,
              "#bd3786"
             ],
             [
              0.5555555555555556,
              "#d8576b"
             ],
             [
              0.6666666666666666,
              "#ed7953"
             ],
             [
              0.7777777777777778,
              "#fb9f3a"
             ],
             [
              0.8888888888888888,
              "#fdca26"
             ],
             [
              1,
              "#f0f921"
             ]
            ],
            "type": "histogram2d"
           }
          ],
          "histogram2dcontour": [
           {
            "colorbar": {
             "outlinewidth": 0,
             "ticks": ""
            },
            "colorscale": [
             [
              0,
              "#0d0887"
             ],
             [
              0.1111111111111111,
              "#46039f"
             ],
             [
              0.2222222222222222,
              "#7201a8"
             ],
             [
              0.3333333333333333,
              "#9c179e"
             ],
             [
              0.4444444444444444,
              "#bd3786"
             ],
             [
              0.5555555555555556,
              "#d8576b"
             ],
             [
              0.6666666666666666,
              "#ed7953"
             ],
             [
              0.7777777777777778,
              "#fb9f3a"
             ],
             [
              0.8888888888888888,
              "#fdca26"
             ],
             [
              1,
              "#f0f921"
             ]
            ],
            "type": "histogram2dcontour"
           }
          ],
          "mesh3d": [
           {
            "colorbar": {
             "outlinewidth": 0,
             "ticks": ""
            },
            "type": "mesh3d"
           }
          ],
          "parcoords": [
           {
            "line": {
             "colorbar": {
              "outlinewidth": 0,
              "ticks": ""
             }
            },
            "type": "parcoords"
           }
          ],
          "pie": [
           {
            "automargin": true,
            "type": "pie"
           }
          ],
          "scatter": [
           {
            "fillpattern": {
             "fillmode": "overlay",
             "size": 10,
             "solidity": 0.2
            },
            "type": "scatter"
           }
          ],
          "scatter3d": [
           {
            "line": {
             "colorbar": {
              "outlinewidth": 0,
              "ticks": ""
             }
            },
            "marker": {
             "colorbar": {
              "outlinewidth": 0,
              "ticks": ""
             }
            },
            "type": "scatter3d"
           }
          ],
          "scattercarpet": [
           {
            "marker": {
             "colorbar": {
              "outlinewidth": 0,
              "ticks": ""
             }
            },
            "type": "scattercarpet"
           }
          ],
          "scattergeo": [
           {
            "marker": {
             "colorbar": {
              "outlinewidth": 0,
              "ticks": ""
             }
            },
            "type": "scattergeo"
           }
          ],
          "scattergl": [
           {
            "marker": {
             "colorbar": {
              "outlinewidth": 0,
              "ticks": ""
             }
            },
            "type": "scattergl"
           }
          ],
          "scattermapbox": [
           {
            "marker": {
             "colorbar": {
              "outlinewidth": 0,
              "ticks": ""
             }
            },
            "type": "scattermapbox"
           }
          ],
          "scatterpolar": [
           {
            "marker": {
             "colorbar": {
              "outlinewidth": 0,
              "ticks": ""
             }
            },
            "type": "scatterpolar"
           }
          ],
          "scatterpolargl": [
           {
            "marker": {
             "colorbar": {
              "outlinewidth": 0,
              "ticks": ""
             }
            },
            "type": "scatterpolargl"
           }
          ],
          "scatterternary": [
           {
            "marker": {
             "colorbar": {
              "outlinewidth": 0,
              "ticks": ""
             }
            },
            "type": "scatterternary"
           }
          ],
          "surface": [
           {
            "colorbar": {
             "outlinewidth": 0,
             "ticks": ""
            },
            "colorscale": [
             [
              0,
              "#0d0887"
             ],
             [
              0.1111111111111111,
              "#46039f"
             ],
             [
              0.2222222222222222,
              "#7201a8"
             ],
             [
              0.3333333333333333,
              "#9c179e"
             ],
             [
              0.4444444444444444,
              "#bd3786"
             ],
             [
              0.5555555555555556,
              "#d8576b"
             ],
             [
              0.6666666666666666,
              "#ed7953"
             ],
             [
              0.7777777777777778,
              "#fb9f3a"
             ],
             [
              0.8888888888888888,
              "#fdca26"
             ],
             [
              1,
              "#f0f921"
             ]
            ],
            "type": "surface"
           }
          ],
          "table": [
           {
            "cells": {
             "fill": {
              "color": "#EBF0F8"
             },
             "line": {
              "color": "white"
             }
            },
            "header": {
             "fill": {
              "color": "#C8D4E3"
             },
             "line": {
              "color": "white"
             }
            },
            "type": "table"
           }
          ]
         },
         "layout": {
          "annotationdefaults": {
           "arrowcolor": "#2a3f5f",
           "arrowhead": 0,
           "arrowwidth": 1
          },
          "autotypenumbers": "strict",
          "coloraxis": {
           "colorbar": {
            "outlinewidth": 0,
            "ticks": ""
           }
          },
          "colorscale": {
           "diverging": [
            [
             0,
             "#8e0152"
            ],
            [
             0.1,
             "#c51b7d"
            ],
            [
             0.2,
             "#de77ae"
            ],
            [
             0.3,
             "#f1b6da"
            ],
            [
             0.4,
             "#fde0ef"
            ],
            [
             0.5,
             "#f7f7f7"
            ],
            [
             0.6,
             "#e6f5d0"
            ],
            [
             0.7,
             "#b8e186"
            ],
            [
             0.8,
             "#7fbc41"
            ],
            [
             0.9,
             "#4d9221"
            ],
            [
             1,
             "#276419"
            ]
           ],
           "sequential": [
            [
             0,
             "#0d0887"
            ],
            [
             0.1111111111111111,
             "#46039f"
            ],
            [
             0.2222222222222222,
             "#7201a8"
            ],
            [
             0.3333333333333333,
             "#9c179e"
            ],
            [
             0.4444444444444444,
             "#bd3786"
            ],
            [
             0.5555555555555556,
             "#d8576b"
            ],
            [
             0.6666666666666666,
             "#ed7953"
            ],
            [
             0.7777777777777778,
             "#fb9f3a"
            ],
            [
             0.8888888888888888,
             "#fdca26"
            ],
            [
             1,
             "#f0f921"
            ]
           ],
           "sequentialminus": [
            [
             0,
             "#0d0887"
            ],
            [
             0.1111111111111111,
             "#46039f"
            ],
            [
             0.2222222222222222,
             "#7201a8"
            ],
            [
             0.3333333333333333,
             "#9c179e"
            ],
            [
             0.4444444444444444,
             "#bd3786"
            ],
            [
             0.5555555555555556,
             "#d8576b"
            ],
            [
             0.6666666666666666,
             "#ed7953"
            ],
            [
             0.7777777777777778,
             "#fb9f3a"
            ],
            [
             0.8888888888888888,
             "#fdca26"
            ],
            [
             1,
             "#f0f921"
            ]
           ]
          },
          "colorway": [
           "#636efa",
           "#EF553B",
           "#00cc96",
           "#ab63fa",
           "#FFA15A",
           "#19d3f3",
           "#FF6692",
           "#B6E880",
           "#FF97FF",
           "#FECB52"
          ],
          "font": {
           "color": "#2a3f5f"
          },
          "geo": {
           "bgcolor": "white",
           "lakecolor": "white",
           "landcolor": "#E5ECF6",
           "showlakes": true,
           "showland": true,
           "subunitcolor": "white"
          },
          "hoverlabel": {
           "align": "left"
          },
          "hovermode": "closest",
          "mapbox": {
           "style": "light"
          },
          "paper_bgcolor": "white",
          "plot_bgcolor": "#E5ECF6",
          "polar": {
           "angularaxis": {
            "gridcolor": "white",
            "linecolor": "white",
            "ticks": ""
           },
           "bgcolor": "#E5ECF6",
           "radialaxis": {
            "gridcolor": "white",
            "linecolor": "white",
            "ticks": ""
           }
          },
          "scene": {
           "xaxis": {
            "backgroundcolor": "#E5ECF6",
            "gridcolor": "white",
            "gridwidth": 2,
            "linecolor": "white",
            "showbackground": true,
            "ticks": "",
            "zerolinecolor": "white"
           },
           "yaxis": {
            "backgroundcolor": "#E5ECF6",
            "gridcolor": "white",
            "gridwidth": 2,
            "linecolor": "white",
            "showbackground": true,
            "ticks": "",
            "zerolinecolor": "white"
           },
           "zaxis": {
            "backgroundcolor": "#E5ECF6",
            "gridcolor": "white",
            "gridwidth": 2,
            "linecolor": "white",
            "showbackground": true,
            "ticks": "",
            "zerolinecolor": "white"
           }
          },
          "shapedefaults": {
           "line": {
            "color": "#2a3f5f"
           }
          },
          "ternary": {
           "aaxis": {
            "gridcolor": "white",
            "linecolor": "white",
            "ticks": ""
           },
           "baxis": {
            "gridcolor": "white",
            "linecolor": "white",
            "ticks": ""
           },
           "bgcolor": "#E5ECF6",
           "caxis": {
            "gridcolor": "white",
            "linecolor": "white",
            "ticks": ""
           }
          },
          "title": {
           "x": 0.05
          },
          "xaxis": {
           "automargin": true,
           "gridcolor": "white",
           "linecolor": "white",
           "ticks": "",
           "title": {
            "standoff": 15
           },
           "zerolinecolor": "white",
           "zerolinewidth": 2
          },
          "yaxis": {
           "automargin": true,
           "gridcolor": "white",
           "linecolor": "white",
           "ticks": "",
           "title": {
            "standoff": 15
           },
           "zerolinecolor": "white",
           "zerolinewidth": 2
          }
         }
        },
        "title": {
         "text": "Countries with higher government expenditure on education as a percentage of GDP have more universities in the top 100"
        },
        "xaxis": {
         "anchor": "y",
         "domain": [
          0,
          1
         ],
         "title": {
          "text": "Education: Government expenditure (% of GDP)"
         }
        },
        "yaxis": {
         "anchor": "x",
         "domain": [
          0,
          1
         ],
         "title": {
          "text": "total_universities ranked in 100"
         }
        }
       }
      }
     },
     "metadata": {},
     "output_type": "display_data"
    }
   ],
   "source": [
    "fig.show()"
   ]
  },
  {
   "cell_type": "code",
   "execution_count": null,
   "metadata": {},
   "outputs": [],
   "source": []
  }
 ],
 "metadata": {
  "kernelspec": {
   "display_name": "base",
   "language": "python",
   "name": "python3"
  },
  "language_info": {
   "codemirror_mode": {
    "name": "ipython",
    "version": 3
   },
   "file_extension": ".py",
   "mimetype": "text/x-python",
   "name": "python",
   "nbconvert_exporter": "python",
   "pygments_lexer": "ipython3",
   "version": "3.11.7"
  }
 },
 "nbformat": 4,
 "nbformat_minor": 2
}
