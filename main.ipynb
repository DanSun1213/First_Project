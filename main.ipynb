{
 "cells": [
  {
   "cell_type": "markdown",
   "metadata": {},
   "source": [
    "# Collect the two dataset : University & Country Profile"
   ]
  },
  {
   "cell_type": "markdown",
   "metadata": {},
   "source": [
    "# Project IRONHack"
   ]
  },
  {
   "cell_type": "markdown",
   "metadata": {},
   "source": [
    "Import libraries:"
   ]
  },
  {
   "cell_type": "code",
   "execution_count": 1,
   "metadata": {},
   "outputs": [],
   "source": [
    "import pandas as pd\n",
    "import plotly.io as pio\n",
    "import plotly.express as px\n",
    "\n",
    "from helper_functions import uninversity_data_cleaning, country_data_cleaning, merge_dataset\n"
   ]
  },
  {
   "cell_type": "markdown",
   "metadata": {},
   "source": [
    "Dataset \"qs-world-university-rankings-2017-to-2022-V2.csv\" and \"country_profile_variables.csv\" are get from Kaggle.com"
   ]
  },
  {
   "cell_type": "code",
   "execution_count": 2,
   "metadata": {},
   "outputs": [],
   "source": [
    "df_uni = pd.read_csv(r'qs-world-university-rankings-2017-to-2022-V2.csv')\n",
    "country_profile = pd.read_csv('country_profile_variables.csv')"
   ]
  },
  {
   "cell_type": "markdown",
   "metadata": {},
   "source": [
    "# Clean the dataset of University"
   ]
  },
  {
   "cell_type": "code",
   "execution_count": 3,
   "metadata": {},
   "outputs": [
    {
     "data": {
      "text/html": [
       "<div>\n",
       "<style scoped>\n",
       "    .dataframe tbody tr th:only-of-type {\n",
       "        vertical-align: middle;\n",
       "    }\n",
       "\n",
       "    .dataframe tbody tr th {\n",
       "        vertical-align: top;\n",
       "    }\n",
       "\n",
       "    .dataframe thead th {\n",
       "        text-align: right;\n",
       "    }\n",
       "</style>\n",
       "<table border=\"1\" class=\"dataframe\">\n",
       "  <thead>\n",
       "    <tr style=\"text-align: right;\">\n",
       "      <th></th>\n",
       "      <th>university</th>\n",
       "      <th>year</th>\n",
       "      <th>rank_display</th>\n",
       "      <th>score</th>\n",
       "      <th>country</th>\n",
       "      <th>city</th>\n",
       "      <th>region</th>\n",
       "      <th>type</th>\n",
       "      <th>research_output</th>\n",
       "      <th>student_faculty_ratio</th>\n",
       "      <th>international_students</th>\n",
       "      <th>size</th>\n",
       "      <th>faculty_count</th>\n",
       "    </tr>\n",
       "  </thead>\n",
       "  <tbody>\n",
       "    <tr>\n",
       "      <th>0</th>\n",
       "      <td>Massachusetts Institute of Technology (MIT)</td>\n",
       "      <td>2017</td>\n",
       "      <td>1.0</td>\n",
       "      <td>100.0</td>\n",
       "      <td>United States</td>\n",
       "      <td>Cambridge</td>\n",
       "      <td>North America</td>\n",
       "      <td>Private</td>\n",
       "      <td>Very High</td>\n",
       "      <td>4.0</td>\n",
       "      <td>NaN</td>\n",
       "      <td>M</td>\n",
       "      <td>3,065</td>\n",
       "    </tr>\n",
       "    <tr>\n",
       "      <th>1</th>\n",
       "      <td>Stanford University</td>\n",
       "      <td>2017</td>\n",
       "      <td>2.0</td>\n",
       "      <td>98.7</td>\n",
       "      <td>United States</td>\n",
       "      <td>Stanford</td>\n",
       "      <td>North America</td>\n",
       "      <td>Private</td>\n",
       "      <td>Very High</td>\n",
       "      <td>3.0</td>\n",
       "      <td>NaN</td>\n",
       "      <td>L</td>\n",
       "      <td>4,725</td>\n",
       "    </tr>\n",
       "    <tr>\n",
       "      <th>2</th>\n",
       "      <td>Harvard University</td>\n",
       "      <td>2017</td>\n",
       "      <td>3.0</td>\n",
       "      <td>98.3</td>\n",
       "      <td>United States</td>\n",
       "      <td>Cambridge</td>\n",
       "      <td>North America</td>\n",
       "      <td>Private</td>\n",
       "      <td>Very High</td>\n",
       "      <td>5.0</td>\n",
       "      <td>NaN</td>\n",
       "      <td>L</td>\n",
       "      <td>4,646</td>\n",
       "    </tr>\n",
       "    <tr>\n",
       "      <th>3</th>\n",
       "      <td>University of Cambridge</td>\n",
       "      <td>2017</td>\n",
       "      <td>4.0</td>\n",
       "      <td>97.2</td>\n",
       "      <td>United Kingdom</td>\n",
       "      <td>Cambridge</td>\n",
       "      <td>Europe</td>\n",
       "      <td>Public</td>\n",
       "      <td>Very high</td>\n",
       "      <td>4.0</td>\n",
       "      <td>NaN</td>\n",
       "      <td>L</td>\n",
       "      <td>5,800</td>\n",
       "    </tr>\n",
       "    <tr>\n",
       "      <th>4</th>\n",
       "      <td>California Institute of Technology (Caltech)</td>\n",
       "      <td>2017</td>\n",
       "      <td>5.0</td>\n",
       "      <td>96.9</td>\n",
       "      <td>United States</td>\n",
       "      <td>Pasadena</td>\n",
       "      <td>North America</td>\n",
       "      <td>Private</td>\n",
       "      <td>Very High</td>\n",
       "      <td>2.0</td>\n",
       "      <td>692.0</td>\n",
       "      <td>S</td>\n",
       "      <td>968</td>\n",
       "    </tr>\n",
       "  </tbody>\n",
       "</table>\n",
       "</div>"
      ],
      "text/plain": [
       "                                     university  year  rank_display  score  \\\n",
       "0  Massachusetts Institute of Technology (MIT)   2017           1.0  100.0   \n",
       "1                           Stanford University  2017           2.0   98.7   \n",
       "2                            Harvard University  2017           3.0   98.3   \n",
       "3                       University of Cambridge  2017           4.0   97.2   \n",
       "4  California Institute of Technology (Caltech)  2017           5.0   96.9   \n",
       "\n",
       "          country       city         region     type research_output  \\\n",
       "0   United States  Cambridge  North America  Private       Very High   \n",
       "1   United States   Stanford  North America  Private       Very High   \n",
       "2   United States  Cambridge  North America  Private       Very High   \n",
       "3  United Kingdom  Cambridge         Europe   Public       Very high   \n",
       "4   United States   Pasadena  North America  Private       Very High   \n",
       "\n",
       "   student_faculty_ratio  international_students size faculty_count  \n",
       "0                    4.0                     NaN    M         3,065  \n",
       "1                    3.0                     NaN    L         4,725  \n",
       "2                    5.0                     NaN    L         4,646  \n",
       "3                    4.0                     NaN    L         5,800  \n",
       "4                    2.0                   692.0    S           968  "
      ]
     },
     "execution_count": 3,
     "metadata": {},
     "output_type": "execute_result"
    }
   ],
   "source": [
    "df_2017 = uninversity_data_cleaning(df_uni)\n",
    "df_2017.head()"
   ]
  },
  {
   "cell_type": "markdown",
   "metadata": {},
   "source": [
    "# Clean the data of country profile"
   ]
  },
  {
   "cell_type": "code",
   "execution_count": 4,
   "metadata": {},
   "outputs": [
    {
     "data": {
      "text/html": [
       "<div>\n",
       "<style scoped>\n",
       "    .dataframe tbody tr th:only-of-type {\n",
       "        vertical-align: middle;\n",
       "    }\n",
       "\n",
       "    .dataframe tbody tr th {\n",
       "        vertical-align: top;\n",
       "    }\n",
       "\n",
       "    .dataframe thead th {\n",
       "        text-align: right;\n",
       "    }\n",
       "</style>\n",
       "<table border=\"1\" class=\"dataframe\">\n",
       "  <thead>\n",
       "    <tr style=\"text-align: right;\">\n",
       "      <th></th>\n",
       "      <th>country</th>\n",
       "      <th>Region</th>\n",
       "      <th>Surface area (km2)</th>\n",
       "      <th>Population in thousands (2017)</th>\n",
       "      <th>Population density (per km2, 2017)</th>\n",
       "      <th>Sex ratio (m per 100 f, 2017)</th>\n",
       "      <th>GDP: Gross domestic product (million current US$)</th>\n",
       "      <th>GDP growth rate (annual %, const. 2005 prices)</th>\n",
       "      <th>GDP per capita (current US$)</th>\n",
       "      <th>Economy: Agriculture (% of GVA)</th>\n",
       "      <th>...</th>\n",
       "      <th>Mobile-cellular subscriptions (per 100 inhabitants).1</th>\n",
       "      <th>Individuals using the Internet (per 100 inhabitants)</th>\n",
       "      <th>Threatened species (number)</th>\n",
       "      <th>Forested area (% of land area)</th>\n",
       "      <th>CO2 emission estimates (million tons/tons per capita)</th>\n",
       "      <th>Energy production, primary (Petajoules)</th>\n",
       "      <th>Energy supply per capita (Gigajoules)</th>\n",
       "      <th>Pop. using improved drinking water (urban/rural, %)</th>\n",
       "      <th>Pop. using improved sanitation facilities (urban/rural, %)</th>\n",
       "      <th>Net Official Development Assist. received (% of GNI)</th>\n",
       "    </tr>\n",
       "  </thead>\n",
       "  <tbody>\n",
       "    <tr>\n",
       "      <th>0</th>\n",
       "      <td>Afghanistan</td>\n",
       "      <td>SouthernAsia</td>\n",
       "      <td>652864.0</td>\n",
       "      <td>35530</td>\n",
       "      <td>54.4</td>\n",
       "      <td>106.3</td>\n",
       "      <td>20270</td>\n",
       "      <td>-2.4</td>\n",
       "      <td>623.2</td>\n",
       "      <td>23.3</td>\n",
       "      <td>...</td>\n",
       "      <td>8.3</td>\n",
       "      <td>42</td>\n",
       "      <td>2.1</td>\n",
       "      <td>NaN</td>\n",
       "      <td>63</td>\n",
       "      <td>5</td>\n",
       "      <td>NaN</td>\n",
       "      <td>NaN</td>\n",
       "      <td>21.43</td>\n",
       "      <td>-99</td>\n",
       "    </tr>\n",
       "    <tr>\n",
       "      <th>1</th>\n",
       "      <td>Albania</td>\n",
       "      <td>SouthernEurope</td>\n",
       "      <td>28748.0</td>\n",
       "      <td>2930</td>\n",
       "      <td>106.9</td>\n",
       "      <td>101.9</td>\n",
       "      <td>11541</td>\n",
       "      <td>2.6</td>\n",
       "      <td>3984.2</td>\n",
       "      <td>22.4</td>\n",
       "      <td>...</td>\n",
       "      <td>63.3</td>\n",
       "      <td>130</td>\n",
       "      <td>28.2</td>\n",
       "      <td>NaN</td>\n",
       "      <td>84</td>\n",
       "      <td>36</td>\n",
       "      <td>NaN</td>\n",
       "      <td>NaN</td>\n",
       "      <td>2.96</td>\n",
       "      <td>-99</td>\n",
       "    </tr>\n",
       "    <tr>\n",
       "      <th>2</th>\n",
       "      <td>Algeria</td>\n",
       "      <td>NorthernAfrica</td>\n",
       "      <td>2381741.0</td>\n",
       "      <td>41318</td>\n",
       "      <td>17.3</td>\n",
       "      <td>102.0</td>\n",
       "      <td>164779</td>\n",
       "      <td>3.8</td>\n",
       "      <td>4154.1</td>\n",
       "      <td>12.2</td>\n",
       "      <td>...</td>\n",
       "      <td>38.2</td>\n",
       "      <td>135</td>\n",
       "      <td>0.8</td>\n",
       "      <td>NaN</td>\n",
       "      <td>5900</td>\n",
       "      <td>55</td>\n",
       "      <td>NaN</td>\n",
       "      <td>NaN</td>\n",
       "      <td>0.05</td>\n",
       "      <td>-99</td>\n",
       "    </tr>\n",
       "    <tr>\n",
       "      <th>3</th>\n",
       "      <td>American Samoa</td>\n",
       "      <td>Polynesia</td>\n",
       "      <td>199.0</td>\n",
       "      <td>56</td>\n",
       "      <td>278.2</td>\n",
       "      <td>103.6</td>\n",
       "      <td>-99</td>\n",
       "      <td>-99.0</td>\n",
       "      <td>-99.0</td>\n",
       "      <td>-99.0</td>\n",
       "      <td>...</td>\n",
       "      <td>-99.0</td>\n",
       "      <td>92</td>\n",
       "      <td>87.9</td>\n",
       "      <td>-99.0</td>\n",
       "      <td>-99</td>\n",
       "      <td>-99</td>\n",
       "      <td>NaN</td>\n",
       "      <td>NaN</td>\n",
       "      <td>-99.00</td>\n",
       "      <td>-99</td>\n",
       "    </tr>\n",
       "    <tr>\n",
       "      <th>4</th>\n",
       "      <td>Andorra</td>\n",
       "      <td>SouthernEurope</td>\n",
       "      <td>468.0</td>\n",
       "      <td>77</td>\n",
       "      <td>163.8</td>\n",
       "      <td>102.3</td>\n",
       "      <td>2812</td>\n",
       "      <td>0.8</td>\n",
       "      <td>39896.4</td>\n",
       "      <td>0.5</td>\n",
       "      <td>...</td>\n",
       "      <td>96.9</td>\n",
       "      <td>13</td>\n",
       "      <td>34.0</td>\n",
       "      <td>NaN</td>\n",
       "      <td>1</td>\n",
       "      <td>119</td>\n",
       "      <td>NaN</td>\n",
       "      <td>NaN</td>\n",
       "      <td>-99.00</td>\n",
       "      <td>-99</td>\n",
       "    </tr>\n",
       "  </tbody>\n",
       "</table>\n",
       "<p>5 rows × 50 columns</p>\n",
       "</div>"
      ],
      "text/plain": [
       "          country          Region  Surface area (km2)  \\\n",
       "0     Afghanistan    SouthernAsia            652864.0   \n",
       "1         Albania  SouthernEurope             28748.0   \n",
       "2         Algeria  NorthernAfrica           2381741.0   \n",
       "3  American Samoa       Polynesia               199.0   \n",
       "4         Andorra  SouthernEurope               468.0   \n",
       "\n",
       "   Population in thousands (2017)  Population density (per km2, 2017)  \\\n",
       "0                           35530                                54.4   \n",
       "1                            2930                               106.9   \n",
       "2                           41318                                17.3   \n",
       "3                              56                               278.2   \n",
       "4                              77                               163.8   \n",
       "\n",
       "   Sex ratio (m per 100 f, 2017)  \\\n",
       "0                          106.3   \n",
       "1                          101.9   \n",
       "2                          102.0   \n",
       "3                          103.6   \n",
       "4                          102.3   \n",
       "\n",
       "   GDP: Gross domestic product (million current US$)  \\\n",
       "0                                              20270   \n",
       "1                                              11541   \n",
       "2                                             164779   \n",
       "3                                                -99   \n",
       "4                                               2812   \n",
       "\n",
       "   GDP growth rate (annual %, const. 2005 prices)  \\\n",
       "0                                            -2.4   \n",
       "1                                             2.6   \n",
       "2                                             3.8   \n",
       "3                                           -99.0   \n",
       "4                                             0.8   \n",
       "\n",
       "   GDP per capita (current US$)  Economy: Agriculture (% of GVA)  ...  \\\n",
       "0                         623.2                             23.3  ...   \n",
       "1                        3984.2                             22.4  ...   \n",
       "2                        4154.1                             12.2  ...   \n",
       "3                         -99.0                            -99.0  ...   \n",
       "4                       39896.4                              0.5  ...   \n",
       "\n",
       "   Mobile-cellular subscriptions (per 100 inhabitants).1  \\\n",
       "0                                                8.3       \n",
       "1                                               63.3       \n",
       "2                                               38.2       \n",
       "3                                              -99.0       \n",
       "4                                               96.9       \n",
       "\n",
       "   Individuals using the Internet (per 100 inhabitants)  \\\n",
       "0                                                 42      \n",
       "1                                                130      \n",
       "2                                                135      \n",
       "3                                                 92      \n",
       "4                                                 13      \n",
       "\n",
       "   Threatened species (number)  Forested area (% of land area)  \\\n",
       "0                          2.1                             NaN   \n",
       "1                         28.2                             NaN   \n",
       "2                          0.8                             NaN   \n",
       "3                         87.9                           -99.0   \n",
       "4                         34.0                             NaN   \n",
       "\n",
       "   CO2 emission estimates (million tons/tons per capita)  \\\n",
       "0                                                 63       \n",
       "1                                                 84       \n",
       "2                                               5900       \n",
       "3                                                -99       \n",
       "4                                                  1       \n",
       "\n",
       "   Energy production, primary (Petajoules)  \\\n",
       "0                                        5   \n",
       "1                                       36   \n",
       "2                                       55   \n",
       "3                                      -99   \n",
       "4                                      119   \n",
       "\n",
       "   Energy supply per capita (Gigajoules)  \\\n",
       "0                                    NaN   \n",
       "1                                    NaN   \n",
       "2                                    NaN   \n",
       "3                                    NaN   \n",
       "4                                    NaN   \n",
       "\n",
       "   Pop. using improved drinking water (urban/rural, %)  \\\n",
       "0                                                NaN     \n",
       "1                                                NaN     \n",
       "2                                                NaN     \n",
       "3                                                NaN     \n",
       "4                                                NaN     \n",
       "\n",
       "   Pop. using improved sanitation facilities (urban/rural, %)  \\\n",
       "0                                              21.43            \n",
       "1                                               2.96            \n",
       "2                                               0.05            \n",
       "3                                             -99.00            \n",
       "4                                             -99.00            \n",
       "\n",
       "   Net Official Development Assist. received (% of GNI)  \n",
       "0                                                -99     \n",
       "1                                                -99     \n",
       "2                                                -99     \n",
       "3                                                -99     \n",
       "4                                                -99     \n",
       "\n",
       "[5 rows x 50 columns]"
      ]
     },
     "execution_count": 4,
     "metadata": {},
     "output_type": "execute_result"
    }
   ],
   "source": [
    "country_profile = country_data_cleaning(country_profile)\n",
    "country_profile.head()"
   ]
  },
  {
   "cell_type": "markdown",
   "metadata": {},
   "source": [
    "# Merge two dataset to one"
   ]
  },
  {
   "cell_type": "code",
   "execution_count": 5,
   "metadata": {},
   "outputs": [
    {
     "data": {
      "text/html": [
       "<div>\n",
       "<style scoped>\n",
       "    .dataframe tbody tr th:only-of-type {\n",
       "        vertical-align: middle;\n",
       "    }\n",
       "\n",
       "    .dataframe tbody tr th {\n",
       "        vertical-align: top;\n",
       "    }\n",
       "\n",
       "    .dataframe thead th {\n",
       "        text-align: right;\n",
       "    }\n",
       "</style>\n",
       "<table border=\"1\" class=\"dataframe\">\n",
       "  <thead>\n",
       "    <tr style=\"text-align: right;\">\n",
       "      <th></th>\n",
       "      <th>university</th>\n",
       "      <th>year</th>\n",
       "      <th>rank_display</th>\n",
       "      <th>score</th>\n",
       "      <th>country</th>\n",
       "      <th>city</th>\n",
       "      <th>region</th>\n",
       "      <th>type</th>\n",
       "      <th>research_output</th>\n",
       "      <th>student_faculty_ratio</th>\n",
       "      <th>...</th>\n",
       "      <th>Mobile-cellular subscriptions (per 100 inhabitants).1</th>\n",
       "      <th>Individuals using the Internet (per 100 inhabitants)</th>\n",
       "      <th>Threatened species (number)</th>\n",
       "      <th>Forested area (% of land area)</th>\n",
       "      <th>CO2 emission estimates (million tons/tons per capita)</th>\n",
       "      <th>Energy production, primary (Petajoules)</th>\n",
       "      <th>Energy supply per capita (Gigajoules)</th>\n",
       "      <th>Pop. using improved drinking water (urban/rural, %)</th>\n",
       "      <th>Pop. using improved sanitation facilities (urban/rural, %)</th>\n",
       "      <th>Net Official Development Assist. received (% of GNI)</th>\n",
       "    </tr>\n",
       "  </thead>\n",
       "  <tbody>\n",
       "    <tr>\n",
       "      <th>0</th>\n",
       "      <td>Massachusetts Institute of Technology (MIT)</td>\n",
       "      <td>2017</td>\n",
       "      <td>1.0</td>\n",
       "      <td>100.0</td>\n",
       "      <td>United States</td>\n",
       "      <td>Cambridge</td>\n",
       "      <td>North America</td>\n",
       "      <td>Private</td>\n",
       "      <td>Very High</td>\n",
       "      <td>4.0</td>\n",
       "      <td>...</td>\n",
       "      <td>74.6</td>\n",
       "      <td>1513.0</td>\n",
       "      <td>33.9</td>\n",
       "      <td>NaN</td>\n",
       "      <td>83887.0</td>\n",
       "      <td>289.0</td>\n",
       "      <td>NaN</td>\n",
       "      <td>NaN</td>\n",
       "      <td>-99.0</td>\n",
       "      <td>-99.0</td>\n",
       "    </tr>\n",
       "    <tr>\n",
       "      <th>1</th>\n",
       "      <td>Stanford University</td>\n",
       "      <td>2017</td>\n",
       "      <td>2.0</td>\n",
       "      <td>98.7</td>\n",
       "      <td>United States</td>\n",
       "      <td>Stanford</td>\n",
       "      <td>North America</td>\n",
       "      <td>Private</td>\n",
       "      <td>Very High</td>\n",
       "      <td>3.0</td>\n",
       "      <td>...</td>\n",
       "      <td>74.6</td>\n",
       "      <td>1513.0</td>\n",
       "      <td>33.9</td>\n",
       "      <td>NaN</td>\n",
       "      <td>83887.0</td>\n",
       "      <td>289.0</td>\n",
       "      <td>NaN</td>\n",
       "      <td>NaN</td>\n",
       "      <td>-99.0</td>\n",
       "      <td>-99.0</td>\n",
       "    </tr>\n",
       "    <tr>\n",
       "      <th>2</th>\n",
       "      <td>Harvard University</td>\n",
       "      <td>2017</td>\n",
       "      <td>3.0</td>\n",
       "      <td>98.3</td>\n",
       "      <td>United States</td>\n",
       "      <td>Cambridge</td>\n",
       "      <td>North America</td>\n",
       "      <td>Private</td>\n",
       "      <td>Very High</td>\n",
       "      <td>5.0</td>\n",
       "      <td>...</td>\n",
       "      <td>74.6</td>\n",
       "      <td>1513.0</td>\n",
       "      <td>33.9</td>\n",
       "      <td>NaN</td>\n",
       "      <td>83887.0</td>\n",
       "      <td>289.0</td>\n",
       "      <td>NaN</td>\n",
       "      <td>NaN</td>\n",
       "      <td>-99.0</td>\n",
       "      <td>-99.0</td>\n",
       "    </tr>\n",
       "    <tr>\n",
       "      <th>3</th>\n",
       "      <td>University of Cambridge</td>\n",
       "      <td>2017</td>\n",
       "      <td>4.0</td>\n",
       "      <td>97.2</td>\n",
       "      <td>United Kingdom</td>\n",
       "      <td>Cambridge</td>\n",
       "      <td>Europe</td>\n",
       "      <td>Public</td>\n",
       "      <td>Very high</td>\n",
       "      <td>4.0</td>\n",
       "      <td>...</td>\n",
       "      <td>92.0</td>\n",
       "      <td>102.0</td>\n",
       "      <td>12.9</td>\n",
       "      <td>NaN</td>\n",
       "      <td>4482.0</td>\n",
       "      <td>116.0</td>\n",
       "      <td>NaN</td>\n",
       "      <td>NaN</td>\n",
       "      <td>-99.0</td>\n",
       "      <td>-99.0</td>\n",
       "    </tr>\n",
       "    <tr>\n",
       "      <th>4</th>\n",
       "      <td>California Institute of Technology (Caltech)</td>\n",
       "      <td>2017</td>\n",
       "      <td>5.0</td>\n",
       "      <td>96.9</td>\n",
       "      <td>United States</td>\n",
       "      <td>Pasadena</td>\n",
       "      <td>North America</td>\n",
       "      <td>Private</td>\n",
       "      <td>Very High</td>\n",
       "      <td>2.0</td>\n",
       "      <td>...</td>\n",
       "      <td>74.6</td>\n",
       "      <td>1513.0</td>\n",
       "      <td>33.9</td>\n",
       "      <td>NaN</td>\n",
       "      <td>83887.0</td>\n",
       "      <td>289.0</td>\n",
       "      <td>NaN</td>\n",
       "      <td>NaN</td>\n",
       "      <td>-99.0</td>\n",
       "      <td>-99.0</td>\n",
       "    </tr>\n",
       "  </tbody>\n",
       "</table>\n",
       "<p>5 rows × 62 columns</p>\n",
       "</div>"
      ],
      "text/plain": [
       "                                     university  year  rank_display  score  \\\n",
       "0  Massachusetts Institute of Technology (MIT)   2017           1.0  100.0   \n",
       "1                           Stanford University  2017           2.0   98.7   \n",
       "2                            Harvard University  2017           3.0   98.3   \n",
       "3                       University of Cambridge  2017           4.0   97.2   \n",
       "4  California Institute of Technology (Caltech)  2017           5.0   96.9   \n",
       "\n",
       "          country       city         region     type research_output  \\\n",
       "0   United States  Cambridge  North America  Private       Very High   \n",
       "1   United States   Stanford  North America  Private       Very High   \n",
       "2   United States  Cambridge  North America  Private       Very High   \n",
       "3  United Kingdom  Cambridge         Europe   Public       Very high   \n",
       "4   United States   Pasadena  North America  Private       Very High   \n",
       "\n",
       "   student_faculty_ratio  ...  \\\n",
       "0                    4.0  ...   \n",
       "1                    3.0  ...   \n",
       "2                    5.0  ...   \n",
       "3                    4.0  ...   \n",
       "4                    2.0  ...   \n",
       "\n",
       "   Mobile-cellular subscriptions (per 100 inhabitants).1  \\\n",
       "0                                               74.6       \n",
       "1                                               74.6       \n",
       "2                                               74.6       \n",
       "3                                               92.0       \n",
       "4                                               74.6       \n",
       "\n",
       "  Individuals using the Internet (per 100 inhabitants)  \\\n",
       "0                                             1513.0     \n",
       "1                                             1513.0     \n",
       "2                                             1513.0     \n",
       "3                                              102.0     \n",
       "4                                             1513.0     \n",
       "\n",
       "  Threatened species (number) Forested area (% of land area)  \\\n",
       "0                        33.9                            NaN   \n",
       "1                        33.9                            NaN   \n",
       "2                        33.9                            NaN   \n",
       "3                        12.9                            NaN   \n",
       "4                        33.9                            NaN   \n",
       "\n",
       "   CO2 emission estimates (million tons/tons per capita)  \\\n",
       "0                                            83887.0       \n",
       "1                                            83887.0       \n",
       "2                                            83887.0       \n",
       "3                                             4482.0       \n",
       "4                                            83887.0       \n",
       "\n",
       "   Energy production, primary (Petajoules)  \\\n",
       "0                                    289.0   \n",
       "1                                    289.0   \n",
       "2                                    289.0   \n",
       "3                                    116.0   \n",
       "4                                    289.0   \n",
       "\n",
       "   Energy supply per capita (Gigajoules)  \\\n",
       "0                                    NaN   \n",
       "1                                    NaN   \n",
       "2                                    NaN   \n",
       "3                                    NaN   \n",
       "4                                    NaN   \n",
       "\n",
       "   Pop. using improved drinking water (urban/rural, %)  \\\n",
       "0                                                NaN     \n",
       "1                                                NaN     \n",
       "2                                                NaN     \n",
       "3                                                NaN     \n",
       "4                                                NaN     \n",
       "\n",
       "   Pop. using improved sanitation facilities (urban/rural, %)  \\\n",
       "0                                              -99.0            \n",
       "1                                              -99.0            \n",
       "2                                              -99.0            \n",
       "3                                              -99.0            \n",
       "4                                              -99.0            \n",
       "\n",
       "   Net Official Development Assist. received (% of GNI)  \n",
       "0                                              -99.0     \n",
       "1                                              -99.0     \n",
       "2                                              -99.0     \n",
       "3                                              -99.0     \n",
       "4                                              -99.0     \n",
       "\n",
       "[5 rows x 62 columns]"
      ]
     },
     "execution_count": 5,
     "metadata": {},
     "output_type": "execute_result"
    }
   ],
   "source": [
    "# Merge two datasets\n",
    "new_df = merge_dataset(df_2017, country_profile, key='country')\n",
    "new_df.head()"
   ]
  },
  {
   "cell_type": "markdown",
   "metadata": {},
   "source": [
    "# HeapMap for merged Dataset"
   ]
  },
  {
   "cell_type": "code",
   "execution_count": 79,
   "metadata": {},
   "outputs": [],
   "source": [
    "heatmap_df = new_df[['rank_display', 'score', 'Population in thousands (2017)', 'Population density (per km2, 2017)',\n",
    "                    'Sex ratio (m per 100 f, 2017)',\n",
    "                    'GDP growth rate (annual %, const. 2005 prices)',\n",
    "                    'GDP per capita (current US$)', 'Economy: Agriculture (% of GVA)',\n",
    "                    'Employment: Agriculture (% of employed)',\n",
    "                    'Employment: Industry (% of employed)',\n",
    "                    'Unemployment (% of labour force)',\n",
    "                    'Labour force participation (female/male pop. %)',\n",
    "                    'Agricultural production index (2004-2006=100)',\n",
    "                    'Population growth rate (average annual %)',\n",
    "                    'Urban population (% of total population)',\n",
    "                    'Urban population growth rate (average annual %)',\n",
    "                    'Fertility rate, total (live births per woman)',\n",
    "                    'Health: Total expenditure (% of GDP)',\n",
    "                    'Education: Government expenditure (% of GDP)',\n",
    "                    'Individuals using the Internet (per 100 inhabitants)']]\n",
    "correlation_matrix = heatmap_df.corr()"
   ]
  },
  {
   "cell_type": "code",
   "execution_count": 80,
   "metadata": {},
   "outputs": [
    {
     "data": {
      "application/vnd.plotly.v1+json": {
       "config": {
        "plotlyServerURL": "https://plot.ly"
       },
       "data": [
        {
         "coloraxis": "coloraxis",
         "hovertemplate": "x: %{x}<br>y: %{y}<br>color: %{z}<extra></extra>",
         "name": "0",
         "texttemplate": "%{z}",
         "type": "heatmap",
         "x": [
          "rank_display",
          "score",
          "Population in thousands (2017)",
          "Population density (per km2, 2017)",
          "Sex ratio (m per 100 f, 2017)",
          "GDP growth rate (annual %, const. 2005 prices)",
          "GDP per capita (current US$)",
          "Economy: Agriculture (% of GVA)",
          "Employment: Agriculture (% of employed)",
          "Employment: Industry (% of employed)",
          "Unemployment (% of labour force)",
          "Labour force participation (female/male pop. %)",
          "Agricultural production index (2004-2006=100)",
          "Population growth rate (average annual %)",
          "Urban population (% of total population)",
          "Urban population growth rate (average annual %)",
          "Fertility rate, total (live births per woman)",
          "Health: Total expenditure (% of GDP)",
          "Education: Government expenditure (% of GDP)",
          "Individuals using the Internet (per 100 inhabitants)"
         ],
         "xaxis": "x",
         "y": [
          "rank_display",
          "score",
          "Population in thousands (2017)",
          "Population density (per km2, 2017)",
          "Sex ratio (m per 100 f, 2017)",
          "GDP growth rate (annual %, const. 2005 prices)",
          "GDP per capita (current US$)",
          "Economy: Agriculture (% of GVA)",
          "Employment: Agriculture (% of employed)",
          "Employment: Industry (% of employed)",
          "Unemployment (% of labour force)",
          "Labour force participation (female/male pop. %)",
          "Agricultural production index (2004-2006=100)",
          "Population growth rate (average annual %)",
          "Urban population (% of total population)",
          "Urban population growth rate (average annual %)",
          "Fertility rate, total (live births per woman)",
          "Health: Total expenditure (% of GDP)",
          "Education: Government expenditure (% of GDP)",
          "Individuals using the Internet (per 100 inhabitants)"
         ],
         "yaxis": "y",
         "z": [
          [
           1,
           -0.9882426917339994,
           -0.1465192700874543,
           -0.17205871647322907,
           0.015525370972734168,
           0.09868960188451531,
           -0.11102207070566099,
           0.10018127956840743,
           0.08807162828030086,
           0.18720069358049124,
           0.21926316130228138,
           null,
           0.00449488734342287,
           -0.15342251976810067,
           -0.07926686675079697,
           -0.19008927787043167,
           0.07871055610872184,
           -0.0350141754358274,
           -0.022444324493170065,
           -0.22547588119908435
          ],
          [
           -0.9882426917339994,
           1,
           0.13538231698281614,
           0.15507306917290514,
           -0.0044983399796109545,
           -0.081537459966329,
           0.14513137102936977,
           -0.1075258558740774,
           -0.09469592314787002,
           -0.2126068755567102,
           -0.2358214491369824,
           null,
           0.012135676761082232,
           0.17074835580684602,
           0.07013511275546112,
           0.1791680919822351,
           -0.0549116253785229,
           0.05082508474767469,
           0.03691255420299311,
           0.23349026782105614
          ],
          [
           -0.1465192700874543,
           0.13538231698281614,
           1,
           -0.17710487601874034,
           0.5718729724889172,
           0.31258257594735644,
           -0.2852310673435516,
           0.19039387492133533,
           0.24248898556203913,
           0.12165583869962801,
           -0.1404506887586522,
           null,
           0.4162637604308441,
           -0.15421645675740148,
           -0.5529974263999801,
           0.715948488814349,
           0.01503198451332716,
           0.187748713154376,
           -0.552256214430881,
           0.5487364914785692
          ],
          [
           -0.17205871647322907,
           0.15507306917290514,
           -0.17710487601874034,
           1,
           -0.6240740320818071,
           -0.0325222299854536,
           -0.02132884078009847,
           -0.10091149820186732,
           -0.09330820296241456,
           -0.27322372136538675,
           -0.4295159566172969,
           null,
           -0.6894897116403643,
           0.18303554629270277,
           0.48176739388717255,
           0.057593111756220755,
           -0.6450498152636462,
           -0.5396836851453678,
           0.047228590118466626,
           -0.2462461765562762
          ],
          [
           0.015525370972734168,
           -0.0044983399796109545,
           0.5718729724889172,
           -0.6240740320818071,
           1,
           0.2562089648273059,
           -0.0516329610832947,
           0.13338723799862187,
           0.1351538322725365,
           0.24680394541430642,
           0.26082034356072864,
           null,
           0.9107987040200595,
           0.16782440773470686,
           -0.5590615967966487,
           0.6162914631249534,
           0.352743567903358,
           0.6374781918265021,
           -0.29986122575116625,
           0.2905627170954502
          ],
          [
           0.09868960188451531,
           -0.081537459966329,
           0.31258257594735644,
           -0.0325222299854536,
           0.2562089648273059,
           1,
           0.06696524507121608,
           -0.1301400122881101,
           -0.09853161815367387,
           -0.05880425926343012,
           0.1644277739289582,
           null,
           0.09814496149462071,
           -0.06916415805105115,
           -0.25071749829509515,
           0.4226636794308219,
           0.09925794240463075,
           0.17837352516423394,
           -0.04335256529124016,
           0.10958422148120807
          ],
          [
           -0.11102207070566099,
           0.14513137102936977,
           -0.2852310673435516,
           -0.02132884078009847,
           -0.0516329610832947,
           0.06696524507121608,
           1,
           -0.7602132043259182,
           -0.7429828750728049,
           -0.39124863021067596,
           0.048952333561431166,
           null,
           -0.03656535232593575,
           0.38837084066317884,
           0.37819978426650186,
           -0.19371159629773346,
           0.0004313237635665337,
           0.5139951943600954,
           0.7824526852304808,
           0.30287427163288144
          ],
          [
           0.10018127956840743,
           -0.1075258558740774,
           0.19039387492133533,
           -0.10091149820186732,
           0.13338723799862187,
           -0.1301400122881101,
           -0.7602132043259182,
           1,
           0.9837241516063786,
           0.15926791553939354,
           -0.08945224278303052,
           null,
           0.15226362116015,
           -0.055904799161228404,
           -0.6213009080418003,
           0.22056590952775967,
           0.18780503344981825,
           -0.598174969747141,
           -0.8891603130195684,
           -0.12814824950627407
          ],
          [
           0.08807162828030086,
           -0.09469592314787002,
           0.24248898556203913,
           -0.09330820296241456,
           0.1351538322725365,
           -0.09853161815367387,
           -0.7429828750728049,
           0.9837241516063786,
           1,
           0.16255671892209134,
           -0.12275484124643758,
           null,
           0.12185620628766375,
           -0.14470505701280237,
           -0.6655485267010294,
           0.20592202620662367,
           0.11967957310564634,
           -0.6119703928351293,
           -0.9233470561546507,
           -0.12811655897551236
          ],
          [
           0.18720069358049124,
           -0.2126068755567102,
           0.12165583869962801,
           -0.27322372136538675,
           0.24680394541430642,
           -0.05880425926343012,
           -0.39124863021067596,
           0.15926791553939354,
           0.16255671892209134,
           1,
           -0.07763436096527238,
           null,
           0.2518358827373183,
           -0.31046919552143476,
           -0.19582701831427046,
           0.010884049239803427,
           -0.3166648646899083,
           0.15100564454466855,
           -0.2221572501130323,
           -0.2756955282011005
          ],
          [
           0.21926316130228138,
           -0.2358214491369824,
           -0.1404506887586522,
           -0.4295159566172969,
           0.26082034356072864,
           0.1644277739289582,
           0.048952333561431166,
           -0.08945224278303052,
           -0.12275484124643758,
           -0.07763436096527238,
           1,
           null,
           0.1936479742841442,
           0.09613494124208115,
           -0.1024328850236868,
           -0.04499696561911095,
           0.491675586206708,
           0.2605581449048623,
           0.16207868639007392,
           -0.12556321572870385
          ],
          [
           null,
           null,
           null,
           null,
           null,
           null,
           null,
           null,
           null,
           null,
           null,
           null,
           null,
           null,
           null,
           null,
           null,
           null,
           null,
           null
          ],
          [
           0.00449488734342287,
           0.012135676761082232,
           0.4162637604308441,
           -0.6894897116403643,
           0.9107987040200595,
           0.09814496149462071,
           -0.03656535232593575,
           0.15226362116015,
           0.12185620628766375,
           0.2518358827373183,
           0.1936479742841442,
           null,
           1,
           0.13790345308365673,
           -0.509052582492631,
           0.4100956885053643,
           0.4797071726716818,
           0.6767125150817398,
           -0.19997933485380998,
           0.3231132059135106
          ],
          [
           -0.15342251976810067,
           0.17074835580684602,
           -0.15421645675740148,
           0.18303554629270277,
           0.16782440773470686,
           -0.06916415805105115,
           0.38837084066317884,
           -0.055904799161228404,
           -0.14470505701280237,
           -0.31046919552143476,
           0.09613494124208115,
           null,
           0.13790345308365673,
           1,
           0.16691535846282923,
           0.39393123028021254,
           0.12299837481778846,
           0.10391425771771234,
           0.15493118321594848,
           0.136889600592535
          ],
          [
           -0.07926686675079697,
           0.07013511275546112,
           -0.5529974263999801,
           0.48176739388717255,
           -0.5590615967966487,
           -0.25071749829509515,
           0.37819978426650186,
           -0.6213009080418003,
           -0.6655485267010294,
           -0.19582701831427046,
           -0.1024328850236868,
           null,
           -0.509052582492631,
           0.16691535846282923,
           1,
           -0.37895544236381357,
           -0.2677579054962982,
           0.05149390173927034,
           0.7324868980431453,
           -0.10063723066161585
          ],
          [
           -0.19008927787043167,
           0.1791680919822351,
           0.715948488814349,
           0.057593111756220755,
           0.6162914631249534,
           0.4226636794308219,
           -0.19371159629773346,
           0.22056590952775967,
           0.20592202620662367,
           0.010884049239803427,
           -0.04499696561911095,
           null,
           0.4100956885053643,
           0.39393123028021254,
           -0.37895544236381357,
           1,
           -0.026676363830205427,
           0.14999308875983342,
           -0.48496182985638514,
           0.2646097277713644
          ],
          [
           0.07871055610872184,
           -0.0549116253785229,
           0.01503198451332716,
           -0.6450498152636462,
           0.352743567903358,
           0.09925794240463075,
           0.0004313237635665337,
           0.18780503344981825,
           0.11967957310564634,
           -0.3166648646899083,
           0.491675586206708,
           null,
           0.4797071726716818,
           0.12299837481778846,
           -0.2677579054962982,
           -0.026676363830205427,
           1,
           0.25817912924780284,
           -0.008668355443082473,
           0.3291689788698906
          ],
          [
           -0.0350141754358274,
           0.05082508474767469,
           0.187748713154376,
           -0.5396836851453678,
           0.6374781918265021,
           0.17837352516423394,
           0.5139951943600954,
           -0.598174969747141,
           -0.6119703928351293,
           0.15100564454466855,
           0.2605581449048623,
           null,
           0.6767125150817398,
           0.10391425771771234,
           0.05149390173927034,
           0.14999308875983342,
           0.25817912924780284,
           1,
           0.49595684103291093,
           0.35916857757144044
          ],
          [
           -0.022444324493170065,
           0.03691255420299311,
           -0.552256214430881,
           0.047228590118466626,
           -0.29986122575116625,
           -0.04335256529124016,
           0.7824526852304808,
           -0.8891603130195684,
           -0.9233470561546507,
           -0.2221572501130323,
           0.16207868639007392,
           null,
           -0.19997933485380998,
           0.15493118321594848,
           0.7324868980431453,
           -0.48496182985638514,
           -0.008668355443082473,
           0.49595684103291093,
           1,
           0.03713930188985924
          ],
          [
           -0.22547588119908435,
           0.23349026782105614,
           0.5487364914785692,
           -0.2462461765562762,
           0.2905627170954502,
           0.10958422148120807,
           0.30287427163288144,
           -0.12814824950627407,
           -0.12811655897551236,
           -0.2756955282011005,
           -0.12556321572870385,
           null,
           0.3231132059135106,
           0.136889600592535,
           -0.10063723066161585,
           0.2646097277713644,
           0.3291689788698906,
           0.35916857757144044,
           0.03713930188985924,
           1
          ]
         ]
        }
       ],
       "layout": {
        "autosize": false,
        "coloraxis": {
         "colorscale": [
          [
           0,
           "#0d0887"
          ],
          [
           0.1111111111111111,
           "#46039f"
          ],
          [
           0.2222222222222222,
           "#7201a8"
          ],
          [
           0.3333333333333333,
           "#9c179e"
          ],
          [
           0.4444444444444444,
           "#bd3786"
          ],
          [
           0.5555555555555556,
           "#d8576b"
          ],
          [
           0.6666666666666666,
           "#ed7953"
          ],
          [
           0.7777777777777778,
           "#fb9f3a"
          ],
          [
           0.8888888888888888,
           "#fdca26"
          ],
          [
           1,
           "#f0f921"
          ]
         ]
        },
        "height": 1000,
        "margin": {
         "b": 200,
         "l": 200,
         "r": 200,
         "t": 200
        },
        "showlegend": false,
        "template": {
         "data": {
          "bar": [
           {
            "error_x": {
             "color": "#2a3f5f"
            },
            "error_y": {
             "color": "#2a3f5f"
            },
            "marker": {
             "line": {
              "color": "#E5ECF6",
              "width": 0.5
             },
             "pattern": {
              "fillmode": "overlay",
              "size": 10,
              "solidity": 0.2
             }
            },
            "type": "bar"
           }
          ],
          "barpolar": [
           {
            "marker": {
             "line": {
              "color": "#E5ECF6",
              "width": 0.5
             },
             "pattern": {
              "fillmode": "overlay",
              "size": 10,
              "solidity": 0.2
             }
            },
            "type": "barpolar"
           }
          ],
          "carpet": [
           {
            "aaxis": {
             "endlinecolor": "#2a3f5f",
             "gridcolor": "white",
             "linecolor": "white",
             "minorgridcolor": "white",
             "startlinecolor": "#2a3f5f"
            },
            "baxis": {
             "endlinecolor": "#2a3f5f",
             "gridcolor": "white",
             "linecolor": "white",
             "minorgridcolor": "white",
             "startlinecolor": "#2a3f5f"
            },
            "type": "carpet"
           }
          ],
          "choropleth": [
           {
            "colorbar": {
             "outlinewidth": 0,
             "ticks": ""
            },
            "type": "choropleth"
           }
          ],
          "contour": [
           {
            "colorbar": {
             "outlinewidth": 0,
             "ticks": ""
            },
            "colorscale": [
             [
              0,
              "#0d0887"
             ],
             [
              0.1111111111111111,
              "#46039f"
             ],
             [
              0.2222222222222222,
              "#7201a8"
             ],
             [
              0.3333333333333333,
              "#9c179e"
             ],
             [
              0.4444444444444444,
              "#bd3786"
             ],
             [
              0.5555555555555556,
              "#d8576b"
             ],
             [
              0.6666666666666666,
              "#ed7953"
             ],
             [
              0.7777777777777778,
              "#fb9f3a"
             ],
             [
              0.8888888888888888,
              "#fdca26"
             ],
             [
              1,
              "#f0f921"
             ]
            ],
            "type": "contour"
           }
          ],
          "contourcarpet": [
           {
            "colorbar": {
             "outlinewidth": 0,
             "ticks": ""
            },
            "type": "contourcarpet"
           }
          ],
          "heatmap": [
           {
            "colorbar": {
             "outlinewidth": 0,
             "ticks": ""
            },
            "colorscale": [
             [
              0,
              "#0d0887"
             ],
             [
              0.1111111111111111,
              "#46039f"
             ],
             [
              0.2222222222222222,
              "#7201a8"
             ],
             [
              0.3333333333333333,
              "#9c179e"
             ],
             [
              0.4444444444444444,
              "#bd3786"
             ],
             [
              0.5555555555555556,
              "#d8576b"
             ],
             [
              0.6666666666666666,
              "#ed7953"
             ],
             [
              0.7777777777777778,
              "#fb9f3a"
             ],
             [
              0.8888888888888888,
              "#fdca26"
             ],
             [
              1,
              "#f0f921"
             ]
            ],
            "type": "heatmap"
           }
          ],
          "heatmapgl": [
           {
            "colorbar": {
             "outlinewidth": 0,
             "ticks": ""
            },
            "colorscale": [
             [
              0,
              "#0d0887"
             ],
             [
              0.1111111111111111,
              "#46039f"
             ],
             [
              0.2222222222222222,
              "#7201a8"
             ],
             [
              0.3333333333333333,
              "#9c179e"
             ],
             [
              0.4444444444444444,
              "#bd3786"
             ],
             [
              0.5555555555555556,
              "#d8576b"
             ],
             [
              0.6666666666666666,
              "#ed7953"
             ],
             [
              0.7777777777777778,
              "#fb9f3a"
             ],
             [
              0.8888888888888888,
              "#fdca26"
             ],
             [
              1,
              "#f0f921"
             ]
            ],
            "type": "heatmapgl"
           }
          ],
          "histogram": [
           {
            "marker": {
             "pattern": {
              "fillmode": "overlay",
              "size": 10,
              "solidity": 0.2
             }
            },
            "type": "histogram"
           }
          ],
          "histogram2d": [
           {
            "colorbar": {
             "outlinewidth": 0,
             "ticks": ""
            },
            "colorscale": [
             [
              0,
              "#0d0887"
             ],
             [
              0.1111111111111111,
              "#46039f"
             ],
             [
              0.2222222222222222,
              "#7201a8"
             ],
             [
              0.3333333333333333,
              "#9c179e"
             ],
             [
              0.4444444444444444,
              "#bd3786"
             ],
             [
              0.5555555555555556,
              "#d8576b"
             ],
             [
              0.6666666666666666,
              "#ed7953"
             ],
             [
              0.7777777777777778,
              "#fb9f3a"
             ],
             [
              0.8888888888888888,
              "#fdca26"
             ],
             [
              1,
              "#f0f921"
             ]
            ],
            "type": "histogram2d"
           }
          ],
          "histogram2dcontour": [
           {
            "colorbar": {
             "outlinewidth": 0,
             "ticks": ""
            },
            "colorscale": [
             [
              0,
              "#0d0887"
             ],
             [
              0.1111111111111111,
              "#46039f"
             ],
             [
              0.2222222222222222,
              "#7201a8"
             ],
             [
              0.3333333333333333,
              "#9c179e"
             ],
             [
              0.4444444444444444,
              "#bd3786"
             ],
             [
              0.5555555555555556,
              "#d8576b"
             ],
             [
              0.6666666666666666,
              "#ed7953"
             ],
             [
              0.7777777777777778,
              "#fb9f3a"
             ],
             [
              0.8888888888888888,
              "#fdca26"
             ],
             [
              1,
              "#f0f921"
             ]
            ],
            "type": "histogram2dcontour"
           }
          ],
          "mesh3d": [
           {
            "colorbar": {
             "outlinewidth": 0,
             "ticks": ""
            },
            "type": "mesh3d"
           }
          ],
          "parcoords": [
           {
            "line": {
             "colorbar": {
              "outlinewidth": 0,
              "ticks": ""
             }
            },
            "type": "parcoords"
           }
          ],
          "pie": [
           {
            "automargin": true,
            "type": "pie"
           }
          ],
          "scatter": [
           {
            "fillpattern": {
             "fillmode": "overlay",
             "size": 10,
             "solidity": 0.2
            },
            "type": "scatter"
           }
          ],
          "scatter3d": [
           {
            "line": {
             "colorbar": {
              "outlinewidth": 0,
              "ticks": ""
             }
            },
            "marker": {
             "colorbar": {
              "outlinewidth": 0,
              "ticks": ""
             }
            },
            "type": "scatter3d"
           }
          ],
          "scattercarpet": [
           {
            "marker": {
             "colorbar": {
              "outlinewidth": 0,
              "ticks": ""
             }
            },
            "type": "scattercarpet"
           }
          ],
          "scattergeo": [
           {
            "marker": {
             "colorbar": {
              "outlinewidth": 0,
              "ticks": ""
             }
            },
            "type": "scattergeo"
           }
          ],
          "scattergl": [
           {
            "marker": {
             "colorbar": {
              "outlinewidth": 0,
              "ticks": ""
             }
            },
            "type": "scattergl"
           }
          ],
          "scattermapbox": [
           {
            "marker": {
             "colorbar": {
              "outlinewidth": 0,
              "ticks": ""
             }
            },
            "type": "scattermapbox"
           }
          ],
          "scatterpolar": [
           {
            "marker": {
             "colorbar": {
              "outlinewidth": 0,
              "ticks": ""
             }
            },
            "type": "scatterpolar"
           }
          ],
          "scatterpolargl": [
           {
            "marker": {
             "colorbar": {
              "outlinewidth": 0,
              "ticks": ""
             }
            },
            "type": "scatterpolargl"
           }
          ],
          "scatterternary": [
           {
            "marker": {
             "colorbar": {
              "outlinewidth": 0,
              "ticks": ""
             }
            },
            "type": "scatterternary"
           }
          ],
          "surface": [
           {
            "colorbar": {
             "outlinewidth": 0,
             "ticks": ""
            },
            "colorscale": [
             [
              0,
              "#0d0887"
             ],
             [
              0.1111111111111111,
              "#46039f"
             ],
             [
              0.2222222222222222,
              "#7201a8"
             ],
             [
              0.3333333333333333,
              "#9c179e"
             ],
             [
              0.4444444444444444,
              "#bd3786"
             ],
             [
              0.5555555555555556,
              "#d8576b"
             ],
             [
              0.6666666666666666,
              "#ed7953"
             ],
             [
              0.7777777777777778,
              "#fb9f3a"
             ],
             [
              0.8888888888888888,
              "#fdca26"
             ],
             [
              1,
              "#f0f921"
             ]
            ],
            "type": "surface"
           }
          ],
          "table": [
           {
            "cells": {
             "fill": {
              "color": "#EBF0F8"
             },
             "line": {
              "color": "white"
             }
            },
            "header": {
             "fill": {
              "color": "#C8D4E3"
             },
             "line": {
              "color": "white"
             }
            },
            "type": "table"
           }
          ]
         },
         "layout": {
          "annotationdefaults": {
           "arrowcolor": "#2a3f5f",
           "arrowhead": 0,
           "arrowwidth": 1
          },
          "autotypenumbers": "strict",
          "coloraxis": {
           "colorbar": {
            "outlinewidth": 0,
            "ticks": ""
           }
          },
          "colorscale": {
           "diverging": [
            [
             0,
             "#8e0152"
            ],
            [
             0.1,
             "#c51b7d"
            ],
            [
             0.2,
             "#de77ae"
            ],
            [
             0.3,
             "#f1b6da"
            ],
            [
             0.4,
             "#fde0ef"
            ],
            [
             0.5,
             "#f7f7f7"
            ],
            [
             0.6,
             "#e6f5d0"
            ],
            [
             0.7,
             "#b8e186"
            ],
            [
             0.8,
             "#7fbc41"
            ],
            [
             0.9,
             "#4d9221"
            ],
            [
             1,
             "#276419"
            ]
           ],
           "sequential": [
            [
             0,
             "#0d0887"
            ],
            [
             0.1111111111111111,
             "#46039f"
            ],
            [
             0.2222222222222222,
             "#7201a8"
            ],
            [
             0.3333333333333333,
             "#9c179e"
            ],
            [
             0.4444444444444444,
             "#bd3786"
            ],
            [
             0.5555555555555556,
             "#d8576b"
            ],
            [
             0.6666666666666666,
             "#ed7953"
            ],
            [
             0.7777777777777778,
             "#fb9f3a"
            ],
            [
             0.8888888888888888,
             "#fdca26"
            ],
            [
             1,
             "#f0f921"
            ]
           ],
           "sequentialminus": [
            [
             0,
             "#0d0887"
            ],
            [
             0.1111111111111111,
             "#46039f"
            ],
            [
             0.2222222222222222,
             "#7201a8"
            ],
            [
             0.3333333333333333,
             "#9c179e"
            ],
            [
             0.4444444444444444,
             "#bd3786"
            ],
            [
             0.5555555555555556,
             "#d8576b"
            ],
            [
             0.6666666666666666,
             "#ed7953"
            ],
            [
             0.7777777777777778,
             "#fb9f3a"
            ],
            [
             0.8888888888888888,
             "#fdca26"
            ],
            [
             1,
             "#f0f921"
            ]
           ]
          },
          "colorway": [
           "#636efa",
           "#EF553B",
           "#00cc96",
           "#ab63fa",
           "#FFA15A",
           "#19d3f3",
           "#FF6692",
           "#B6E880",
           "#FF97FF",
           "#FECB52"
          ],
          "font": {
           "color": "#2a3f5f"
          },
          "geo": {
           "bgcolor": "white",
           "lakecolor": "white",
           "landcolor": "#E5ECF6",
           "showlakes": true,
           "showland": true,
           "subunitcolor": "white"
          },
          "hoverlabel": {
           "align": "left"
          },
          "hovermode": "closest",
          "mapbox": {
           "style": "light"
          },
          "paper_bgcolor": "white",
          "plot_bgcolor": "#E5ECF6",
          "polar": {
           "angularaxis": {
            "gridcolor": "white",
            "linecolor": "white",
            "ticks": ""
           },
           "bgcolor": "#E5ECF6",
           "radialaxis": {
            "gridcolor": "white",
            "linecolor": "white",
            "ticks": ""
           }
          },
          "scene": {
           "xaxis": {
            "backgroundcolor": "#E5ECF6",
            "gridcolor": "white",
            "gridwidth": 2,
            "linecolor": "white",
            "showbackground": true,
            "ticks": "",
            "zerolinecolor": "white"
           },
           "yaxis": {
            "backgroundcolor": "#E5ECF6",
            "gridcolor": "white",
            "gridwidth": 2,
            "linecolor": "white",
            "showbackground": true,
            "ticks": "",
            "zerolinecolor": "white"
           },
           "zaxis": {
            "backgroundcolor": "#E5ECF6",
            "gridcolor": "white",
            "gridwidth": 2,
            "linecolor": "white",
            "showbackground": true,
            "ticks": "",
            "zerolinecolor": "white"
           }
          },
          "shapedefaults": {
           "line": {
            "color": "#2a3f5f"
           }
          },
          "ternary": {
           "aaxis": {
            "gridcolor": "white",
            "linecolor": "white",
            "ticks": ""
           },
           "baxis": {
            "gridcolor": "white",
            "linecolor": "white",
            "ticks": ""
           },
           "bgcolor": "#E5ECF6",
           "caxis": {
            "gridcolor": "white",
            "linecolor": "white",
            "ticks": ""
           }
          },
          "title": {
           "x": 0.05
          },
          "xaxis": {
           "automargin": true,
           "gridcolor": "white",
           "linecolor": "white",
           "ticks": "",
           "title": {
            "standoff": 15
           },
           "zerolinecolor": "white",
           "zerolinewidth": 2
          },
          "yaxis": {
           "automargin": true,
           "gridcolor": "white",
           "linecolor": "white",
           "ticks": "",
           "title": {
            "standoff": 15
           },
           "zerolinecolor": "white",
           "zerolinewidth": 2
          }
         }
        },
        "width": 1000,
        "xaxis": {
         "anchor": "y",
         "domain": [
          0,
          1
         ]
        },
        "yaxis": {
         "anchor": "x",
         "autorange": "reversed",
         "domain": [
          0,
          1
         ]
        }
       }
      }
     },
     "metadata": {},
     "output_type": "display_data"
    }
   ],
   "source": [
    "fig = px.imshow(heatmap_df.corr(), text_auto=True, aspect=\"auto\")\n",
    "fig.update_layout(margin = dict(t=200,r=200,b=200,l=200),\n",
    "    showlegend = False,\n",
    "    width = 1000, height = 1000,\n",
    "    autosize = False )\n",
    "fig.show()"
   ]
  },
  {
   "cell_type": "markdown",
   "metadata": {},
   "source": [
    "# Hypothesis: Countries with higher GDP growth rates tend to have higher-ranked universities."
   ]
  },
  {
   "cell_type": "code",
   "execution_count": 81,
   "metadata": {},
   "outputs": [
    {
     "data": {
      "text/html": [
       "<div>\n",
       "<style scoped>\n",
       "    .dataframe tbody tr th:only-of-type {\n",
       "        vertical-align: middle;\n",
       "    }\n",
       "\n",
       "    .dataframe tbody tr th {\n",
       "        vertical-align: top;\n",
       "    }\n",
       "\n",
       "    .dataframe thead th {\n",
       "        text-align: right;\n",
       "    }\n",
       "</style>\n",
       "<table border=\"1\" class=\"dataframe\">\n",
       "  <thead>\n",
       "    <tr style=\"text-align: right;\">\n",
       "      <th></th>\n",
       "      <th>country</th>\n",
       "      <th>rank_display</th>\n",
       "      <th>GDP growth rate (annual %, const. 2005 prices)</th>\n",
       "    </tr>\n",
       "  </thead>\n",
       "  <tbody>\n",
       "    <tr>\n",
       "      <th>0</th>\n",
       "      <td>United States</td>\n",
       "      <td>1.0</td>\n",
       "      <td>2.6</td>\n",
       "    </tr>\n",
       "    <tr>\n",
       "      <th>1</th>\n",
       "      <td>United States</td>\n",
       "      <td>2.0</td>\n",
       "      <td>2.6</td>\n",
       "    </tr>\n",
       "    <tr>\n",
       "      <th>2</th>\n",
       "      <td>United States</td>\n",
       "      <td>3.0</td>\n",
       "      <td>2.6</td>\n",
       "    </tr>\n",
       "    <tr>\n",
       "      <th>3</th>\n",
       "      <td>United Kingdom</td>\n",
       "      <td>4.0</td>\n",
       "      <td>2.2</td>\n",
       "    </tr>\n",
       "    <tr>\n",
       "      <th>4</th>\n",
       "      <td>United States</td>\n",
       "      <td>5.0</td>\n",
       "      <td>2.6</td>\n",
       "    </tr>\n",
       "  </tbody>\n",
       "</table>\n",
       "</div>"
      ],
      "text/plain": [
       "          country  rank_display  \\\n",
       "0   United States           1.0   \n",
       "1   United States           2.0   \n",
       "2   United States           3.0   \n",
       "3  United Kingdom           4.0   \n",
       "4   United States           5.0   \n",
       "\n",
       "   GDP growth rate (annual %, const. 2005 prices)  \n",
       "0                                             2.6  \n",
       "1                                             2.6  \n",
       "2                                             2.6  \n",
       "3                                             2.2  \n",
       "4                                             2.6  "
      ]
     },
     "execution_count": 81,
     "metadata": {},
     "output_type": "execute_result"
    }
   ],
   "source": [
    "hypothesis_1 = new_df[['country', 'rank_display', 'GDP growth rate (annual %, const. 2005 prices)']]\n",
    "hypothesis_1.head()"
   ]
  },
  {
   "cell_type": "code",
   "execution_count": 82,
   "metadata": {},
   "outputs": [
    {
     "data": {
      "text/plain": [
       "dtype('float64')"
      ]
     },
     "execution_count": 82,
     "metadata": {},
     "output_type": "execute_result"
    }
   ],
   "source": [
    "hypothesis_1['GDP growth rate (annual %, const. 2005 prices)'].dtype"
   ]
  },
  {
   "cell_type": "code",
   "execution_count": 83,
   "metadata": {},
   "outputs": [
    {
     "data": {
      "text/plain": [
       "dtype('float64')"
      ]
     },
     "execution_count": 83,
     "metadata": {},
     "output_type": "execute_result"
    }
   ],
   "source": [
    "hypothesis_1['rank_display'].dtype"
   ]
  },
  {
   "cell_type": "markdown",
   "metadata": {},
   "source": [
    "#### Clean the data: handle missing values in relevant columns\n",
    " We will drop rows where 'rank_display' or 'GDP growth rate (annual %, const. 2005 prices)' is missing"
   ]
  },
  {
   "cell_type": "code",
   "execution_count": 84,
   "metadata": {},
   "outputs": [
    {
     "name": "stderr",
     "output_type": "stream",
     "text": [
      "/var/folders/l5/p6r57rz54js0nf3r65vn2xy80000gn/T/ipykernel_81677/1282706605.py:1: SettingWithCopyWarning:\n",
      "\n",
      "\n",
      "A value is trying to be set on a copy of a slice from a DataFrame\n",
      "\n",
      "See the caveats in the documentation: https://pandas.pydata.org/pandas-docs/stable/user_guide/indexing.html#returning-a-view-versus-a-copy\n",
      "\n"
     ]
    },
    {
     "data": {
      "text/html": [
       "<div>\n",
       "<style scoped>\n",
       "    .dataframe tbody tr th:only-of-type {\n",
       "        vertical-align: middle;\n",
       "    }\n",
       "\n",
       "    .dataframe tbody tr th {\n",
       "        vertical-align: top;\n",
       "    }\n",
       "\n",
       "    .dataframe thead th {\n",
       "        text-align: right;\n",
       "    }\n",
       "</style>\n",
       "<table border=\"1\" class=\"dataframe\">\n",
       "  <thead>\n",
       "    <tr style=\"text-align: right;\">\n",
       "      <th></th>\n",
       "      <th>country</th>\n",
       "      <th>rank_display</th>\n",
       "      <th>GDP growth rate (annual %, const. 2005 prices)</th>\n",
       "    </tr>\n",
       "  </thead>\n",
       "  <tbody>\n",
       "    <tr>\n",
       "      <th>0</th>\n",
       "      <td>United States</td>\n",
       "      <td>1.0</td>\n",
       "      <td>2.6</td>\n",
       "    </tr>\n",
       "    <tr>\n",
       "      <th>1</th>\n",
       "      <td>United States</td>\n",
       "      <td>2.0</td>\n",
       "      <td>2.6</td>\n",
       "    </tr>\n",
       "    <tr>\n",
       "      <th>2</th>\n",
       "      <td>United States</td>\n",
       "      <td>3.0</td>\n",
       "      <td>2.6</td>\n",
       "    </tr>\n",
       "    <tr>\n",
       "      <th>3</th>\n",
       "      <td>United Kingdom</td>\n",
       "      <td>4.0</td>\n",
       "      <td>2.2</td>\n",
       "    </tr>\n",
       "    <tr>\n",
       "      <th>4</th>\n",
       "      <td>United States</td>\n",
       "      <td>5.0</td>\n",
       "      <td>2.6</td>\n",
       "    </tr>\n",
       "  </tbody>\n",
       "</table>\n",
       "</div>"
      ],
      "text/plain": [
       "          country  rank_display  \\\n",
       "0   United States           1.0   \n",
       "1   United States           2.0   \n",
       "2   United States           3.0   \n",
       "3  United Kingdom           4.0   \n",
       "4   United States           5.0   \n",
       "\n",
       "   GDP growth rate (annual %, const. 2005 prices)  \n",
       "0                                             2.6  \n",
       "1                                             2.6  \n",
       "2                                             2.6  \n",
       "3                                             2.2  \n",
       "4                                             2.6  "
      ]
     },
     "execution_count": 84,
     "metadata": {},
     "output_type": "execute_result"
    }
   ],
   "source": [
    "hypothesis_1.dropna(subset=['rank_display', 'GDP growth rate (annual %, const. 2005 prices)'], inplace=True)\n",
    "hypothesis_1.head()"
   ]
  },
  {
   "cell_type": "markdown",
   "metadata": {},
   "source": [
    "Now we should reindex the dataframe"
   ]
  },
  {
   "cell_type": "code",
   "execution_count": 85,
   "metadata": {},
   "outputs": [
    {
     "data": {
      "text/html": [
       "<div>\n",
       "<style scoped>\n",
       "    .dataframe tbody tr th:only-of-type {\n",
       "        vertical-align: middle;\n",
       "    }\n",
       "\n",
       "    .dataframe tbody tr th {\n",
       "        vertical-align: top;\n",
       "    }\n",
       "\n",
       "    .dataframe thead th {\n",
       "        text-align: right;\n",
       "    }\n",
       "</style>\n",
       "<table border=\"1\" class=\"dataframe\">\n",
       "  <thead>\n",
       "    <tr style=\"text-align: right;\">\n",
       "      <th></th>\n",
       "      <th>country</th>\n",
       "      <th>rank_display</th>\n",
       "      <th>GDP growth rate (annual %, const. 2005 prices)</th>\n",
       "    </tr>\n",
       "  </thead>\n",
       "  <tbody>\n",
       "    <tr>\n",
       "      <th>0</th>\n",
       "      <td>United States</td>\n",
       "      <td>1.0</td>\n",
       "      <td>2.6</td>\n",
       "    </tr>\n",
       "    <tr>\n",
       "      <th>1</th>\n",
       "      <td>United States</td>\n",
       "      <td>2.0</td>\n",
       "      <td>2.6</td>\n",
       "    </tr>\n",
       "    <tr>\n",
       "      <th>2</th>\n",
       "      <td>United States</td>\n",
       "      <td>3.0</td>\n",
       "      <td>2.6</td>\n",
       "    </tr>\n",
       "    <tr>\n",
       "      <th>3</th>\n",
       "      <td>United Kingdom</td>\n",
       "      <td>4.0</td>\n",
       "      <td>2.2</td>\n",
       "    </tr>\n",
       "    <tr>\n",
       "      <th>4</th>\n",
       "      <td>United States</td>\n",
       "      <td>5.0</td>\n",
       "      <td>2.6</td>\n",
       "    </tr>\n",
       "  </tbody>\n",
       "</table>\n",
       "</div>"
      ],
      "text/plain": [
       "          country  rank_display  \\\n",
       "0   United States           1.0   \n",
       "1   United States           2.0   \n",
       "2   United States           3.0   \n",
       "3  United Kingdom           4.0   \n",
       "4   United States           5.0   \n",
       "\n",
       "   GDP growth rate (annual %, const. 2005 prices)  \n",
       "0                                             2.6  \n",
       "1                                             2.6  \n",
       "2                                             2.6  \n",
       "3                                             2.2  \n",
       "4                                             2.6  "
      ]
     },
     "execution_count": 85,
     "metadata": {},
     "output_type": "execute_result"
    }
   ],
   "source": [
    "hypothesis_1.index = range(len(hypothesis_1))\n",
    "hypothesis_1.head()"
   ]
  },
  {
   "cell_type": "markdown",
   "metadata": {},
   "source": [
    "Aggregate the data by country:"
   ]
  },
  {
   "cell_type": "code",
   "execution_count": 86,
   "metadata": {},
   "outputs": [
    {
     "data": {
      "text/html": [
       "<div>\n",
       "<style scoped>\n",
       "    .dataframe tbody tr th:only-of-type {\n",
       "        vertical-align: middle;\n",
       "    }\n",
       "\n",
       "    .dataframe tbody tr th {\n",
       "        vertical-align: top;\n",
       "    }\n",
       "\n",
       "    .dataframe thead th {\n",
       "        text-align: right;\n",
       "    }\n",
       "</style>\n",
       "<table border=\"1\" class=\"dataframe\">\n",
       "  <thead>\n",
       "    <tr style=\"text-align: right;\">\n",
       "      <th></th>\n",
       "      <th>country</th>\n",
       "      <th>rank_display</th>\n",
       "      <th>GDP growth rate (annual %, const. 2005 prices)</th>\n",
       "    </tr>\n",
       "  </thead>\n",
       "  <tbody>\n",
       "    <tr>\n",
       "      <th>0</th>\n",
       "      <td>Argentina</td>\n",
       "      <td>85.000000</td>\n",
       "      <td>2.4</td>\n",
       "    </tr>\n",
       "    <tr>\n",
       "      <th>1</th>\n",
       "      <td>Australia</td>\n",
       "      <td>45.833333</td>\n",
       "      <td>2.4</td>\n",
       "    </tr>\n",
       "    <tr>\n",
       "      <th>2</th>\n",
       "      <td>Belgium</td>\n",
       "      <td>79.000000</td>\n",
       "      <td>1.5</td>\n",
       "    </tr>\n",
       "    <tr>\n",
       "      <th>3</th>\n",
       "      <td>Canada</td>\n",
       "      <td>50.250000</td>\n",
       "      <td>0.9</td>\n",
       "    </tr>\n",
       "    <tr>\n",
       "      <th>4</th>\n",
       "      <td>China (Mainland)</td>\n",
       "      <td>41.750000</td>\n",
       "      <td>6.9</td>\n",
       "    </tr>\n",
       "    <tr>\n",
       "      <th>5</th>\n",
       "      <td>Denmark</td>\n",
       "      <td>68.000000</td>\n",
       "      <td>1.6</td>\n",
       "    </tr>\n",
       "    <tr>\n",
       "      <th>6</th>\n",
       "      <td>Finland</td>\n",
       "      <td>91.000000</td>\n",
       "      <td>0.2</td>\n",
       "    </tr>\n",
       "    <tr>\n",
       "      <th>7</th>\n",
       "      <td>France</td>\n",
       "      <td>43.000000</td>\n",
       "      <td>1.3</td>\n",
       "    </tr>\n",
       "    <tr>\n",
       "      <th>8</th>\n",
       "      <td>Germany</td>\n",
       "      <td>74.500000</td>\n",
       "      <td>1.7</td>\n",
       "    </tr>\n",
       "    <tr>\n",
       "      <th>9</th>\n",
       "      <td>Hong Kong SAR</td>\n",
       "      <td>40.500000</td>\n",
       "      <td>2.4</td>\n",
       "    </tr>\n",
       "    <tr>\n",
       "      <th>10</th>\n",
       "      <td>Ireland</td>\n",
       "      <td>98.000000</td>\n",
       "      <td>26.3</td>\n",
       "    </tr>\n",
       "    <tr>\n",
       "      <th>11</th>\n",
       "      <td>Japan</td>\n",
       "      <td>53.000000</td>\n",
       "      <td>1.2</td>\n",
       "    </tr>\n",
       "    <tr>\n",
       "      <th>12</th>\n",
       "      <td>Netherlands</td>\n",
       "      <td>59.500000</td>\n",
       "      <td>2.0</td>\n",
       "    </tr>\n",
       "    <tr>\n",
       "      <th>13</th>\n",
       "      <td>New Zealand</td>\n",
       "      <td>81.000000</td>\n",
       "      <td>3.1</td>\n",
       "    </tr>\n",
       "    <tr>\n",
       "      <th>14</th>\n",
       "      <td>Singapore</td>\n",
       "      <td>12.500000</td>\n",
       "      <td>2.0</td>\n",
       "    </tr>\n",
       "    <tr>\n",
       "      <th>15</th>\n",
       "      <td>South Korea</td>\n",
       "      <td>65.500000</td>\n",
       "      <td>-1.1</td>\n",
       "    </tr>\n",
       "    <tr>\n",
       "      <th>16</th>\n",
       "      <td>Sweden</td>\n",
       "      <td>89.333333</td>\n",
       "      <td>4.1</td>\n",
       "    </tr>\n",
       "    <tr>\n",
       "      <th>17</th>\n",
       "      <td>Switzerland</td>\n",
       "      <td>49.250000</td>\n",
       "      <td>0.8</td>\n",
       "    </tr>\n",
       "    <tr>\n",
       "      <th>18</th>\n",
       "      <td>United Kingdom</td>\n",
       "      <td>47.722222</td>\n",
       "      <td>2.2</td>\n",
       "    </tr>\n",
       "    <tr>\n",
       "      <th>19</th>\n",
       "      <td>United States</td>\n",
       "      <td>43.000000</td>\n",
       "      <td>2.6</td>\n",
       "    </tr>\n",
       "  </tbody>\n",
       "</table>\n",
       "</div>"
      ],
      "text/plain": [
       "             country  rank_display  \\\n",
       "0          Argentina     85.000000   \n",
       "1          Australia     45.833333   \n",
       "2            Belgium     79.000000   \n",
       "3             Canada     50.250000   \n",
       "4   China (Mainland)     41.750000   \n",
       "5            Denmark     68.000000   \n",
       "6            Finland     91.000000   \n",
       "7             France     43.000000   \n",
       "8            Germany     74.500000   \n",
       "9      Hong Kong SAR     40.500000   \n",
       "10           Ireland     98.000000   \n",
       "11             Japan     53.000000   \n",
       "12       Netherlands     59.500000   \n",
       "13       New Zealand     81.000000   \n",
       "14         Singapore     12.500000   \n",
       "15       South Korea     65.500000   \n",
       "16            Sweden     89.333333   \n",
       "17       Switzerland     49.250000   \n",
       "18    United Kingdom     47.722222   \n",
       "19     United States     43.000000   \n",
       "\n",
       "    GDP growth rate (annual %, const. 2005 prices)  \n",
       "0                                              2.4  \n",
       "1                                              2.4  \n",
       "2                                              1.5  \n",
       "3                                              0.9  \n",
       "4                                              6.9  \n",
       "5                                              1.6  \n",
       "6                                              0.2  \n",
       "7                                              1.3  \n",
       "8                                              1.7  \n",
       "9                                              2.4  \n",
       "10                                            26.3  \n",
       "11                                             1.2  \n",
       "12                                             2.0  \n",
       "13                                             3.1  \n",
       "14                                             2.0  \n",
       "15                                            -1.1  \n",
       "16                                             4.1  \n",
       "17                                             0.8  \n",
       "18                                             2.2  \n",
       "19                                             2.6  "
      ]
     },
     "execution_count": 86,
     "metadata": {},
     "output_type": "execute_result"
    }
   ],
   "source": [
    "country_agg = hypothesis_1.groupby('country').agg({\n",
    "    'rank_display': 'mean',  # Average university rank\n",
    "    'GDP growth rate (annual %, const. 2005 prices)': 'mean'  # Average GDP growth rate\n",
    "}).reset_index()\n",
    "\n",
    "country_agg"
   ]
  },
  {
   "cell_type": "markdown",
   "metadata": {},
   "source": [
    "Rename columns for clarity:"
   ]
  },
  {
   "cell_type": "code",
   "execution_count": 87,
   "metadata": {},
   "outputs": [
    {
     "data": {
      "text/html": [
       "<div>\n",
       "<style scoped>\n",
       "    .dataframe tbody tr th:only-of-type {\n",
       "        vertical-align: middle;\n",
       "    }\n",
       "\n",
       "    .dataframe tbody tr th {\n",
       "        vertical-align: top;\n",
       "    }\n",
       "\n",
       "    .dataframe thead th {\n",
       "        text-align: right;\n",
       "    }\n",
       "</style>\n",
       "<table border=\"1\" class=\"dataframe\">\n",
       "  <thead>\n",
       "    <tr style=\"text-align: right;\">\n",
       "      <th></th>\n",
       "      <th>country</th>\n",
       "      <th>avg_university_rank</th>\n",
       "      <th>avg_gdp_growth_rate</th>\n",
       "    </tr>\n",
       "  </thead>\n",
       "  <tbody>\n",
       "    <tr>\n",
       "      <th>0</th>\n",
       "      <td>Argentina</td>\n",
       "      <td>85.000000</td>\n",
       "      <td>2.4</td>\n",
       "    </tr>\n",
       "    <tr>\n",
       "      <th>1</th>\n",
       "      <td>Australia</td>\n",
       "      <td>45.833333</td>\n",
       "      <td>2.4</td>\n",
       "    </tr>\n",
       "    <tr>\n",
       "      <th>2</th>\n",
       "      <td>Belgium</td>\n",
       "      <td>79.000000</td>\n",
       "      <td>1.5</td>\n",
       "    </tr>\n",
       "    <tr>\n",
       "      <th>3</th>\n",
       "      <td>Canada</td>\n",
       "      <td>50.250000</td>\n",
       "      <td>0.9</td>\n",
       "    </tr>\n",
       "    <tr>\n",
       "      <th>4</th>\n",
       "      <td>China (Mainland)</td>\n",
       "      <td>41.750000</td>\n",
       "      <td>6.9</td>\n",
       "    </tr>\n",
       "    <tr>\n",
       "      <th>5</th>\n",
       "      <td>Denmark</td>\n",
       "      <td>68.000000</td>\n",
       "      <td>1.6</td>\n",
       "    </tr>\n",
       "    <tr>\n",
       "      <th>6</th>\n",
       "      <td>Finland</td>\n",
       "      <td>91.000000</td>\n",
       "      <td>0.2</td>\n",
       "    </tr>\n",
       "    <tr>\n",
       "      <th>7</th>\n",
       "      <td>France</td>\n",
       "      <td>43.000000</td>\n",
       "      <td>1.3</td>\n",
       "    </tr>\n",
       "    <tr>\n",
       "      <th>8</th>\n",
       "      <td>Germany</td>\n",
       "      <td>74.500000</td>\n",
       "      <td>1.7</td>\n",
       "    </tr>\n",
       "    <tr>\n",
       "      <th>9</th>\n",
       "      <td>Hong Kong SAR</td>\n",
       "      <td>40.500000</td>\n",
       "      <td>2.4</td>\n",
       "    </tr>\n",
       "    <tr>\n",
       "      <th>10</th>\n",
       "      <td>Ireland</td>\n",
       "      <td>98.000000</td>\n",
       "      <td>26.3</td>\n",
       "    </tr>\n",
       "    <tr>\n",
       "      <th>11</th>\n",
       "      <td>Japan</td>\n",
       "      <td>53.000000</td>\n",
       "      <td>1.2</td>\n",
       "    </tr>\n",
       "    <tr>\n",
       "      <th>12</th>\n",
       "      <td>Netherlands</td>\n",
       "      <td>59.500000</td>\n",
       "      <td>2.0</td>\n",
       "    </tr>\n",
       "    <tr>\n",
       "      <th>13</th>\n",
       "      <td>New Zealand</td>\n",
       "      <td>81.000000</td>\n",
       "      <td>3.1</td>\n",
       "    </tr>\n",
       "    <tr>\n",
       "      <th>14</th>\n",
       "      <td>Singapore</td>\n",
       "      <td>12.500000</td>\n",
       "      <td>2.0</td>\n",
       "    </tr>\n",
       "    <tr>\n",
       "      <th>15</th>\n",
       "      <td>South Korea</td>\n",
       "      <td>65.500000</td>\n",
       "      <td>-1.1</td>\n",
       "    </tr>\n",
       "    <tr>\n",
       "      <th>16</th>\n",
       "      <td>Sweden</td>\n",
       "      <td>89.333333</td>\n",
       "      <td>4.1</td>\n",
       "    </tr>\n",
       "    <tr>\n",
       "      <th>17</th>\n",
       "      <td>Switzerland</td>\n",
       "      <td>49.250000</td>\n",
       "      <td>0.8</td>\n",
       "    </tr>\n",
       "    <tr>\n",
       "      <th>18</th>\n",
       "      <td>United Kingdom</td>\n",
       "      <td>47.722222</td>\n",
       "      <td>2.2</td>\n",
       "    </tr>\n",
       "    <tr>\n",
       "      <th>19</th>\n",
       "      <td>United States</td>\n",
       "      <td>43.000000</td>\n",
       "      <td>2.6</td>\n",
       "    </tr>\n",
       "  </tbody>\n",
       "</table>\n",
       "</div>"
      ],
      "text/plain": [
       "             country  avg_university_rank  avg_gdp_growth_rate\n",
       "0          Argentina            85.000000                  2.4\n",
       "1          Australia            45.833333                  2.4\n",
       "2            Belgium            79.000000                  1.5\n",
       "3             Canada            50.250000                  0.9\n",
       "4   China (Mainland)            41.750000                  6.9\n",
       "5            Denmark            68.000000                  1.6\n",
       "6            Finland            91.000000                  0.2\n",
       "7             France            43.000000                  1.3\n",
       "8            Germany            74.500000                  1.7\n",
       "9      Hong Kong SAR            40.500000                  2.4\n",
       "10           Ireland            98.000000                 26.3\n",
       "11             Japan            53.000000                  1.2\n",
       "12       Netherlands            59.500000                  2.0\n",
       "13       New Zealand            81.000000                  3.1\n",
       "14         Singapore            12.500000                  2.0\n",
       "15       South Korea            65.500000                 -1.1\n",
       "16            Sweden            89.333333                  4.1\n",
       "17       Switzerland            49.250000                  0.8\n",
       "18    United Kingdom            47.722222                  2.2\n",
       "19     United States            43.000000                  2.6"
      ]
     },
     "execution_count": 87,
     "metadata": {},
     "output_type": "execute_result"
    }
   ],
   "source": [
    "country_agg.columns = ['country', 'avg_university_rank', 'avg_gdp_growth_rate']\n",
    "country_agg"
   ]
  },
  {
   "cell_type": "markdown",
   "metadata": {},
   "source": [
    "Use Plotly.io to create graphs:"
   ]
  },
  {
   "cell_type": "code",
   "execution_count": 88,
   "metadata": {},
   "outputs": [
    {
     "data": {
      "application/vnd.plotly.v1+json": {
       "config": {
        "plotlyServerURL": "https://plot.ly"
       },
       "data": [
        {
         "mode": "markers",
         "text": [
          "Argentina",
          "Australia",
          "Belgium",
          "Canada",
          "China (Mainland)",
          "Denmark",
          "Finland",
          "France",
          "Germany",
          "Hong Kong SAR",
          "Ireland",
          "Japan",
          "Netherlands",
          "New Zealand",
          "Singapore",
          "South Korea",
          "Sweden",
          "Switzerland",
          "United Kingdom",
          "United States"
         ],
         "type": "scatter",
         "x": [
          85,
          45.833333333333336,
          79,
          50.25,
          41.75,
          68,
          91,
          43,
          74.5,
          40.5,
          98,
          53,
          59.5,
          81,
          12.5,
          65.5,
          89.33333333333333,
          49.25,
          47.72222222222222,
          43
         ],
         "y": [
          2.4,
          2.4,
          1.5,
          0.9,
          6.9,
          1.6,
          0.2,
          1.3,
          1.7,
          2.4,
          26.3,
          1.2,
          2,
          3.1,
          2,
          -1.1,
          4.1,
          0.8,
          2.2,
          2.6
         ]
        }
       ],
       "layout": {
        "title": "County GDP Growth Rate vs Average University Rank",
        "xaxis": {
         "range": [
          0,
          100
         ],
         "title": "Average University Rank"
        },
        "yaxis": {
         "range": [
          0,
          30
         ],
         "title": "Average GDP Growth Rate"
        }
       }
      }
     },
     "metadata": {},
     "output_type": "display_data"
    }
   ],
   "source": [
    "\n",
    "subject = country_agg['avg_university_rank']\n",
    "score = country_agg['avg_gdp_growth_rate']\n",
    "\n",
    "data = [dict(\n",
    "  type = 'scatter',\n",
    "  x = subject,\n",
    "  y = score,\n",
    "  mode = 'markers',\n",
    "  text = country_agg['country']\n",
    ")]\n",
    "\n",
    "layout = dict(\n",
    "    title = 'County GDP Growth Rate vs Average University Rank',\n",
    "    xaxis = dict(\n",
    "        title = 'Average University Rank',\n",
    "        range = [0, 100]\n",
    "                 ),\n",
    "    yaxis = dict(\n",
    "        title = 'Average GDP Growth Rate',\n",
    "        range = [0, 30]\n",
    "        )\n",
    ")\n",
    "\n",
    "fig_dict = dict(data=data, layout=layout)\n",
    "\n",
    "pio.show(fig_dict, validate=False)"
   ]
  },
  {
   "cell_type": "markdown",
   "metadata": {},
   "source": [
    "Because Ireland seems to be an outlier so we remove Ireland and plot again the rest coutries:"
   ]
  },
  {
   "cell_type": "code",
   "execution_count": 89,
   "metadata": {},
   "outputs": [
    {
     "data": {
      "application/vnd.plotly.v1+json": {
       "config": {
        "plotlyServerURL": "https://plot.ly"
       },
       "data": [
        {
         "mode": "markers",
         "text": [
          "Argentina",
          "Australia",
          "Belgium",
          "Canada",
          "China (Mainland)",
          "Denmark",
          "Finland",
          "France",
          "Germany",
          "Hong Kong SAR",
          "Ireland",
          "Japan",
          "Netherlands",
          "New Zealand",
          "Singapore",
          "South Korea",
          "Sweden",
          "Switzerland",
          "United Kingdom",
          "United States"
         ],
         "type": "scatter",
         "x": [
          85,
          45.833333333333336,
          79,
          50.25,
          41.75,
          68,
          91,
          43,
          74.5,
          40.5,
          98,
          53,
          59.5,
          81,
          12.5,
          65.5,
          89.33333333333333,
          49.25,
          47.72222222222222,
          43
         ],
         "y": [
          2.4,
          2.4,
          1.5,
          0.9,
          6.9,
          1.6,
          0.2,
          1.3,
          1.7,
          2.4,
          26.3,
          1.2,
          2,
          3.1,
          2,
          -1.1,
          4.1,
          0.8,
          2.2,
          2.6
         ]
        }
       ],
       "layout": {
        "title": "County GDP Growth Rate vs Average University Rank",
        "xaxis": {
         "range": [
          0,
          100
         ],
         "title": "Average University Rank"
        },
        "yaxis": {
         "range": [
          0,
          10
         ],
         "title": "Average GDP Growth Rate"
        }
       }
      }
     },
     "metadata": {},
     "output_type": "display_data"
    }
   ],
   "source": [
    "\n",
    "subject = country_agg['avg_university_rank']\n",
    "score = country_agg['avg_gdp_growth_rate']\n",
    "\n",
    "data = [dict(\n",
    "  type = 'scatter',\n",
    "  x = subject,\n",
    "  y = score,\n",
    "  mode = 'markers',\n",
    "  text = country_agg['country']\n",
    ")]\n",
    "\n",
    "layout = dict(\n",
    "    title = 'County GDP Growth Rate vs Average University Rank',\n",
    "    xaxis = dict(\n",
    "        title = 'Average University Rank',\n",
    "        range = [0, 100]\n",
    "                 ),\n",
    "    yaxis = dict(\n",
    "        title = 'Average GDP Growth Rate',\n",
    "        range = [0, 10]\n",
    "        )\n",
    ")\n",
    "\n",
    "fig_dict = dict(data=data, layout=layout)\n",
    "\n",
    "pio.show(fig_dict, validate=False)"
   ]
  },
  {
   "cell_type": "markdown",
   "metadata": {},
   "source": [
    "it seems that singapore is an outlier, so we remove it:"
   ]
  },
  {
   "cell_type": "code",
   "execution_count": 90,
   "metadata": {},
   "outputs": [
    {
     "data": {
      "application/vnd.plotly.v1+json": {
       "config": {
        "plotlyServerURL": "https://plot.ly"
       },
       "data": [
        {
         "mode": "markers",
         "text": [
          "Argentina",
          "Australia",
          "Belgium",
          "Canada",
          "China (Mainland)",
          "Denmark",
          "Finland",
          "France",
          "Germany",
          "Hong Kong SAR",
          "Ireland",
          "Japan",
          "Netherlands",
          "New Zealand",
          "Singapore",
          "South Korea",
          "Sweden",
          "Switzerland",
          "United Kingdom",
          "United States"
         ],
         "type": "scatter",
         "x": [
          85,
          45.833333333333336,
          79,
          50.25,
          41.75,
          68,
          91,
          43,
          74.5,
          40.5,
          98,
          53,
          59.5,
          81,
          12.5,
          65.5,
          89.33333333333333,
          49.25,
          47.72222222222222,
          43
         ],
         "y": [
          2.4,
          2.4,
          1.5,
          0.9,
          6.9,
          1.6,
          0.2,
          1.3,
          1.7,
          2.4,
          26.3,
          1.2,
          2,
          3.1,
          2,
          -1.1,
          4.1,
          0.8,
          2.2,
          2.6
         ]
        }
       ],
       "layout": {
        "title": "County GDP Growth Rate vs Average University Rank",
        "xaxis": {
         "range": [
          38,
          100
         ],
         "title": "Average University Rank"
        },
        "yaxis": {
         "range": [
          0,
          10
         ],
         "title": "Average GDP Growth Rate"
        }
       }
      }
     },
     "metadata": {},
     "output_type": "display_data"
    }
   ],
   "source": [
    "\n",
    "subject = country_agg['avg_university_rank']\n",
    "score = country_agg['avg_gdp_growth_rate']\n",
    "\n",
    "data = [dict(\n",
    "  type = 'scatter',\n",
    "  x = subject,\n",
    "  y = score,\n",
    "  mode = 'markers',\n",
    "  text = country_agg['country']\n",
    ")]\n",
    "\n",
    "layout = dict(\n",
    "    title = 'County GDP Growth Rate vs Average University Rank',\n",
    "    xaxis = dict(\n",
    "        title = 'Average University Rank',\n",
    "        range = [38, 100]\n",
    "                 ),\n",
    "    yaxis = dict(\n",
    "        title = 'Average GDP Growth Rate',\n",
    "        range = [0, 10]\n",
    "        )\n",
    ")\n",
    "\n",
    "fig_dict = dict(data=data, layout=layout)\n",
    "\n",
    "pio.show(fig_dict, validate=False)"
   ]
  },
  {
   "cell_type": "markdown",
   "metadata": {},
   "source": [
    "# Hypothesis: Countries with a higher urban population percentage have universities that perform better in global rankings"
   ]
  },
  {
   "cell_type": "code",
   "execution_count": 91,
   "metadata": {},
   "outputs": [
    {
     "data": {
      "text/html": [
       "<div>\n",
       "<style scoped>\n",
       "    .dataframe tbody tr th:only-of-type {\n",
       "        vertical-align: middle;\n",
       "    }\n",
       "\n",
       "    .dataframe tbody tr th {\n",
       "        vertical-align: top;\n",
       "    }\n",
       "\n",
       "    .dataframe thead th {\n",
       "        text-align: right;\n",
       "    }\n",
       "</style>\n",
       "<table border=\"1\" class=\"dataframe\">\n",
       "  <thead>\n",
       "    <tr style=\"text-align: right;\">\n",
       "      <th></th>\n",
       "      <th>country</th>\n",
       "      <th>rank_display</th>\n",
       "      <th>Urban population (% of total population)</th>\n",
       "    </tr>\n",
       "  </thead>\n",
       "  <tbody>\n",
       "    <tr>\n",
       "      <th>0</th>\n",
       "      <td>United States</td>\n",
       "      <td>1.0</td>\n",
       "      <td>81.6</td>\n",
       "    </tr>\n",
       "    <tr>\n",
       "      <th>1</th>\n",
       "      <td>United States</td>\n",
       "      <td>2.0</td>\n",
       "      <td>81.6</td>\n",
       "    </tr>\n",
       "    <tr>\n",
       "      <th>2</th>\n",
       "      <td>United States</td>\n",
       "      <td>3.0</td>\n",
       "      <td>81.6</td>\n",
       "    </tr>\n",
       "    <tr>\n",
       "      <th>3</th>\n",
       "      <td>United Kingdom</td>\n",
       "      <td>4.0</td>\n",
       "      <td>82.6</td>\n",
       "    </tr>\n",
       "    <tr>\n",
       "      <th>4</th>\n",
       "      <td>United States</td>\n",
       "      <td>5.0</td>\n",
       "      <td>81.6</td>\n",
       "    </tr>\n",
       "  </tbody>\n",
       "</table>\n",
       "</div>"
      ],
      "text/plain": [
       "          country  rank_display  Urban population (% of total population)\n",
       "0   United States           1.0                                      81.6\n",
       "1   United States           2.0                                      81.6\n",
       "2   United States           3.0                                      81.6\n",
       "3  United Kingdom           4.0                                      82.6\n",
       "4   United States           5.0                                      81.6"
      ]
     },
     "execution_count": 91,
     "metadata": {},
     "output_type": "execute_result"
    }
   ],
   "source": [
    "hypothesis_2 = new_df[['country', 'rank_display', 'Urban population (% of total population)']]\n",
    "hypothesis_2.head()"
   ]
  },
  {
   "cell_type": "markdown",
   "metadata": {},
   "source": [
    "#### Clean the data: handle missing values in relevant columns\n",
    " We will drop rows where 'rank_display' or 'Urban population (% of total population)' is missing"
   ]
  },
  {
   "cell_type": "code",
   "execution_count": 92,
   "metadata": {},
   "outputs": [
    {
     "name": "stderr",
     "output_type": "stream",
     "text": [
      "/var/folders/l5/p6r57rz54js0nf3r65vn2xy80000gn/T/ipykernel_81677/860025795.py:1: SettingWithCopyWarning:\n",
      "\n",
      "\n",
      "A value is trying to be set on a copy of a slice from a DataFrame\n",
      "\n",
      "See the caveats in the documentation: https://pandas.pydata.org/pandas-docs/stable/user_guide/indexing.html#returning-a-view-versus-a-copy\n",
      "\n"
     ]
    },
    {
     "data": {
      "text/html": [
       "<div>\n",
       "<style scoped>\n",
       "    .dataframe tbody tr th:only-of-type {\n",
       "        vertical-align: middle;\n",
       "    }\n",
       "\n",
       "    .dataframe tbody tr th {\n",
       "        vertical-align: top;\n",
       "    }\n",
       "\n",
       "    .dataframe thead th {\n",
       "        text-align: right;\n",
       "    }\n",
       "</style>\n",
       "<table border=\"1\" class=\"dataframe\">\n",
       "  <thead>\n",
       "    <tr style=\"text-align: right;\">\n",
       "      <th></th>\n",
       "      <th>country</th>\n",
       "      <th>rank_display</th>\n",
       "      <th>Urban population (% of total population)</th>\n",
       "    </tr>\n",
       "  </thead>\n",
       "  <tbody>\n",
       "    <tr>\n",
       "      <th>0</th>\n",
       "      <td>United States</td>\n",
       "      <td>1.0</td>\n",
       "      <td>81.6</td>\n",
       "    </tr>\n",
       "    <tr>\n",
       "      <th>1</th>\n",
       "      <td>United States</td>\n",
       "      <td>2.0</td>\n",
       "      <td>81.6</td>\n",
       "    </tr>\n",
       "    <tr>\n",
       "      <th>2</th>\n",
       "      <td>United States</td>\n",
       "      <td>3.0</td>\n",
       "      <td>81.6</td>\n",
       "    </tr>\n",
       "    <tr>\n",
       "      <th>3</th>\n",
       "      <td>United Kingdom</td>\n",
       "      <td>4.0</td>\n",
       "      <td>82.6</td>\n",
       "    </tr>\n",
       "    <tr>\n",
       "      <th>4</th>\n",
       "      <td>United States</td>\n",
       "      <td>5.0</td>\n",
       "      <td>81.6</td>\n",
       "    </tr>\n",
       "  </tbody>\n",
       "</table>\n",
       "</div>"
      ],
      "text/plain": [
       "          country  rank_display  Urban population (% of total population)\n",
       "0   United States           1.0                                      81.6\n",
       "1   United States           2.0                                      81.6\n",
       "2   United States           3.0                                      81.6\n",
       "3  United Kingdom           4.0                                      82.6\n",
       "4   United States           5.0                                      81.6"
      ]
     },
     "execution_count": 92,
     "metadata": {},
     "output_type": "execute_result"
    }
   ],
   "source": [
    "hypothesis_2.dropna(subset=['rank_display', 'Urban population (% of total population)'], inplace=True)\n",
    "hypothesis_2.head()"
   ]
  },
  {
   "cell_type": "markdown",
   "metadata": {},
   "source": [
    "Now we should reindex the dataframe"
   ]
  },
  {
   "cell_type": "code",
   "execution_count": 93,
   "metadata": {},
   "outputs": [
    {
     "data": {
      "text/html": [
       "<div>\n",
       "<style scoped>\n",
       "    .dataframe tbody tr th:only-of-type {\n",
       "        vertical-align: middle;\n",
       "    }\n",
       "\n",
       "    .dataframe tbody tr th {\n",
       "        vertical-align: top;\n",
       "    }\n",
       "\n",
       "    .dataframe thead th {\n",
       "        text-align: right;\n",
       "    }\n",
       "</style>\n",
       "<table border=\"1\" class=\"dataframe\">\n",
       "  <thead>\n",
       "    <tr style=\"text-align: right;\">\n",
       "      <th></th>\n",
       "      <th>country</th>\n",
       "      <th>rank_display</th>\n",
       "      <th>Urban population (% of total population)</th>\n",
       "    </tr>\n",
       "  </thead>\n",
       "  <tbody>\n",
       "    <tr>\n",
       "      <th>0</th>\n",
       "      <td>United States</td>\n",
       "      <td>1.0</td>\n",
       "      <td>81.6</td>\n",
       "    </tr>\n",
       "    <tr>\n",
       "      <th>1</th>\n",
       "      <td>United States</td>\n",
       "      <td>2.0</td>\n",
       "      <td>81.6</td>\n",
       "    </tr>\n",
       "    <tr>\n",
       "      <th>2</th>\n",
       "      <td>United States</td>\n",
       "      <td>3.0</td>\n",
       "      <td>81.6</td>\n",
       "    </tr>\n",
       "    <tr>\n",
       "      <th>3</th>\n",
       "      <td>United Kingdom</td>\n",
       "      <td>4.0</td>\n",
       "      <td>82.6</td>\n",
       "    </tr>\n",
       "    <tr>\n",
       "      <th>4</th>\n",
       "      <td>United States</td>\n",
       "      <td>5.0</td>\n",
       "      <td>81.6</td>\n",
       "    </tr>\n",
       "  </tbody>\n",
       "</table>\n",
       "</div>"
      ],
      "text/plain": [
       "          country  rank_display  Urban population (% of total population)\n",
       "0   United States           1.0                                      81.6\n",
       "1   United States           2.0                                      81.6\n",
       "2   United States           3.0                                      81.6\n",
       "3  United Kingdom           4.0                                      82.6\n",
       "4   United States           5.0                                      81.6"
      ]
     },
     "execution_count": 93,
     "metadata": {},
     "output_type": "execute_result"
    }
   ],
   "source": [
    "hypothesis_2.index = range(len(hypothesis_2))\n",
    "hypothesis_2.head()"
   ]
  },
  {
   "cell_type": "code",
   "execution_count": 94,
   "metadata": {},
   "outputs": [
    {
     "data": {
      "text/html": [
       "<div>\n",
       "<style scoped>\n",
       "    .dataframe tbody tr th:only-of-type {\n",
       "        vertical-align: middle;\n",
       "    }\n",
       "\n",
       "    .dataframe tbody tr th {\n",
       "        vertical-align: top;\n",
       "    }\n",
       "\n",
       "    .dataframe thead th {\n",
       "        text-align: right;\n",
       "    }\n",
       "</style>\n",
       "<table border=\"1\" class=\"dataframe\">\n",
       "  <thead>\n",
       "    <tr style=\"text-align: right;\">\n",
       "      <th></th>\n",
       "      <th>country</th>\n",
       "      <th>rank_display</th>\n",
       "      <th>Urban population (% of total population)</th>\n",
       "    </tr>\n",
       "  </thead>\n",
       "  <tbody>\n",
       "    <tr>\n",
       "      <th>0</th>\n",
       "      <td>Argentina</td>\n",
       "      <td>85.000000</td>\n",
       "      <td>91.8</td>\n",
       "    </tr>\n",
       "    <tr>\n",
       "      <th>1</th>\n",
       "      <td>Australia</td>\n",
       "      <td>45.833333</td>\n",
       "      <td>89.4</td>\n",
       "    </tr>\n",
       "    <tr>\n",
       "      <th>2</th>\n",
       "      <td>Belgium</td>\n",
       "      <td>79.000000</td>\n",
       "      <td>97.9</td>\n",
       "    </tr>\n",
       "    <tr>\n",
       "      <th>3</th>\n",
       "      <td>Canada</td>\n",
       "      <td>50.250000</td>\n",
       "      <td>81.8</td>\n",
       "    </tr>\n",
       "    <tr>\n",
       "      <th>4</th>\n",
       "      <td>China (Mainland)</td>\n",
       "      <td>41.750000</td>\n",
       "      <td>55.6</td>\n",
       "    </tr>\n",
       "    <tr>\n",
       "      <th>5</th>\n",
       "      <td>Denmark</td>\n",
       "      <td>68.000000</td>\n",
       "      <td>87.7</td>\n",
       "    </tr>\n",
       "    <tr>\n",
       "      <th>6</th>\n",
       "      <td>Finland</td>\n",
       "      <td>91.000000</td>\n",
       "      <td>84.2</td>\n",
       "    </tr>\n",
       "    <tr>\n",
       "      <th>7</th>\n",
       "      <td>France</td>\n",
       "      <td>43.000000</td>\n",
       "      <td>79.5</td>\n",
       "    </tr>\n",
       "    <tr>\n",
       "      <th>8</th>\n",
       "      <td>Germany</td>\n",
       "      <td>74.500000</td>\n",
       "      <td>75.3</td>\n",
       "    </tr>\n",
       "    <tr>\n",
       "      <th>9</th>\n",
       "      <td>Hong Kong SAR</td>\n",
       "      <td>40.500000</td>\n",
       "      <td>100.0</td>\n",
       "    </tr>\n",
       "    <tr>\n",
       "      <th>10</th>\n",
       "      <td>Ireland</td>\n",
       "      <td>98.000000</td>\n",
       "      <td>63.2</td>\n",
       "    </tr>\n",
       "    <tr>\n",
       "      <th>11</th>\n",
       "      <td>Japan</td>\n",
       "      <td>53.000000</td>\n",
       "      <td>93.5</td>\n",
       "    </tr>\n",
       "    <tr>\n",
       "      <th>12</th>\n",
       "      <td>Netherlands</td>\n",
       "      <td>59.500000</td>\n",
       "      <td>90.5</td>\n",
       "    </tr>\n",
       "    <tr>\n",
       "      <th>13</th>\n",
       "      <td>New Zealand</td>\n",
       "      <td>81.000000</td>\n",
       "      <td>86.3</td>\n",
       "    </tr>\n",
       "    <tr>\n",
       "      <th>14</th>\n",
       "      <td>Singapore</td>\n",
       "      <td>12.500000</td>\n",
       "      <td>100.0</td>\n",
       "    </tr>\n",
       "    <tr>\n",
       "      <th>15</th>\n",
       "      <td>South Korea</td>\n",
       "      <td>65.500000</td>\n",
       "      <td>60.9</td>\n",
       "    </tr>\n",
       "    <tr>\n",
       "      <th>16</th>\n",
       "      <td>Sweden</td>\n",
       "      <td>89.333333</td>\n",
       "      <td>85.8</td>\n",
       "    </tr>\n",
       "    <tr>\n",
       "      <th>17</th>\n",
       "      <td>Switzerland</td>\n",
       "      <td>49.250000</td>\n",
       "      <td>73.9</td>\n",
       "    </tr>\n",
       "    <tr>\n",
       "      <th>18</th>\n",
       "      <td>United Kingdom</td>\n",
       "      <td>47.722222</td>\n",
       "      <td>82.6</td>\n",
       "    </tr>\n",
       "    <tr>\n",
       "      <th>19</th>\n",
       "      <td>United States</td>\n",
       "      <td>43.000000</td>\n",
       "      <td>81.6</td>\n",
       "    </tr>\n",
       "  </tbody>\n",
       "</table>\n",
       "</div>"
      ],
      "text/plain": [
       "             country  rank_display  Urban population (% of total population)\n",
       "0          Argentina     85.000000                                      91.8\n",
       "1          Australia     45.833333                                      89.4\n",
       "2            Belgium     79.000000                                      97.9\n",
       "3             Canada     50.250000                                      81.8\n",
       "4   China (Mainland)     41.750000                                      55.6\n",
       "5            Denmark     68.000000                                      87.7\n",
       "6            Finland     91.000000                                      84.2\n",
       "7             France     43.000000                                      79.5\n",
       "8            Germany     74.500000                                      75.3\n",
       "9      Hong Kong SAR     40.500000                                     100.0\n",
       "10           Ireland     98.000000                                      63.2\n",
       "11             Japan     53.000000                                      93.5\n",
       "12       Netherlands     59.500000                                      90.5\n",
       "13       New Zealand     81.000000                                      86.3\n",
       "14         Singapore     12.500000                                     100.0\n",
       "15       South Korea     65.500000                                      60.9\n",
       "16            Sweden     89.333333                                      85.8\n",
       "17       Switzerland     49.250000                                      73.9\n",
       "18    United Kingdom     47.722222                                      82.6\n",
       "19     United States     43.000000                                      81.6"
      ]
     },
     "execution_count": 94,
     "metadata": {},
     "output_type": "execute_result"
    }
   ],
   "source": [
    "# Aggregate the data by country\n",
    "country_agg = hypothesis_2.groupby('country').agg({\n",
    "    'rank_display': 'mean',  # Average university rank\n",
    "    'Urban population (% of total population)': 'mean'  # Average urban population percentage\n",
    "}).reset_index()\n",
    "country_agg"
   ]
  },
  {
   "cell_type": "code",
   "execution_count": 95,
   "metadata": {},
   "outputs": [
    {
     "data": {
      "text/html": [
       "<div>\n",
       "<style scoped>\n",
       "    .dataframe tbody tr th:only-of-type {\n",
       "        vertical-align: middle;\n",
       "    }\n",
       "\n",
       "    .dataframe tbody tr th {\n",
       "        vertical-align: top;\n",
       "    }\n",
       "\n",
       "    .dataframe thead th {\n",
       "        text-align: right;\n",
       "    }\n",
       "</style>\n",
       "<table border=\"1\" class=\"dataframe\">\n",
       "  <thead>\n",
       "    <tr style=\"text-align: right;\">\n",
       "      <th></th>\n",
       "      <th>country</th>\n",
       "      <th>avg_university_rank</th>\n",
       "      <th>avg_urban_population_percentage</th>\n",
       "    </tr>\n",
       "  </thead>\n",
       "  <tbody>\n",
       "    <tr>\n",
       "      <th>0</th>\n",
       "      <td>Argentina</td>\n",
       "      <td>85.000000</td>\n",
       "      <td>91.8</td>\n",
       "    </tr>\n",
       "    <tr>\n",
       "      <th>1</th>\n",
       "      <td>Australia</td>\n",
       "      <td>45.833333</td>\n",
       "      <td>89.4</td>\n",
       "    </tr>\n",
       "    <tr>\n",
       "      <th>2</th>\n",
       "      <td>Belgium</td>\n",
       "      <td>79.000000</td>\n",
       "      <td>97.9</td>\n",
       "    </tr>\n",
       "    <tr>\n",
       "      <th>3</th>\n",
       "      <td>Canada</td>\n",
       "      <td>50.250000</td>\n",
       "      <td>81.8</td>\n",
       "    </tr>\n",
       "    <tr>\n",
       "      <th>4</th>\n",
       "      <td>China (Mainland)</td>\n",
       "      <td>41.750000</td>\n",
       "      <td>55.6</td>\n",
       "    </tr>\n",
       "    <tr>\n",
       "      <th>5</th>\n",
       "      <td>Denmark</td>\n",
       "      <td>68.000000</td>\n",
       "      <td>87.7</td>\n",
       "    </tr>\n",
       "    <tr>\n",
       "      <th>6</th>\n",
       "      <td>Finland</td>\n",
       "      <td>91.000000</td>\n",
       "      <td>84.2</td>\n",
       "    </tr>\n",
       "    <tr>\n",
       "      <th>7</th>\n",
       "      <td>France</td>\n",
       "      <td>43.000000</td>\n",
       "      <td>79.5</td>\n",
       "    </tr>\n",
       "    <tr>\n",
       "      <th>8</th>\n",
       "      <td>Germany</td>\n",
       "      <td>74.500000</td>\n",
       "      <td>75.3</td>\n",
       "    </tr>\n",
       "    <tr>\n",
       "      <th>9</th>\n",
       "      <td>Hong Kong SAR</td>\n",
       "      <td>40.500000</td>\n",
       "      <td>100.0</td>\n",
       "    </tr>\n",
       "    <tr>\n",
       "      <th>10</th>\n",
       "      <td>Ireland</td>\n",
       "      <td>98.000000</td>\n",
       "      <td>63.2</td>\n",
       "    </tr>\n",
       "    <tr>\n",
       "      <th>11</th>\n",
       "      <td>Japan</td>\n",
       "      <td>53.000000</td>\n",
       "      <td>93.5</td>\n",
       "    </tr>\n",
       "    <tr>\n",
       "      <th>12</th>\n",
       "      <td>Netherlands</td>\n",
       "      <td>59.500000</td>\n",
       "      <td>90.5</td>\n",
       "    </tr>\n",
       "    <tr>\n",
       "      <th>13</th>\n",
       "      <td>New Zealand</td>\n",
       "      <td>81.000000</td>\n",
       "      <td>86.3</td>\n",
       "    </tr>\n",
       "    <tr>\n",
       "      <th>14</th>\n",
       "      <td>Singapore</td>\n",
       "      <td>12.500000</td>\n",
       "      <td>100.0</td>\n",
       "    </tr>\n",
       "    <tr>\n",
       "      <th>15</th>\n",
       "      <td>South Korea</td>\n",
       "      <td>65.500000</td>\n",
       "      <td>60.9</td>\n",
       "    </tr>\n",
       "    <tr>\n",
       "      <th>16</th>\n",
       "      <td>Sweden</td>\n",
       "      <td>89.333333</td>\n",
       "      <td>85.8</td>\n",
       "    </tr>\n",
       "    <tr>\n",
       "      <th>17</th>\n",
       "      <td>Switzerland</td>\n",
       "      <td>49.250000</td>\n",
       "      <td>73.9</td>\n",
       "    </tr>\n",
       "    <tr>\n",
       "      <th>18</th>\n",
       "      <td>United Kingdom</td>\n",
       "      <td>47.722222</td>\n",
       "      <td>82.6</td>\n",
       "    </tr>\n",
       "    <tr>\n",
       "      <th>19</th>\n",
       "      <td>United States</td>\n",
       "      <td>43.000000</td>\n",
       "      <td>81.6</td>\n",
       "    </tr>\n",
       "  </tbody>\n",
       "</table>\n",
       "</div>"
      ],
      "text/plain": [
       "             country  avg_university_rank  avg_urban_population_percentage\n",
       "0          Argentina            85.000000                             91.8\n",
       "1          Australia            45.833333                             89.4\n",
       "2            Belgium            79.000000                             97.9\n",
       "3             Canada            50.250000                             81.8\n",
       "4   China (Mainland)            41.750000                             55.6\n",
       "5            Denmark            68.000000                             87.7\n",
       "6            Finland            91.000000                             84.2\n",
       "7             France            43.000000                             79.5\n",
       "8            Germany            74.500000                             75.3\n",
       "9      Hong Kong SAR            40.500000                            100.0\n",
       "10           Ireland            98.000000                             63.2\n",
       "11             Japan            53.000000                             93.5\n",
       "12       Netherlands            59.500000                             90.5\n",
       "13       New Zealand            81.000000                             86.3\n",
       "14         Singapore            12.500000                            100.0\n",
       "15       South Korea            65.500000                             60.9\n",
       "16            Sweden            89.333333                             85.8\n",
       "17       Switzerland            49.250000                             73.9\n",
       "18    United Kingdom            47.722222                             82.6\n",
       "19     United States            43.000000                             81.6"
      ]
     },
     "execution_count": 95,
     "metadata": {},
     "output_type": "execute_result"
    }
   ],
   "source": [
    "# Rename columns for clarity\n",
    "country_agg.columns = ['country', 'avg_university_rank', 'avg_urban_population_percentage']\n",
    "country_agg"
   ]
  },
  {
   "cell_type": "markdown",
   "metadata": {},
   "source": [
    "Find Correlation between column \"avg_rank\" and \"avg_urban_population_percentage\":"
   ]
  },
  {
   "cell_type": "code",
   "execution_count": 96,
   "metadata": {},
   "outputs": [
    {
     "data": {
      "text/plain": [
       "-0.16787752112043536"
      ]
     },
     "execution_count": 96,
     "metadata": {},
     "output_type": "execute_result"
    }
   ],
   "source": [
    "# Perform a correlation analysis\n",
    "correlation = country_agg['avg_university_rank'].corr(country_agg['avg_urban_population_percentage'])\n",
    "correlation"
   ]
  },
  {
   "cell_type": "markdown",
   "metadata": {},
   "source": [
    "Use Plotly.io to create graphs:"
   ]
  },
  {
   "cell_type": "code",
   "execution_count": 97,
   "metadata": {},
   "outputs": [
    {
     "data": {
      "application/vnd.plotly.v1+json": {
       "config": {
        "plotlyServerURL": "https://plot.ly"
       },
       "data": [
        {
         "mode": "markers",
         "text": [
          "Argentina",
          "Australia",
          "Belgium",
          "Canada",
          "China (Mainland)",
          "Denmark",
          "Finland",
          "France",
          "Germany",
          "Hong Kong SAR",
          "Ireland",
          "Japan",
          "Netherlands",
          "New Zealand",
          "Singapore",
          "South Korea",
          "Sweden",
          "Switzerland",
          "United Kingdom",
          "United States"
         ],
         "type": "scatter",
         "x": [
          85,
          45.833333333333336,
          79,
          50.25,
          41.75,
          68,
          91,
          43,
          74.5,
          40.5,
          98,
          53,
          59.5,
          81,
          12.5,
          65.5,
          89.33333333333333,
          49.25,
          47.72222222222222,
          43
         ],
         "y": [
          91.8,
          89.40000000000002,
          97.9,
          81.8,
          55.6,
          87.7,
          84.2,
          79.5,
          75.3,
          100,
          63.2,
          93.5,
          90.5,
          86.3,
          100,
          60.9,
          85.8,
          73.9,
          82.6,
          81.6
         ]
        }
       ],
       "layout": {
        "title": "Relationship between Urban Population Percentage and Average University Rank\nCorrelation: -0.17",
        "xaxis": {
         "title": "Average University Rank"
        },
        "yaxis": {
         "title": "Average % Urban Population"
        }
       }
      }
     },
     "metadata": {},
     "output_type": "display_data"
    }
   ],
   "source": [
    "subject = country_agg['avg_university_rank']\n",
    "score = country_agg['avg_urban_population_percentage']\n",
    "\n",
    "data = [dict(\n",
    "  type = 'scatter',\n",
    "  x = subject,\n",
    "  y = score,\n",
    "  mode = 'markers',\n",
    "  text = country_agg['country']\n",
    ")]\n",
    "\n",
    "layout = dict(\n",
    "    title = f'Relationship between Urban Population Percentage and Average University Rank\\nCorrelation: {correlation:.2f}',\n",
    "    xaxis = dict(\n",
    "        title = 'Average University Rank',\n",
    "                 ),\n",
    "    yaxis = dict(\n",
    "        title = 'Average % Urban Population',\n",
    "        )\n",
    ")\n",
    "\n",
    "fig_dict = dict(data=data, layout=layout)\n",
    "\n",
    "pio.show(fig_dict, validate=False)"
   ]
  },
  {
   "cell_type": "markdown",
   "metadata": {},
   "source": [
    "# Hypothesis: Higher female participation in the labor force is associated with better university rankings in a country."
   ]
  },
  {
   "cell_type": "code",
   "execution_count": 98,
   "metadata": {},
   "outputs": [
    {
     "data": {
      "text/html": [
       "<div>\n",
       "<style scoped>\n",
       "    .dataframe tbody tr th:only-of-type {\n",
       "        vertical-align: middle;\n",
       "    }\n",
       "\n",
       "    .dataframe tbody tr th {\n",
       "        vertical-align: top;\n",
       "    }\n",
       "\n",
       "    .dataframe thead th {\n",
       "        text-align: right;\n",
       "    }\n",
       "</style>\n",
       "<table border=\"1\" class=\"dataframe\">\n",
       "  <thead>\n",
       "    <tr style=\"text-align: right;\">\n",
       "      <th></th>\n",
       "      <th>country</th>\n",
       "      <th>rank_display</th>\n",
       "      <th>Labour force participation (female/male pop. %)</th>\n",
       "    </tr>\n",
       "  </thead>\n",
       "  <tbody>\n",
       "    <tr>\n",
       "      <th>0</th>\n",
       "      <td>United States</td>\n",
       "      <td>1.0</td>\n",
       "      <td>NaN</td>\n",
       "    </tr>\n",
       "    <tr>\n",
       "      <th>1</th>\n",
       "      <td>United States</td>\n",
       "      <td>2.0</td>\n",
       "      <td>NaN</td>\n",
       "    </tr>\n",
       "    <tr>\n",
       "      <th>2</th>\n",
       "      <td>United States</td>\n",
       "      <td>3.0</td>\n",
       "      <td>NaN</td>\n",
       "    </tr>\n",
       "    <tr>\n",
       "      <th>3</th>\n",
       "      <td>United Kingdom</td>\n",
       "      <td>4.0</td>\n",
       "      <td>NaN</td>\n",
       "    </tr>\n",
       "    <tr>\n",
       "      <th>4</th>\n",
       "      <td>United States</td>\n",
       "      <td>5.0</td>\n",
       "      <td>NaN</td>\n",
       "    </tr>\n",
       "  </tbody>\n",
       "</table>\n",
       "</div>"
      ],
      "text/plain": [
       "          country  rank_display  \\\n",
       "0   United States           1.0   \n",
       "1   United States           2.0   \n",
       "2   United States           3.0   \n",
       "3  United Kingdom           4.0   \n",
       "4   United States           5.0   \n",
       "\n",
       "   Labour force participation (female/male pop. %)  \n",
       "0                                              NaN  \n",
       "1                                              NaN  \n",
       "2                                              NaN  \n",
       "3                                              NaN  \n",
       "4                                              NaN  "
      ]
     },
     "execution_count": 98,
     "metadata": {},
     "output_type": "execute_result"
    }
   ],
   "source": [
    "hypothesis_3 = new_df[['country', 'rank_display', 'Labour force participation (female/male pop. %)']]\n",
    "hypothesis_3.head()"
   ]
  },
  {
   "cell_type": "markdown",
   "metadata": {},
   "source": [
    "#### Clean the data: handle missing values in relevant columns\n",
    " We will drop rows where 'rank_display' or 'Labour force participation (female/male pop. %)' is missing"
   ]
  },
  {
   "cell_type": "code",
   "execution_count": 99,
   "metadata": {},
   "outputs": [
    {
     "name": "stderr",
     "output_type": "stream",
     "text": [
      "/var/folders/l5/p6r57rz54js0nf3r65vn2xy80000gn/T/ipykernel_81677/3465186695.py:1: SettingWithCopyWarning:\n",
      "\n",
      "\n",
      "A value is trying to be set on a copy of a slice from a DataFrame\n",
      "\n",
      "See the caveats in the documentation: https://pandas.pydata.org/pandas-docs/stable/user_guide/indexing.html#returning-a-view-versus-a-copy\n",
      "\n"
     ]
    },
    {
     "data": {
      "text/html": [
       "<div>\n",
       "<style scoped>\n",
       "    .dataframe tbody tr th:only-of-type {\n",
       "        vertical-align: middle;\n",
       "    }\n",
       "\n",
       "    .dataframe tbody tr th {\n",
       "        vertical-align: top;\n",
       "    }\n",
       "\n",
       "    .dataframe thead th {\n",
       "        text-align: right;\n",
       "    }\n",
       "</style>\n",
       "<table border=\"1\" class=\"dataframe\">\n",
       "  <thead>\n",
       "    <tr style=\"text-align: right;\">\n",
       "      <th></th>\n",
       "      <th>country</th>\n",
       "      <th>rank_display</th>\n",
       "      <th>Labour force participation (female/male pop. %)</th>\n",
       "    </tr>\n",
       "  </thead>\n",
       "  <tbody>\n",
       "  </tbody>\n",
       "</table>\n",
       "</div>"
      ],
      "text/plain": [
       "Empty DataFrame\n",
       "Columns: [country, rank_display, Labour force participation (female/male pop. %)]\n",
       "Index: []"
      ]
     },
     "execution_count": 99,
     "metadata": {},
     "output_type": "execute_result"
    }
   ],
   "source": [
    "hypothesis_3.dropna(subset=['rank_display', 'Labour force participation (female/male pop. %)'], inplace=True)\n",
    "hypothesis_3.head()"
   ]
  },
  {
   "cell_type": "markdown",
   "metadata": {},
   "source": [
    "try to find info() in this dataframe:"
   ]
  },
  {
   "cell_type": "code",
   "execution_count": 100,
   "metadata": {},
   "outputs": [
    {
     "name": "stdout",
     "output_type": "stream",
     "text": [
      "<class 'pandas.core.series.Series'>\n",
      "Index: 0 entries\n",
      "Series name: Labour force participation (female/male pop. %)\n",
      "Non-Null Count  Dtype  \n",
      "--------------  -----  \n",
      "0 non-null      float64\n",
      "dtypes: float64(1)\n",
      "memory usage: 0.0 bytes\n"
     ]
    }
   ],
   "source": [
    "hypothesis_3['Labour force participation (female/male pop. %)'].info()"
   ]
  },
  {
   "cell_type": "markdown",
   "metadata": {},
   "source": [
    "So we can not do this Hypothesis, because we don't have any values in 'Labour force participation (female/male pop. %)' column."
   ]
  },
  {
   "cell_type": "markdown",
   "metadata": {},
   "source": [
    "# Hypothesis: Countries with higher internet penetration rates have better-ranked universities."
   ]
  },
  {
   "cell_type": "code",
   "execution_count": 101,
   "metadata": {},
   "outputs": [
    {
     "data": {
      "text/html": [
       "<div>\n",
       "<style scoped>\n",
       "    .dataframe tbody tr th:only-of-type {\n",
       "        vertical-align: middle;\n",
       "    }\n",
       "\n",
       "    .dataframe tbody tr th {\n",
       "        vertical-align: top;\n",
       "    }\n",
       "\n",
       "    .dataframe thead th {\n",
       "        text-align: right;\n",
       "    }\n",
       "</style>\n",
       "<table border=\"1\" class=\"dataframe\">\n",
       "  <thead>\n",
       "    <tr style=\"text-align: right;\">\n",
       "      <th></th>\n",
       "      <th>country</th>\n",
       "      <th>rank_display</th>\n",
       "      <th>Individuals using the Internet (per 100 inhabitants)</th>\n",
       "    </tr>\n",
       "  </thead>\n",
       "  <tbody>\n",
       "    <tr>\n",
       "      <th>0</th>\n",
       "      <td>United States</td>\n",
       "      <td>1.0</td>\n",
       "      <td>1513.0</td>\n",
       "    </tr>\n",
       "    <tr>\n",
       "      <th>1</th>\n",
       "      <td>United States</td>\n",
       "      <td>2.0</td>\n",
       "      <td>1513.0</td>\n",
       "    </tr>\n",
       "    <tr>\n",
       "      <th>2</th>\n",
       "      <td>United States</td>\n",
       "      <td>3.0</td>\n",
       "      <td>1513.0</td>\n",
       "    </tr>\n",
       "    <tr>\n",
       "      <th>3</th>\n",
       "      <td>United Kingdom</td>\n",
       "      <td>4.0</td>\n",
       "      <td>102.0</td>\n",
       "    </tr>\n",
       "    <tr>\n",
       "      <th>4</th>\n",
       "      <td>United States</td>\n",
       "      <td>5.0</td>\n",
       "      <td>1513.0</td>\n",
       "    </tr>\n",
       "  </tbody>\n",
       "</table>\n",
       "</div>"
      ],
      "text/plain": [
       "          country  rank_display  \\\n",
       "0   United States           1.0   \n",
       "1   United States           2.0   \n",
       "2   United States           3.0   \n",
       "3  United Kingdom           4.0   \n",
       "4   United States           5.0   \n",
       "\n",
       "   Individuals using the Internet (per 100 inhabitants)  \n",
       "0                                             1513.0     \n",
       "1                                             1513.0     \n",
       "2                                             1513.0     \n",
       "3                                              102.0     \n",
       "4                                             1513.0     "
      ]
     },
     "execution_count": 101,
     "metadata": {},
     "output_type": "execute_result"
    }
   ],
   "source": [
    "hypothesis_4 = new_df[['country', 'rank_display', 'Individuals using the Internet (per 100 inhabitants)']]\n",
    "hypothesis_4.head()"
   ]
  },
  {
   "cell_type": "markdown",
   "metadata": {},
   "source": [
    "#### Clean the data: handle missing values in relevant columns\n",
    " We will drop rows where 'rank_display' or 'Individuals using the Internet (per 100 inhabitants)' is missing"
   ]
  },
  {
   "cell_type": "code",
   "execution_count": 102,
   "metadata": {},
   "outputs": [
    {
     "name": "stderr",
     "output_type": "stream",
     "text": [
      "/var/folders/l5/p6r57rz54js0nf3r65vn2xy80000gn/T/ipykernel_81677/3826405503.py:2: SettingWithCopyWarning:\n",
      "\n",
      "\n",
      "A value is trying to be set on a copy of a slice from a DataFrame\n",
      "\n",
      "See the caveats in the documentation: https://pandas.pydata.org/pandas-docs/stable/user_guide/indexing.html#returning-a-view-versus-a-copy\n",
      "\n"
     ]
    },
    {
     "data": {
      "text/html": [
       "<div>\n",
       "<style scoped>\n",
       "    .dataframe tbody tr th:only-of-type {\n",
       "        vertical-align: middle;\n",
       "    }\n",
       "\n",
       "    .dataframe tbody tr th {\n",
       "        vertical-align: top;\n",
       "    }\n",
       "\n",
       "    .dataframe thead th {\n",
       "        text-align: right;\n",
       "    }\n",
       "</style>\n",
       "<table border=\"1\" class=\"dataframe\">\n",
       "  <thead>\n",
       "    <tr style=\"text-align: right;\">\n",
       "      <th></th>\n",
       "      <th>country</th>\n",
       "      <th>rank_display</th>\n",
       "      <th>Individuals using the Internet (per 100 inhabitants)</th>\n",
       "    </tr>\n",
       "  </thead>\n",
       "  <tbody>\n",
       "    <tr>\n",
       "      <th>0</th>\n",
       "      <td>United States</td>\n",
       "      <td>1.0</td>\n",
       "      <td>1513.0</td>\n",
       "    </tr>\n",
       "    <tr>\n",
       "      <th>1</th>\n",
       "      <td>United States</td>\n",
       "      <td>2.0</td>\n",
       "      <td>1513.0</td>\n",
       "    </tr>\n",
       "    <tr>\n",
       "      <th>2</th>\n",
       "      <td>United States</td>\n",
       "      <td>3.0</td>\n",
       "      <td>1513.0</td>\n",
       "    </tr>\n",
       "    <tr>\n",
       "      <th>3</th>\n",
       "      <td>United Kingdom</td>\n",
       "      <td>4.0</td>\n",
       "      <td>102.0</td>\n",
       "    </tr>\n",
       "    <tr>\n",
       "      <th>4</th>\n",
       "      <td>United States</td>\n",
       "      <td>5.0</td>\n",
       "      <td>1513.0</td>\n",
       "    </tr>\n",
       "  </tbody>\n",
       "</table>\n",
       "</div>"
      ],
      "text/plain": [
       "          country  rank_display  \\\n",
       "0   United States           1.0   \n",
       "1   United States           2.0   \n",
       "2   United States           3.0   \n",
       "3  United Kingdom           4.0   \n",
       "4   United States           5.0   \n",
       "\n",
       "   Individuals using the Internet (per 100 inhabitants)  \n",
       "0                                             1513.0     \n",
       "1                                             1513.0     \n",
       "2                                             1513.0     \n",
       "3                                              102.0     \n",
       "4                                             1513.0     "
      ]
     },
     "execution_count": 102,
     "metadata": {},
     "output_type": "execute_result"
    }
   ],
   "source": [
    "# Clean the data: handle missing values in relevant columns\n",
    "hypothesis_4.dropna(subset=['rank_display', 'Individuals using the Internet (per 100 inhabitants)'], inplace=True)\n",
    "hypothesis_4.head()"
   ]
  },
  {
   "cell_type": "markdown",
   "metadata": {},
   "source": [
    "Now we should reindex the dataframe"
   ]
  },
  {
   "cell_type": "code",
   "execution_count": 103,
   "metadata": {},
   "outputs": [
    {
     "data": {
      "text/html": [
       "<div>\n",
       "<style scoped>\n",
       "    .dataframe tbody tr th:only-of-type {\n",
       "        vertical-align: middle;\n",
       "    }\n",
       "\n",
       "    .dataframe tbody tr th {\n",
       "        vertical-align: top;\n",
       "    }\n",
       "\n",
       "    .dataframe thead th {\n",
       "        text-align: right;\n",
       "    }\n",
       "</style>\n",
       "<table border=\"1\" class=\"dataframe\">\n",
       "  <thead>\n",
       "    <tr style=\"text-align: right;\">\n",
       "      <th></th>\n",
       "      <th>country</th>\n",
       "      <th>rank_display</th>\n",
       "      <th>Individuals using the Internet (per 100 inhabitants)</th>\n",
       "    </tr>\n",
       "  </thead>\n",
       "  <tbody>\n",
       "    <tr>\n",
       "      <th>0</th>\n",
       "      <td>United States</td>\n",
       "      <td>1.0</td>\n",
       "      <td>1513.0</td>\n",
       "    </tr>\n",
       "    <tr>\n",
       "      <th>1</th>\n",
       "      <td>United States</td>\n",
       "      <td>2.0</td>\n",
       "      <td>1513.0</td>\n",
       "    </tr>\n",
       "    <tr>\n",
       "      <th>2</th>\n",
       "      <td>United States</td>\n",
       "      <td>3.0</td>\n",
       "      <td>1513.0</td>\n",
       "    </tr>\n",
       "    <tr>\n",
       "      <th>3</th>\n",
       "      <td>United Kingdom</td>\n",
       "      <td>4.0</td>\n",
       "      <td>102.0</td>\n",
       "    </tr>\n",
       "    <tr>\n",
       "      <th>4</th>\n",
       "      <td>United States</td>\n",
       "      <td>5.0</td>\n",
       "      <td>1513.0</td>\n",
       "    </tr>\n",
       "  </tbody>\n",
       "</table>\n",
       "</div>"
      ],
      "text/plain": [
       "          country  rank_display  \\\n",
       "0   United States           1.0   \n",
       "1   United States           2.0   \n",
       "2   United States           3.0   \n",
       "3  United Kingdom           4.0   \n",
       "4   United States           5.0   \n",
       "\n",
       "   Individuals using the Internet (per 100 inhabitants)  \n",
       "0                                             1513.0     \n",
       "1                                             1513.0     \n",
       "2                                             1513.0     \n",
       "3                                              102.0     \n",
       "4                                             1513.0     "
      ]
     },
     "execution_count": 103,
     "metadata": {},
     "output_type": "execute_result"
    }
   ],
   "source": [
    "hypothesis_4.index = range(len(hypothesis_4))\n",
    "hypothesis_4.head()"
   ]
  },
  {
   "cell_type": "code",
   "execution_count": 104,
   "metadata": {},
   "outputs": [
    {
     "data": {
      "text/html": [
       "<div>\n",
       "<style scoped>\n",
       "    .dataframe tbody tr th:only-of-type {\n",
       "        vertical-align: middle;\n",
       "    }\n",
       "\n",
       "    .dataframe tbody tr th {\n",
       "        vertical-align: top;\n",
       "    }\n",
       "\n",
       "    .dataframe thead th {\n",
       "        text-align: right;\n",
       "    }\n",
       "</style>\n",
       "<table border=\"1\" class=\"dataframe\">\n",
       "  <thead>\n",
       "    <tr style=\"text-align: right;\">\n",
       "      <th></th>\n",
       "      <th>country</th>\n",
       "      <th>rank_display</th>\n",
       "      <th>Individuals using the Internet (per 100 inhabitants)</th>\n",
       "    </tr>\n",
       "  </thead>\n",
       "  <tbody>\n",
       "    <tr>\n",
       "      <th>0</th>\n",
       "      <td>Argentina</td>\n",
       "      <td>85.000000</td>\n",
       "      <td>256.0</td>\n",
       "    </tr>\n",
       "    <tr>\n",
       "      <th>1</th>\n",
       "      <td>Australia</td>\n",
       "      <td>45.833333</td>\n",
       "      <td>948.0</td>\n",
       "    </tr>\n",
       "    <tr>\n",
       "      <th>2</th>\n",
       "      <td>Belgium</td>\n",
       "      <td>79.000000</td>\n",
       "      <td>37.0</td>\n",
       "    </tr>\n",
       "    <tr>\n",
       "      <th>3</th>\n",
       "      <td>Canada</td>\n",
       "      <td>50.250000</td>\n",
       "      <td>122.0</td>\n",
       "    </tr>\n",
       "    <tr>\n",
       "      <th>4</th>\n",
       "      <td>China (Mainland)</td>\n",
       "      <td>41.750000</td>\n",
       "      <td>1080.0</td>\n",
       "    </tr>\n",
       "    <tr>\n",
       "      <th>5</th>\n",
       "      <td>Denmark</td>\n",
       "      <td>68.000000</td>\n",
       "      <td>47.0</td>\n",
       "    </tr>\n",
       "    <tr>\n",
       "      <th>6</th>\n",
       "      <td>Finland</td>\n",
       "      <td>91.000000</td>\n",
       "      <td>36.0</td>\n",
       "    </tr>\n",
       "    <tr>\n",
       "      <th>7</th>\n",
       "      <td>France</td>\n",
       "      <td>43.000000</td>\n",
       "      <td>278.0</td>\n",
       "    </tr>\n",
       "    <tr>\n",
       "      <th>8</th>\n",
       "      <td>Germany</td>\n",
       "      <td>74.500000</td>\n",
       "      <td>116.0</td>\n",
       "    </tr>\n",
       "    <tr>\n",
       "      <th>9</th>\n",
       "      <td>Hong Kong SAR</td>\n",
       "      <td>40.500000</td>\n",
       "      <td>64.0</td>\n",
       "    </tr>\n",
       "    <tr>\n",
       "      <th>10</th>\n",
       "      <td>Ireland</td>\n",
       "      <td>98.000000</td>\n",
       "      <td>50.0</td>\n",
       "    </tr>\n",
       "    <tr>\n",
       "      <th>11</th>\n",
       "      <td>Japan</td>\n",
       "      <td>53.000000</td>\n",
       "      <td>404.0</td>\n",
       "    </tr>\n",
       "    <tr>\n",
       "      <th>12</th>\n",
       "      <td>Netherlands</td>\n",
       "      <td>59.500000</td>\n",
       "      <td>40.0</td>\n",
       "    </tr>\n",
       "    <tr>\n",
       "      <th>13</th>\n",
       "      <td>New Zealand</td>\n",
       "      <td>81.000000</td>\n",
       "      <td>199.0</td>\n",
       "    </tr>\n",
       "    <tr>\n",
       "      <th>14</th>\n",
       "      <td>Singapore</td>\n",
       "      <td>12.500000</td>\n",
       "      <td>293.0</td>\n",
       "    </tr>\n",
       "    <tr>\n",
       "      <th>15</th>\n",
       "      <td>South Korea</td>\n",
       "      <td>65.500000</td>\n",
       "      <td>78.0</td>\n",
       "    </tr>\n",
       "    <tr>\n",
       "      <th>16</th>\n",
       "      <td>Sweden</td>\n",
       "      <td>89.333333</td>\n",
       "      <td>54.0</td>\n",
       "    </tr>\n",
       "    <tr>\n",
       "      <th>17</th>\n",
       "      <td>Switzerland</td>\n",
       "      <td>49.250000</td>\n",
       "      <td>74.0</td>\n",
       "    </tr>\n",
       "    <tr>\n",
       "      <th>18</th>\n",
       "      <td>United Kingdom</td>\n",
       "      <td>47.722222</td>\n",
       "      <td>102.0</td>\n",
       "    </tr>\n",
       "    <tr>\n",
       "      <th>19</th>\n",
       "      <td>United States</td>\n",
       "      <td>43.000000</td>\n",
       "      <td>1513.0</td>\n",
       "    </tr>\n",
       "  </tbody>\n",
       "</table>\n",
       "</div>"
      ],
      "text/plain": [
       "             country  rank_display  \\\n",
       "0          Argentina     85.000000   \n",
       "1          Australia     45.833333   \n",
       "2            Belgium     79.000000   \n",
       "3             Canada     50.250000   \n",
       "4   China (Mainland)     41.750000   \n",
       "5            Denmark     68.000000   \n",
       "6            Finland     91.000000   \n",
       "7             France     43.000000   \n",
       "8            Germany     74.500000   \n",
       "9      Hong Kong SAR     40.500000   \n",
       "10           Ireland     98.000000   \n",
       "11             Japan     53.000000   \n",
       "12       Netherlands     59.500000   \n",
       "13       New Zealand     81.000000   \n",
       "14         Singapore     12.500000   \n",
       "15       South Korea     65.500000   \n",
       "16            Sweden     89.333333   \n",
       "17       Switzerland     49.250000   \n",
       "18    United Kingdom     47.722222   \n",
       "19     United States     43.000000   \n",
       "\n",
       "    Individuals using the Internet (per 100 inhabitants)  \n",
       "0                                               256.0     \n",
       "1                                               948.0     \n",
       "2                                                37.0     \n",
       "3                                               122.0     \n",
       "4                                              1080.0     \n",
       "5                                                47.0     \n",
       "6                                                36.0     \n",
       "7                                               278.0     \n",
       "8                                               116.0     \n",
       "9                                                64.0     \n",
       "10                                               50.0     \n",
       "11                                              404.0     \n",
       "12                                               40.0     \n",
       "13                                              199.0     \n",
       "14                                              293.0     \n",
       "15                                               78.0     \n",
       "16                                               54.0     \n",
       "17                                               74.0     \n",
       "18                                              102.0     \n",
       "19                                             1513.0     "
      ]
     },
     "execution_count": 104,
     "metadata": {},
     "output_type": "execute_result"
    }
   ],
   "source": [
    "# Aggregate the data by country\n",
    "country_agg = hypothesis_4.groupby('country').agg({\n",
    "    'rank_display': 'mean',  # Average university rank\n",
    "    'Individuals using the Internet (per 100 inhabitants)': 'mean'  # Average internet penetration rate\n",
    "}).reset_index()\n",
    "country_agg"
   ]
  },
  {
   "cell_type": "code",
   "execution_count": 105,
   "metadata": {},
   "outputs": [],
   "source": [
    "# Rename columns for clarity\n",
    "country_agg.columns = ['country', 'avg_university_rank', 'avg_internet_penetration']\n"
   ]
  },
  {
   "cell_type": "code",
   "execution_count": 106,
   "metadata": {},
   "outputs": [
    {
     "data": {
      "text/plain": [
       "-0.42014493308889106"
      ]
     },
     "execution_count": 106,
     "metadata": {},
     "output_type": "execute_result"
    }
   ],
   "source": [
    "# Perform a correlation analysis\n",
    "correlation = country_agg['avg_university_rank'].corr(country_agg['avg_internet_penetration'])\n",
    "correlation"
   ]
  },
  {
   "cell_type": "markdown",
   "metadata": {},
   "source": [
    "Use Plotly.io to create graphs:"
   ]
  },
  {
   "cell_type": "code",
   "execution_count": 107,
   "metadata": {},
   "outputs": [
    {
     "data": {
      "application/vnd.plotly.v1+json": {
       "config": {
        "plotlyServerURL": "https://plot.ly"
       },
       "data": [
        {
         "mode": "markers",
         "text": [
          "Argentina",
          "Australia",
          "Belgium",
          "Canada",
          "China (Mainland)",
          "Denmark",
          "Finland",
          "France",
          "Germany",
          "Hong Kong SAR",
          "Ireland",
          "Japan",
          "Netherlands",
          "New Zealand",
          "Singapore",
          "South Korea",
          "Sweden",
          "Switzerland",
          "United Kingdom",
          "United States"
         ],
         "type": "scatter",
         "x": [
          85,
          45.833333333333336,
          79,
          50.25,
          41.75,
          68,
          91,
          43,
          74.5,
          40.5,
          98,
          53,
          59.5,
          81,
          12.5,
          65.5,
          89.33333333333333,
          49.25,
          47.72222222222222,
          43
         ],
         "y": [
          256,
          948,
          37,
          122,
          1080,
          47,
          36,
          278,
          116,
          64,
          50,
          404,
          40,
          199,
          293,
          78,
          54,
          74,
          102,
          1513
         ]
        }
       ],
       "layout": {
        "title": "Relationship between Internet Penetration Rate and Average University Rank\nCorrelation: -0.42",
        "xaxis": {
         "title": "Average University Rank"
        },
        "yaxis": {
         "title": "Average Internet Penetration Rate"
        }
       }
      }
     },
     "metadata": {},
     "output_type": "display_data"
    }
   ],
   "source": [
    "subject = country_agg['avg_university_rank']\n",
    "score = country_agg['avg_internet_penetration']\n",
    "\n",
    "data = [dict(\n",
    "  type = 'scatter',\n",
    "  x = subject,\n",
    "  y = score,\n",
    "  mode = 'markers',\n",
    "  text = country_agg['country']\n",
    ")]\n",
    "\n",
    "layout = dict(\n",
    "    title = f'Relationship between Internet Penetration Rate and Average University Rank\\nCorrelation: {correlation:.2f}',\n",
    "    xaxis = dict(\n",
    "        title = 'Average University Rank',\n",
    "                 ),\n",
    "    yaxis = dict(\n",
    "        title = 'Average Internet Penetration Rate',\n",
    "        )\n",
    ")\n",
    "\n",
    "fig_dict = dict(data=data, layout=layout)\n",
    "\n",
    "pio.show(fig_dict, validate=False)"
   ]
  },
  {
   "cell_type": "markdown",
   "metadata": {},
   "source": [
    "It seems that \"Singapore\" is an outlier and so we remove it :"
   ]
  },
  {
   "cell_type": "code",
   "execution_count": 108,
   "metadata": {},
   "outputs": [
    {
     "data": {
      "application/vnd.plotly.v1+json": {
       "config": {
        "plotlyServerURL": "https://plot.ly"
       },
       "data": [
        {
         "mode": "markers",
         "text": [
          "Argentina",
          "Australia",
          "Belgium",
          "Canada",
          "China (Mainland)",
          "Denmark",
          "Finland",
          "France",
          "Germany",
          "Hong Kong SAR",
          "Ireland",
          "Japan",
          "Netherlands",
          "New Zealand",
          "Singapore",
          "South Korea",
          "Sweden",
          "Switzerland",
          "United Kingdom",
          "United States"
         ],
         "type": "scatter",
         "x": [
          85,
          45.833333333333336,
          79,
          50.25,
          41.75,
          68,
          91,
          43,
          74.5,
          40.5,
          98,
          53,
          59.5,
          81,
          12.5,
          65.5,
          89.33333333333333,
          49.25,
          47.72222222222222,
          43
         ],
         "y": [
          256,
          948,
          37,
          122,
          1080,
          47,
          36,
          278,
          116,
          64,
          50,
          404,
          40,
          199,
          293,
          78,
          54,
          74,
          102,
          1513
         ]
        }
       ],
       "layout": {
        "title": "Relationship between Internet Penetration Rate and Average University Rank\nCorrelation: -0.42",
        "xaxis": {
         "range": [
          40,
          100
         ],
         "title": "Average University Rank"
        },
        "yaxis": {
         "title": "Average Internet Penetration Rate"
        }
       }
      }
     },
     "metadata": {},
     "output_type": "display_data"
    }
   ],
   "source": [
    "subject = country_agg['avg_university_rank']\n",
    "score = country_agg['avg_internet_penetration']\n",
    "\n",
    "data = [dict(\n",
    "  type = 'scatter',\n",
    "  x = subject,\n",
    "  y = score,\n",
    "  mode = 'markers',\n",
    "  text = country_agg['country']\n",
    ")]\n",
    "\n",
    "layout = dict(\n",
    "    title = f'Relationship between Internet Penetration Rate and Average University Rank\\nCorrelation: {correlation:.2f}',\n",
    "    xaxis = dict(\n",
    "        title = 'Average University Rank',\n",
    "        range = [40, 100]\n",
    "                 ),\n",
    "    yaxis = dict(\n",
    "        title = 'Average Internet Penetration Rate',\n",
    "        )\n",
    ")\n",
    "\n",
    "fig_dict = dict(data=data, layout=layout)\n",
    "\n",
    "pio.show(fig_dict, validate=False)"
   ]
  },
  {
   "cell_type": "markdown",
   "metadata": {},
   "source": [
    "# Hypothesis: Countries with higher government expenditure on education as a percentage of GDP have more universities in the top 100.\n",
    "\n",
    "Create a new datafram for this hypothesis"
   ]
  },
  {
   "cell_type": "code",
   "execution_count": 109,
   "metadata": {},
   "outputs": [],
   "source": [
    "# create a dataframe with the relevant columns\n",
    "\n",
    "def clean_data_dan(new_df):\n",
    "    df_edu = new_df.copy()\n",
    "    student_table = df_edu[['country', 'international_students', 'rank_display', 'score', 'type', 'Population in thousands (2017)', 'Sex ratio (m per 100 f, 2017)','GDP per capita (current US$)']]\n",
    "    student_table['international_students'].replace(',', '', regex=True, inplace=True)\n",
    "    student_table['international_students'] = pd.to_numeric(student_table['international_students'], errors='coerce')\n",
    "    student_table = student_table.groupby('country').agg({'international_students': 'sum', 'score': 'mean'})\n",
    "    student_table.rename(columns={'international_students': 'total_international_students', 'score': 'average_score'}, inplace=True)\n",
    "    country_table = df_edu.groupby('country').agg({'rank_display': 'count'})\n",
    "    country_table.rename(columns={'rank_display': 'total_universities ranked in 100'}, inplace= True)\n",
    "    country_table = country_table.merge(student_table, on='country', how='inner')\n",
    "    country_table['total_international_students'] = country_table['total_international_students'].astype(int)\n",
    "    country_table['total_universities ranked in 100'] = country_table['total_universities ranked in 100'].astype(int)\n",
    "    country_table = country_table[['total_universities ranked in 100', 'total_international_students', 'average_score']]\n",
    "    country_table['average_score'] = country_table['average_score'].round(2)\n",
    "    new_country_table = merge_dataset(country_table, country_profile, key='country')\n",
    "    pd.set_option('display.max_columns', None)\n",
    "    final_df = new_country_table[['country', 'total_universities ranked in 100', 'total_international_students', 'average_score', 'Region', 'Population in thousands (2017)', 'GDP per capita (current US$)', 'Sex ratio (m per 100 f, 2017)', 'Education: Government expenditure (% of GDP)', 'Fertility rate, total (live births per woman)']]\n",
    "    final_df= final_df[(final_df['Population in thousands (2017)'] >= 0) & (final_df['Education: Government expenditure (% of GDP)'] >= 0)]\n",
    "    return final_df\n"
   ]
  },
  {
   "cell_type": "code",
   "execution_count": 116,
   "metadata": {},
   "outputs": [
    {
     "name": "stderr",
     "output_type": "stream",
     "text": [
      "/var/folders/l5/p6r57rz54js0nf3r65vn2xy80000gn/T/ipykernel_81677/3950428858.py:6: FutureWarning:\n",
      "\n",
      "A value is trying to be set on a copy of a DataFrame or Series through chained assignment using an inplace method.\n",
      "The behavior will change in pandas 3.0. This inplace method will never work because the intermediate object on which we are setting values always behaves as a copy.\n",
      "\n",
      "For example, when doing 'df[col].method(value, inplace=True)', try using 'df.method({col: value}, inplace=True)' or df[col] = df[col].method(value) instead, to perform the operation inplace on the original object.\n",
      "\n",
      "\n",
      "\n",
      "/var/folders/l5/p6r57rz54js0nf3r65vn2xy80000gn/T/ipykernel_81677/3950428858.py:6: SettingWithCopyWarning:\n",
      "\n",
      "\n",
      "A value is trying to be set on a copy of a slice from a DataFrame\n",
      "\n",
      "See the caveats in the documentation: https://pandas.pydata.org/pandas-docs/stable/user_guide/indexing.html#returning-a-view-versus-a-copy\n",
      "\n",
      "/var/folders/l5/p6r57rz54js0nf3r65vn2xy80000gn/T/ipykernel_81677/3950428858.py:7: SettingWithCopyWarning:\n",
      "\n",
      "\n",
      "A value is trying to be set on a copy of a slice from a DataFrame.\n",
      "Try using .loc[row_indexer,col_indexer] = value instead\n",
      "\n",
      "See the caveats in the documentation: https://pandas.pydata.org/pandas-docs/stable/user_guide/indexing.html#returning-a-view-versus-a-copy\n",
      "\n"
     ]
    },
    {
     "data": {
      "text/html": [
       "<div>\n",
       "<style scoped>\n",
       "    .dataframe tbody tr th:only-of-type {\n",
       "        vertical-align: middle;\n",
       "    }\n",
       "\n",
       "    .dataframe tbody tr th {\n",
       "        vertical-align: top;\n",
       "    }\n",
       "\n",
       "    .dataframe thead th {\n",
       "        text-align: right;\n",
       "    }\n",
       "</style>\n",
       "<table border=\"1\" class=\"dataframe\">\n",
       "  <thead>\n",
       "    <tr style=\"text-align: right;\">\n",
       "      <th></th>\n",
       "      <th>country</th>\n",
       "      <th>total_universities ranked in 100</th>\n",
       "      <th>total_international_students</th>\n",
       "      <th>average_score</th>\n",
       "      <th>Region</th>\n",
       "      <th>Population in thousands (2017)</th>\n",
       "      <th>GDP per capita (current US$)</th>\n",
       "      <th>Sex ratio (m per 100 f, 2017)</th>\n",
       "      <th>Education: Government expenditure (% of GDP)</th>\n",
       "      <th>Fertility rate, total (live births per woman)</th>\n",
       "    </tr>\n",
       "  </thead>\n",
       "  <tbody>\n",
       "    <tr>\n",
       "      <th>0</th>\n",
       "      <td>Argentina</td>\n",
       "      <td>1</td>\n",
       "      <td>0</td>\n",
       "      <td>65.80</td>\n",
       "      <td>SouthAmerica</td>\n",
       "      <td>44271.0</td>\n",
       "      <td>14564.5</td>\n",
       "      <td>95.9</td>\n",
       "      <td>5.3</td>\n",
       "      <td>2.3</td>\n",
       "    </tr>\n",
       "    <tr>\n",
       "      <th>1</th>\n",
       "      <td>Australia</td>\n",
       "      <td>6</td>\n",
       "      <td>0</td>\n",
       "      <td>78.62</td>\n",
       "      <td>Oceania</td>\n",
       "      <td>24451.0</td>\n",
       "      <td>51352.2</td>\n",
       "      <td>99.3</td>\n",
       "      <td>5.2</td>\n",
       "      <td>1.9</td>\n",
       "    </tr>\n",
       "    <tr>\n",
       "      <th>2</th>\n",
       "      <td>Belgium</td>\n",
       "      <td>1</td>\n",
       "      <td>0</td>\n",
       "      <td>67.90</td>\n",
       "      <td>WesternEurope</td>\n",
       "      <td>11429.0</td>\n",
       "      <td>40277.8</td>\n",
       "      <td>97.3</td>\n",
       "      <td>6.6</td>\n",
       "      <td>1.8</td>\n",
       "    </tr>\n",
       "    <tr>\n",
       "      <th>3</th>\n",
       "      <td>Canada</td>\n",
       "      <td>4</td>\n",
       "      <td>0</td>\n",
       "      <td>77.47</td>\n",
       "      <td>NorthernAmerica</td>\n",
       "      <td>36624.0</td>\n",
       "      <td>43205.6</td>\n",
       "      <td>98.5</td>\n",
       "      <td>5.3</td>\n",
       "      <td>1.6</td>\n",
       "    </tr>\n",
       "    <tr>\n",
       "      <th>5</th>\n",
       "      <td>Denmark</td>\n",
       "      <td>1</td>\n",
       "      <td>0</td>\n",
       "      <td>70.20</td>\n",
       "      <td>NorthernEurope</td>\n",
       "      <td>5734.0</td>\n",
       "      <td>53149.3</td>\n",
       "      <td>99.0</td>\n",
       "      <td>8.6</td>\n",
       "      <td>1.7</td>\n",
       "    </tr>\n",
       "    <tr>\n",
       "      <th>6</th>\n",
       "      <td>Finland</td>\n",
       "      <td>1</td>\n",
       "      <td>0</td>\n",
       "      <td>64.70</td>\n",
       "      <td>NorthernEurope</td>\n",
       "      <td>5523.0</td>\n",
       "      <td>42148.1</td>\n",
       "      <td>97.2</td>\n",
       "      <td>7.2</td>\n",
       "      <td>1.8</td>\n",
       "    </tr>\n",
       "    <tr>\n",
       "      <th>7</th>\n",
       "      <td>France</td>\n",
       "      <td>2</td>\n",
       "      <td>374</td>\n",
       "      <td>74.90</td>\n",
       "      <td>WesternEurope</td>\n",
       "      <td>64980.0</td>\n",
       "      <td>36304.2</td>\n",
       "      <td>96.7</td>\n",
       "      <td>5.5</td>\n",
       "      <td>2.0</td>\n",
       "    </tr>\n",
       "    <tr>\n",
       "      <th>8</th>\n",
       "      <td>Germany</td>\n",
       "      <td>4</td>\n",
       "      <td>0</td>\n",
       "      <td>68.78</td>\n",
       "      <td>WesternEurope</td>\n",
       "      <td>82114.0</td>\n",
       "      <td>41686.2</td>\n",
       "      <td>97.0</td>\n",
       "      <td>5.0</td>\n",
       "      <td>1.4</td>\n",
       "    </tr>\n",
       "    <tr>\n",
       "      <th>9</th>\n",
       "      <td>Hong Kong SAR</td>\n",
       "      <td>4</td>\n",
       "      <td>0</td>\n",
       "      <td>80.18</td>\n",
       "      <td>EasternAsia</td>\n",
       "      <td>7365.0</td>\n",
       "      <td>42431.0</td>\n",
       "      <td>85.1</td>\n",
       "      <td>3.3</td>\n",
       "      <td>1.2</td>\n",
       "    </tr>\n",
       "    <tr>\n",
       "      <th>10</th>\n",
       "      <td>Ireland</td>\n",
       "      <td>1</td>\n",
       "      <td>0</td>\n",
       "      <td>62.80</td>\n",
       "      <td>NorthernEurope</td>\n",
       "      <td>4762.0</td>\n",
       "      <td>60513.6</td>\n",
       "      <td>98.4</td>\n",
       "      <td>5.3</td>\n",
       "      <td>2.0</td>\n",
       "    </tr>\n",
       "    <tr>\n",
       "      <th>11</th>\n",
       "      <td>Japan</td>\n",
       "      <td>5</td>\n",
       "      <td>0</td>\n",
       "      <td>75.92</td>\n",
       "      <td>EasternAsia</td>\n",
       "      <td>127484.0</td>\n",
       "      <td>34628.7</td>\n",
       "      <td>95.4</td>\n",
       "      <td>3.6</td>\n",
       "      <td>1.4</td>\n",
       "    </tr>\n",
       "    <tr>\n",
       "      <th>12</th>\n",
       "      <td>Netherlands</td>\n",
       "      <td>2</td>\n",
       "      <td>0</td>\n",
       "      <td>73.20</td>\n",
       "      <td>WesternEurope</td>\n",
       "      <td>17036.0</td>\n",
       "      <td>44332.1</td>\n",
       "      <td>99.0</td>\n",
       "      <td>5.5</td>\n",
       "      <td>1.7</td>\n",
       "    </tr>\n",
       "    <tr>\n",
       "      <th>13</th>\n",
       "      <td>New Zealand</td>\n",
       "      <td>1</td>\n",
       "      <td>0</td>\n",
       "      <td>67.30</td>\n",
       "      <td>Oceania</td>\n",
       "      <td>4706.0</td>\n",
       "      <td>38294.3</td>\n",
       "      <td>96.7</td>\n",
       "      <td>6.4</td>\n",
       "      <td>2.0</td>\n",
       "    </tr>\n",
       "    <tr>\n",
       "      <th>14</th>\n",
       "      <td>Singapore</td>\n",
       "      <td>2</td>\n",
       "      <td>0</td>\n",
       "      <td>91.45</td>\n",
       "      <td>South-easternAsia</td>\n",
       "      <td>5709.0</td>\n",
       "      <td>52239.0</td>\n",
       "      <td>97.7</td>\n",
       "      <td>2.9</td>\n",
       "      <td>1.2</td>\n",
       "    </tr>\n",
       "    <tr>\n",
       "      <th>16</th>\n",
       "      <td>Sweden</td>\n",
       "      <td>3</td>\n",
       "      <td>0</td>\n",
       "      <td>65.00</td>\n",
       "      <td>NorthernEurope</td>\n",
       "      <td>9911.0</td>\n",
       "      <td>50687.5</td>\n",
       "      <td>100.2</td>\n",
       "      <td>7.7</td>\n",
       "      <td>1.9</td>\n",
       "    </tr>\n",
       "    <tr>\n",
       "      <th>17</th>\n",
       "      <td>Switzerland</td>\n",
       "      <td>4</td>\n",
       "      <td>0</td>\n",
       "      <td>79.18</td>\n",
       "      <td>WesternEurope</td>\n",
       "      <td>8476.0</td>\n",
       "      <td>80831.1</td>\n",
       "      <td>98.2</td>\n",
       "      <td>5.1</td>\n",
       "      <td>1.5</td>\n",
       "    </tr>\n",
       "    <tr>\n",
       "      <th>19</th>\n",
       "      <td>United Kingdom</td>\n",
       "      <td>18</td>\n",
       "      <td>0</td>\n",
       "      <td>79.18</td>\n",
       "      <td>NorthernEurope</td>\n",
       "      <td>66182.0</td>\n",
       "      <td>44162.4</td>\n",
       "      <td>97.4</td>\n",
       "      <td>5.7</td>\n",
       "      <td>1.9</td>\n",
       "    </tr>\n",
       "    <tr>\n",
       "      <th>20</th>\n",
       "      <td>United States</td>\n",
       "      <td>32</td>\n",
       "      <td>692</td>\n",
       "      <td>80.77</td>\n",
       "      <td>NorthernAmerica</td>\n",
       "      <td>324460.0</td>\n",
       "      <td>56053.8</td>\n",
       "      <td>98.0</td>\n",
       "      <td>5.4</td>\n",
       "      <td>1.9</td>\n",
       "    </tr>\n",
       "  </tbody>\n",
       "</table>\n",
       "</div>"
      ],
      "text/plain": [
       "           country  total_universities ranked in 100  \\\n",
       "0        Argentina                                 1   \n",
       "1        Australia                                 6   \n",
       "2          Belgium                                 1   \n",
       "3           Canada                                 4   \n",
       "5          Denmark                                 1   \n",
       "6          Finland                                 1   \n",
       "7           France                                 2   \n",
       "8          Germany                                 4   \n",
       "9    Hong Kong SAR                                 4   \n",
       "10         Ireland                                 1   \n",
       "11           Japan                                 5   \n",
       "12     Netherlands                                 2   \n",
       "13     New Zealand                                 1   \n",
       "14       Singapore                                 2   \n",
       "16          Sweden                                 3   \n",
       "17     Switzerland                                 4   \n",
       "19  United Kingdom                                18   \n",
       "20   United States                                32   \n",
       "\n",
       "    total_international_students  average_score             Region  \\\n",
       "0                              0          65.80       SouthAmerica   \n",
       "1                              0          78.62            Oceania   \n",
       "2                              0          67.90      WesternEurope   \n",
       "3                              0          77.47    NorthernAmerica   \n",
       "5                              0          70.20     NorthernEurope   \n",
       "6                              0          64.70     NorthernEurope   \n",
       "7                            374          74.90      WesternEurope   \n",
       "8                              0          68.78      WesternEurope   \n",
       "9                              0          80.18        EasternAsia   \n",
       "10                             0          62.80     NorthernEurope   \n",
       "11                             0          75.92        EasternAsia   \n",
       "12                             0          73.20      WesternEurope   \n",
       "13                             0          67.30            Oceania   \n",
       "14                             0          91.45  South-easternAsia   \n",
       "16                             0          65.00     NorthernEurope   \n",
       "17                             0          79.18      WesternEurope   \n",
       "19                             0          79.18     NorthernEurope   \n",
       "20                           692          80.77    NorthernAmerica   \n",
       "\n",
       "    Population in thousands (2017)  GDP per capita (current US$)  \\\n",
       "0                          44271.0                       14564.5   \n",
       "1                          24451.0                       51352.2   \n",
       "2                          11429.0                       40277.8   \n",
       "3                          36624.0                       43205.6   \n",
       "5                           5734.0                       53149.3   \n",
       "6                           5523.0                       42148.1   \n",
       "7                          64980.0                       36304.2   \n",
       "8                          82114.0                       41686.2   \n",
       "9                           7365.0                       42431.0   \n",
       "10                          4762.0                       60513.6   \n",
       "11                        127484.0                       34628.7   \n",
       "12                         17036.0                       44332.1   \n",
       "13                          4706.0                       38294.3   \n",
       "14                          5709.0                       52239.0   \n",
       "16                          9911.0                       50687.5   \n",
       "17                          8476.0                       80831.1   \n",
       "19                         66182.0                       44162.4   \n",
       "20                        324460.0                       56053.8   \n",
       "\n",
       "    Sex ratio (m per 100 f, 2017)  \\\n",
       "0                            95.9   \n",
       "1                            99.3   \n",
       "2                            97.3   \n",
       "3                            98.5   \n",
       "5                            99.0   \n",
       "6                            97.2   \n",
       "7                            96.7   \n",
       "8                            97.0   \n",
       "9                            85.1   \n",
       "10                           98.4   \n",
       "11                           95.4   \n",
       "12                           99.0   \n",
       "13                           96.7   \n",
       "14                           97.7   \n",
       "16                          100.2   \n",
       "17                           98.2   \n",
       "19                           97.4   \n",
       "20                           98.0   \n",
       "\n",
       "    Education: Government expenditure (% of GDP)  \\\n",
       "0                                            5.3   \n",
       "1                                            5.2   \n",
       "2                                            6.6   \n",
       "3                                            5.3   \n",
       "5                                            8.6   \n",
       "6                                            7.2   \n",
       "7                                            5.5   \n",
       "8                                            5.0   \n",
       "9                                            3.3   \n",
       "10                                           5.3   \n",
       "11                                           3.6   \n",
       "12                                           5.5   \n",
       "13                                           6.4   \n",
       "14                                           2.9   \n",
       "16                                           7.7   \n",
       "17                                           5.1   \n",
       "19                                           5.7   \n",
       "20                                           5.4   \n",
       "\n",
       "    Fertility rate, total (live births per woman)  \n",
       "0                                             2.3  \n",
       "1                                             1.9  \n",
       "2                                             1.8  \n",
       "3                                             1.6  \n",
       "5                                             1.7  \n",
       "6                                             1.8  \n",
       "7                                             2.0  \n",
       "8                                             1.4  \n",
       "9                                             1.2  \n",
       "10                                            2.0  \n",
       "11                                            1.4  \n",
       "12                                            1.7  \n",
       "13                                            2.0  \n",
       "14                                            1.2  \n",
       "16                                            1.9  \n",
       "17                                            1.5  \n",
       "19                                            1.9  \n",
       "20                                            1.9  "
      ]
     },
     "execution_count": 116,
     "metadata": {},
     "output_type": "execute_result"
    }
   ],
   "source": [
    "final_df = clean_data_dan(new_df)\n",
    "final_df"
   ]
  },
  {
   "cell_type": "code",
   "execution_count": 117,
   "metadata": {},
   "outputs": [],
   "source": [
    "def plot_graph_edu_ranked_uni(final_df):\n",
    "    fig = px.scatter(final_df, x='Education: Government expenditure (% of GDP)', y='total_universities ranked in 100', color='Region', size='average_score', hover_name='country', title='Total Universities Ranked in 100 vs Total International Students')\n",
    "    fig.show()"
   ]
  },
  {
   "cell_type": "code",
   "execution_count": 118,
   "metadata": {},
   "outputs": [
    {
     "data": {
      "application/vnd.plotly.v1+json": {
       "config": {
        "plotlyServerURL": "https://plot.ly"
       },
       "data": [
        {
         "hovertemplate": "<b>%{hovertext}</b><br><br>Region=SouthAmerica<br>Education: Government expenditure (% of GDP)=%{x}<br>total_universities ranked in 100=%{y}<br>average_score=%{marker.size}<extra></extra>",
         "hovertext": [
          "Argentina"
         ],
         "legendgroup": "SouthAmerica",
         "marker": {
          "color": "#636efa",
          "size": [
           65.8
          ],
          "sizemode": "area",
          "sizeref": 0.228625,
          "symbol": "circle"
         },
         "mode": "markers",
         "name": "SouthAmerica",
         "orientation": "v",
         "showlegend": true,
         "type": "scatter",
         "x": [
          5.3
         ],
         "xaxis": "x",
         "y": [
          1
         ],
         "yaxis": "y"
        },
        {
         "hovertemplate": "<b>%{hovertext}</b><br><br>Region=Oceania<br>Education: Government expenditure (% of GDP)=%{x}<br>total_universities ranked in 100=%{y}<br>average_score=%{marker.size}<extra></extra>",
         "hovertext": [
          "Australia",
          "New Zealand"
         ],
         "legendgroup": "Oceania",
         "marker": {
          "color": "#EF553B",
          "size": [
           78.62,
           67.3
          ],
          "sizemode": "area",
          "sizeref": 0.228625,
          "symbol": "circle"
         },
         "mode": "markers",
         "name": "Oceania",
         "orientation": "v",
         "showlegend": true,
         "type": "scatter",
         "x": [
          5.2,
          6.4
         ],
         "xaxis": "x",
         "y": [
          6,
          1
         ],
         "yaxis": "y"
        },
        {
         "hovertemplate": "<b>%{hovertext}</b><br><br>Region=WesternEurope<br>Education: Government expenditure (% of GDP)=%{x}<br>total_universities ranked in 100=%{y}<br>average_score=%{marker.size}<extra></extra>",
         "hovertext": [
          "Belgium",
          "France",
          "Germany",
          "Netherlands",
          "Switzerland"
         ],
         "legendgroup": "WesternEurope",
         "marker": {
          "color": "#00cc96",
          "size": [
           67.9,
           74.9,
           68.78,
           73.2,
           79.18
          ],
          "sizemode": "area",
          "sizeref": 0.228625,
          "symbol": "circle"
         },
         "mode": "markers",
         "name": "WesternEurope",
         "orientation": "v",
         "showlegend": true,
         "type": "scatter",
         "x": [
          6.6,
          5.5,
          5,
          5.5,
          5.1
         ],
         "xaxis": "x",
         "y": [
          1,
          2,
          4,
          2,
          4
         ],
         "yaxis": "y"
        },
        {
         "hovertemplate": "<b>%{hovertext}</b><br><br>Region=NorthernAmerica<br>Education: Government expenditure (% of GDP)=%{x}<br>total_universities ranked in 100=%{y}<br>average_score=%{marker.size}<extra></extra>",
         "hovertext": [
          "Canada",
          "United States"
         ],
         "legendgroup": "NorthernAmerica",
         "marker": {
          "color": "#ab63fa",
          "size": [
           77.47,
           80.77
          ],
          "sizemode": "area",
          "sizeref": 0.228625,
          "symbol": "circle"
         },
         "mode": "markers",
         "name": "NorthernAmerica",
         "orientation": "v",
         "showlegend": true,
         "type": "scatter",
         "x": [
          5.3,
          5.4
         ],
         "xaxis": "x",
         "y": [
          4,
          32
         ],
         "yaxis": "y"
        },
        {
         "hovertemplate": "<b>%{hovertext}</b><br><br>Region=NorthernEurope<br>Education: Government expenditure (% of GDP)=%{x}<br>total_universities ranked in 100=%{y}<br>average_score=%{marker.size}<extra></extra>",
         "hovertext": [
          "Denmark",
          "Finland",
          "Ireland",
          "Sweden",
          "United Kingdom"
         ],
         "legendgroup": "NorthernEurope",
         "marker": {
          "color": "#FFA15A",
          "size": [
           70.2,
           64.7,
           62.8,
           65,
           79.18
          ],
          "sizemode": "area",
          "sizeref": 0.228625,
          "symbol": "circle"
         },
         "mode": "markers",
         "name": "NorthernEurope",
         "orientation": "v",
         "showlegend": true,
         "type": "scatter",
         "x": [
          8.6,
          7.2,
          5.3,
          7.7,
          5.7
         ],
         "xaxis": "x",
         "y": [
          1,
          1,
          1,
          3,
          18
         ],
         "yaxis": "y"
        },
        {
         "hovertemplate": "<b>%{hovertext}</b><br><br>Region=EasternAsia<br>Education: Government expenditure (% of GDP)=%{x}<br>total_universities ranked in 100=%{y}<br>average_score=%{marker.size}<extra></extra>",
         "hovertext": [
          "Hong Kong SAR",
          "Japan"
         ],
         "legendgroup": "EasternAsia",
         "marker": {
          "color": "#19d3f3",
          "size": [
           80.18,
           75.92
          ],
          "sizemode": "area",
          "sizeref": 0.228625,
          "symbol": "circle"
         },
         "mode": "markers",
         "name": "EasternAsia",
         "orientation": "v",
         "showlegend": true,
         "type": "scatter",
         "x": [
          3.3,
          3.6
         ],
         "xaxis": "x",
         "y": [
          4,
          5
         ],
         "yaxis": "y"
        },
        {
         "hovertemplate": "<b>%{hovertext}</b><br><br>Region=South-easternAsia<br>Education: Government expenditure (% of GDP)=%{x}<br>total_universities ranked in 100=%{y}<br>average_score=%{marker.size}<extra></extra>",
         "hovertext": [
          "Singapore"
         ],
         "legendgroup": "South-easternAsia",
         "marker": {
          "color": "#FF6692",
          "size": [
           91.45
          ],
          "sizemode": "area",
          "sizeref": 0.228625,
          "symbol": "circle"
         },
         "mode": "markers",
         "name": "South-easternAsia",
         "orientation": "v",
         "showlegend": true,
         "type": "scatter",
         "x": [
          2.9
         ],
         "xaxis": "x",
         "y": [
          2
         ],
         "yaxis": "y"
        }
       ],
       "layout": {
        "legend": {
         "itemsizing": "constant",
         "title": {
          "text": "Region"
         },
         "tracegroupgap": 0
        },
        "template": {
         "data": {
          "bar": [
           {
            "error_x": {
             "color": "#2a3f5f"
            },
            "error_y": {
             "color": "#2a3f5f"
            },
            "marker": {
             "line": {
              "color": "#E5ECF6",
              "width": 0.5
             },
             "pattern": {
              "fillmode": "overlay",
              "size": 10,
              "solidity": 0.2
             }
            },
            "type": "bar"
           }
          ],
          "barpolar": [
           {
            "marker": {
             "line": {
              "color": "#E5ECF6",
              "width": 0.5
             },
             "pattern": {
              "fillmode": "overlay",
              "size": 10,
              "solidity": 0.2
             }
            },
            "type": "barpolar"
           }
          ],
          "carpet": [
           {
            "aaxis": {
             "endlinecolor": "#2a3f5f",
             "gridcolor": "white",
             "linecolor": "white",
             "minorgridcolor": "white",
             "startlinecolor": "#2a3f5f"
            },
            "baxis": {
             "endlinecolor": "#2a3f5f",
             "gridcolor": "white",
             "linecolor": "white",
             "minorgridcolor": "white",
             "startlinecolor": "#2a3f5f"
            },
            "type": "carpet"
           }
          ],
          "choropleth": [
           {
            "colorbar": {
             "outlinewidth": 0,
             "ticks": ""
            },
            "type": "choropleth"
           }
          ],
          "contour": [
           {
            "colorbar": {
             "outlinewidth": 0,
             "ticks": ""
            },
            "colorscale": [
             [
              0,
              "#0d0887"
             ],
             [
              0.1111111111111111,
              "#46039f"
             ],
             [
              0.2222222222222222,
              "#7201a8"
             ],
             [
              0.3333333333333333,
              "#9c179e"
             ],
             [
              0.4444444444444444,
              "#bd3786"
             ],
             [
              0.5555555555555556,
              "#d8576b"
             ],
             [
              0.6666666666666666,
              "#ed7953"
             ],
             [
              0.7777777777777778,
              "#fb9f3a"
             ],
             [
              0.8888888888888888,
              "#fdca26"
             ],
             [
              1,
              "#f0f921"
             ]
            ],
            "type": "contour"
           }
          ],
          "contourcarpet": [
           {
            "colorbar": {
             "outlinewidth": 0,
             "ticks": ""
            },
            "type": "contourcarpet"
           }
          ],
          "heatmap": [
           {
            "colorbar": {
             "outlinewidth": 0,
             "ticks": ""
            },
            "colorscale": [
             [
              0,
              "#0d0887"
             ],
             [
              0.1111111111111111,
              "#46039f"
             ],
             [
              0.2222222222222222,
              "#7201a8"
             ],
             [
              0.3333333333333333,
              "#9c179e"
             ],
             [
              0.4444444444444444,
              "#bd3786"
             ],
             [
              0.5555555555555556,
              "#d8576b"
             ],
             [
              0.6666666666666666,
              "#ed7953"
             ],
             [
              0.7777777777777778,
              "#fb9f3a"
             ],
             [
              0.8888888888888888,
              "#fdca26"
             ],
             [
              1,
              "#f0f921"
             ]
            ],
            "type": "heatmap"
           }
          ],
          "heatmapgl": [
           {
            "colorbar": {
             "outlinewidth": 0,
             "ticks": ""
            },
            "colorscale": [
             [
              0,
              "#0d0887"
             ],
             [
              0.1111111111111111,
              "#46039f"
             ],
             [
              0.2222222222222222,
              "#7201a8"
             ],
             [
              0.3333333333333333,
              "#9c179e"
             ],
             [
              0.4444444444444444,
              "#bd3786"
             ],
             [
              0.5555555555555556,
              "#d8576b"
             ],
             [
              0.6666666666666666,
              "#ed7953"
             ],
             [
              0.7777777777777778,
              "#fb9f3a"
             ],
             [
              0.8888888888888888,
              "#fdca26"
             ],
             [
              1,
              "#f0f921"
             ]
            ],
            "type": "heatmapgl"
           }
          ],
          "histogram": [
           {
            "marker": {
             "pattern": {
              "fillmode": "overlay",
              "size": 10,
              "solidity": 0.2
             }
            },
            "type": "histogram"
           }
          ],
          "histogram2d": [
           {
            "colorbar": {
             "outlinewidth": 0,
             "ticks": ""
            },
            "colorscale": [
             [
              0,
              "#0d0887"
             ],
             [
              0.1111111111111111,
              "#46039f"
             ],
             [
              0.2222222222222222,
              "#7201a8"
             ],
             [
              0.3333333333333333,
              "#9c179e"
             ],
             [
              0.4444444444444444,
              "#bd3786"
             ],
             [
              0.5555555555555556,
              "#d8576b"
             ],
             [
              0.6666666666666666,
              "#ed7953"
             ],
             [
              0.7777777777777778,
              "#fb9f3a"
             ],
             [
              0.8888888888888888,
              "#fdca26"
             ],
             [
              1,
              "#f0f921"
             ]
            ],
            "type": "histogram2d"
           }
          ],
          "histogram2dcontour": [
           {
            "colorbar": {
             "outlinewidth": 0,
             "ticks": ""
            },
            "colorscale": [
             [
              0,
              "#0d0887"
             ],
             [
              0.1111111111111111,
              "#46039f"
             ],
             [
              0.2222222222222222,
              "#7201a8"
             ],
             [
              0.3333333333333333,
              "#9c179e"
             ],
             [
              0.4444444444444444,
              "#bd3786"
             ],
             [
              0.5555555555555556,
              "#d8576b"
             ],
             [
              0.6666666666666666,
              "#ed7953"
             ],
             [
              0.7777777777777778,
              "#fb9f3a"
             ],
             [
              0.8888888888888888,
              "#fdca26"
             ],
             [
              1,
              "#f0f921"
             ]
            ],
            "type": "histogram2dcontour"
           }
          ],
          "mesh3d": [
           {
            "colorbar": {
             "outlinewidth": 0,
             "ticks": ""
            },
            "type": "mesh3d"
           }
          ],
          "parcoords": [
           {
            "line": {
             "colorbar": {
              "outlinewidth": 0,
              "ticks": ""
             }
            },
            "type": "parcoords"
           }
          ],
          "pie": [
           {
            "automargin": true,
            "type": "pie"
           }
          ],
          "scatter": [
           {
            "fillpattern": {
             "fillmode": "overlay",
             "size": 10,
             "solidity": 0.2
            },
            "type": "scatter"
           }
          ],
          "scatter3d": [
           {
            "line": {
             "colorbar": {
              "outlinewidth": 0,
              "ticks": ""
             }
            },
            "marker": {
             "colorbar": {
              "outlinewidth": 0,
              "ticks": ""
             }
            },
            "type": "scatter3d"
           }
          ],
          "scattercarpet": [
           {
            "marker": {
             "colorbar": {
              "outlinewidth": 0,
              "ticks": ""
             }
            },
            "type": "scattercarpet"
           }
          ],
          "scattergeo": [
           {
            "marker": {
             "colorbar": {
              "outlinewidth": 0,
              "ticks": ""
             }
            },
            "type": "scattergeo"
           }
          ],
          "scattergl": [
           {
            "marker": {
             "colorbar": {
              "outlinewidth": 0,
              "ticks": ""
             }
            },
            "type": "scattergl"
           }
          ],
          "scattermapbox": [
           {
            "marker": {
             "colorbar": {
              "outlinewidth": 0,
              "ticks": ""
             }
            },
            "type": "scattermapbox"
           }
          ],
          "scatterpolar": [
           {
            "marker": {
             "colorbar": {
              "outlinewidth": 0,
              "ticks": ""
             }
            },
            "type": "scatterpolar"
           }
          ],
          "scatterpolargl": [
           {
            "marker": {
             "colorbar": {
              "outlinewidth": 0,
              "ticks": ""
             }
            },
            "type": "scatterpolargl"
           }
          ],
          "scatterternary": [
           {
            "marker": {
             "colorbar": {
              "outlinewidth": 0,
              "ticks": ""
             }
            },
            "type": "scatterternary"
           }
          ],
          "surface": [
           {
            "colorbar": {
             "outlinewidth": 0,
             "ticks": ""
            },
            "colorscale": [
             [
              0,
              "#0d0887"
             ],
             [
              0.1111111111111111,
              "#46039f"
             ],
             [
              0.2222222222222222,
              "#7201a8"
             ],
             [
              0.3333333333333333,
              "#9c179e"
             ],
             [
              0.4444444444444444,
              "#bd3786"
             ],
             [
              0.5555555555555556,
              "#d8576b"
             ],
             [
              0.6666666666666666,
              "#ed7953"
             ],
             [
              0.7777777777777778,
              "#fb9f3a"
             ],
             [
              0.8888888888888888,
              "#fdca26"
             ],
             [
              1,
              "#f0f921"
             ]
            ],
            "type": "surface"
           }
          ],
          "table": [
           {
            "cells": {
             "fill": {
              "color": "#EBF0F8"
             },
             "line": {
              "color": "white"
             }
            },
            "header": {
             "fill": {
              "color": "#C8D4E3"
             },
             "line": {
              "color": "white"
             }
            },
            "type": "table"
           }
          ]
         },
         "layout": {
          "annotationdefaults": {
           "arrowcolor": "#2a3f5f",
           "arrowhead": 0,
           "arrowwidth": 1
          },
          "autotypenumbers": "strict",
          "coloraxis": {
           "colorbar": {
            "outlinewidth": 0,
            "ticks": ""
           }
          },
          "colorscale": {
           "diverging": [
            [
             0,
             "#8e0152"
            ],
            [
             0.1,
             "#c51b7d"
            ],
            [
             0.2,
             "#de77ae"
            ],
            [
             0.3,
             "#f1b6da"
            ],
            [
             0.4,
             "#fde0ef"
            ],
            [
             0.5,
             "#f7f7f7"
            ],
            [
             0.6,
             "#e6f5d0"
            ],
            [
             0.7,
             "#b8e186"
            ],
            [
             0.8,
             "#7fbc41"
            ],
            [
             0.9,
             "#4d9221"
            ],
            [
             1,
             "#276419"
            ]
           ],
           "sequential": [
            [
             0,
             "#0d0887"
            ],
            [
             0.1111111111111111,
             "#46039f"
            ],
            [
             0.2222222222222222,
             "#7201a8"
            ],
            [
             0.3333333333333333,
             "#9c179e"
            ],
            [
             0.4444444444444444,
             "#bd3786"
            ],
            [
             0.5555555555555556,
             "#d8576b"
            ],
            [
             0.6666666666666666,
             "#ed7953"
            ],
            [
             0.7777777777777778,
             "#fb9f3a"
            ],
            [
             0.8888888888888888,
             "#fdca26"
            ],
            [
             1,
             "#f0f921"
            ]
           ],
           "sequentialminus": [
            [
             0,
             "#0d0887"
            ],
            [
             0.1111111111111111,
             "#46039f"
            ],
            [
             0.2222222222222222,
             "#7201a8"
            ],
            [
             0.3333333333333333,
             "#9c179e"
            ],
            [
             0.4444444444444444,
             "#bd3786"
            ],
            [
             0.5555555555555556,
             "#d8576b"
            ],
            [
             0.6666666666666666,
             "#ed7953"
            ],
            [
             0.7777777777777778,
             "#fb9f3a"
            ],
            [
             0.8888888888888888,
             "#fdca26"
            ],
            [
             1,
             "#f0f921"
            ]
           ]
          },
          "colorway": [
           "#636efa",
           "#EF553B",
           "#00cc96",
           "#ab63fa",
           "#FFA15A",
           "#19d3f3",
           "#FF6692",
           "#B6E880",
           "#FF97FF",
           "#FECB52"
          ],
          "font": {
           "color": "#2a3f5f"
          },
          "geo": {
           "bgcolor": "white",
           "lakecolor": "white",
           "landcolor": "#E5ECF6",
           "showlakes": true,
           "showland": true,
           "subunitcolor": "white"
          },
          "hoverlabel": {
           "align": "left"
          },
          "hovermode": "closest",
          "mapbox": {
           "style": "light"
          },
          "paper_bgcolor": "white",
          "plot_bgcolor": "#E5ECF6",
          "polar": {
           "angularaxis": {
            "gridcolor": "white",
            "linecolor": "white",
            "ticks": ""
           },
           "bgcolor": "#E5ECF6",
           "radialaxis": {
            "gridcolor": "white",
            "linecolor": "white",
            "ticks": ""
           }
          },
          "scene": {
           "xaxis": {
            "backgroundcolor": "#E5ECF6",
            "gridcolor": "white",
            "gridwidth": 2,
            "linecolor": "white",
            "showbackground": true,
            "ticks": "",
            "zerolinecolor": "white"
           },
           "yaxis": {
            "backgroundcolor": "#E5ECF6",
            "gridcolor": "white",
            "gridwidth": 2,
            "linecolor": "white",
            "showbackground": true,
            "ticks": "",
            "zerolinecolor": "white"
           },
           "zaxis": {
            "backgroundcolor": "#E5ECF6",
            "gridcolor": "white",
            "gridwidth": 2,
            "linecolor": "white",
            "showbackground": true,
            "ticks": "",
            "zerolinecolor": "white"
           }
          },
          "shapedefaults": {
           "line": {
            "color": "#2a3f5f"
           }
          },
          "ternary": {
           "aaxis": {
            "gridcolor": "white",
            "linecolor": "white",
            "ticks": ""
           },
           "baxis": {
            "gridcolor": "white",
            "linecolor": "white",
            "ticks": ""
           },
           "bgcolor": "#E5ECF6",
           "caxis": {
            "gridcolor": "white",
            "linecolor": "white",
            "ticks": ""
           }
          },
          "title": {
           "x": 0.05
          },
          "xaxis": {
           "automargin": true,
           "gridcolor": "white",
           "linecolor": "white",
           "ticks": "",
           "title": {
            "standoff": 15
           },
           "zerolinecolor": "white",
           "zerolinewidth": 2
          },
          "yaxis": {
           "automargin": true,
           "gridcolor": "white",
           "linecolor": "white",
           "ticks": "",
           "title": {
            "standoff": 15
           },
           "zerolinecolor": "white",
           "zerolinewidth": 2
          }
         }
        },
        "title": {
         "text": "Total Universities Ranked in 100 vs Total International Students"
        },
        "xaxis": {
         "anchor": "y",
         "domain": [
          0,
          1
         ],
         "title": {
          "text": "Education: Government expenditure (% of GDP)"
         }
        },
        "yaxis": {
         "anchor": "x",
         "domain": [
          0,
          1
         ],
         "title": {
          "text": "total_universities ranked in 100"
         }
        }
       }
      }
     },
     "metadata": {},
     "output_type": "display_data"
    }
   ],
   "source": [
    "plot_graph_edu_ranked_uni(final_df)"
   ]
  },
  {
   "cell_type": "markdown",
   "metadata": {},
   "source": [
    "## From the graphy, we can see countries in NorthernEurope such as Denmark, Sweden they spend a lot of budget on Education, However, they dont have more universities ranked in Top 100 compared to US and UK who has more universitis ranked in top 100. Thus the hypothesis is wrong. "
   ]
  }
 ],
 "metadata": {
  "kernelspec": {
   "display_name": "base",
   "language": "python",
   "name": "python3"
  },
  "language_info": {
   "codemirror_mode": {
    "name": "ipython",
    "version": 3
   },
   "file_extension": ".py",
   "mimetype": "text/x-python",
   "name": "python",
   "nbconvert_exporter": "python",
   "pygments_lexer": "ipython3",
   "version": "3.11.7"
  }
 },
 "nbformat": 4,
 "nbformat_minor": 2
}
